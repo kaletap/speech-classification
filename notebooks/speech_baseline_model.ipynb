{
  "nbformat": 4,
  "nbformat_minor": 0,
  "metadata": {
    "colab": {
      "name": "speech_baseline_model.ipynb",
      "provenance": [],
      "collapsed_sections": []
    },
    "kernelspec": {
      "name": "python3",
      "display_name": "Python 3"
    },
    "accelerator": "GPU"
  },
  "cells": [
    {
      "cell_type": "markdown",
      "metadata": {
        "id": "DMaeGDHqdHzl",
        "colab_type": "text"
      },
      "source": [
        "# Tensorflow speech recognition challenge (Kaggle)"
      ]
    },
    {
      "cell_type": "code",
      "metadata": {
        "id": "F9M1eQyP_RQb",
        "colab_type": "code",
        "colab": {}
      },
      "source": [
        "import numpy as np\n",
        "import pandas as pd\n",
        "import os\n",
        "from collections import Counter\n",
        "import random\n",
        "from sklearn.model_selection import train_test_split\n",
        "import tensorflow as tf\n",
        "import tensorflow.keras as keras\n",
        "from tensorflow.keras import Input, layers"
      ],
      "execution_count": 0,
      "outputs": []
    },
    {
      "cell_type": "code",
      "metadata": {
        "id": "KrnMmqcsAJEW",
        "colab_type": "code",
        "outputId": "ebf2ba9c-47c6-4e1d-d102-74ee9968dbfe",
        "colab": {
          "base_uri": "https://localhost:8080/",
          "height": 161
        }
      },
      "source": [
        "data_path = \"drive/My Drive/Colab Notebooks/data/preprocessed\"\n",
        "os.listdir(data_path)"
      ],
      "execution_count": 0,
      "outputs": [
        {
          "output_type": "execute_result",
          "data": {
            "text/plain": [
              "['sample_submission.csv',\n",
              " 'wav_all.npy',\n",
              " 'label_all.npy',\n",
              " 'unknown_wav.npy',\n",
              " 'background_wav.npy',\n",
              " 'test_wav_final.npy',\n",
              " 'model-089-0.875049.h5',\n",
              " 'submission.csv']"
            ]
          },
          "metadata": {
            "tags": []
          },
          "execution_count": 2
        }
      ]
    },
    {
      "cell_type": "code",
      "metadata": {
        "id": "VdeRLsS3Aaaz",
        "colab_type": "code",
        "colab": {}
      },
      "source": [
        "wav_all = np.load(os.path.join(data_path, \"wav_all.npy\"), allow_pickle=True)\n",
        "wav_all = np.array([list(arr) for arr in wav_all])\n",
        "\n",
        "label_all = np.load(os.path.join(data_path, \"label_all.npy\")).reshape(-1)\n",
        "\n",
        "unknown_wav = np.load(os.path.join(data_path, \"unknown_wav.npy\"))\n",
        "background_wav = np.load(os.path.join(data_path, \"background_wav.npy\"), allow_pickle=True)"
      ],
      "execution_count": 0,
      "outputs": []
    },
    {
      "cell_type": "markdown",
      "metadata": {
        "id": "dEgnocZwA8Q7",
        "colab_type": "text"
      },
      "source": [
        "---\n",
        "### Generating training data\n",
        "#### Generating silence samples from background noise\n",
        "Since we have around 2131 of every label in our dataset, we will generate 2131 additional samples from background noise (and label it silence, because it doesn't contain any speech)."
      ]
    },
    {
      "cell_type": "code",
      "metadata": {
        "id": "PYi_W-bRBoZE",
        "colab_type": "code",
        "outputId": "e87df911-6974-452c-e67f-ed36664378ca",
        "colab": {
          "base_uri": "https://localhost:8080/",
          "height": 197
        }
      },
      "source": [
        "label_count = Counter(label_all)\n",
        "label_count"
      ],
      "execution_count": 0,
      "outputs": [
        {
          "output_type": "execute_result",
          "data": {
            "text/plain": [
              "Counter({'down': 2152,\n",
              "         'go': 2101,\n",
              "         'left': 2165,\n",
              "         'no': 2098,\n",
              "         'off': 2143,\n",
              "         'on': 2105,\n",
              "         'right': 2155,\n",
              "         'stop': 2174,\n",
              "         'up': 2062,\n",
              "         'yes': 2157})"
            ]
          },
          "metadata": {
            "tags": []
          },
          "execution_count": 4
        }
      ]
    },
    {
      "cell_type": "code",
      "metadata": {
        "id": "srjjQG6QB-dF",
        "colab_type": "code",
        "outputId": "6c26c3ac-1350-4727-e7e5-17c4b9057b02",
        "colab": {
          "base_uri": "https://localhost:8080/",
          "height": 35
        }
      },
      "source": [
        "np.mean([count for count in label_count.values()])"
      ],
      "execution_count": 0,
      "outputs": [
        {
          "output_type": "execute_result",
          "data": {
            "text/plain": [
              "2131.2"
            ]
          },
          "metadata": {
            "tags": []
          },
          "execution_count": 5
        }
      ]
    },
    {
      "cell_type": "code",
      "metadata": {
        "id": "5sKyApoLEPbJ",
        "colab_type": "code",
        "colab": {}
      },
      "source": [
        "n_silence_samples = 2130  # divisible by 6"
      ],
      "execution_count": 0,
      "outputs": []
    },
    {
      "cell_type": "code",
      "metadata": {
        "id": "E4z49YjgDoi6",
        "colab_type": "code",
        "colab": {}
      },
      "source": [
        "def get_noise_sample(noise_num=0):\n",
        "    \"\"\"Gets random sample from selected noise type (one out of 6)\"\"\"\n",
        "    selected_noise = background_wav[noise_num]\n",
        "    start_idx = random.randint(0, len(selected_noise)- 1 - 8000)\n",
        "    return selected_noise[start_idx:(start_idx + 8000)]"
      ],
      "execution_count": 0,
      "outputs": []
    },
    {
      "cell_type": "code",
      "metadata": {
        "id": "ldySn_SqFCai",
        "colab_type": "code",
        "outputId": "0e386bbd-a7f0-4951-fa33-0a5308acb80a",
        "colab": {
          "base_uri": "https://localhost:8080/",
          "height": 35
        }
      },
      "source": [
        "#silence audio\n",
        "silence_wav = []\n",
        "n_samples_per_noise = n_silence_samples // len(background_wav)\n",
        "for i, _ in enumerate(background_wav):\n",
        "    for _ in range(n_samples_per_noise):\n",
        "        silence_wav.append(get_noise_sample(i))\n",
        "silence_wav = np.array(silence_wav)\n",
        "silence_label = np.array(['silence' for _ in range(n_samples_per_noise * len(background_wav))])\n",
        "silence_wav.shape"
      ],
      "execution_count": 0,
      "outputs": [
        {
          "output_type": "execute_result",
          "data": {
            "text/plain": [
              "(2130, 8000)"
            ]
          },
          "metadata": {
            "tags": []
          },
          "execution_count": 8
        }
      ]
    },
    {
      "cell_type": "markdown",
      "metadata": {
        "id": "-KtadH5iFOu5",
        "colab_type": "text"
      },
      "source": [
        "#### Creating samples of unknown speech\n",
        "Samples form all other labels. To make classes balanced, I will only use a sample of 2130 elements from unknown labels."
      ]
    },
    {
      "cell_type": "code",
      "metadata": {
        "id": "JpH4Zqt1Fjzv",
        "colab_type": "code",
        "outputId": "021efd0f-956b-4da5-bf24-18e718e3e5bf",
        "colab": {
          "base_uri": "https://localhost:8080/",
          "height": 35
        }
      },
      "source": [
        "unknown_wav.shape"
      ],
      "execution_count": 0,
      "outputs": [
        {
          "output_type": "execute_result",
          "data": {
            "text/plain": [
              "(41115, 8000)"
            ]
          },
          "metadata": {
            "tags": []
          },
          "execution_count": 9
        }
      ]
    },
    {
      "cell_type": "code",
      "metadata": {
        "id": "ebywyxujHEZT",
        "colab_type": "code",
        "colab": {}
      },
      "source": [
        "unknown_wav = np.array(random.sample(list(unknown_wav), n_silence_samples))\n",
        "unknown_label = [\"unknown\" for _ in range(n_silence_samples)]"
      ],
      "execution_count": 0,
      "outputs": []
    },
    {
      "cell_type": "markdown",
      "metadata": {
        "id": "s8nsEtO5JJ2w",
        "colab_type": "text"
      },
      "source": [
        "---\n",
        "#### Data Processing pipeline\n",
        "The next step would be to create data processing pipeline: sample elements from the whole dataset instead of choosing fixed set of unknown samples and also doing data aumentation (mixing with noise) when doing training.\n",
        "\n",
        "---"
      ]
    },
    {
      "cell_type": "code",
      "metadata": {
        "id": "oXM5QZ6hJhPJ",
        "colab_type": "code",
        "outputId": "f36afb0f-3335-45ed-cd4f-ad3350cd1ac9",
        "colab": {
          "base_uri": "https://localhost:8080/",
          "height": 35
        }
      },
      "source": [
        "unknown_wav.shape, wav_all.shape, silence_wav.shape"
      ],
      "execution_count": 0,
      "outputs": [
        {
          "output_type": "execute_result",
          "data": {
            "text/plain": [
              "((2130, 8000), (21312, 8000), (2130, 8000))"
            ]
          },
          "metadata": {
            "tags": []
          },
          "execution_count": 11
        }
      ]
    },
    {
      "cell_type": "code",
      "metadata": {
        "id": "iAartyPsJ4r4",
        "colab_type": "code",
        "colab": {}
      },
      "source": [
        "data = np.concatenate([wav_all, unknown_wav, silence_wav], 0)\n",
        "labels = np.concatenate([label_all, unknown_label, silence_label], 0)"
      ],
      "execution_count": 0,
      "outputs": []
    },
    {
      "cell_type": "code",
      "metadata": {
        "id": "I6j_tLLPL_Nb",
        "colab_type": "code",
        "outputId": "0c60a811-a805-46b1-fc60-e2444ee6a5ad",
        "colab": {
          "base_uri": "https://localhost:8080/",
          "height": 35
        }
      },
      "source": [
        "data.shape, labels.shape"
      ],
      "execution_count": 0,
      "outputs": [
        {
          "output_type": "execute_result",
          "data": {
            "text/plain": [
              "((25572, 8000), (25572,))"
            ]
          },
          "metadata": {
            "tags": []
          },
          "execution_count": 13
        }
      ]
    },
    {
      "cell_type": "markdown",
      "metadata": {
        "id": "oUiuTw14NAzi",
        "colab_type": "text"
      },
      "source": [
        "---\n",
        "## Converting data to feed into model"
      ]
    },
    {
      "cell_type": "code",
      "metadata": {
        "id": "vVpaybacNFY8",
        "colab_type": "code",
        "colab": {}
      },
      "source": [
        "train_wav, test_wav, train_label, test_label = train_test_split(data, labels, test_size=0.2, random_state=42, shuffle=True)"
      ],
      "execution_count": 0,
      "outputs": []
    },
    {
      "cell_type": "code",
      "metadata": {
        "id": "BSERFYcnNyXW",
        "colab_type": "code",
        "colab": {}
      },
      "source": [
        "#For Conv1D add channel dimension (at the end)\n",
        "train_wav = train_wav.reshape(-1, 8000, 1)\n",
        "test_wav = test_wav.reshape(-1, 8000, 1)"
      ],
      "execution_count": 0,
      "outputs": []
    },
    {
      "cell_type": "code",
      "metadata": {
        "id": "5Qq-JsPYN6q_",
        "colab_type": "code",
        "outputId": "fca4d4a9-0344-458d-f80b-35176dfd8f4c",
        "colab": {
          "base_uri": "https://localhost:8080/",
          "height": 233
        }
      },
      "source": [
        "# Converting labels to one hot vectors\n",
        "label_values = np.unique(labels)\n",
        "label_dict = {label: value for value, label in enumerate(sorted(label_values))}\n",
        "label_dict"
      ],
      "execution_count": 0,
      "outputs": [
        {
          "output_type": "execute_result",
          "data": {
            "text/plain": [
              "{'down': 0,\n",
              " 'go': 1,\n",
              " 'left': 2,\n",
              " 'no': 3,\n",
              " 'off': 4,\n",
              " 'on': 5,\n",
              " 'right': 6,\n",
              " 'silence': 7,\n",
              " 'stop': 8,\n",
              " 'unknown': 9,\n",
              " 'up': 10,\n",
              " 'yes': 11}"
            ]
          },
          "metadata": {
            "tags": []
          },
          "execution_count": 16
        }
      ]
    },
    {
      "cell_type": "code",
      "metadata": {
        "id": "VMSp-IaKOs0x",
        "colab_type": "code",
        "colab": {}
      },
      "source": [
        "train_label = [label_dict[label] for label in train_label]\n",
        "test_label = [label_dict[label] for label in test_label]\n",
        "\n",
        "train_label = keras.utils.to_categorical(train_label, len(label_dict))\n",
        "test_label = keras.utils.to_categorical(test_label, len(label_dict))"
      ],
      "execution_count": 0,
      "outputs": []
    },
    {
      "cell_type": "code",
      "metadata": {
        "id": "_z1jnNUfPxP8",
        "colab_type": "code",
        "outputId": "d7ffaef5-68f1-4f9c-b202-ae2822c66841",
        "colab": {
          "base_uri": "https://localhost:8080/",
          "height": 35
        }
      },
      "source": [
        "train_label.shape"
      ],
      "execution_count": 0,
      "outputs": [
        {
          "output_type": "execute_result",
          "data": {
            "text/plain": [
              "(20457, 12)"
            ]
          },
          "metadata": {
            "tags": []
          },
          "execution_count": 20
        }
      ]
    },
    {
      "cell_type": "code",
      "metadata": {
        "id": "zlFczaVzWw7V",
        "colab_type": "code",
        "colab": {}
      },
      "source": [
        "data_all = data.reshape(-1, 8000, 1)\n",
        "label_all = [label_dict[label] for label in labels]\n",
        "label_all = keras.utils.to_categorical(label_all, len(label_dict))"
      ],
      "execution_count": 0,
      "outputs": []
    },
    {
      "cell_type": "markdown",
      "metadata": {
        "id": "ewv8h9DxQKSK",
        "colab_type": "text"
      },
      "source": [
        "---\n",
        "## Model"
      ]
    },
    {
      "cell_type": "code",
      "metadata": {
        "id": "eK9Si5zfQmMc",
        "colab_type": "code",
        "colab": {}
      },
      "source": [
        "# Parameters\n",
        "lr = 0.001\n",
        "batch_size = 512\n",
        "dropout_rate = 0.5\n",
        "input_shape = (8000,1)"
      ],
      "execution_count": 0,
      "outputs": []
    },
    {
      "cell_type": "code",
      "metadata": {
        "id": "dpmDfnVRQYMd",
        "colab_type": "code",
        "colab": {}
      },
      "source": [
        "#Conv1D Model\n",
        "input_tensor = Input(shape=(input_shape))\n",
        "\n",
        "x = layers.Conv1D(8, 11, padding='valid', activation='relu', strides=1)(input_tensor)\n",
        "x = layers.MaxPooling1D(2)(x)\n",
        "x = layers.Dropout(dropout_rate)(x)\n",
        "x = layers.Conv1D(16, 7, padding='valid', activation='relu', strides=1)(x)\n",
        "x = layers.MaxPooling1D(2)(x)\n",
        "x = layers.Dropout(dropout_rate)(x)\n",
        "x = layers.Conv1D(32, 5, padding='valid', activation='relu', strides=1)(x)\n",
        "x = layers.MaxPooling1D(10)(x)\n",
        "\n",
        "x = layers.Flatten()(x)\n",
        "\n",
        "x = layers.Dense(128, activation='relu')(x)\n",
        "x = layers.Dropout(dropout_rate)(x)\n",
        "x = layers.Dense(64, activation='relu')(x)\n",
        "x = layers.Dropout(dropout_rate)(x)\n",
        "\n",
        "output_tensor = layers.Dense(12, activation='softmax')(x)\n",
        "\n",
        "model = tf.keras.Model(input_tensor, output_tensor)\n",
        "\n",
        "model.compile(loss=keras.losses.categorical_crossentropy,\n",
        "             optimizer=keras.optimizers.Adam(lr = lr),\n",
        "             metrics=['accuracy'])"
      ],
      "execution_count": 0,
      "outputs": []
    },
    {
      "cell_type": "code",
      "metadata": {
        "id": "ePAzBl-NuHn3",
        "colab_type": "code",
        "colab": {}
      },
      "source": [
        "model = keras.models.load_model(os.path.join(data_path, \"model-089-0.875049.h5\"))\n",
        "model.compile(loss=keras.losses.categorical_crossentropy,\n",
        "             optimizer=keras.optimizers.Adam(lr = lr),\n",
        "             metrics=['accuracy'])"
      ],
      "execution_count": 0,
      "outputs": []
    },
    {
      "cell_type": "code",
      "metadata": {
        "id": "pkmGxxGySGWX",
        "colab_type": "code",
        "outputId": "4e027aad-8645-4b42-96a1-f6b8cda76ce7",
        "colab": {
          "base_uri": "https://localhost:8080/",
          "height": 773
        }
      },
      "source": [
        "model.summary()"
      ],
      "execution_count": 0,
      "outputs": [
        {
          "output_type": "stream",
          "text": [
            "Model: \"model\"\n",
            "_________________________________________________________________\n",
            "Layer (type)                 Output Shape              Param #   \n",
            "=================================================================\n",
            "input_1 (InputLayer)         [(None, 8000, 1)]         0         \n",
            "_________________________________________________________________\n",
            "conv1d (Conv1D)              (None, 7990, 8)           96        \n",
            "_________________________________________________________________\n",
            "max_pooling1d (MaxPooling1D) (None, 3995, 8)           0         \n",
            "_________________________________________________________________\n",
            "dropout (Dropout)            (None, 3995, 8)           0         \n",
            "_________________________________________________________________\n",
            "conv1d_1 (Conv1D)            (None, 3989, 16)          912       \n",
            "_________________________________________________________________\n",
            "max_pooling1d_1 (MaxPooling1 (None, 1994, 16)          0         \n",
            "_________________________________________________________________\n",
            "dropout_1 (Dropout)          (None, 1994, 16)          0         \n",
            "_________________________________________________________________\n",
            "conv1d_2 (Conv1D)            (None, 1990, 32)          2592      \n",
            "_________________________________________________________________\n",
            "max_pooling1d_2 (MaxPooling1 (None, 199, 32)           0         \n",
            "_________________________________________________________________\n",
            "lstm (LSTM)                  (None, 199, 64)           24832     \n",
            "_________________________________________________________________\n",
            "lstm_1 (LSTM)                (None, 199, 32)           12416     \n",
            "_________________________________________________________________\n",
            "flatten (Flatten)            (None, 6368)              0         \n",
            "_________________________________________________________________\n",
            "dense (Dense)                (None, 128)               815232    \n",
            "_________________________________________________________________\n",
            "dropout_2 (Dropout)          (None, 128)               0         \n",
            "_________________________________________________________________\n",
            "dense_1 (Dense)              (None, 64)                8256      \n",
            "_________________________________________________________________\n",
            "dropout_3 (Dropout)          (None, 64)                0         \n",
            "_________________________________________________________________\n",
            "dense_2 (Dense)              (None, 12)                780       \n",
            "=================================================================\n",
            "Total params: 865,116\n",
            "Trainable params: 865,116\n",
            "Non-trainable params: 0\n",
            "_________________________________________________________________\n"
          ],
          "name": "stdout"
        }
      ]
    },
    {
      "cell_type": "code",
      "metadata": {
        "id": "eXXTL_-BSeCg",
        "colab_type": "code",
        "outputId": "88568e9b-1d0f-4fbb-f4b7-9f98881cf657",
        "colab": {
          "base_uri": "https://localhost:8080/",
          "height": 377
        }
      },
      "source": [
        "history = model.fit(train_wav, train_label, validation_split=0.2, shuffle=True, batch_size=batch_size, epochs=10, verbose=1)"
      ],
      "execution_count": 0,
      "outputs": [
        {
          "output_type": "stream",
          "text": [
            "Epoch 1/10\n",
            "32/32 [==============================] - 6s 185ms/step - loss: 0.2041 - accuracy: 0.9352 - val_loss: 0.5363 - val_accuracy: 0.8761\n",
            "Epoch 2/10\n",
            "32/32 [==============================] - 6s 182ms/step - loss: 0.2171 - accuracy: 0.9345 - val_loss: 0.6471 - val_accuracy: 0.8678\n",
            "Epoch 3/10\n",
            "32/32 [==============================] - 6s 182ms/step - loss: 0.2131 - accuracy: 0.9332 - val_loss: 0.5856 - val_accuracy: 0.8741\n",
            "Epoch 4/10\n",
            "32/32 [==============================] - 6s 182ms/step - loss: 0.1971 - accuracy: 0.9386 - val_loss: 0.5330 - val_accuracy: 0.8754\n",
            "Epoch 5/10\n",
            "32/32 [==============================] - 6s 182ms/step - loss: 0.2051 - accuracy: 0.9352 - val_loss: 0.5624 - val_accuracy: 0.8741\n",
            "Epoch 6/10\n",
            "32/32 [==============================] - 6s 183ms/step - loss: 0.2096 - accuracy: 0.9364 - val_loss: 0.6728 - val_accuracy: 0.8671\n",
            "Epoch 7/10\n",
            "32/32 [==============================] - 6s 182ms/step - loss: 0.2176 - accuracy: 0.9358 - val_loss: 0.5540 - val_accuracy: 0.8756\n",
            "Epoch 8/10\n",
            "32/32 [==============================] - 6s 182ms/step - loss: 0.1830 - accuracy: 0.9393 - val_loss: 0.5370 - val_accuracy: 0.8798\n",
            "Epoch 9/10\n",
            "32/32 [==============================] - 6s 182ms/step - loss: 0.1867 - accuracy: 0.9401 - val_loss: 0.5925 - val_accuracy: 0.8734\n",
            "Epoch 10/10\n",
            "32/32 [==============================] - 6s 183ms/step - loss: 0.1967 - accuracy: 0.9372 - val_loss: 0.6859 - val_accuracy: 0.8619\n"
          ],
          "name": "stdout"
        }
      ]
    },
    {
      "cell_type": "markdown",
      "metadata": {
        "id": "6b6Bmzp5SxLA",
        "colab_type": "text"
      },
      "source": [
        "## Running model on test data"
      ]
    },
    {
      "cell_type": "code",
      "metadata": {
        "id": "e4ROrEW0iDOY",
        "colab_type": "code",
        "colab": {}
      },
      "source": [
        "label_dict = {'down': 0,\n",
        "            'go': 1,\n",
        "            'left': 2,\n",
        "            'no': 3,\n",
        "            'off': 4,\n",
        "            'on': 5,\n",
        "            'right': 6,\n",
        "            'silence': 7,\n",
        "            'stop': 8,\n",
        "            'unknown': 9,\n",
        "            'up': 10,\n",
        "            'yes': 11}"
      ],
      "execution_count": 0,
      "outputs": []
    },
    {
      "cell_type": "code",
      "metadata": {
        "id": "HBFGgqvJXJNH",
        "colab_type": "code",
        "colab": {}
      },
      "source": [
        "test_path = os.path.join(data_path, \"test_wav_final.npy\")\n",
        "test_all = np.load(test_path).reshape(-1, 8000, 1)  # may take a while (~3 minutes) (it's almost 5GB)"
      ],
      "execution_count": 0,
      "outputs": []
    },
    {
      "cell_type": "code",
      "metadata": {
        "id": "mOk9BfMzXyvU",
        "colab_type": "code",
        "outputId": "9c669cb3-45dd-44f1-b9f4-9a9b00206660",
        "colab": {
          "base_uri": "https://localhost:8080/",
          "height": 35
        }
      },
      "source": [
        "test_all.shape"
      ],
      "execution_count": 0,
      "outputs": [
        {
          "output_type": "execute_result",
          "data": {
            "text/plain": [
              "(158538, 8000, 1)"
            ]
          },
          "metadata": {
            "tags": []
          },
          "execution_count": 43
        }
      ]
    },
    {
      "cell_type": "code",
      "metadata": {
        "id": "HP0lzkyvYYDO",
        "colab_type": "code",
        "colab": {}
      },
      "source": [
        "preds = model.predict(test_all)"
      ],
      "execution_count": 0,
      "outputs": []
    },
    {
      "cell_type": "code",
      "metadata": {
        "id": "kfOP1WjyYebH",
        "colab_type": "code",
        "outputId": "06b0f0af-4c22-44b5-cbbe-34a96a069e10",
        "colab": {
          "base_uri": "https://localhost:8080/",
          "height": 35
        }
      },
      "source": [
        "preds.shape"
      ],
      "execution_count": 0,
      "outputs": [
        {
          "output_type": "execute_result",
          "data": {
            "text/plain": [
              "(158538, 12)"
            ]
          },
          "metadata": {
            "tags": []
          },
          "execution_count": 45
        }
      ]
    },
    {
      "cell_type": "code",
      "metadata": {
        "id": "cKFz_71mYk8q",
        "colab_type": "code",
        "outputId": "f5557e77-c3a6-4b8f-e08c-1c7f2232400e",
        "colab": {
          "base_uri": "https://localhost:8080/",
          "height": 233
        }
      },
      "source": [
        "num_to_label = {value: key for key, value in label_dict.items()}\n",
        "num_to_label"
      ],
      "execution_count": 0,
      "outputs": [
        {
          "output_type": "execute_result",
          "data": {
            "text/plain": [
              "{0: 'down',\n",
              " 1: 'go',\n",
              " 2: 'left',\n",
              " 3: 'no',\n",
              " 4: 'off',\n",
              " 5: 'on',\n",
              " 6: 'right',\n",
              " 7: 'silence',\n",
              " 8: 'stop',\n",
              " 9: 'unknown',\n",
              " 10: 'up',\n",
              " 11: 'yes'}"
            ]
          },
          "metadata": {
            "tags": []
          },
          "execution_count": 46
        }
      ]
    },
    {
      "cell_type": "code",
      "metadata": {
        "id": "8LrrfW0lYmcw",
        "colab_type": "code",
        "colab": {}
      },
      "source": [
        "predicted_labels = [num_to_label[num] for num in preds.argmax(1)]"
      ],
      "execution_count": 0,
      "outputs": []
    },
    {
      "cell_type": "code",
      "metadata": {
        "id": "7iEeRA-xZgwM",
        "colab_type": "code",
        "outputId": "77071853-271e-479e-c093-3a7a623b2e45",
        "colab": {
          "base_uri": "https://localhost:8080/",
          "height": 204
        }
      },
      "source": [
        "submission_file = pd.read_csv(os.path.join(data_path, \"sample_submission.csv\"))\n",
        "submission_file.head()"
      ],
      "execution_count": 0,
      "outputs": [
        {
          "output_type": "execute_result",
          "data": {
            "text/html": [
              "<div>\n",
              "<style scoped>\n",
              "    .dataframe tbody tr th:only-of-type {\n",
              "        vertical-align: middle;\n",
              "    }\n",
              "\n",
              "    .dataframe tbody tr th {\n",
              "        vertical-align: top;\n",
              "    }\n",
              "\n",
              "    .dataframe thead th {\n",
              "        text-align: right;\n",
              "    }\n",
              "</style>\n",
              "<table border=\"1\" class=\"dataframe\">\n",
              "  <thead>\n",
              "    <tr style=\"text-align: right;\">\n",
              "      <th></th>\n",
              "      <th>fname</th>\n",
              "      <th>label</th>\n",
              "    </tr>\n",
              "  </thead>\n",
              "  <tbody>\n",
              "    <tr>\n",
              "      <th>0</th>\n",
              "      <td>clip_000044442.wav</td>\n",
              "      <td>silence</td>\n",
              "    </tr>\n",
              "    <tr>\n",
              "      <th>1</th>\n",
              "      <td>clip_0000adecb.wav</td>\n",
              "      <td>silence</td>\n",
              "    </tr>\n",
              "    <tr>\n",
              "      <th>2</th>\n",
              "      <td>clip_0000d4322.wav</td>\n",
              "      <td>silence</td>\n",
              "    </tr>\n",
              "    <tr>\n",
              "      <th>3</th>\n",
              "      <td>clip_0000fb6fe.wav</td>\n",
              "      <td>silence</td>\n",
              "    </tr>\n",
              "    <tr>\n",
              "      <th>4</th>\n",
              "      <td>clip_0001d1559.wav</td>\n",
              "      <td>silence</td>\n",
              "    </tr>\n",
              "  </tbody>\n",
              "</table>\n",
              "</div>"
            ],
            "text/plain": [
              "                fname    label\n",
              "0  clip_000044442.wav  silence\n",
              "1  clip_0000adecb.wav  silence\n",
              "2  clip_0000d4322.wav  silence\n",
              "3  clip_0000fb6fe.wav  silence\n",
              "4  clip_0001d1559.wav  silence"
            ]
          },
          "metadata": {
            "tags": []
          },
          "execution_count": 48
        }
      ]
    },
    {
      "cell_type": "code",
      "metadata": {
        "id": "vHUP0wq9ZtT5",
        "colab_type": "code",
        "colab": {}
      },
      "source": [
        "submission_file[\"label\"] = predicted_labels"
      ],
      "execution_count": 0,
      "outputs": []
    },
    {
      "cell_type": "code",
      "metadata": {
        "id": "ZsHnSs80aSiA",
        "colab_type": "code",
        "colab": {}
      },
      "source": [
        "submission_file.to_csv(os.path.join(data_path, \"submission.csv\"), index=False)"
      ],
      "execution_count": 0,
      "outputs": []
    },
    {
      "cell_type": "code",
      "metadata": {
        "id": "WrZIrwUdaUc_",
        "colab_type": "code",
        "outputId": "fc62971e-54e3-4219-cbaf-c94a00a79dd6",
        "colab": {
          "base_uri": "https://localhost:8080/",
          "height": 204
        }
      },
      "source": [
        "pd.read_csv(os.path.join(data_path, \"submission.csv\")).head()"
      ],
      "execution_count": 0,
      "outputs": [
        {
          "output_type": "execute_result",
          "data": {
            "text/html": [
              "<div>\n",
              "<style scoped>\n",
              "    .dataframe tbody tr th:only-of-type {\n",
              "        vertical-align: middle;\n",
              "    }\n",
              "\n",
              "    .dataframe tbody tr th {\n",
              "        vertical-align: top;\n",
              "    }\n",
              "\n",
              "    .dataframe thead th {\n",
              "        text-align: right;\n",
              "    }\n",
              "</style>\n",
              "<table border=\"1\" class=\"dataframe\">\n",
              "  <thead>\n",
              "    <tr style=\"text-align: right;\">\n",
              "      <th></th>\n",
              "      <th>fname</th>\n",
              "      <th>label</th>\n",
              "    </tr>\n",
              "  </thead>\n",
              "  <tbody>\n",
              "    <tr>\n",
              "      <th>0</th>\n",
              "      <td>clip_000044442.wav</td>\n",
              "      <td>no</td>\n",
              "    </tr>\n",
              "    <tr>\n",
              "      <th>1</th>\n",
              "      <td>clip_0000adecb.wav</td>\n",
              "      <td>unknown</td>\n",
              "    </tr>\n",
              "    <tr>\n",
              "      <th>2</th>\n",
              "      <td>clip_0000d4322.wav</td>\n",
              "      <td>unknown</td>\n",
              "    </tr>\n",
              "    <tr>\n",
              "      <th>3</th>\n",
              "      <td>clip_0000fb6fe.wav</td>\n",
              "      <td>silence</td>\n",
              "    </tr>\n",
              "    <tr>\n",
              "      <th>4</th>\n",
              "      <td>clip_0001d1559.wav</td>\n",
              "      <td>unknown</td>\n",
              "    </tr>\n",
              "  </tbody>\n",
              "</table>\n",
              "</div>"
            ],
            "text/plain": [
              "                fname    label\n",
              "0  clip_000044442.wav       no\n",
              "1  clip_0000adecb.wav  unknown\n",
              "2  clip_0000d4322.wav  unknown\n",
              "3  clip_0000fb6fe.wav  silence\n",
              "4  clip_0001d1559.wav  unknown"
            ]
          },
          "metadata": {
            "tags": []
          },
          "execution_count": 51
        }
      ]
    },
    {
      "cell_type": "code",
      "metadata": {
        "id": "rOUv_pm9jDJm",
        "colab_type": "code",
        "outputId": "aa5d156a-0398-4ae6-d21c-10db3fa760c7",
        "colab": {
          "base_uri": "https://localhost:8080/",
          "height": 233
        }
      },
      "source": [
        "Counter(submission_file.label.values)"
      ],
      "execution_count": 0,
      "outputs": [
        {
          "output_type": "execute_result",
          "data": {
            "text/plain": [
              "Counter({'down': 5808,\n",
              "         'go': 8570,\n",
              "         'left': 8553,\n",
              "         'no': 7738,\n",
              "         'off': 9232,\n",
              "         'on': 17531,\n",
              "         'right': 13643,\n",
              "         'silence': 6497,\n",
              "         'stop': 7438,\n",
              "         'unknown': 58311,\n",
              "         'up': 5577,\n",
              "         'yes': 9640})"
            ]
          },
          "metadata": {
            "tags": []
          },
          "execution_count": 52
        }
      ]
    }
  ]
}