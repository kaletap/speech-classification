{
 "cells": [
  {
   "cell_type": "markdown",
   "metadata": {
    "Collapsed": "false"
   },
   "source": [
    "## What to do?\n",
    "\n",
    "Just run the cells that you need.\n",
    "There's different sections for the different model architectures"
   ]
  },
  {
   "cell_type": "code",
   "execution_count": 1,
   "metadata": {
    "Collapsed": "false"
   },
   "outputs": [],
   "source": [
    "import numpy as np\n",
    "from tensorflow.keras.callbacks import ModelCheckpoint, TensorBoard, EarlyStopping\n",
    "from tensorflow.keras.utils import to_categorical, plot_model\n",
    "from tensorflow.keras import backend as K\n",
    "from time import time\n",
    "from models import ResNet, ResNetLstm, DeepSpeech2Attention, DeepSpeech2\n",
    "from collections import Counter\n",
    "import matplotlib.pyplot as plt\n",
    "import tensorflow as tf\n",
    "import os\n",
    "%matplotlib inline\n",
    "from sklearn.metrics import classification_report, confusion_matrix   \n"
   ]
  },
  {
   "cell_type": "markdown",
   "metadata": {
    "Collapsed": "false"
   },
   "source": [
    "import training and validation data\n",
    "not included in repo, set your own folder location"
   ]
  },
  {
   "cell_type": "code",
   "execution_count": 2,
   "metadata": {
    "Collapsed": "false"
   },
   "outputs": [],
   "source": [
    "X_train = np.load('./data/X_train.npy')\n",
    "Y_train = np.load('./data/Y_train.npy')\n",
    "X_val = np.load('./data/X_val.npy')\n",
    "Y_val = np.load('./data/Y_val.npy')"
   ]
  },
  {
   "cell_type": "code",
   "execution_count": 3,
   "metadata": {
    "Collapsed": "false"
   },
   "outputs": [
    {
     "name": "stdout",
     "output_type": "stream",
     "text": [
      "[[    0  2377]\n",
      " [    1  2375]\n",
      " [    2  2375]\n",
      " [    3  2359]\n",
      " [    4  2353]\n",
      " [    5  2367]\n",
      " [    6  2367]\n",
      " [    7  2357]\n",
      " [    8  2380]\n",
      " [    9  2372]\n",
      " [   10   402]\n",
      " [   11 41039]]\n"
     ]
    }
   ],
   "source": [
    "x = np.concatenate((Y_train, Y_val), axis=0)\n",
    "unique, counts = np.unique(x, return_counts=True)\n",
    "\n",
    "print(np.asarray((unique, counts)).T)"
   ]
  },
  {
   "cell_type": "code",
   "execution_count": 4,
   "metadata": {
    "Collapsed": "false"
   },
   "outputs": [
    {
     "name": "stdout",
     "output_type": "stream",
     "text": [
      "['yes', 'no', 'up', 'down', 'left', 'right', 'on', 'off', 'stop', 'go', 'silence', 'bed', 'bird', 'cat', 'dog', 'eight', 'five', 'four', 'happy', 'house', 'marvin', 'nine', 'one', 'seven', 'sheila', 'six', 'three', 'tree', 'two', 'wow', 'zero']\n"
     ]
    }
   ],
   "source": [
    "classes = ['yes', 'no', \n",
    "           'up', 'down', \n",
    "           'left', 'right', \n",
    "           'on', 'off', \n",
    "           'stop', 'go', \n",
    "           'silence', 'unknown']\n",
    "\n",
    "all_classes = [x for x in classes[:11]]\n",
    "for ind, cl in enumerate(os.listdir('data/train/audio/')):\n",
    "    if cl not in classes:\n",
    "        all_classes.append(cl)\n",
    "print(all_classes)"
   ]
  },
  {
   "cell_type": "markdown",
   "metadata": {
    "Collapsed": "false"
   },
   "source": [
    "The training data is very unbalanced with a much larger 'unknown' class.\n",
    "keras has a class_weight paramter in the fit() function that will give higher penalties to missclassifications in underrepresented classes. It takes a dict like this:"
   ]
  },
  {
   "cell_type": "code",
   "execution_count": 5,
   "metadata": {
    "Collapsed": "false"
   },
   "outputs": [],
   "source": [
    "def get_class_weights(y):\n",
    "    counter = Counter(y)\n",
    "    majority = max(counter.values())\n",
    "    return  {cls: float(majority/count) for cls, count in counter.items()}  \n",
    "\n",
    "class_weights = get_class_weights(Y_train)\n"
   ]
  },
  {
   "cell_type": "code",
   "execution_count": 6,
   "metadata": {
    "Collapsed": "false"
   },
   "outputs": [
    {
     "data": {
      "text/plain": [
       "{11: 1.0,\n",
       " 3: 17.574224343675418,\n",
       " 9: 17.432765151515152,\n",
       " 4: 17.482431149097817,\n",
       " 1: 17.490736342042755,\n",
       " 7: 17.52403617325083,\n",
       " 6: 17.449289099526066,\n",
       " 5: 17.441023211747986,\n",
       " 10: 101.98891966759003,\n",
       " 8: 17.253045923149017,\n",
       " 2: 17.4080378250591,\n",
       " 0: 17.399810964083176}"
      ]
     },
     "execution_count": 6,
     "metadata": {},
     "output_type": "execute_result"
    }
   ],
   "source": [
    "class_weights"
   ]
  },
  {
   "cell_type": "markdown",
   "metadata": {
    "Collapsed": "false"
   },
   "source": [
    "some constants we need for all models"
   ]
  },
  {
   "cell_type": "code",
   "execution_count": 7,
   "metadata": {
    "Collapsed": "false"
   },
   "outputs": [
    {
     "data": {
      "text/plain": [
       "(122, 85, 1)"
      ]
     },
     "execution_count": 7,
     "metadata": {},
     "output_type": "execute_result"
    }
   ],
   "source": [
    "input_size = X_train.shape[1:]\n",
    "batch_size = 256\n",
    "input_size"
   ]
  },
  {
   "cell_type": "markdown",
   "metadata": {
    "Collapsed": "false"
   },
   "source": [
    "## First the ResNet\n",
    "declare filters for each block of blocks and set output size."
   ]
  },
  {
   "cell_type": "code",
   "execution_count": 8,
   "metadata": {
    "Collapsed": "false"
   },
   "outputs": [],
   "source": [
    "filters_list = [8,16,32]\n",
    "output_size = 12"
   ]
  },
  {
   "cell_type": "code",
   "execution_count": 9,
   "metadata": {
    "Collapsed": "false"
   },
   "outputs": [],
   "source": [
    "#adjust these strings for organizeing the saved files\n",
    "date = '1506'\n",
    "arch = 'deep_speech22'"
   ]
  },
  {
   "cell_type": "markdown",
   "metadata": {
    "Collapsed": "false"
   },
   "source": [
    "Build the model"
   ]
  },
  {
   "cell_type": "code",
   "execution_count": 10,
   "metadata": {
    "Collapsed": "false"
   },
   "outputs": [
    {
     "name": "stdout",
     "output_type": "stream",
     "text": [
      "Model: \"model\"\n",
      "_________________________________________________________________\n",
      "Layer (type)                 Output Shape              Param #   \n",
      "=================================================================\n",
      "input_1 (InputLayer)         [(None, 122, 85, 1)]      0         \n",
      "_________________________________________________________________\n",
      "batch_normalization (BatchNo (None, 122, 85, 1)        340       \n",
      "_________________________________________________________________\n",
      "conv_1 (Conv2D)              (None, 61, 43, 32)        14432     \n",
      "_________________________________________________________________\n",
      "conv_1_bn (BatchNormalizatio (None, 61, 43, 32)        128       \n",
      "_________________________________________________________________\n",
      "conv_1_relu (ReLU)           (None, 61, 43, 32)        0         \n",
      "_________________________________________________________________\n",
      "conv_2 (Conv2D)              (None, 61, 22, 32)        236544    \n",
      "_________________________________________________________________\n",
      "conv_2_bn (BatchNormalizatio (None, 61, 22, 32)        128       \n",
      "_________________________________________________________________\n",
      "conv_2_relu (ReLU)           (None, 61, 22, 32)        0         \n",
      "_________________________________________________________________\n",
      "reshape (Reshape)            (None, 61, 704)           0         \n",
      "_________________________________________________________________\n",
      "bidirectional_1 (Bidirection (None, 61, 1024)          3741696   \n",
      "_________________________________________________________________\n",
      "dropout (Dropout)            (None, 61, 1024)          0         \n",
      "_________________________________________________________________\n",
      "bidirectional_2 (Bidirection (None, 61, 1024)          4724736   \n",
      "_________________________________________________________________\n",
      "flatten (Flatten)            (None, 62464)             0         \n",
      "_________________________________________________________________\n",
      "dense (Dense)                (None, 32)                1998880   \n",
      "_________________________________________________________________\n",
      "dropout_1 (Dropout)          (None, 32)                0         \n",
      "_________________________________________________________________\n",
      "dense_1 (Dense)              (None, 12)                396       \n",
      "=================================================================\n",
      "Total params: 10,717,280\n",
      "Trainable params: 10,716,982\n",
      "Non-trainable params: 298\n",
      "_________________________________________________________________\n"
     ]
    }
   ],
   "source": [
    "# sr = ResNet(filters_list, input_size, output_size)\n",
    "# sr = ResNetLstm(filters_list, input_size, output_size)\n",
    "sr = DeepSpeech2(filters_list, input_size, output_size)\n",
    "\n",
    "sr.build()\n",
    "sr.m.compile(loss='categorical_crossentropy', \n",
    "             optimizer='Adam', \n",
    "             metrics=['accuracy'])\n",
    "sr.m.summary()"
   ]
  },
  {
   "cell_type": "code",
   "execution_count": 11,
   "metadata": {
    "Collapsed": "false"
   },
   "outputs": [
    {
     "name": "stdout",
     "output_type": "stream",
     "text": [
      "Failed to import pydot. You must install pydot and graphviz for `pydotprint` to work.\n"
     ]
    }
   ],
   "source": [
    "# to save a png of the model you need pydot and graphviz installed\n",
    "plot_model(sr.m, \n",
    "           to_file = './models/{}_{}.png'.format(arch,date), \n",
    "           show_shapes = True)"
   ]
  },
  {
   "cell_type": "code",
   "execution_count": 12,
   "metadata": {
    "Collapsed": "false"
   },
   "outputs": [],
   "source": [
    "#callbacks, remember to make folders to store files \n",
    "checkpointer = ModelCheckpoint(filepath='./models/{}_{}_best.h5'.format(arch, date),\n",
    "                               verbose=0,\n",
    "                               monitor='val_accuracy',\n",
    "                               mode=\"auto\",\n",
    "                               save_best_only=True)\n",
    "   \n",
    "earlystopping = EarlyStopping()\n",
    "\n",
    "tensorboard = TensorBoard(log_dir = './logs/{}_{}'.format(date, time()), \n",
    "                          histogram_freq = 0, \n",
    "                          write_graph = True, \n",
    "                          write_images = True)"
   ]
  },
  {
   "cell_type": "markdown",
   "metadata": {
    "Collapsed": "false"
   },
   "source": [
    "train the model\n",
    "the history object stores training data for later access, like plotting training curves"
   ]
  },
  {
   "cell_type": "code",
   "execution_count": 13,
   "metadata": {
    "Collapsed": "false"
   },
   "outputs": [
    {
     "data": {
      "text/plain": [
       "(58284, 122, 85, 1)"
      ]
     },
     "execution_count": 13,
     "metadata": {},
     "output_type": "execute_result"
    }
   ],
   "source": [
    "X_train.shape"
   ]
  },
  {
   "cell_type": "code",
   "execution_count": 14,
   "metadata": {
    "Collapsed": "false"
   },
   "outputs": [],
   "source": [
    "sr.m = tf.keras.models.load_model(r'C:\\Users\\Michal\\Desktop\\semestr2\\MGU\\speech-master\\models\\deep_speech2_1506_best.h5')"
   ]
  },
  {
   "cell_type": "code",
   "execution_count": 15,
   "metadata": {
    "Collapsed": "false",
    "collapsed": true,
    "jupyter": {
     "outputs_hidden": true
    }
   },
   "outputs": [
    {
     "name": "stdout",
     "output_type": "stream",
     "text": [
      "WARNING:tensorflow:sample_weight modes were coerced from\n",
      "  ...\n",
      "    to  \n",
      "  ['...']\n",
      "WARNING:tensorflow:sample_weight modes were coerced from\n",
      "  ...\n",
      "    to  \n",
      "  ['...']\n",
      "Train on 58284 samples, validate on 6839 samples\n",
      "Epoch 1/25\n",
      "58284/58284 [==============================] - 189s 3ms/sample - loss: 0.4116 - accuracy: 0.9733 - val_loss: 1.7385 - val_accuracy: 0.9469\n",
      "Epoch 2/25\n",
      "58284/58284 [==============================] - 188s 3ms/sample - loss: 0.4362 - accuracy: 0.9712 - val_loss: 2.2422 - val_accuracy: 0.9478\n",
      "Epoch 3/25\n",
      "58284/58284 [==============================] - 190s 3ms/sample - loss: 0.5334 - accuracy: 0.9689 - val_loss: 2.5980 - val_accuracy: 0.9500\n",
      "Epoch 4/25\n",
      "58284/58284 [==============================] - 192s 3ms/sample - loss: 0.4357 - accuracy: 0.9731 - val_loss: 2.4107 - val_accuracy: 0.9500\n",
      "Epoch 5/25\n",
      "58284/58284 [==============================] - 191s 3ms/sample - loss: 0.4156 - accuracy: 0.9720 - val_loss: 2.3972 - val_accuracy: 0.9507\n",
      "Epoch 6/25\n",
      "58284/58284 [==============================] - 191s 3ms/sample - loss: 0.5381 - accuracy: 0.9707 - val_loss: 2.2521 - val_accuracy: 0.9335\n",
      "Epoch 7/25\n",
      "58284/58284 [==============================] - 190s 3ms/sample - loss: 0.3964 - accuracy: 0.9717 - val_loss: 2.0121 - val_accuracy: 0.9545\n",
      "Epoch 8/25\n",
      "58284/58284 [==============================] - 192s 3ms/sample - loss: 0.3601 - accuracy: 0.9759 - val_loss: 2.3414 - val_accuracy: 0.9580\n",
      "Epoch 9/25\n",
      "58284/58284 [==============================] - 191s 3ms/sample - loss: 0.3313 - accuracy: 0.9780 - val_loss: 2.3358 - val_accuracy: 0.9588\n",
      "Epoch 10/25\n",
      "58284/58284 [==============================] - 192s 3ms/sample - loss: 0.3129 - accuracy: 0.9797 - val_loss: 2.1505 - val_accuracy: 0.9487\n",
      "Epoch 11/25\n",
      "58284/58284 [==============================] - 192s 3ms/sample - loss: 0.3682 - accuracy: 0.9744 - val_loss: 2.4352 - val_accuracy: 0.9466\n",
      "Epoch 12/25\n",
      "58284/58284 [==============================] - 190s 3ms/sample - loss: 0.3563 - accuracy: 0.9756 - val_loss: 2.3167 - val_accuracy: 0.9501\n",
      "Epoch 13/25\n",
      "58284/58284 [==============================] - 190s 3ms/sample - loss: 0.2744 - accuracy: 0.9810 - val_loss: 2.3641 - val_accuracy: 0.9516\n",
      "Epoch 14/25\n",
      "58284/58284 [==============================] - 190s 3ms/sample - loss: 0.3723 - accuracy: 0.9748 - val_loss: 2.4690 - val_accuracy: 0.9510\n",
      "Epoch 15/25\n",
      "58284/58284 [==============================] - 191s 3ms/sample - loss: 0.3500 - accuracy: 0.9778 - val_loss: 3.1049 - val_accuracy: 0.9355\n",
      "Epoch 16/25\n",
      "58284/58284 [==============================] - 191s 3ms/sample - loss: 0.4908 - accuracy: 0.9740 - val_loss: 2.2202 - val_accuracy: 0.9574\n",
      "Epoch 17/25\n",
      "52992/58284 [==========================>...] - ETA: 16s - loss: 0.2585 - accuracy: 0.9809WARNING:tensorflow:Can save best model only with val_accuracy available, skipping.\n"
     ]
    },
    {
     "ename": "KeyboardInterrupt",
     "evalue": "",
     "output_type": "error",
     "traceback": [
      "\u001b[1;31m---------------------------------------------------------------------------\u001b[0m",
      "\u001b[1;31mKeyboardInterrupt\u001b[0m                         Traceback (most recent call last)",
      "\u001b[1;32m<ipython-input-15-c7fbe9877909>\u001b[0m in \u001b[0;36m<module>\u001b[1;34m\u001b[0m\n\u001b[0;32m      6\u001b[0m                    \u001b[0mclass_weight\u001b[0m \u001b[1;33m=\u001b[0m \u001b[0mclass_weights\u001b[0m\u001b[1;33m,\u001b[0m\u001b[1;33m\u001b[0m\u001b[1;33m\u001b[0m\u001b[0m\n\u001b[0;32m      7\u001b[0m                    \u001b[0mvalidation_data\u001b[0m \u001b[1;33m=\u001b[0m \u001b[1;33m(\u001b[0m\u001b[0mX_val\u001b[0m\u001b[1;33m,\u001b[0m \u001b[0mto_categorical\u001b[0m\u001b[1;33m(\u001b[0m\u001b[0mY_val\u001b[0m\u001b[1;33m)\u001b[0m\u001b[1;33m)\u001b[0m\u001b[1;33m,\u001b[0m\u001b[1;33m\u001b[0m\u001b[1;33m\u001b[0m\u001b[0m\n\u001b[1;32m----> 8\u001b[1;33m                    callbacks = [checkpointer]) # add more callbacks if you want\n\u001b[0m",
      "\u001b[1;32m~\\Anaconda\\envs\\jlab\\lib\\site-packages\\tensorflow_core\\python\\keras\\engine\\training.py\u001b[0m in \u001b[0;36mfit\u001b[1;34m(self, x, y, batch_size, epochs, verbose, callbacks, validation_split, validation_data, shuffle, class_weight, sample_weight, initial_epoch, steps_per_epoch, validation_steps, validation_freq, max_queue_size, workers, use_multiprocessing, **kwargs)\u001b[0m\n\u001b[0;32m    817\u001b[0m         \u001b[0mmax_queue_size\u001b[0m\u001b[1;33m=\u001b[0m\u001b[0mmax_queue_size\u001b[0m\u001b[1;33m,\u001b[0m\u001b[1;33m\u001b[0m\u001b[1;33m\u001b[0m\u001b[0m\n\u001b[0;32m    818\u001b[0m         \u001b[0mworkers\u001b[0m\u001b[1;33m=\u001b[0m\u001b[0mworkers\u001b[0m\u001b[1;33m,\u001b[0m\u001b[1;33m\u001b[0m\u001b[1;33m\u001b[0m\u001b[0m\n\u001b[1;32m--> 819\u001b[1;33m         use_multiprocessing=use_multiprocessing)\n\u001b[0m\u001b[0;32m    820\u001b[0m \u001b[1;33m\u001b[0m\u001b[0m\n\u001b[0;32m    821\u001b[0m   def evaluate(self,\n",
      "\u001b[1;32m~\\Anaconda\\envs\\jlab\\lib\\site-packages\\tensorflow_core\\python\\keras\\engine\\training_v2.py\u001b[0m in \u001b[0;36mfit\u001b[1;34m(self, model, x, y, batch_size, epochs, verbose, callbacks, validation_split, validation_data, shuffle, class_weight, sample_weight, initial_epoch, steps_per_epoch, validation_steps, validation_freq, max_queue_size, workers, use_multiprocessing, **kwargs)\u001b[0m\n\u001b[0;32m    340\u001b[0m                 \u001b[0mmode\u001b[0m\u001b[1;33m=\u001b[0m\u001b[0mModeKeys\u001b[0m\u001b[1;33m.\u001b[0m\u001b[0mTRAIN\u001b[0m\u001b[1;33m,\u001b[0m\u001b[1;33m\u001b[0m\u001b[1;33m\u001b[0m\u001b[0m\n\u001b[0;32m    341\u001b[0m                 \u001b[0mtraining_context\u001b[0m\u001b[1;33m=\u001b[0m\u001b[0mtraining_context\u001b[0m\u001b[1;33m,\u001b[0m\u001b[1;33m\u001b[0m\u001b[1;33m\u001b[0m\u001b[0m\n\u001b[1;32m--> 342\u001b[1;33m                 total_epochs=epochs)\n\u001b[0m\u001b[0;32m    343\u001b[0m             \u001b[0mcbks\u001b[0m\u001b[1;33m.\u001b[0m\u001b[0mmake_logs\u001b[0m\u001b[1;33m(\u001b[0m\u001b[0mmodel\u001b[0m\u001b[1;33m,\u001b[0m \u001b[0mepoch_logs\u001b[0m\u001b[1;33m,\u001b[0m \u001b[0mtraining_result\u001b[0m\u001b[1;33m,\u001b[0m \u001b[0mModeKeys\u001b[0m\u001b[1;33m.\u001b[0m\u001b[0mTRAIN\u001b[0m\u001b[1;33m)\u001b[0m\u001b[1;33m\u001b[0m\u001b[1;33m\u001b[0m\u001b[0m\n\u001b[0;32m    344\u001b[0m \u001b[1;33m\u001b[0m\u001b[0m\n",
      "\u001b[1;32m~\\Anaconda\\envs\\jlab\\lib\\site-packages\\tensorflow_core\\python\\keras\\engine\\training_v2.py\u001b[0m in \u001b[0;36mrun_one_epoch\u001b[1;34m(model, iterator, execution_function, dataset_size, batch_size, strategy, steps_per_epoch, num_samples, mode, training_context, total_epochs)\u001b[0m\n\u001b[0;32m    126\u001b[0m         step=step, mode=mode, size=current_batch_size) as batch_logs:\n\u001b[0;32m    127\u001b[0m       \u001b[1;32mtry\u001b[0m\u001b[1;33m:\u001b[0m\u001b[1;33m\u001b[0m\u001b[1;33m\u001b[0m\u001b[0m\n\u001b[1;32m--> 128\u001b[1;33m         \u001b[0mbatch_outs\u001b[0m \u001b[1;33m=\u001b[0m \u001b[0mexecution_function\u001b[0m\u001b[1;33m(\u001b[0m\u001b[0miterator\u001b[0m\u001b[1;33m)\u001b[0m\u001b[1;33m\u001b[0m\u001b[1;33m\u001b[0m\u001b[0m\n\u001b[0m\u001b[0;32m    129\u001b[0m       \u001b[1;32mexcept\u001b[0m \u001b[1;33m(\u001b[0m\u001b[0mStopIteration\u001b[0m\u001b[1;33m,\u001b[0m \u001b[0merrors\u001b[0m\u001b[1;33m.\u001b[0m\u001b[0mOutOfRangeError\u001b[0m\u001b[1;33m)\u001b[0m\u001b[1;33m:\u001b[0m\u001b[1;33m\u001b[0m\u001b[1;33m\u001b[0m\u001b[0m\n\u001b[0;32m    130\u001b[0m         \u001b[1;31m# TODO(kaftan): File bug about tf function and errors.OutOfRangeError?\u001b[0m\u001b[1;33m\u001b[0m\u001b[1;33m\u001b[0m\u001b[1;33m\u001b[0m\u001b[0m\n",
      "\u001b[1;32m~\\Anaconda\\envs\\jlab\\lib\\site-packages\\tensorflow_core\\python\\keras\\engine\\training_v2_utils.py\u001b[0m in \u001b[0;36mexecution_function\u001b[1;34m(input_fn)\u001b[0m\n\u001b[0;32m     96\u001b[0m     \u001b[1;31m# `numpy` translates Tensors to values in Eager mode.\u001b[0m\u001b[1;33m\u001b[0m\u001b[1;33m\u001b[0m\u001b[1;33m\u001b[0m\u001b[0m\n\u001b[0;32m     97\u001b[0m     return nest.map_structure(_non_none_constant_value,\n\u001b[1;32m---> 98\u001b[1;33m                               distributed_function(input_fn))\n\u001b[0m\u001b[0;32m     99\u001b[0m \u001b[1;33m\u001b[0m\u001b[0m\n\u001b[0;32m    100\u001b[0m   \u001b[1;32mreturn\u001b[0m \u001b[0mexecution_function\u001b[0m\u001b[1;33m\u001b[0m\u001b[1;33m\u001b[0m\u001b[0m\n",
      "\u001b[1;32m~\\Anaconda\\envs\\jlab\\lib\\site-packages\\tensorflow_core\\python\\eager\\def_function.py\u001b[0m in \u001b[0;36m__call__\u001b[1;34m(self, *args, **kwds)\u001b[0m\n\u001b[0;32m    566\u001b[0m         \u001b[0mxla_context\u001b[0m\u001b[1;33m.\u001b[0m\u001b[0mExit\u001b[0m\u001b[1;33m(\u001b[0m\u001b[1;33m)\u001b[0m\u001b[1;33m\u001b[0m\u001b[1;33m\u001b[0m\u001b[0m\n\u001b[0;32m    567\u001b[0m     \u001b[1;32melse\u001b[0m\u001b[1;33m:\u001b[0m\u001b[1;33m\u001b[0m\u001b[1;33m\u001b[0m\u001b[0m\n\u001b[1;32m--> 568\u001b[1;33m       \u001b[0mresult\u001b[0m \u001b[1;33m=\u001b[0m \u001b[0mself\u001b[0m\u001b[1;33m.\u001b[0m\u001b[0m_call\u001b[0m\u001b[1;33m(\u001b[0m\u001b[1;33m*\u001b[0m\u001b[0margs\u001b[0m\u001b[1;33m,\u001b[0m \u001b[1;33m**\u001b[0m\u001b[0mkwds\u001b[0m\u001b[1;33m)\u001b[0m\u001b[1;33m\u001b[0m\u001b[1;33m\u001b[0m\u001b[0m\n\u001b[0m\u001b[0;32m    569\u001b[0m \u001b[1;33m\u001b[0m\u001b[0m\n\u001b[0;32m    570\u001b[0m     \u001b[1;32mif\u001b[0m \u001b[0mtracing_count\u001b[0m \u001b[1;33m==\u001b[0m \u001b[0mself\u001b[0m\u001b[1;33m.\u001b[0m\u001b[0m_get_tracing_count\u001b[0m\u001b[1;33m(\u001b[0m\u001b[1;33m)\u001b[0m\u001b[1;33m:\u001b[0m\u001b[1;33m\u001b[0m\u001b[1;33m\u001b[0m\u001b[0m\n",
      "\u001b[1;32m~\\Anaconda\\envs\\jlab\\lib\\site-packages\\tensorflow_core\\python\\eager\\def_function.py\u001b[0m in \u001b[0;36m_call\u001b[1;34m(self, *args, **kwds)\u001b[0m\n\u001b[0;32m    604\u001b[0m       \u001b[1;31m# In this case we have not created variables on the first call. So we can\u001b[0m\u001b[1;33m\u001b[0m\u001b[1;33m\u001b[0m\u001b[1;33m\u001b[0m\u001b[0m\n\u001b[0;32m    605\u001b[0m       \u001b[1;31m# run the first trace but we should fail if variables are created.\u001b[0m\u001b[1;33m\u001b[0m\u001b[1;33m\u001b[0m\u001b[1;33m\u001b[0m\u001b[0m\n\u001b[1;32m--> 606\u001b[1;33m       \u001b[0mresults\u001b[0m \u001b[1;33m=\u001b[0m \u001b[0mself\u001b[0m\u001b[1;33m.\u001b[0m\u001b[0m_stateful_fn\u001b[0m\u001b[1;33m(\u001b[0m\u001b[1;33m*\u001b[0m\u001b[0margs\u001b[0m\u001b[1;33m,\u001b[0m \u001b[1;33m**\u001b[0m\u001b[0mkwds\u001b[0m\u001b[1;33m)\u001b[0m\u001b[1;33m\u001b[0m\u001b[1;33m\u001b[0m\u001b[0m\n\u001b[0m\u001b[0;32m    607\u001b[0m       \u001b[1;32mif\u001b[0m \u001b[0mself\u001b[0m\u001b[1;33m.\u001b[0m\u001b[0m_created_variables\u001b[0m\u001b[1;33m:\u001b[0m\u001b[1;33m\u001b[0m\u001b[1;33m\u001b[0m\u001b[0m\n\u001b[0;32m    608\u001b[0m         raise ValueError(\"Creating variables on a non-first call to a function\"\n",
      "\u001b[1;32m~\\Anaconda\\envs\\jlab\\lib\\site-packages\\tensorflow_core\\python\\eager\\function.py\u001b[0m in \u001b[0;36m__call__\u001b[1;34m(self, *args, **kwargs)\u001b[0m\n\u001b[0;32m   2361\u001b[0m     \u001b[1;32mwith\u001b[0m \u001b[0mself\u001b[0m\u001b[1;33m.\u001b[0m\u001b[0m_lock\u001b[0m\u001b[1;33m:\u001b[0m\u001b[1;33m\u001b[0m\u001b[1;33m\u001b[0m\u001b[0m\n\u001b[0;32m   2362\u001b[0m       \u001b[0mgraph_function\u001b[0m\u001b[1;33m,\u001b[0m \u001b[0margs\u001b[0m\u001b[1;33m,\u001b[0m \u001b[0mkwargs\u001b[0m \u001b[1;33m=\u001b[0m \u001b[0mself\u001b[0m\u001b[1;33m.\u001b[0m\u001b[0m_maybe_define_function\u001b[0m\u001b[1;33m(\u001b[0m\u001b[0margs\u001b[0m\u001b[1;33m,\u001b[0m \u001b[0mkwargs\u001b[0m\u001b[1;33m)\u001b[0m\u001b[1;33m\u001b[0m\u001b[1;33m\u001b[0m\u001b[0m\n\u001b[1;32m-> 2363\u001b[1;33m     \u001b[1;32mreturn\u001b[0m \u001b[0mgraph_function\u001b[0m\u001b[1;33m.\u001b[0m\u001b[0m_filtered_call\u001b[0m\u001b[1;33m(\u001b[0m\u001b[0margs\u001b[0m\u001b[1;33m,\u001b[0m \u001b[0mkwargs\u001b[0m\u001b[1;33m)\u001b[0m  \u001b[1;31m# pylint: disable=protected-access\u001b[0m\u001b[1;33m\u001b[0m\u001b[1;33m\u001b[0m\u001b[0m\n\u001b[0m\u001b[0;32m   2364\u001b[0m \u001b[1;33m\u001b[0m\u001b[0m\n\u001b[0;32m   2365\u001b[0m   \u001b[1;33m@\u001b[0m\u001b[0mproperty\u001b[0m\u001b[1;33m\u001b[0m\u001b[1;33m\u001b[0m\u001b[0m\n",
      "\u001b[1;32m~\\Anaconda\\envs\\jlab\\lib\\site-packages\\tensorflow_core\\python\\eager\\function.py\u001b[0m in \u001b[0;36m_filtered_call\u001b[1;34m(self, args, kwargs)\u001b[0m\n\u001b[0;32m   1609\u001b[0m          if isinstance(t, (ops.Tensor,\n\u001b[0;32m   1610\u001b[0m                            resource_variable_ops.BaseResourceVariable))),\n\u001b[1;32m-> 1611\u001b[1;33m         self.captured_inputs)\n\u001b[0m\u001b[0;32m   1612\u001b[0m \u001b[1;33m\u001b[0m\u001b[0m\n\u001b[0;32m   1613\u001b[0m   \u001b[1;32mdef\u001b[0m \u001b[0m_call_flat\u001b[0m\u001b[1;33m(\u001b[0m\u001b[0mself\u001b[0m\u001b[1;33m,\u001b[0m \u001b[0margs\u001b[0m\u001b[1;33m,\u001b[0m \u001b[0mcaptured_inputs\u001b[0m\u001b[1;33m,\u001b[0m \u001b[0mcancellation_manager\u001b[0m\u001b[1;33m=\u001b[0m\u001b[1;32mNone\u001b[0m\u001b[1;33m)\u001b[0m\u001b[1;33m:\u001b[0m\u001b[1;33m\u001b[0m\u001b[1;33m\u001b[0m\u001b[0m\n",
      "\u001b[1;32m~\\Anaconda\\envs\\jlab\\lib\\site-packages\\tensorflow_core\\python\\eager\\function.py\u001b[0m in \u001b[0;36m_call_flat\u001b[1;34m(self, args, captured_inputs, cancellation_manager)\u001b[0m\n\u001b[0;32m   1690\u001b[0m       \u001b[1;31m# No tape is watching; skip to running the function.\u001b[0m\u001b[1;33m\u001b[0m\u001b[1;33m\u001b[0m\u001b[1;33m\u001b[0m\u001b[0m\n\u001b[0;32m   1691\u001b[0m       return self._build_call_outputs(self._inference_function.call(\n\u001b[1;32m-> 1692\u001b[1;33m           ctx, args, cancellation_manager=cancellation_manager))\n\u001b[0m\u001b[0;32m   1693\u001b[0m     forward_backward = self._select_forward_and_backward_functions(\n\u001b[0;32m   1694\u001b[0m         \u001b[0margs\u001b[0m\u001b[1;33m,\u001b[0m\u001b[1;33m\u001b[0m\u001b[1;33m\u001b[0m\u001b[0m\n",
      "\u001b[1;32m~\\Anaconda\\envs\\jlab\\lib\\site-packages\\tensorflow_core\\python\\eager\\function.py\u001b[0m in \u001b[0;36mcall\u001b[1;34m(self, ctx, args, cancellation_manager)\u001b[0m\n\u001b[0;32m    543\u001b[0m               \u001b[0minputs\u001b[0m\u001b[1;33m=\u001b[0m\u001b[0margs\u001b[0m\u001b[1;33m,\u001b[0m\u001b[1;33m\u001b[0m\u001b[1;33m\u001b[0m\u001b[0m\n\u001b[0;32m    544\u001b[0m               \u001b[0mattrs\u001b[0m\u001b[1;33m=\u001b[0m\u001b[1;33m(\u001b[0m\u001b[1;34m\"executor_type\"\u001b[0m\u001b[1;33m,\u001b[0m \u001b[0mexecutor_type\u001b[0m\u001b[1;33m,\u001b[0m \u001b[1;34m\"config_proto\"\u001b[0m\u001b[1;33m,\u001b[0m \u001b[0mconfig\u001b[0m\u001b[1;33m)\u001b[0m\u001b[1;33m,\u001b[0m\u001b[1;33m\u001b[0m\u001b[1;33m\u001b[0m\u001b[0m\n\u001b[1;32m--> 545\u001b[1;33m               ctx=ctx)\n\u001b[0m\u001b[0;32m    546\u001b[0m         \u001b[1;32melse\u001b[0m\u001b[1;33m:\u001b[0m\u001b[1;33m\u001b[0m\u001b[1;33m\u001b[0m\u001b[0m\n\u001b[0;32m    547\u001b[0m           outputs = execute.execute_with_cancellation(\n",
      "\u001b[1;32m~\\Anaconda\\envs\\jlab\\lib\\site-packages\\tensorflow_core\\python\\eager\\execute.py\u001b[0m in \u001b[0;36mquick_execute\u001b[1;34m(op_name, num_outputs, inputs, attrs, ctx, name)\u001b[0m\n\u001b[0;32m     59\u001b[0m     tensors = pywrap_tensorflow.TFE_Py_Execute(ctx._handle, device_name,\n\u001b[0;32m     60\u001b[0m                                                \u001b[0mop_name\u001b[0m\u001b[1;33m,\u001b[0m \u001b[0minputs\u001b[0m\u001b[1;33m,\u001b[0m \u001b[0mattrs\u001b[0m\u001b[1;33m,\u001b[0m\u001b[1;33m\u001b[0m\u001b[1;33m\u001b[0m\u001b[0m\n\u001b[1;32m---> 61\u001b[1;33m                                                num_outputs)\n\u001b[0m\u001b[0;32m     62\u001b[0m   \u001b[1;32mexcept\u001b[0m \u001b[0mcore\u001b[0m\u001b[1;33m.\u001b[0m\u001b[0m_NotOkStatusException\u001b[0m \u001b[1;32mas\u001b[0m \u001b[0me\u001b[0m\u001b[1;33m:\u001b[0m\u001b[1;33m\u001b[0m\u001b[1;33m\u001b[0m\u001b[0m\n\u001b[0;32m     63\u001b[0m     \u001b[1;32mif\u001b[0m \u001b[0mname\u001b[0m \u001b[1;32mis\u001b[0m \u001b[1;32mnot\u001b[0m \u001b[1;32mNone\u001b[0m\u001b[1;33m:\u001b[0m\u001b[1;33m\u001b[0m\u001b[1;33m\u001b[0m\u001b[0m\n",
      "\u001b[1;31mKeyboardInterrupt\u001b[0m: "
     ]
    }
   ],
   "source": [
    "history = sr.m.fit(X_train, \n",
    "                   to_categorical(Y_train), \n",
    "                   batch_size = batch_size, \n",
    "                   epochs = 25, \n",
    "                   verbose = 1, shuffle = True, \n",
    "                   class_weight = class_weights,\n",
    "                   validation_data = (X_val, to_categorical(Y_val)), \n",
    "                   callbacks = [checkpointer]) # add more callbacks if you want"
   ]
  },
  {
   "cell_type": "code",
   "execution_count": 16,
   "metadata": {
    "Collapsed": "false"
   },
   "outputs": [],
   "source": [
    "sr.m.save(\"./models/ds2_nice_model.h5\")"
   ]
  },
  {
   "cell_type": "code",
   "execution_count": null,
   "metadata": {
    "Collapsed": "false"
   },
   "outputs": [],
   "source": [
    "sr.m.save_weights(\"./models/{}_{}_last.h5\".format(arch, date)) \n"
   ]
  },
  {
   "cell_type": "markdown",
   "metadata": {
    "Collapsed": "false"
   },
   "source": [
    "plot the training graphs, and save them"
   ]
  },
  {
   "cell_type": "code",
   "execution_count": 22,
   "metadata": {
    "Collapsed": "false",
    "scrolled": true
   },
   "outputs": [
    {
     "name": "stdout",
     "output_type": "stream",
     "text": [
      "dict_keys(['loss', 'accuracy', 'val_loss', 'val_accuracy'])\n"
     ]
    },
    {
     "data": {
      "image/png": "[encoded data removed]",
      "text/plain": [
       "<Figure size 432x288 with 1 Axes>"
      ]
     },
     "metadata": {
      "needs_background": "light"
     },
     "output_type": "display_data"
    },
    {
     "data": {
      "image/png": "[encoded data removed]",
      "text/plain": [
       "<Figure size 432x288 with 1 Axes>"
      ]
     },
     "metadata": {
      "needs_background": "light"
     },
     "output_type": "display_data"
    }
   ],
   "source": [
    "#%% visualize training\n",
    "print(history.history.keys())\n",
    "# summarize history for accuracy\n",
    "plt.plot(history.history['accuracy'])\n",
    "plt.plot(history.history['val_accuracy'])\n",
    "plt.title('model accuracy')\n",
    "plt.ylabel('accuracy')\n",
    "plt.xlabel('epoch')\n",
    "plt.legend(['train', 'test'], loc='upper left')\n",
    "plt.savefig('graphs/{}_{}_acc.png'.format(arch, date),bbox_inches='tight')\n",
    "plt.show()\n",
    "# summarize history for loss\n",
    "plt.plot(history.history['loss'])\n",
    "plt.plot(history.history['val_loss'])\n",
    "plt.title('model loss')\n",
    "plt.ylabel('loss')\n",
    "plt.xlabel('epoch')\n",
    "plt.legend(['train', 'test'], loc='upper left')\n",
    "plt.savefig('graphs/{}_{}_loss.png'.format(arch, date), bbox_inches='tight')\n",
    "plt.show()"
   ]
  },
  {
   "cell_type": "markdown",
   "metadata": {
    "Collapsed": "false"
   },
   "source": [
    "predict the validation classification and score"
   ]
  },
  {
   "cell_type": "code",
   "execution_count": null,
   "metadata": {
    "Collapsed": "false"
   },
   "outputs": [],
   "source": [
    "val_pred = sr.m.predict(X_val, batch_size = batch_size, verbose = 1)"
   ]
  },
  {
   "cell_type": "code",
   "execution_count": null,
   "metadata": {
    "Collapsed": "false"
   },
   "outputs": [],
   "source": [
    "print(classification_report(Y_val, np.argmax(val_pred, axis = 1), target_names = classes, digits = 3))"
   ]
  },
  {
   "cell_type": "code",
   "execution_count": null,
   "metadata": {
    "Collapsed": "false",
    "scrolled": true
   },
   "outputs": [],
   "source": [
    "print(confusion_matrix(Y_val, np.argmax(val_pred, axis = 1)))"
   ]
  },
  {
   "cell_type": "markdown",
   "metadata": {
    "Collapsed": "false"
   },
   "source": [
    "### Ensemble"
   ]
  },
  {
   "cell_type": "code",
   "execution_count": 38,
   "metadata": {
    "Collapsed": "false"
   },
   "outputs": [],
   "source": [
    "def load_all_models():\n",
    "    all_models = []\n",
    "    models_list = [os.path.join(\"./models/\", elem) for elem in os.listdir(\"./models/\")]\n",
    "    for mod in models_list:\n",
    "        # load model from file\n",
    "        model = tf.keras.models.load_model(mod)\n",
    "        # add to list of members\n",
    "        all_models.append(model)\n",
    "        print('>loaded %s' % model)\n",
    "    return all_models\n",
    "\n",
    "def define_stacked_model(members):\n",
    "    # update all layers in all models to not be trainable\n",
    "    for i in range(len(members)):\n",
    "        model = members[i]\n",
    "        for j, layer in enumerate(model.layers):\n",
    "            # make not trainable\n",
    "            if j <= len(model.layers)-3:\n",
    "                layer.trainable = False\n",
    "            # rename to avoid 'unique layer name' issue\n",
    "            layer._name = 'ensemble_' + str(i+1) + '_' + layer.name\n",
    "    # define multi-headed input\n",
    "    ensemble_visible = [model.input for model in members]\n",
    "    # concatenate merge output from each model\n",
    "    ensemble_outputs = [model.output for model in members]\n",
    "    merge = tf.keras.layers.concatenate(ensemble_outputs)\n",
    "    hidden = tf.keras.layers.Dense(100, activation='relu')(merge)\n",
    "    output = tf.keras.layers.Dense(12, activation='softmax')(hidden)\n",
    "    model = tf.keras.models.Model(inputs=ensemble_visible, outputs=output)\n",
    "    # compile\n",
    "    model.compile(loss='categorical_crossentropy', optimizer=tf.keras.optimizers.Adam(), metrics=['accuracy'])\n",
    "    return model"
   ]
  },
  {
   "cell_type": "code",
   "execution_count": 24,
   "metadata": {
    "Collapsed": "false"
   },
   "outputs": [
    {
     "name": "stdout",
     "output_type": "stream",
     "text": [
      ">loaded <tensorflow.python.keras.engine.training.Model object at 0x000001ED406FD648>\n",
      ">loaded <tensorflow.python.keras.engine.training.Model object at 0x000001ED3F7D1348>\n",
      ">loaded <tensorflow.python.keras.engine.training.Model object at 0x000001ED44979088>\n",
      ">loaded <tensorflow.python.keras.engine.training.Model object at 0x000001ED481023C8>\n",
      ">loaded <tensorflow.python.keras.engine.training.Model object at 0x000001ED4CCBE288>\n",
      ">loaded <tensorflow.python.keras.engine.training.Model object at 0x000001ED718BAC88>\n",
      ">loaded <tensorflow.python.keras.engine.training.Model object at 0x000001ED79B2F988>\n",
      ">loaded <tensorflow.python.keras.engine.training.Model object at 0x000001ED804E6BC8>\n",
      ">loaded <tensorflow.python.keras.engine.training.Model object at 0x000001ED79B3BD48>\n",
      "Loaded 9 models\n"
     ]
    }
   ],
   "source": [
    "# load all models\n",
    "members = load_all_models()\n",
    "print('Loaded %d models' % len(members))"
   ]
  },
  {
   "cell_type": "code",
   "execution_count": 39,
   "metadata": {
    "Collapsed": "false",
    "collapsed": true,
    "jupyter": {
     "outputs_hidden": true
    }
   },
   "outputs": [
    {
     "name": "stdout",
     "output_type": "stream",
     "text": [
      "Model: \"model_5\"\n",
      "__________________________________________________________________________________________________\n",
      "Layer (type)                    Output Shape         Param #     Connected to                     \n",
      "==================================================================================================\n",
      "ensemble_7_ensemble_7_ensemble_ [(None, 122, 85, 1)] 0                                            \n",
      "__________________________________________________________________________________________________\n",
      "ensemble_7_ensemble_7_ensemble_ (None, 122, 85, 8)   80          ensemble_7_ensemble_7_ensemble_7_\n",
      "__________________________________________________________________________________________________\n",
      "ensemble_6_ensemble_6_ensemble_ [(None, 122, 85, 1)] 0                                            \n",
      "__________________________________________________________________________________________________\n",
      "ensemble_7_ensemble_7_ensemble_ (None, 61, 43, 8)    0           ensemble_7_ensemble_7_ensemble_7_\n",
      "__________________________________________________________________________________________________\n",
      "ensemble_6_ensemble_6_ensemble_ (None, 122, 85, 8)   80          ensemble_6_ensemble_6_ensemble_6_\n",
      "__________________________________________________________________________________________________\n",
      "ensemble_7_ensemble_7_ensemble_ (None, 61, 43, 8)    32          ensemble_7_ensemble_7_ensemble_7_\n",
      "__________________________________________________________________________________________________\n",
      "ensemble_5_ensemble_5_ensemble_ [(None, 122, 85, 1)] 0                                            \n",
      "__________________________________________________________________________________________________\n",
      "ensemble_6_ensemble_6_ensemble_ (None, 61, 43, 8)    0           ensemble_6_ensemble_6_ensemble_6_\n",
      "__________________________________________________________________________________________________\n",
      "ensemble_7_ensemble_7_ensemble_ (None, 61, 43, 8)    0           ensemble_7_ensemble_7_ensemble_7_\n",
      "__________________________________________________________________________________________________\n",
      "ensemble_8_ensemble_8_ensemble_ [(None, 122, 85, 1)] 0                                            \n",
      "__________________________________________________________________________________________________\n",
      "ensemble_5_ensemble_5_ensemble_ (None, 122, 85, 8)   80          ensemble_5_ensemble_5_ensemble_5_\n",
      "__________________________________________________________________________________________________\n",
      "ensemble_6_ensemble_6_ensemble_ (None, 61, 43, 8)    32          ensemble_6_ensemble_6_ensemble_6_\n",
      "__________________________________________________________________________________________________\n",
      "ensemble_7_ensemble_7_ensemble_ (None, 61, 43, 8)    584         ensemble_7_ensemble_7_ensemble_7_\n",
      "__________________________________________________________________________________________________\n",
      "ensemble_8_ensemble_8_ensemble_ (None, 122, 85, 8)   80          ensemble_8_ensemble_8_ensemble_8_\n",
      "__________________________________________________________________________________________________\n",
      "ensemble_5_ensemble_5_ensemble_ (None, 61, 43, 8)    0           ensemble_5_ensemble_5_ensemble_5_\n",
      "__________________________________________________________________________________________________\n",
      "ensemble_6_ensemble_6_ensemble_ (None, 61, 43, 8)    0           ensemble_6_ensemble_6_ensemble_6_\n",
      "__________________________________________________________________________________________________\n",
      "ensemble_7_ensemble_7_ensemble_ (None, 61, 43, 8)    32          ensemble_7_ensemble_7_ensemble_7_\n",
      "__________________________________________________________________________________________________\n",
      "ensemble_8_ensemble_8_ensemble_ (None, 61, 43, 8)    0           ensemble_8_ensemble_8_ensemble_8_\n",
      "__________________________________________________________________________________________________\n",
      "ensemble_5_ensemble_5_ensemble_ (None, 61, 43, 8)    32          ensemble_5_ensemble_5_ensemble_5_\n",
      "__________________________________________________________________________________________________\n",
      "ensemble_6_ensemble_6_ensemble_ (None, 61, 43, 8)    584         ensemble_6_ensemble_6_ensemble_6_\n",
      "__________________________________________________________________________________________________\n",
      "ensemble_7_ensemble_7_ensemble_ (None, 61, 43, 8)    0           ensemble_7_ensemble_7_ensemble_7_\n",
      "__________________________________________________________________________________________________\n",
      "ensemble_8_ensemble_8_ensemble_ (None, 61, 43, 8)    32          ensemble_8_ensemble_8_ensemble_8_\n",
      "__________________________________________________________________________________________________\n",
      "ensemble_5_ensemble_5_ensemble_ (None, 61, 43, 8)    0           ensemble_5_ensemble_5_ensemble_5_\n",
      "__________________________________________________________________________________________________\n",
      "ensemble_6_ensemble_6_ensemble_ (None, 61, 43, 8)    32          ensemble_6_ensemble_6_ensemble_6_\n",
      "__________________________________________________________________________________________________\n",
      "ensemble_7_ensemble_7_ensemble_ (None, 61, 43, 8)    584         ensemble_7_ensemble_7_ensemble_7_\n",
      "__________________________________________________________________________________________________\n",
      "ensemble_8_ensemble_8_ensemble_ (None, 61, 43, 8)    0           ensemble_8_ensemble_8_ensemble_8_\n",
      "__________________________________________________________________________________________________\n",
      "ensemble_5_ensemble_5_ensemble_ (None, 61, 43, 8)    584         ensemble_5_ensemble_5_ensemble_5_\n",
      "__________________________________________________________________________________________________\n",
      "ensemble_6_ensemble_6_ensemble_ (None, 61, 43, 8)    0           ensemble_6_ensemble_6_ensemble_6_\n",
      "__________________________________________________________________________________________________\n",
      "ensemble_7_ensemble_7_ensemble_ (None, 61, 43, 8)    0           ensemble_7_ensemble_7_ensemble_7_\n",
      "                                                                 ensemble_7_ensemble_7_ensemble_7_\n",
      "__________________________________________________________________________________________________\n",
      "ensemble_8_ensemble_8_ensemble_ (None, 61, 43, 8)    584         ensemble_8_ensemble_8_ensemble_8_\n",
      "__________________________________________________________________________________________________\n",
      "ensemble_5_ensemble_5_ensemble_ (None, 61, 43, 8)    32          ensemble_5_ensemble_5_ensemble_5_\n",
      "__________________________________________________________________________________________________\n",
      "ensemble_6_ensemble_6_ensemble_ (None, 61, 43, 8)    584         ensemble_6_ensemble_6_ensemble_6_\n",
      "__________________________________________________________________________________________________\n",
      "ensemble_7_ensemble_7_ensemble_ (None, 61, 43, 8)    32          ensemble_7_ensemble_7_ensemble_7_\n",
      "__________________________________________________________________________________________________\n",
      "ensemble_8_ensemble_8_ensemble_ (None, 61, 43, 8)    32          ensemble_8_ensemble_8_ensemble_8_\n",
      "__________________________________________________________________________________________________\n",
      "ensemble_5_ensemble_5_ensemble_ (None, 61, 43, 8)    0           ensemble_5_ensemble_5_ensemble_5_\n",
      "__________________________________________________________________________________________________\n",
      "ensemble_6_ensemble_6_ensemble_ (None, 61, 43, 8)    0           ensemble_6_ensemble_6_ensemble_6_\n",
      "                                                                 ensemble_6_ensemble_6_ensemble_6_\n",
      "__________________________________________________________________________________________________\n",
      "ensemble_7_ensemble_7_ensemble_ (None, 61, 43, 8)    0           ensemble_7_ensemble_7_ensemble_7_\n",
      "__________________________________________________________________________________________________\n",
      "ensemble_8_ensemble_8_ensemble_ (None, 61, 43, 8)    0           ensemble_8_ensemble_8_ensemble_8_\n",
      "__________________________________________________________________________________________________\n",
      "ensemble_5_ensemble_5_ensemble_ (None, 61, 43, 8)    584         ensemble_5_ensemble_5_ensemble_5_\n",
      "__________________________________________________________________________________________________\n",
      "ensemble_6_ensemble_6_ensemble_ (None, 61, 43, 8)    32          ensemble_6_ensemble_6_ensemble_6_\n",
      "__________________________________________________________________________________________________\n",
      "ensemble_7_ensemble_7_ensemble_ (None, 61, 43, 8)    584         ensemble_7_ensemble_7_ensemble_7_\n",
      "__________________________________________________________________________________________________\n",
      "ensemble_8_ensemble_8_ensemble_ (None, 61, 43, 8)    584         ensemble_8_ensemble_8_ensemble_8_\n",
      "__________________________________________________________________________________________________\n",
      "ensemble_5_ensemble_5_ensemble_ (None, 61, 43, 8)    0           ensemble_5_ensemble_5_ensemble_5_\n",
      "                                                                 ensemble_5_ensemble_5_ensemble_5_\n",
      "__________________________________________________________________________________________________\n",
      "ensemble_6_ensemble_6_ensemble_ (None, 61, 43, 8)    0           ensemble_6_ensemble_6_ensemble_6_\n",
      "__________________________________________________________________________________________________\n",
      "ensemble_7_ensemble_7_ensemble_ (None, 61, 43, 8)    32          ensemble_7_ensemble_7_ensemble_7_\n",
      "__________________________________________________________________________________________________\n",
      "ensemble_8_ensemble_8_ensemble_ (None, 61, 43, 8)    0           ensemble_8_ensemble_8_ensemble_8_\n",
      "                                                                 ensemble_8_ensemble_8_ensemble_8_\n",
      "__________________________________________________________________________________________________\n",
      "ensemble_5_ensemble_5_ensemble_ (None, 61, 43, 8)    32          ensemble_5_ensemble_5_ensemble_5_\n",
      "__________________________________________________________________________________________________\n",
      "ensemble_6_ensemble_6_ensemble_ (None, 61, 43, 8)    584         ensemble_6_ensemble_6_ensemble_6_\n",
      "__________________________________________________________________________________________________\n",
      "ensemble_7_ensemble_7_ensemble_ (None, 61, 43, 8)    0           ensemble_7_ensemble_7_ensemble_7_\n",
      "__________________________________________________________________________________________________\n",
      "ensemble_8_ensemble_8_ensemble_ (None, 61, 43, 8)    32          ensemble_8_ensemble_8_ensemble_8_\n",
      "__________________________________________________________________________________________________\n",
      "ensemble_5_ensemble_5_ensemble_ (None, 61, 43, 8)    0           ensemble_5_ensemble_5_ensemble_5_\n",
      "__________________________________________________________________________________________________\n",
      "ensemble_6_ensemble_6_ensemble_ (None, 61, 43, 8)    32          ensemble_6_ensemble_6_ensemble_6_\n",
      "__________________________________________________________________________________________________\n",
      "ensemble_7_ensemble_7_ensemble_ (None, 61, 43, 8)    584         ensemble_7_ensemble_7_ensemble_7_\n",
      "__________________________________________________________________________________________________\n",
      "ensemble_8_ensemble_8_ensemble_ (None, 61, 43, 8)    0           ensemble_8_ensemble_8_ensemble_8_\n",
      "__________________________________________________________________________________________________\n",
      "ensemble_5_ensemble_5_ensemble_ (None, 61, 43, 8)    584         ensemble_5_ensemble_5_ensemble_5_\n",
      "__________________________________________________________________________________________________\n",
      "ensemble_6_ensemble_6_ensemble_ (None, 61, 43, 8)    0           ensemble_6_ensemble_6_ensemble_6_\n",
      "__________________________________________________________________________________________________\n",
      "ensemble_7_ensemble_7_ensemble_ (None, 61, 43, 8)    0           ensemble_7_ensemble_7_ensemble_7_\n",
      "                                                                 ensemble_7_ensemble_7_ensemble_7_\n",
      "__________________________________________________________________________________________________\n",
      "ensemble_8_ensemble_8_ensemble_ (None, 61, 43, 8)    584         ensemble_8_ensemble_8_ensemble_8_\n",
      "__________________________________________________________________________________________________\n",
      "ensemble_5_ensemble_5_ensemble_ (None, 61, 43, 8)    32          ensemble_5_ensemble_5_ensemble_5_\n",
      "__________________________________________________________________________________________________\n",
      "ensemble_6_ensemble_6_ensemble_ (None, 61, 43, 8)    584         ensemble_6_ensemble_6_ensemble_6_\n",
      "__________________________________________________________________________________________________\n",
      "ensemble_7_ensemble_7_ensemble_ (None, 61, 43, 8)    32          ensemble_7_ensemble_7_ensemble_7_\n",
      "__________________________________________________________________________________________________\n",
      "ensemble_8_ensemble_8_ensemble_ (None, 61, 43, 8)    32          ensemble_8_ensemble_8_ensemble_8_\n",
      "__________________________________________________________________________________________________\n",
      "ensemble_5_ensemble_5_ensemble_ (None, 61, 43, 8)    0           ensemble_5_ensemble_5_ensemble_5_\n",
      "__________________________________________________________________________________________________\n",
      "ensemble_6_ensemble_6_ensemble_ (None, 61, 43, 8)    0           ensemble_6_ensemble_6_ensemble_6_\n",
      "                                                                 ensemble_6_ensemble_6_ensemble_6_\n",
      "__________________________________________________________________________________________________\n",
      "ensemble_7_ensemble_7_ensemble_ (None, 61, 43, 8)    0           ensemble_7_ensemble_7_ensemble_7_\n",
      "__________________________________________________________________________________________________\n",
      "ensemble_8_ensemble_8_ensemble_ (None, 61, 43, 8)    0           ensemble_8_ensemble_8_ensemble_8_\n",
      "__________________________________________________________________________________________________\n",
      "ensemble_5_ensemble_5_ensemble_ (None, 61, 43, 8)    584         ensemble_5_ensemble_5_ensemble_5_\n",
      "__________________________________________________________________________________________________\n",
      "ensemble_6_ensemble_6_ensemble_ (None, 61, 43, 8)    32          ensemble_6_ensemble_6_ensemble_6_\n",
      "__________________________________________________________________________________________________\n",
      "ensemble_7_ensemble_7_ensemble_ (None, 61, 43, 8)    584         ensemble_7_ensemble_7_ensemble_7_\n",
      "__________________________________________________________________________________________________\n",
      "ensemble_8_ensemble_8_ensemble_ (None, 61, 43, 8)    584         ensemble_8_ensemble_8_ensemble_8_\n",
      "__________________________________________________________________________________________________\n",
      "ensemble_5_ensemble_5_ensemble_ (None, 61, 43, 8)    0           ensemble_5_ensemble_5_ensemble_5_\n",
      "                                                                 ensemble_5_ensemble_5_ensemble_5_\n",
      "__________________________________________________________________________________________________\n",
      "ensemble_6_ensemble_6_ensemble_ (None, 61, 43, 8)    0           ensemble_6_ensemble_6_ensemble_6_\n",
      "__________________________________________________________________________________________________\n",
      "ensemble_7_ensemble_7_ensemble_ (None, 61, 43, 8)    32          ensemble_7_ensemble_7_ensemble_7_\n",
      "__________________________________________________________________________________________________\n",
      "ensemble_8_ensemble_8_ensemble_ (None, 61, 43, 8)    0           ensemble_8_ensemble_8_ensemble_8_\n",
      "                                                                 ensemble_8_ensemble_8_ensemble_8_\n",
      "__________________________________________________________________________________________________\n",
      "ensemble_5_ensemble_5_ensemble_ (None, 61, 43, 8)    32          ensemble_5_ensemble_5_ensemble_5_\n",
      "__________________________________________________________________________________________________\n",
      "ensemble_6_ensemble_6_ensemble_ (None, 61, 43, 8)    584         ensemble_6_ensemble_6_ensemble_6_\n",
      "__________________________________________________________________________________________________\n",
      "ensemble_7_ensemble_7_ensemble_ (None, 61, 43, 8)    0           ensemble_7_ensemble_7_ensemble_7_\n",
      "__________________________________________________________________________________________________\n",
      "ensemble_8_ensemble_8_ensemble_ (None, 61, 43, 8)    32          ensemble_8_ensemble_8_ensemble_8_\n",
      "__________________________________________________________________________________________________\n",
      "ensemble_5_ensemble_5_ensemble_ (None, 61, 43, 8)    0           ensemble_5_ensemble_5_ensemble_5_\n",
      "__________________________________________________________________________________________________\n",
      "ensemble_6_ensemble_6_ensemble_ (None, 61, 43, 8)    32          ensemble_6_ensemble_6_ensemble_6_\n",
      "__________________________________________________________________________________________________\n",
      "ensemble_7_ensemble_7_ensemble_ (None, 61, 43, 8)    584         ensemble_7_ensemble_7_ensemble_7_\n",
      "__________________________________________________________________________________________________\n",
      "ensemble_8_ensemble_8_ensemble_ (None, 61, 43, 8)    0           ensemble_8_ensemble_8_ensemble_8_\n",
      "__________________________________________________________________________________________________\n",
      "ensemble_5_ensemble_5_ensemble_ (None, 61, 43, 8)    584         ensemble_5_ensemble_5_ensemble_5_\n",
      "__________________________________________________________________________________________________\n",
      "ensemble_6_ensemble_6_ensemble_ (None, 61, 43, 8)    0           ensemble_6_ensemble_6_ensemble_6_\n",
      "__________________________________________________________________________________________________\n",
      "ensemble_7_ensemble_7_ensemble_ (None, 61, 43, 8)    0           ensemble_7_ensemble_7_ensemble_7_\n",
      "                                                                 ensemble_7_ensemble_7_ensemble_7_\n",
      "__________________________________________________________________________________________________\n",
      "ensemble_8_ensemble_8_ensemble_ (None, 61, 43, 8)    584         ensemble_8_ensemble_8_ensemble_8_\n",
      "__________________________________________________________________________________________________\n",
      "ensemble_5_ensemble_5_ensemble_ (None, 61, 43, 8)    32          ensemble_5_ensemble_5_ensemble_5_\n",
      "__________________________________________________________________________________________________\n",
      "ensemble_6_ensemble_6_ensemble_ (None, 61, 43, 8)    584         ensemble_6_ensemble_6_ensemble_6_\n",
      "__________________________________________________________________________________________________\n",
      "ensemble_7_ensemble_7_ensemble_ (None, 31, 22, 16)   1168        ensemble_7_ensemble_7_ensemble_7_\n",
      "__________________________________________________________________________________________________\n",
      "ensemble_8_ensemble_8_ensemble_ (None, 61, 43, 8)    32          ensemble_8_ensemble_8_ensemble_8_\n",
      "__________________________________________________________________________________________________\n",
      "ensemble_5_ensemble_5_ensemble_ (None, 61, 43, 8)    0           ensemble_5_ensemble_5_ensemble_5_\n",
      "__________________________________________________________________________________________________\n",
      "ensemble_6_ensemble_6_ensemble_ (None, 61, 43, 8)    0           ensemble_6_ensemble_6_ensemble_6_\n",
      "                                                                 ensemble_6_ensemble_6_ensemble_6_\n",
      "__________________________________________________________________________________________________\n",
      "ensemble_7_ensemble_7_ensemble_ (None, 31, 22, 16)   64          ensemble_7_ensemble_7_ensemble_7_\n",
      "__________________________________________________________________________________________________\n",
      "ensemble_8_ensemble_8_ensemble_ (None, 61, 43, 8)    0           ensemble_8_ensemble_8_ensemble_8_\n",
      "__________________________________________________________________________________________________\n",
      "ensemble_5_ensemble_5_ensemble_ (None, 61, 43, 8)    584         ensemble_5_ensemble_5_ensemble_5_\n",
      "__________________________________________________________________________________________________\n",
      "ensemble_6_ensemble_6_ensemble_ (None, 31, 22, 16)   1168        ensemble_6_ensemble_6_ensemble_6_\n",
      "__________________________________________________________________________________________________\n",
      "ensemble_7_ensemble_7_ensemble_ (None, 31, 22, 16)   0           ensemble_7_ensemble_7_ensemble_7_\n",
      "__________________________________________________________________________________________________\n",
      "ensemble_8_ensemble_8_ensemble_ (None, 61, 43, 8)    584         ensemble_8_ensemble_8_ensemble_8_\n",
      "__________________________________________________________________________________________________\n",
      "ensemble_5_ensemble_5_ensemble_ (None, 61, 43, 8)    0           ensemble_5_ensemble_5_ensemble_5_\n",
      "                                                                 ensemble_5_ensemble_5_ensemble_5_\n",
      "__________________________________________________________________________________________________\n",
      "ensemble_6_ensemble_6_ensemble_ (None, 31, 22, 16)   64          ensemble_6_ensemble_6_ensemble_6_\n",
      "__________________________________________________________________________________________________\n",
      "ensemble_7_ensemble_7_ensemble_ (None, 31, 22, 16)   2320        ensemble_7_ensemble_7_ensemble_7_\n",
      "__________________________________________________________________________________________________\n",
      "ensemble_8_ensemble_8_ensemble_ (None, 61, 43, 8)    0           ensemble_8_ensemble_8_ensemble_8_\n",
      "                                                                 ensemble_8_ensemble_8_ensemble_8_\n",
      "__________________________________________________________________________________________________\n",
      "ensemble_5_ensemble_5_ensemble_ (None, 31, 22, 16)   1168        ensemble_5_ensemble_5_ensemble_5_\n",
      "__________________________________________________________________________________________________\n",
      "ensemble_6_ensemble_6_ensemble_ (None, 31, 22, 16)   0           ensemble_6_ensemble_6_ensemble_6_\n",
      "__________________________________________________________________________________________________\n",
      "ensemble_7_ensemble_7_ensemble_ (None, 31, 22, 16)   64          ensemble_7_ensemble_7_ensemble_7_\n",
      "__________________________________________________________________________________________________\n",
      "ensemble_8_ensemble_8_ensemble_ (None, 31, 22, 16)   1168        ensemble_8_ensemble_8_ensemble_8_\n",
      "__________________________________________________________________________________________________\n",
      "ensemble_5_ensemble_5_ensemble_ (None, 31, 22, 16)   64          ensemble_5_ensemble_5_ensemble_5_\n",
      "__________________________________________________________________________________________________\n",
      "ensemble_6_ensemble_6_ensemble_ (None, 31, 22, 16)   2320        ensemble_6_ensemble_6_ensemble_6_\n",
      "__________________________________________________________________________________________________\n",
      "ensemble_7_ensemble_7_ensemble_ (None, 31, 22, 16)   0           ensemble_7_ensemble_7_ensemble_7_\n",
      "__________________________________________________________________________________________________\n",
      "ensemble_8_ensemble_8_ensemble_ (None, 31, 22, 16)   64          ensemble_8_ensemble_8_ensemble_8_\n",
      "__________________________________________________________________________________________________\n",
      "ensemble_5_ensemble_5_ensemble_ (None, 31, 22, 16)   0           ensemble_5_ensemble_5_ensemble_5_\n",
      "__________________________________________________________________________________________________\n",
      "ensemble_6_ensemble_6_ensemble_ (None, 31, 22, 16)   64          ensemble_6_ensemble_6_ensemble_6_\n",
      "__________________________________________________________________________________________________\n",
      "ensemble_7_ensemble_7_ensemble_ (None, 31, 22, 16)   2320        ensemble_7_ensemble_7_ensemble_7_\n",
      "__________________________________________________________________________________________________\n",
      "ensemble_8_ensemble_8_ensemble_ (None, 31, 22, 16)   0           ensemble_8_ensemble_8_ensemble_8_\n",
      "__________________________________________________________________________________________________\n",
      "ensemble_5_ensemble_5_ensemble_ (None, 31, 22, 16)   2320        ensemble_5_ensemble_5_ensemble_5_\n",
      "__________________________________________________________________________________________________\n",
      "ensemble_6_ensemble_6_ensemble_ (None, 31, 22, 16)   0           ensemble_6_ensemble_6_ensemble_6_\n",
      "__________________________________________________________________________________________________\n",
      "ensemble_7_ensemble_7_ensemble_ (None, 31, 22, 16)   0           ensemble_7_ensemble_7_ensemble_7_\n",
      "                                                                 ensemble_7_ensemble_7_ensemble_7_\n",
      "__________________________________________________________________________________________________\n",
      "ensemble_8_ensemble_8_ensemble_ (None, 31, 22, 16)   2320        ensemble_8_ensemble_8_ensemble_8_\n",
      "__________________________________________________________________________________________________\n",
      "ensemble_5_ensemble_5_ensemble_ (None, 31, 22, 16)   64          ensemble_5_ensemble_5_ensemble_5_\n",
      "__________________________________________________________________________________________________\n",
      "ensemble_6_ensemble_6_ensemble_ (None, 31, 22, 16)   2320        ensemble_6_ensemble_6_ensemble_6_\n",
      "__________________________________________________________________________________________________\n",
      "ensemble_7_ensemble_7_ensemble_ (None, 31, 22, 16)   64          ensemble_7_ensemble_7_ensemble_7_\n",
      "__________________________________________________________________________________________________\n",
      "ensemble_8_ensemble_8_ensemble_ (None, 31, 22, 16)   64          ensemble_8_ensemble_8_ensemble_8_\n",
      "__________________________________________________________________________________________________\n",
      "ensemble_5_ensemble_5_ensemble_ (None, 31, 22, 16)   0           ensemble_5_ensemble_5_ensemble_5_\n",
      "__________________________________________________________________________________________________\n",
      "ensemble_6_ensemble_6_ensemble_ (None, 31, 22, 16)   0           ensemble_6_ensemble_6_ensemble_6_\n",
      "                                                                 ensemble_6_ensemble_6_ensemble_6_\n",
      "__________________________________________________________________________________________________\n",
      "ensemble_7_ensemble_7_ensemble_ (None, 31, 22, 16)   0           ensemble_7_ensemble_7_ensemble_7_\n",
      "__________________________________________________________________________________________________\n",
      "ensemble_8_ensemble_8_ensemble_ (None, 31, 22, 16)   0           ensemble_8_ensemble_8_ensemble_8_\n",
      "__________________________________________________________________________________________________\n",
      "ensemble_5_ensemble_5_ensemble_ (None, 31, 22, 16)   2320        ensemble_5_ensemble_5_ensemble_5_\n",
      "__________________________________________________________________________________________________\n",
      "ensemble_6_ensemble_6_ensemble_ (None, 31, 22, 16)   64          ensemble_6_ensemble_6_ensemble_6_\n",
      "__________________________________________________________________________________________________\n",
      "ensemble_7_ensemble_7_ensemble_ (None, 31, 22, 16)   2320        ensemble_7_ensemble_7_ensemble_7_\n",
      "__________________________________________________________________________________________________\n",
      "ensemble_8_ensemble_8_ensemble_ (None, 31, 22, 16)   2320        ensemble_8_ensemble_8_ensemble_8_\n",
      "__________________________________________________________________________________________________\n",
      "ensemble_5_ensemble_5_ensemble_ (None, 31, 22, 16)   0           ensemble_5_ensemble_5_ensemble_5_\n",
      "                                                                 ensemble_5_ensemble_5_ensemble_5_\n",
      "__________________________________________________________________________________________________\n",
      "ensemble_6_ensemble_6_ensemble_ (None, 31, 22, 16)   0           ensemble_6_ensemble_6_ensemble_6_\n",
      "__________________________________________________________________________________________________\n",
      "ensemble_7_ensemble_7_ensemble_ (None, 31, 22, 16)   64          ensemble_7_ensemble_7_ensemble_7_\n",
      "__________________________________________________________________________________________________\n",
      "ensemble_8_ensemble_8_ensemble_ (None, 31, 22, 16)   0           ensemble_8_ensemble_8_ensemble_8_\n",
      "                                                                 ensemble_8_ensemble_8_ensemble_8_\n",
      "__________________________________________________________________________________________________\n",
      "ensemble_5_ensemble_5_ensemble_ (None, 31, 22, 16)   64          ensemble_5_ensemble_5_ensemble_5_\n",
      "__________________________________________________________________________________________________\n",
      "ensemble_6_ensemble_6_ensemble_ (None, 31, 22, 16)   2320        ensemble_6_ensemble_6_ensemble_6_\n",
      "__________________________________________________________________________________________________\n",
      "ensemble_7_ensemble_7_ensemble_ (None, 31, 22, 16)   0           ensemble_7_ensemble_7_ensemble_7_\n",
      "__________________________________________________________________________________________________\n",
      "ensemble_8_ensemble_8_ensemble_ (None, 31, 22, 16)   64          ensemble_8_ensemble_8_ensemble_8_\n",
      "__________________________________________________________________________________________________\n",
      "ensemble_5_ensemble_5_ensemble_ (None, 31, 22, 16)   0           ensemble_5_ensemble_5_ensemble_5_\n",
      "__________________________________________________________________________________________________\n",
      "ensemble_6_ensemble_6_ensemble_ (None, 31, 22, 16)   64          ensemble_6_ensemble_6_ensemble_6_\n",
      "__________________________________________________________________________________________________\n",
      "ensemble_7_ensemble_7_ensemble_ (None, 31, 22, 16)   2320        ensemble_7_ensemble_7_ensemble_7_\n",
      "__________________________________________________________________________________________________\n",
      "ensemble_8_ensemble_8_ensemble_ (None, 31, 22, 16)   0           ensemble_8_ensemble_8_ensemble_8_\n",
      "__________________________________________________________________________________________________\n",
      "ensemble_5_ensemble_5_ensemble_ (None, 31, 22, 16)   2320        ensemble_5_ensemble_5_ensemble_5_\n",
      "__________________________________________________________________________________________________\n",
      "ensemble_6_ensemble_6_ensemble_ (None, 31, 22, 16)   0           ensemble_6_ensemble_6_ensemble_6_\n",
      "__________________________________________________________________________________________________\n",
      "ensemble_7_ensemble_7_ensemble_ (None, 31, 22, 16)   0           ensemble_7_ensemble_7_ensemble_7_\n",
      "                                                                 ensemble_7_ensemble_7_ensemble_7_\n",
      "__________________________________________________________________________________________________\n",
      "ensemble_8_ensemble_8_ensemble_ (None, 31, 22, 16)   2320        ensemble_8_ensemble_8_ensemble_8_\n",
      "__________________________________________________________________________________________________\n",
      "ensemble_5_ensemble_5_ensemble_ (None, 31, 22, 16)   64          ensemble_5_ensemble_5_ensemble_5_\n",
      "__________________________________________________________________________________________________\n",
      "ensemble_6_ensemble_6_ensemble_ (None, 31, 22, 16)   2320        ensemble_6_ensemble_6_ensemble_6_\n",
      "__________________________________________________________________________________________________\n",
      "ensemble_7_ensemble_7_ensemble_ (None, 31, 22, 16)   64          ensemble_7_ensemble_7_ensemble_7_\n",
      "__________________________________________________________________________________________________\n",
      "ensemble_8_ensemble_8_ensemble_ (None, 31, 22, 16)   64          ensemble_8_ensemble_8_ensemble_8_\n",
      "__________________________________________________________________________________________________\n",
      "ensemble_5_ensemble_5_ensemble_ (None, 31, 22, 16)   0           ensemble_5_ensemble_5_ensemble_5_\n",
      "__________________________________________________________________________________________________\n",
      "ensemble_6_ensemble_6_ensemble_ (None, 31, 22, 16)   0           ensemble_6_ensemble_6_ensemble_6_\n",
      "                                                                 ensemble_6_ensemble_6_ensemble_6_\n",
      "__________________________________________________________________________________________________\n",
      "ensemble_7_ensemble_7_ensemble_ (None, 31, 22, 16)   0           ensemble_7_ensemble_7_ensemble_7_\n",
      "__________________________________________________________________________________________________\n",
      "ensemble_8_ensemble_8_ensemble_ (None, 31, 22, 16)   0           ensemble_8_ensemble_8_ensemble_8_\n",
      "__________________________________________________________________________________________________\n",
      "ensemble_5_ensemble_5_ensemble_ (None, 31, 22, 16)   2320        ensemble_5_ensemble_5_ensemble_5_\n",
      "__________________________________________________________________________________________________\n",
      "ensemble_6_ensemble_6_ensemble_ (None, 31, 22, 16)   64          ensemble_6_ensemble_6_ensemble_6_\n",
      "__________________________________________________________________________________________________\n",
      "ensemble_7_ensemble_7_ensemble_ (None, 31, 22, 16)   2320        ensemble_7_ensemble_7_ensemble_7_\n",
      "__________________________________________________________________________________________________\n",
      "ensemble_8_ensemble_8_ensemble_ (None, 31, 22, 16)   2320        ensemble_8_ensemble_8_ensemble_8_\n",
      "__________________________________________________________________________________________________\n",
      "ensemble_5_ensemble_5_ensemble_ (None, 31, 22, 16)   0           ensemble_5_ensemble_5_ensemble_5_\n",
      "                                                                 ensemble_5_ensemble_5_ensemble_5_\n",
      "__________________________________________________________________________________________________\n",
      "ensemble_6_ensemble_6_ensemble_ (None, 31, 22, 16)   0           ensemble_6_ensemble_6_ensemble_6_\n",
      "__________________________________________________________________________________________________\n",
      "ensemble_7_ensemble_7_ensemble_ (None, 31, 22, 16)   64          ensemble_7_ensemble_7_ensemble_7_\n",
      "__________________________________________________________________________________________________\n",
      "ensemble_8_ensemble_8_ensemble_ (None, 31, 22, 16)   0           ensemble_8_ensemble_8_ensemble_8_\n",
      "                                                                 ensemble_8_ensemble_8_ensemble_8_\n",
      "__________________________________________________________________________________________________\n",
      "ensemble_5_ensemble_5_ensemble_ (None, 31, 22, 16)   64          ensemble_5_ensemble_5_ensemble_5_\n",
      "__________________________________________________________________________________________________\n",
      "ensemble_6_ensemble_6_ensemble_ (None, 31, 22, 16)   2320        ensemble_6_ensemble_6_ensemble_6_\n",
      "__________________________________________________________________________________________________\n",
      "ensemble_7_ensemble_7_ensemble_ (None, 31, 22, 16)   0           ensemble_7_ensemble_7_ensemble_7_\n",
      "__________________________________________________________________________________________________\n",
      "ensemble_8_ensemble_8_ensemble_ (None, 31, 22, 16)   64          ensemble_8_ensemble_8_ensemble_8_\n",
      "__________________________________________________________________________________________________\n",
      "ensemble_5_ensemble_5_ensemble_ (None, 31, 22, 16)   0           ensemble_5_ensemble_5_ensemble_5_\n",
      "__________________________________________________________________________________________________\n",
      "ensemble_6_ensemble_6_ensemble_ (None, 31, 22, 16)   64          ensemble_6_ensemble_6_ensemble_6_\n",
      "__________________________________________________________________________________________________\n",
      "ensemble_7_ensemble_7_ensemble_ (None, 31, 22, 16)   2320        ensemble_7_ensemble_7_ensemble_7_\n",
      "__________________________________________________________________________________________________\n",
      "ensemble_8_ensemble_8_ensemble_ (None, 31, 22, 16)   0           ensemble_8_ensemble_8_ensemble_8_\n",
      "__________________________________________________________________________________________________\n",
      "ensemble_5_ensemble_5_ensemble_ (None, 31, 22, 16)   2320        ensemble_5_ensemble_5_ensemble_5_\n",
      "__________________________________________________________________________________________________\n",
      "ensemble_6_ensemble_6_ensemble_ (None, 31, 22, 16)   0           ensemble_6_ensemble_6_ensemble_6_\n",
      "__________________________________________________________________________________________________\n",
      "ensemble_7_ensemble_7_ensemble_ (None, 31, 22, 16)   0           ensemble_7_ensemble_7_ensemble_7_\n",
      "                                                                 ensemble_7_ensemble_7_ensemble_7_\n",
      "__________________________________________________________________________________________________\n",
      "ensemble_8_ensemble_8_ensemble_ (None, 31, 22, 16)   2320        ensemble_8_ensemble_8_ensemble_8_\n",
      "__________________________________________________________________________________________________\n",
      "ensemble_5_ensemble_5_ensemble_ (None, 31, 22, 16)   64          ensemble_5_ensemble_5_ensemble_5_\n",
      "__________________________________________________________________________________________________\n",
      "ensemble_6_ensemble_6_ensemble_ (None, 31, 22, 16)   2320        ensemble_6_ensemble_6_ensemble_6_\n",
      "__________________________________________________________________________________________________\n",
      "ensemble_7_ensemble_7_ensemble_ (None, 16, 11, 32)   4640        ensemble_7_ensemble_7_ensemble_7_\n",
      "__________________________________________________________________________________________________\n",
      "ensemble_8_ensemble_8_ensemble_ (None, 31, 22, 16)   64          ensemble_8_ensemble_8_ensemble_8_\n",
      "__________________________________________________________________________________________________\n",
      "ensemble_5_ensemble_5_ensemble_ (None, 31, 22, 16)   0           ensemble_5_ensemble_5_ensemble_5_\n",
      "__________________________________________________________________________________________________\n",
      "ensemble_6_ensemble_6_ensemble_ (None, 31, 22, 16)   0           ensemble_6_ensemble_6_ensemble_6_\n",
      "                                                                 ensemble_6_ensemble_6_ensemble_6_\n",
      "__________________________________________________________________________________________________\n",
      "ensemble_7_ensemble_7_ensemble_ (None, 16, 11, 32)   128         ensemble_7_ensemble_7_ensemble_7_\n",
      "__________________________________________________________________________________________________\n",
      "ensemble_8_ensemble_8_ensemble_ (None, 31, 22, 16)   0           ensemble_8_ensemble_8_ensemble_8_\n",
      "__________________________________________________________________________________________________\n",
      "ensemble_5_ensemble_5_ensemble_ (None, 31, 22, 16)   2320        ensemble_5_ensemble_5_ensemble_5_\n",
      "__________________________________________________________________________________________________\n",
      "ensemble_6_ensemble_6_ensemble_ (None, 16, 11, 32)   4640        ensemble_6_ensemble_6_ensemble_6_\n",
      "__________________________________________________________________________________________________\n",
      "ensemble_7_ensemble_7_ensemble_ (None, 16, 11, 32)   0           ensemble_7_ensemble_7_ensemble_7_\n",
      "__________________________________________________________________________________________________\n",
      "ensemble_8_ensemble_8_ensemble_ (None, 31, 22, 16)   2320        ensemble_8_ensemble_8_ensemble_8_\n",
      "__________________________________________________________________________________________________\n",
      "ensemble_5_ensemble_5_ensemble_ (None, 31, 22, 16)   0           ensemble_5_ensemble_5_ensemble_5_\n",
      "                                                                 ensemble_5_ensemble_5_ensemble_5_\n",
      "__________________________________________________________________________________________________\n",
      "ensemble_6_ensemble_6_ensemble_ (None, 16, 11, 32)   128         ensemble_6_ensemble_6_ensemble_6_\n",
      "__________________________________________________________________________________________________\n",
      "ensemble_7_ensemble_7_ensemble_ (None, 16, 11, 32)   9248        ensemble_7_ensemble_7_ensemble_7_\n",
      "__________________________________________________________________________________________________\n",
      "ensemble_8_ensemble_8_ensemble_ (None, 31, 22, 16)   0           ensemble_8_ensemble_8_ensemble_8_\n",
      "                                                                 ensemble_8_ensemble_8_ensemble_8_\n",
      "__________________________________________________________________________________________________\n",
      "ensemble_5_ensemble_5_ensemble_ (None, 16, 11, 32)   4640        ensemble_5_ensemble_5_ensemble_5_\n",
      "__________________________________________________________________________________________________\n",
      "ensemble_6_ensemble_6_ensemble_ (None, 16, 11, 32)   0           ensemble_6_ensemble_6_ensemble_6_\n",
      "__________________________________________________________________________________________________\n",
      "ensemble_7_ensemble_7_ensemble_ (None, 16, 11, 32)   128         ensemble_7_ensemble_7_ensemble_7_\n",
      "__________________________________________________________________________________________________\n",
      "ensemble_8_ensemble_8_ensemble_ (None, 16, 11, 32)   4640        ensemble_8_ensemble_8_ensemble_8_\n",
      "__________________________________________________________________________________________________\n",
      "ensemble_5_ensemble_5_ensemble_ (None, 16, 11, 32)   128         ensemble_5_ensemble_5_ensemble_5_\n",
      "__________________________________________________________________________________________________\n",
      "ensemble_6_ensemble_6_ensemble_ (None, 16, 11, 32)   9248        ensemble_6_ensemble_6_ensemble_6_\n",
      "__________________________________________________________________________________________________\n",
      "ensemble_7_ensemble_7_ensemble_ (None, 16, 11, 32)   0           ensemble_7_ensemble_7_ensemble_7_\n",
      "__________________________________________________________________________________________________\n",
      "ensemble_8_ensemble_8_ensemble_ (None, 16, 11, 32)   128         ensemble_8_ensemble_8_ensemble_8_\n",
      "__________________________________________________________________________________________________\n",
      "ensemble_5_ensemble_5_ensemble_ (None, 16, 11, 32)   0           ensemble_5_ensemble_5_ensemble_5_\n",
      "__________________________________________________________________________________________________\n",
      "ensemble_6_ensemble_6_ensemble_ (None, 16, 11, 32)   128         ensemble_6_ensemble_6_ensemble_6_\n",
      "__________________________________________________________________________________________________\n",
      "ensemble_7_ensemble_7_ensemble_ (None, 16, 11, 32)   9248        ensemble_7_ensemble_7_ensemble_7_\n",
      "__________________________________________________________________________________________________\n",
      "ensemble_8_ensemble_8_ensemble_ (None, 16, 11, 32)   0           ensemble_8_ensemble_8_ensemble_8_\n",
      "__________________________________________________________________________________________________\n",
      "ensemble_5_ensemble_5_ensemble_ (None, 16, 11, 32)   9248        ensemble_5_ensemble_5_ensemble_5_\n",
      "__________________________________________________________________________________________________\n",
      "ensemble_6_ensemble_6_ensemble_ (None, 16, 11, 32)   0           ensemble_6_ensemble_6_ensemble_6_\n",
      "__________________________________________________________________________________________________\n",
      "ensemble_7_ensemble_7_ensemble_ (None, 16, 11, 32)   0           ensemble_7_ensemble_7_ensemble_7_\n",
      "                                                                 ensemble_7_ensemble_7_ensemble_7_\n",
      "__________________________________________________________________________________________________\n",
      "ensemble_8_ensemble_8_ensemble_ (None, 16, 11, 32)   9248        ensemble_8_ensemble_8_ensemble_8_\n",
      "__________________________________________________________________________________________________\n",
      "ensemble_5_ensemble_5_ensemble_ (None, 16, 11, 32)   128         ensemble_5_ensemble_5_ensemble_5_\n",
      "__________________________________________________________________________________________________\n",
      "ensemble_6_ensemble_6_ensemble_ (None, 16, 11, 32)   9248        ensemble_6_ensemble_6_ensemble_6_\n",
      "__________________________________________________________________________________________________\n",
      "ensemble_7_ensemble_7_ensemble_ (None, 16, 11, 32)   128         ensemble_7_ensemble_7_ensemble_7_\n",
      "__________________________________________________________________________________________________\n",
      "ensemble_8_ensemble_8_ensemble_ (None, 16, 11, 32)   128         ensemble_8_ensemble_8_ensemble_8_\n",
      "__________________________________________________________________________________________________\n",
      "ensemble_3_ensemble_3_ensemble_ [(None, 122, 85, 1)] 0                                            \n",
      "__________________________________________________________________________________________________\n",
      "ensemble_5_ensemble_5_ensemble_ (None, 16, 11, 32)   0           ensemble_5_ensemble_5_ensemble_5_\n",
      "__________________________________________________________________________________________________\n",
      "ensemble_6_ensemble_6_ensemble_ (None, 16, 11, 32)   0           ensemble_6_ensemble_6_ensemble_6_\n",
      "                                                                 ensemble_6_ensemble_6_ensemble_6_\n",
      "__________________________________________________________________________________________________\n",
      "ensemble_7_ensemble_7_ensemble_ (None, 16, 11, 32)   0           ensemble_7_ensemble_7_ensemble_7_\n",
      "__________________________________________________________________________________________________\n",
      "ensemble_8_ensemble_8_ensemble_ (None, 16, 11, 32)   0           ensemble_8_ensemble_8_ensemble_8_\n",
      "__________________________________________________________________________________________________\n",
      "ensemble_3_ensemble_3_ensemble_ (None, 122, 85, 1)   340         ensemble_3_ensemble_3_ensemble_3_\n",
      "__________________________________________________________________________________________________\n",
      "ensemble_5_ensemble_5_ensemble_ (None, 16, 11, 32)   9248        ensemble_5_ensemble_5_ensemble_5_\n",
      "__________________________________________________________________________________________________\n",
      "ensemble_6_ensemble_6_ensemble_ (None, 16, 11, 32)   128         ensemble_6_ensemble_6_ensemble_6_\n",
      "__________________________________________________________________________________________________\n",
      "ensemble_7_ensemble_7_ensemble_ (None, 16, 11, 32)   9248        ensemble_7_ensemble_7_ensemble_7_\n",
      "__________________________________________________________________________________________________\n",
      "ensemble_8_ensemble_8_ensemble_ (None, 16, 11, 32)   9248        ensemble_8_ensemble_8_ensemble_8_\n",
      "__________________________________________________________________________________________________\n",
      "ensemble_3_ensemble_3_ensemble_ (None, 61, 43, 32)   14432       ensemble_3_ensemble_3_ensemble_3_\n",
      "__________________________________________________________________________________________________\n",
      "ensemble_5_ensemble_5_ensemble_ (None, 16, 11, 32)   0           ensemble_5_ensemble_5_ensemble_5_\n",
      "                                                                 ensemble_5_ensemble_5_ensemble_5_\n",
      "__________________________________________________________________________________________________\n",
      "ensemble_6_ensemble_6_ensemble_ (None, 16, 11, 32)   0           ensemble_6_ensemble_6_ensemble_6_\n",
      "__________________________________________________________________________________________________\n",
      "ensemble_7_ensemble_7_ensemble_ (None, 16, 11, 32)   128         ensemble_7_ensemble_7_ensemble_7_\n",
      "__________________________________________________________________________________________________\n",
      "ensemble_8_ensemble_8_ensemble_ (None, 16, 11, 32)   0           ensemble_8_ensemble_8_ensemble_8_\n",
      "                                                                 ensemble_8_ensemble_8_ensemble_8_\n",
      "__________________________________________________________________________________________________\n",
      "ensemble_1_ensemble_1_ensemble_ [(None, 122, 85, 1)] 0                                            \n",
      "__________________________________________________________________________________________________\n",
      "ensemble_2_ensemble_2_ensemble_ [(None, 122, 85, 1)] 0                                            \n",
      "__________________________________________________________________________________________________\n",
      "ensemble_3_ensemble_3_ensemble_ (None, 61, 43, 32)   128         ensemble_3_ensemble_3_ensemble_3_\n",
      "__________________________________________________________________________________________________\n",
      "ensemble_4_ensemble_4_ensemble_ [(None, 122, 85, 1)] 0                                            \n",
      "__________________________________________________________________________________________________\n",
      "ensemble_5_ensemble_5_ensemble_ (None, 16, 11, 32)   128         ensemble_5_ensemble_5_ensemble_5_\n",
      "__________________________________________________________________________________________________\n",
      "ensemble_6_ensemble_6_ensemble_ (None, 16, 11, 32)   9248        ensemble_6_ensemble_6_ensemble_6_\n",
      "__________________________________________________________________________________________________\n",
      "ensemble_7_ensemble_7_ensemble_ (None, 16, 11, 32)   0           ensemble_7_ensemble_7_ensemble_7_\n",
      "__________________________________________________________________________________________________\n",
      "ensemble_8_ensemble_8_ensemble_ (None, 16, 11, 32)   128         ensemble_8_ensemble_8_ensemble_8_\n",
      "__________________________________________________________________________________________________\n",
      "ensemble_9_ensemble_9_ensemble_ [(None, 122, 85, 1)] 0                                            \n",
      "__________________________________________________________________________________________________\n",
      "ensemble_1_ensemble_1_ensemble_ (None, 122, 85, 1)   340         ensemble_1_ensemble_1_ensemble_1_\n",
      "__________________________________________________________________________________________________\n",
      "ensemble_2_ensemble_2_ensemble_ (None, 122, 85, 1)   340         ensemble_2_ensemble_2_ensemble_2_\n",
      "__________________________________________________________________________________________________\n",
      "ensemble_3_ensemble_3_ensemble_ (None, 61, 43, 32)   0           ensemble_3_ensemble_3_ensemble_3_\n",
      "__________________________________________________________________________________________________\n",
      "ensemble_4_ensemble_4_ensemble_ (None, 122, 85, 1)   340         ensemble_4_ensemble_4_ensemble_4_\n",
      "__________________________________________________________________________________________________\n",
      "ensemble_5_ensemble_5_ensemble_ (None, 16, 11, 32)   0           ensemble_5_ensemble_5_ensemble_5_\n",
      "__________________________________________________________________________________________________\n",
      "ensemble_6_ensemble_6_ensemble_ (None, 16, 11, 32)   128         ensemble_6_ensemble_6_ensemble_6_\n",
      "__________________________________________________________________________________________________\n",
      "ensemble_7_ensemble_7_ensemble_ (None, 16, 11, 32)   9248        ensemble_7_ensemble_7_ensemble_7_\n",
      "__________________________________________________________________________________________________\n",
      "ensemble_8_ensemble_8_ensemble_ (None, 16, 11, 32)   0           ensemble_8_ensemble_8_ensemble_8_\n",
      "__________________________________________________________________________________________________\n",
      "ensemble_9_ensemble_9_ensemble_ (None, 122, 85, 1)   340         ensemble_9_ensemble_9_ensemble_9_\n",
      "__________________________________________________________________________________________________\n",
      "ensemble_1_ensemble_1_ensemble_ (None, 61, 43, 32)   14432       ensemble_1_ensemble_1_ensemble_1_\n",
      "__________________________________________________________________________________________________\n",
      "ensemble_2_ensemble_2_ensemble_ (None, 61, 43, 32)   14432       ensemble_2_ensemble_2_ensemble_2_\n",
      "__________________________________________________________________________________________________\n",
      "ensemble_3_ensemble_3_ensemble_ (None, 61, 22, 32)   236544      ensemble_3_ensemble_3_ensemble_3_\n",
      "__________________________________________________________________________________________________\n",
      "ensemble_4_ensemble_4_ensemble_ (None, 61, 43, 32)   14432       ensemble_4_ensemble_4_ensemble_4_\n",
      "__________________________________________________________________________________________________\n",
      "ensemble_5_ensemble_5_ensemble_ (None, 16, 11, 32)   9248        ensemble_5_ensemble_5_ensemble_5_\n",
      "__________________________________________________________________________________________________\n",
      "ensemble_6_ensemble_6_ensemble_ (None, 16, 11, 32)   0           ensemble_6_ensemble_6_ensemble_6_\n",
      "__________________________________________________________________________________________________\n",
      "ensemble_7_ensemble_7_ensemble_ (None, 16, 11, 32)   0           ensemble_7_ensemble_7_ensemble_7_\n",
      "                                                                 ensemble_7_ensemble_7_ensemble_7_\n",
      "__________________________________________________________________________________________________\n",
      "ensemble_8_ensemble_8_ensemble_ (None, 16, 11, 32)   9248        ensemble_8_ensemble_8_ensemble_8_\n",
      "__________________________________________________________________________________________________\n",
      "ensemble_9_ensemble_9_ensemble_ (None, 61, 43, 32)   14432       ensemble_9_ensemble_9_ensemble_9_\n",
      "__________________________________________________________________________________________________\n",
      "ensemble_1_ensemble_1_ensemble_ (None, 61, 43, 32)   128         ensemble_1_ensemble_1_ensemble_1_\n",
      "__________________________________________________________________________________________________\n",
      "ensemble_2_ensemble_2_ensemble_ (None, 61, 43, 32)   128         ensemble_2_ensemble_2_ensemble_2_\n",
      "__________________________________________________________________________________________________\n",
      "ensemble_3_ensemble_3_ensemble_ (None, 61, 22, 32)   128         ensemble_3_ensemble_3_ensemble_3_\n",
      "__________________________________________________________________________________________________\n",
      "ensemble_4_ensemble_4_ensemble_ (None, 61, 43, 32)   128         ensemble_4_ensemble_4_ensemble_4_\n",
      "__________________________________________________________________________________________________\n",
      "ensemble_5_ensemble_5_ensemble_ (None, 16, 11, 32)   128         ensemble_5_ensemble_5_ensemble_5_\n",
      "__________________________________________________________________________________________________\n",
      "ensemble_6_ensemble_6_ensemble_ (None, 16, 11, 32)   9248        ensemble_6_ensemble_6_ensemble_6_\n",
      "__________________________________________________________________________________________________\n",
      "ensemble_7_ensemble_7_ensemble_ (None, 16, 11, 32)   128         ensemble_7_ensemble_7_ensemble_7_\n",
      "__________________________________________________________________________________________________\n",
      "ensemble_8_ensemble_8_ensemble_ (None, 16, 11, 32)   128         ensemble_8_ensemble_8_ensemble_8_\n",
      "__________________________________________________________________________________________________\n",
      "ensemble_9_ensemble_9_ensemble_ (None, 61, 43, 32)   128         ensemble_9_ensemble_9_ensemble_9_\n",
      "__________________________________________________________________________________________________\n",
      "ensemble_1_ensemble_1_ensemble_ (None, 61, 43, 32)   0           ensemble_1_ensemble_1_ensemble_1_\n",
      "__________________________________________________________________________________________________\n",
      "ensemble_2_ensemble_2_ensemble_ (None, 61, 43, 32)   0           ensemble_2_ensemble_2_ensemble_2_\n",
      "__________________________________________________________________________________________________\n",
      "ensemble_3_ensemble_3_ensemble_ (None, 61, 22, 32)   0           ensemble_3_ensemble_3_ensemble_3_\n",
      "__________________________________________________________________________________________________\n",
      "ensemble_4_ensemble_4_ensemble_ (None, 61, 43, 32)   0           ensemble_4_ensemble_4_ensemble_4_\n",
      "__________________________________________________________________________________________________\n",
      "ensemble_5_ensemble_5_ensemble_ (None, 16, 11, 32)   0           ensemble_5_ensemble_5_ensemble_5_\n",
      "__________________________________________________________________________________________________\n",
      "ensemble_6_ensemble_6_ensemble_ (None, 16, 11, 32)   0           ensemble_6_ensemble_6_ensemble_6_\n",
      "                                                                 ensemble_6_ensemble_6_ensemble_6_\n",
      "__________________________________________________________________________________________________\n",
      "ensemble_7_ensemble_7_ensemble_ (None, 16, 11, 32)   0           ensemble_7_ensemble_7_ensemble_7_\n",
      "__________________________________________________________________________________________________\n",
      "ensemble_8_ensemble_8_ensemble_ (None, 16, 11, 32)   0           ensemble_8_ensemble_8_ensemble_8_\n",
      "__________________________________________________________________________________________________\n",
      "ensemble_9_ensemble_9_ensemble_ (None, 61, 43, 32)   0           ensemble_9_ensemble_9_ensemble_9_\n",
      "__________________________________________________________________________________________________\n",
      "ensemble_1_ensemble_1_ensemble_ (None, 61, 22, 32)   236544      ensemble_1_ensemble_1_ensemble_1_\n",
      "__________________________________________________________________________________________________\n",
      "ensemble_2_ensemble_2_ensemble_ (None, 61, 22, 32)   236544      ensemble_2_ensemble_2_ensemble_2_\n",
      "__________________________________________________________________________________________________\n",
      "ensemble_3_ensemble_3_ensemble_ (None, 61, 704)      0           ensemble_3_ensemble_3_ensemble_3_\n",
      "__________________________________________________________________________________________________\n",
      "ensemble_4_ensemble_4_ensemble_ (None, 61, 22, 32)   236544      ensemble_4_ensemble_4_ensemble_4_\n",
      "__________________________________________________________________________________________________\n",
      "ensemble_5_ensemble_5_ensemble_ (None, 16, 11, 32)   9248        ensemble_5_ensemble_5_ensemble_5_\n",
      "__________________________________________________________________________________________________\n",
      "ensemble_6_ensemble_6_ensemble_ (None, 16, 11, 32)   128         ensemble_6_ensemble_6_ensemble_6_\n",
      "__________________________________________________________________________________________________\n",
      "ensemble_7_ensemble_7_ensemble_ (None, 16, 11, 32)   9248        ensemble_7_ensemble_7_ensemble_7_\n",
      "__________________________________________________________________________________________________\n",
      "ensemble_8_ensemble_8_ensemble_ (None, 16, 11, 32)   9248        ensemble_8_ensemble_8_ensemble_8_\n",
      "__________________________________________________________________________________________________\n",
      "ensemble_9_ensemble_9_ensemble_ (None, 61, 22, 32)   236544      ensemble_9_ensemble_9_ensemble_9_\n",
      "__________________________________________________________________________________________________\n",
      "ensemble_1_ensemble_1_ensemble_ (None, 61, 22, 32)   128         ensemble_1_ensemble_1_ensemble_1_\n",
      "__________________________________________________________________________________________________\n",
      "ensemble_2_ensemble_2_ensemble_ (None, 61, 22, 32)   128         ensemble_2_ensemble_2_ensemble_2_\n",
      "__________________________________________________________________________________________________\n",
      "ensemble_3_ensemble_3_ensemble_ [(None, 61, 256), (N 640512      ensemble_3_ensemble_3_ensemble_3_\n",
      "__________________________________________________________________________________________________\n",
      "ensemble_4_ensemble_4_ensemble_ (None, 61, 22, 32)   128         ensemble_4_ensemble_4_ensemble_4_\n",
      "__________________________________________________________________________________________________\n",
      "ensemble_5_ensemble_5_ensemble_ (None, 16, 11, 32)   0           ensemble_5_ensemble_5_ensemble_5_\n",
      "                                                                 ensemble_5_ensemble_5_ensemble_5_\n",
      "__________________________________________________________________________________________________\n",
      "ensemble_6_ensemble_6_ensemble_ (None, 16, 11, 32)   0           ensemble_6_ensemble_6_ensemble_6_\n",
      "__________________________________________________________________________________________________\n",
      "ensemble_7_ensemble_7_ensemble_ (None, 16, 11, 32)   128         ensemble_7_ensemble_7_ensemble_7_\n",
      "__________________________________________________________________________________________________\n",
      "ensemble_8_ensemble_8_ensemble_ (None, 16, 11, 32)   0           ensemble_8_ensemble_8_ensemble_8_\n",
      "                                                                 ensemble_8_ensemble_8_ensemble_8_\n",
      "__________________________________________________________________________________________________\n",
      "ensemble_9_ensemble_9_ensemble_ (None, 61, 22, 32)   128         ensemble_9_ensemble_9_ensemble_9_\n",
      "__________________________________________________________________________________________________\n",
      "ensemble_1_ensemble_1_ensemble_ (None, 61, 22, 32)   0           ensemble_1_ensemble_1_ensemble_1_\n",
      "__________________________________________________________________________________________________\n",
      "ensemble_2_ensemble_2_ensemble_ (None, 61, 22, 32)   0           ensemble_2_ensemble_2_ensemble_2_\n",
      "__________________________________________________________________________________________________\n",
      "ensemble_3_ensemble_3_ensemble_ [(None, 61, 256), (N 640512      ensemble_3_ensemble_3_ensemble_3_\n",
      "                                                                 ensemble_3_ensemble_3_ensemble_3_\n",
      "                                                                 ensemble_3_ensemble_3_ensemble_3_\n",
      "__________________________________________________________________________________________________\n",
      "ensemble_4_ensemble_4_ensemble_ (None, 61, 22, 32)   0           ensemble_4_ensemble_4_ensemble_4_\n",
      "__________________________________________________________________________________________________\n",
      "ensemble_5_ensemble_5_ensemble_ (None, 16, 11, 32)   128         ensemble_5_ensemble_5_ensemble_5_\n",
      "__________________________________________________________________________________________________\n",
      "ensemble_6_ensemble_6_ensemble_ (None, 16, 11, 32)   9248        ensemble_6_ensemble_6_ensemble_6_\n",
      "__________________________________________________________________________________________________\n",
      "ensemble_7_ensemble_7_ensemble_ (None, 16, 11, 32)   0           ensemble_7_ensemble_7_ensemble_7_\n",
      "__________________________________________________________________________________________________\n",
      "ensemble_8_ensemble_8_ensemble_ (None, 16, 11, 32)   128         ensemble_8_ensemble_8_ensemble_8_\n",
      "__________________________________________________________________________________________________\n",
      "ensemble_9_ensemble_9_ensemble_ (None, 61, 22, 32)   0           ensemble_9_ensemble_9_ensemble_9_\n",
      "__________________________________________________________________________________________________\n",
      "ensemble_1_ensemble_1_ensemble_ (None, 61, 704)      0           ensemble_1_ensemble_1_ensemble_1_\n",
      "__________________________________________________________________________________________________\n",
      "ensemble_2_ensemble_2_ensemble_ (None, 61, 704)      0           ensemble_2_ensemble_2_ensemble_2_\n",
      "__________________________________________________________________________________________________\n",
      "ensemble_3_ensemble_3_ensemble_ (None, 61, 61)       0           ensemble_3_ensemble_3_ensemble_3_\n",
      "                                                                 ensemble_3_ensemble_3_ensemble_3_\n",
      "__________________________________________________________________________________________________\n",
      "ensemble_4_ensemble_4_ensemble_ (None, 61, 704)      0           ensemble_4_ensemble_4_ensemble_4_\n",
      "__________________________________________________________________________________________________\n",
      "ensemble_5_ensemble_5_ensemble_ (None, 16, 11, 32)   0           ensemble_5_ensemble_5_ensemble_5_\n",
      "__________________________________________________________________________________________________\n",
      "ensemble_6_ensemble_6_ensemble_ (None, 16, 11, 32)   128         ensemble_6_ensemble_6_ensemble_6_\n",
      "__________________________________________________________________________________________________\n",
      "ensemble_7_ensemble_7_ensemble_ (None, 16, 11, 32)   9248        ensemble_7_ensemble_7_ensemble_7_\n",
      "__________________________________________________________________________________________________\n",
      "ensemble_8_ensemble_8_ensemble_ (None, 16, 11, 32)   0           ensemble_8_ensemble_8_ensemble_8_\n",
      "__________________________________________________________________________________________________\n",
      "ensemble_9_ensemble_9_ensemble_ (None, 61, 704)      0           ensemble_9_ensemble_9_ensemble_9_\n",
      "__________________________________________________________________________________________________\n",
      "ensemble_1_ensemble_1_ensemble_ (None, 61, 1024)     3741696     ensemble_1_ensemble_1_ensemble_1_\n",
      "__________________________________________________________________________________________________\n",
      "ensemble_2_ensemble_2_ensemble_ (None, 61, 1024)     3741696     ensemble_2_ensemble_2_ensemble_2_\n",
      "__________________________________________________________________________________________________\n",
      "ensemble_3_ensemble_3_ensemble_ (None, 61, 61)       0           ensemble_3_ensemble_3_ensemble_3_\n",
      "__________________________________________________________________________________________________\n",
      "ensemble_4_ensemble_4_ensemble_ (None, 61, 1024)     3741696     ensemble_4_ensemble_4_ensemble_4_\n",
      "__________________________________________________________________________________________________\n",
      "ensemble_5_ensemble_5_ensemble_ (None, 16, 11, 32)   9248        ensemble_5_ensemble_5_ensemble_5_\n",
      "__________________________________________________________________________________________________\n",
      "ensemble_6_ensemble_6_ensemble_ (None, 16, 11, 32)   0           ensemble_6_ensemble_6_ensemble_6_\n",
      "__________________________________________________________________________________________________\n",
      "ensemble_7_ensemble_7_ensemble_ (None, 16, 11, 32)   0           ensemble_7_ensemble_7_ensemble_7_\n",
      "                                                                 ensemble_7_ensemble_7_ensemble_7_\n",
      "__________________________________________________________________________________________________\n",
      "ensemble_8_ensemble_8_ensemble_ (None, 16, 11, 32)   9248        ensemble_8_ensemble_8_ensemble_8_\n",
      "__________________________________________________________________________________________________\n",
      "ensemble_9_ensemble_9_ensemble_ (None, 61, 1024)     3741696     ensemble_9_ensemble_9_ensemble_9_\n",
      "__________________________________________________________________________________________________\n",
      "ensemble_1_ensemble_1_ensemble_ (None, 61, 1024)     0           ensemble_1_ensemble_1_ensemble_1_\n",
      "__________________________________________________________________________________________________\n",
      "ensemble_2_ensemble_2_ensemble_ (None, 61, 1024)     0           ensemble_2_ensemble_2_ensemble_2_\n",
      "__________________________________________________________________________________________________\n",
      "ensemble_3_ensemble_3_ensemble_ (None, 61, 256)      0           ensemble_3_ensemble_3_ensemble_3_\n",
      "                                                                 ensemble_3_ensemble_3_ensemble_3_\n",
      "__________________________________________________________________________________________________\n",
      "ensemble_4_ensemble_4_ensemble_ (None, 61, 1024)     0           ensemble_4_ensemble_4_ensemble_4_\n",
      "__________________________________________________________________________________________________\n",
      "ensemble_5_ensemble_5_ensemble_ (None, 16, 11, 32)   128         ensemble_5_ensemble_5_ensemble_5_\n",
      "__________________________________________________________________________________________________\n",
      "ensemble_6_ensemble_6_ensemble_ (None, 16, 11, 32)   9248        ensemble_6_ensemble_6_ensemble_6_\n",
      "__________________________________________________________________________________________________\n",
      "ensemble_7_ensemble_7_ensemble_ (None, 16, 352)      0           ensemble_7_ensemble_7_ensemble_7_\n",
      "__________________________________________________________________________________________________\n",
      "ensemble_8_ensemble_8_ensemble_ (None, 16, 11, 32)   128         ensemble_8_ensemble_8_ensemble_8_\n",
      "__________________________________________________________________________________________________\n",
      "ensemble_9_ensemble_9_ensemble_ (None, 61, 1024)     0           ensemble_9_ensemble_9_ensemble_9_\n",
      "__________________________________________________________________________________________________\n",
      "ensemble_1_ensemble_1_ensemble_ (None, 61, 1024)     4724736     ensemble_1_ensemble_1_ensemble_1_\n",
      "__________________________________________________________________________________________________\n",
      "ensemble_2_ensemble_2_ensemble_ (None, 61, 1024)     4724736     ensemble_2_ensemble_2_ensemble_2_\n",
      "__________________________________________________________________________________________________\n",
      "ensemble_3_ensemble_3_ensemble_ (None, 61, 512)      0           ensemble_3_ensemble_3_ensemble_3_\n",
      "                                                                 ensemble_3_ensemble_3_ensemble_3_\n",
      "__________________________________________________________________________________________________\n",
      "ensemble_4_ensemble_4_ensemble_ (None, 61, 1024)     4724736     ensemble_4_ensemble_4_ensemble_4_\n",
      "__________________________________________________________________________________________________\n",
      "ensemble_5_ensemble_5_ensemble_ (None, 16, 11, 32)   0           ensemble_5_ensemble_5_ensemble_5_\n",
      "__________________________________________________________________________________________________\n",
      "ensemble_6_ensemble_6_ensemble_ (None, 16, 11, 32)   0           ensemble_6_ensemble_6_ensemble_6_\n",
      "                                                                 ensemble_6_ensemble_6_ensemble_6_\n",
      "__________________________________________________________________________________________________\n",
      "ensemble_7_ensemble_7_ensemble_ (None, 16, 512)      1247232     ensemble_7_ensemble_7_ensemble_7_\n",
      "__________________________________________________________________________________________________\n",
      "ensemble_8_ensemble_8_ensemble_ (None, 16, 11, 32)   0           ensemble_8_ensemble_8_ensemble_8_\n",
      "__________________________________________________________________________________________________\n",
      "ensemble_9_ensemble_9_ensemble_ (None, 61, 1024)     4724736     ensemble_9_ensemble_9_ensemble_9_\n",
      "__________________________________________________________________________________________________\n",
      "ensemble_1_ensemble_1_ensemble_ (None, 62464)        0           ensemble_1_ensemble_1_ensemble_1_\n",
      "__________________________________________________________________________________________________\n",
      "ensemble_2_ensemble_2_ensemble_ (None, 62464)        0           ensemble_2_ensemble_2_ensemble_2_\n",
      "__________________________________________________________________________________________________\n",
      "ensemble_3_ensemble_3_ensemble_ (None, 31232)        0           ensemble_3_ensemble_3_ensemble_3_\n",
      "__________________________________________________________________________________________________\n",
      "ensemble_4_ensemble_4_ensemble_ (None, 62464)        0           ensemble_4_ensemble_4_ensemble_4_\n",
      "__________________________________________________________________________________________________\n",
      "ensemble_5_ensemble_5_ensemble_ (None, 16, 11, 32)   9248        ensemble_5_ensemble_5_ensemble_5_\n",
      "__________________________________________________________________________________________________\n",
      "ensemble_6_ensemble_6_ensemble_ (None, 32)           0           ensemble_6_ensemble_6_ensemble_6_\n",
      "__________________________________________________________________________________________________\n",
      "ensemble_7_ensemble_7_ensemble_ (None, 16, 512)      1574912     ensemble_7_ensemble_7_ensemble_7_\n",
      "__________________________________________________________________________________________________\n",
      "ensemble_8_ensemble_8_ensemble_ (None, 16, 11, 32)   9248        ensemble_8_ensemble_8_ensemble_8_\n",
      "__________________________________________________________________________________________________\n",
      "ensemble_9_ensemble_9_ensemble_ (None, 62464)        0           ensemble_9_ensemble_9_ensemble_9_\n",
      "__________________________________________________________________________________________________\n",
      "ensemble_1_ensemble_1_ensemble_ (None, 32)           1998880     ensemble_1_ensemble_1_ensemble_1_\n",
      "__________________________________________________________________________________________________\n",
      "ensemble_2_ensemble_2_ensemble_ (None, 32)           1998880     ensemble_2_ensemble_2_ensemble_2_\n",
      "__________________________________________________________________________________________________\n",
      "ensemble_3_ensemble_3_ensemble_ (None, 256)          7995648     ensemble_3_ensemble_3_ensemble_3_\n",
      "__________________________________________________________________________________________________\n",
      "ensemble_4_ensemble_4_ensemble_ (None, 32)           1998880     ensemble_4_ensemble_4_ensemble_4_\n",
      "__________________________________________________________________________________________________\n",
      "ensemble_5_ensemble_5_ensemble_ (None, 16, 11, 32)   0           ensemble_5_ensemble_5_ensemble_5_\n",
      "                                                                 ensemble_5_ensemble_5_ensemble_5_\n",
      "__________________________________________________________________________________________________\n",
      "ensemble_6_ensemble_6_ensemble_ (None, 128)          4224        ensemble_6_ensemble_6_ensemble_6_\n",
      "__________________________________________________________________________________________________\n",
      "ensemble_7_ensemble_7_ensemble_ (None, 8192)         0           ensemble_7_ensemble_7_ensemble_7_\n",
      "__________________________________________________________________________________________________\n",
      "ensemble_8_ensemble_8_ensemble_ (None, 16, 11, 32)   0           ensemble_8_ensemble_8_ensemble_8_\n",
      "                                                                 ensemble_8_ensemble_8_ensemble_8_\n",
      "__________________________________________________________________________________________________\n",
      "ensemble_9_ensemble_9_ensemble_ (None, 32)           1998880     ensemble_9_ensemble_9_ensemble_9_\n",
      "__________________________________________________________________________________________________\n",
      "ensemble_1_ensemble_1_ensemble_ (None, 32)           0           ensemble_1_ensemble_1_ensemble_1_\n",
      "__________________________________________________________________________________________________\n",
      "ensemble_2_ensemble_2_ensemble_ (None, 32)           0           ensemble_2_ensemble_2_ensemble_2_\n",
      "__________________________________________________________________________________________________\n",
      "ensemble_3_ensemble_3_ensemble_ (None, 256)          0           ensemble_3_ensemble_3_ensemble_3_\n",
      "__________________________________________________________________________________________________\n",
      "ensemble_4_ensemble_4_ensemble_ (None, 32)           0           ensemble_4_ensemble_4_ensemble_4_\n",
      "__________________________________________________________________________________________________\n",
      "ensemble_5_ensemble_5_ensemble_ (None, 32)           0           ensemble_5_ensemble_5_ensemble_5_\n",
      "__________________________________________________________________________________________________\n",
      "ensemble_6_ensemble_6_ensemble_ (None, 128)          0           ensemble_6_ensemble_6_ensemble_6_\n",
      "__________________________________________________________________________________________________\n",
      "ensemble_7_ensemble_7_ensemble_ (None, 256)          2097408     ensemble_7_ensemble_7_ensemble_7_\n",
      "__________________________________________________________________________________________________\n",
      "ensemble_8_ensemble_8_ensemble_ (None, 32)           0           ensemble_8_ensemble_8_ensemble_8_\n",
      "__________________________________________________________________________________________________\n",
      "ensemble_9_ensemble_9_ensemble_ (None, 32)           0           ensemble_9_ensemble_9_ensemble_9_\n",
      "__________________________________________________________________________________________________\n",
      "ensemble_1_ensemble_1_ensemble_ (None, 12)           396         ensemble_1_ensemble_1_ensemble_1_\n",
      "__________________________________________________________________________________________________\n",
      "ensemble_2_ensemble_2_ensemble_ (None, 12)           396         ensemble_2_ensemble_2_ensemble_2_\n",
      "__________________________________________________________________________________________________\n",
      "ensemble_3_ensemble_3_ensemble_ (None, 12)           3084        ensemble_3_ensemble_3_ensemble_3_\n",
      "__________________________________________________________________________________________________\n",
      "ensemble_4_ensemble_4_ensemble_ (None, 12)           396         ensemble_4_ensemble_4_ensemble_4_\n",
      "__________________________________________________________________________________________________\n",
      "ensemble_5_ensemble_5_ensemble_ (None, 12)           396         ensemble_5_ensemble_5_ensemble_5_\n",
      "__________________________________________________________________________________________________\n",
      "ensemble_6_ensemble_6_ensemble_ (None, 12)           1548        ensemble_6_ensemble_6_ensemble_6_\n",
      "__________________________________________________________________________________________________\n",
      "ensemble_7_ensemble_7_ensemble_ (None, 12)           3084        ensemble_7_ensemble_7_ensemble_7_\n",
      "__________________________________________________________________________________________________\n",
      "ensemble_8_ensemble_8_ensemble_ (None, 12)           396         ensemble_8_ensemble_8_ensemble_8_\n",
      "__________________________________________________________________________________________________\n",
      "ensemble_9_ensemble_9_ensemble_ (None, 12)           396         ensemble_9_ensemble_9_ensemble_9_\n",
      "__________________________________________________________________________________________________\n",
      "concatenate_4 (Concatenate)     (None, 108)          0           ensemble_1_ensemble_1_ensemble_1_\n",
      "                                                                 ensemble_2_ensemble_2_ensemble_2_\n",
      "                                                                 ensemble_3_ensemble_3_ensemble_3_\n",
      "                                                                 ensemble_4_ensemble_4_ensemble_4_\n",
      "                                                                 ensemble_5_ensemble_5_ensemble_5_\n",
      "                                                                 ensemble_6_ensemble_6_ensemble_6_\n",
      "                                                                 ensemble_7_ensemble_7_ensemble_7_\n",
      "                                                                 ensemble_8_ensemble_8_ensemble_8_\n",
      "                                                                 ensemble_9_ensemble_9_ensemble_9_\n",
      "__________________________________________________________________________________________________\n",
      "dense_10 (Dense)                (None, 100)          10900       concatenate_4[0][0]              \n",
      "__________________________________________________________________________________________________\n",
      "dense_11 (Dense)                (None, 12)           1212        dense_10[0][0]                   \n",
      "==================================================================================================\n",
      "Total params: 57,662,336\n",
      "Trainable params: 12,112\n",
      "Non-trainable params: 57,650,224\n",
      "__________________________________________________________________________________________________\n"
     ]
    }
   ],
   "source": [
    "model = define_stacked_model(members) \n",
    "model.summary()"
   ]
  },
  {
   "cell_type": "code",
   "execution_count": 40,
   "metadata": {
    "Collapsed": "false"
   },
   "outputs": [],
   "source": [
    "#callbacks, remember to make folders to store files \n",
    "checkpointer = ModelCheckpoint(filepath='./models/ensemble_best_ft.h5'.format(arch, date),\n",
    "                               verbose=0,\n",
    "                               monitor='val_accuracy',\n",
    "                               mode=\"auto\",\n",
    "                               save_best_only=True)\n",
    "   \n",
    "earlystopping = EarlyStopping()\n",
    "\n",
    "tensorboard = TensorBoard(log_dir = './logs/{}_{}'.format(date, time()), \n",
    "                          histogram_freq = 0, \n",
    "                          write_graph = True, \n",
    "                          write_images = True)"
   ]
  },
  {
   "cell_type": "markdown",
   "metadata": {
    "Collapsed": "false"
   },
   "source": [
    "train the model\n",
    "the history object stores training data for later access, like plotting training curves"
   ]
  },
  {
   "cell_type": "code",
   "execution_count": 41,
   "metadata": {
    "Collapsed": "false"
   },
   "outputs": [
    {
     "data": {
      "text/plain": [
       "(58284, 122, 85, 1)"
      ]
     },
     "execution_count": 41,
     "metadata": {},
     "output_type": "execute_result"
    }
   ],
   "source": [
    "X_train.shape"
   ]
  },
  {
   "cell_type": "code",
   "execution_count": 42,
   "metadata": {
    "Collapsed": "false"
   },
   "outputs": [
    {
     "name": "stdout",
     "output_type": "stream",
     "text": [
      "WARNING:tensorflow:sample_weight modes were coerced from\n",
      "  ...\n",
      "    to  \n",
      "  ['...']\n",
      "WARNING:tensorflow:sample_weight modes were coerced from\n",
      "  ...\n",
      "    to  \n",
      "  ['...']\n",
      "Train on 58284 samples, validate on 6839 samples\n",
      "Epoch 1/25\n",
      "58284/58284 [==============================] - 182s 3ms/sample - loss: 0.2399 - accuracy: 0.9813 - val_loss: 1.9109 - val_accuracy: 0.9569\n",
      "Epoch 2/25\n",
      "58284/58284 [==============================] - 188s 3ms/sample - loss: 0.2180 - accuracy: 0.9837 - val_loss: 2.2487 - val_accuracy: 0.9564\n",
      "Epoch 3/25\n",
      "58284/58284 [==============================] - 191s 3ms/sample - loss: 0.2718 - accuracy: 0.9811 - val_loss: 2.0811 - val_accuracy: 0.9561\n",
      "Epoch 4/25\n",
      "58284/58284 [==============================] - 189s 3ms/sample - loss: 0.2553 - accuracy: 0.9825 - val_loss: 2.5914 - val_accuracy: 0.9613\n",
      "Epoch 5/25\n",
      "58284/58284 [==============================] - 189s 3ms/sample - loss: 0.3501 - accuracy: 0.9793 - val_loss: 2.1616 - val_accuracy: 0.9560\n",
      "Epoch 6/25\n",
      "58284/58284 [==============================] - 190s 3ms/sample - loss: 0.3200 - accuracy: 0.9807 - val_loss: 2.7155 - val_accuracy: 0.9558\n",
      "Epoch 7/25\n",
      "58284/58284 [==============================] - 188s 3ms/sample - loss: 0.1816 - accuracy: 0.9854 - val_loss: 2.6912 - val_accuracy: 0.9623\n",
      "Epoch 8/25\n",
      "58284/58284 [==============================] - 190s 3ms/sample - loss: 0.1085 - accuracy: 0.9897 - val_loss: 2.9050 - val_accuracy: 0.9582\n",
      "Epoch 9/25\n",
      "58284/58284 [==============================] - 190s 3ms/sample - loss: 0.1961 - accuracy: 0.9868 - val_loss: 2.2349 - val_accuracy: 0.9621\n",
      "Epoch 10/25\n",
      "58284/58284 [==============================] - 191s 3ms/sample - loss: 0.2134 - accuracy: 0.9834 - val_loss: 2.6010 - val_accuracy: 0.9607\n",
      "Epoch 11/25\n",
      "58284/58284 [==============================] - 193s 3ms/sample - loss: 0.3539 - accuracy: 0.9777 - val_loss: 2.5204 - val_accuracy: 0.9465\n",
      "Epoch 12/25\n",
      "58284/58284 [==============================] - 194s 3ms/sample - loss: 0.2289 - accuracy: 0.9834 - val_loss: 2.4329 - val_accuracy: 0.9535\n",
      "Epoch 13/25\n",
      "58284/58284 [==============================] - 194s 3ms/sample - loss: 0.1892 - accuracy: 0.9845 - val_loss: 2.5583 - val_accuracy: 0.9576\n",
      "Epoch 14/25\n",
      " 1280/58284 [..............................] - ETA: 2:54 - loss: 0.1247 - accuracy: 0.9854WARNING:tensorflow:Can save best model only with val_accuracy available, skipping.\n"
     ]
    },
    {
     "ename": "KeyboardInterrupt",
     "evalue": "",
     "output_type": "error",
     "traceback": [
      "\u001b[1;31m---------------------------------------------------------------------------\u001b[0m",
      "\u001b[1;31mKeyboardInterrupt\u001b[0m                         Traceback (most recent call last)",
      "\u001b[1;32m<ipython-input-42-383fb4d5ffd4>\u001b[0m in \u001b[0;36m<module>\u001b[1;34m\u001b[0m\n\u001b[0;32m      6\u001b[0m                    \u001b[0mclass_weight\u001b[0m \u001b[1;33m=\u001b[0m \u001b[0mclass_weights\u001b[0m\u001b[1;33m,\u001b[0m\u001b[1;33m\u001b[0m\u001b[1;33m\u001b[0m\u001b[0m\n\u001b[0;32m      7\u001b[0m                    \u001b[0mvalidation_data\u001b[0m \u001b[1;33m=\u001b[0m \u001b[1;33m(\u001b[0m\u001b[1;33m[\u001b[0m\u001b[0mX_val\u001b[0m \u001b[1;32mfor\u001b[0m \u001b[0m_\u001b[0m \u001b[1;32min\u001b[0m \u001b[0mrange\u001b[0m\u001b[1;33m(\u001b[0m\u001b[0mlen\u001b[0m\u001b[1;33m(\u001b[0m\u001b[0mmembers\u001b[0m\u001b[1;33m)\u001b[0m\u001b[1;33m)\u001b[0m\u001b[1;33m]\u001b[0m\u001b[1;33m,\u001b[0m \u001b[0mto_categorical\u001b[0m\u001b[1;33m(\u001b[0m\u001b[0mY_val\u001b[0m\u001b[1;33m)\u001b[0m\u001b[1;33m)\u001b[0m\u001b[1;33m,\u001b[0m\u001b[1;33m\u001b[0m\u001b[1;33m\u001b[0m\u001b[0m\n\u001b[1;32m----> 8\u001b[1;33m                    callbacks = [checkpointer]) # add more callbacks if you want\n\u001b[0m",
      "\u001b[1;32m~\\Anaconda\\envs\\jlab\\lib\\site-packages\\tensorflow_core\\python\\keras\\engine\\training.py\u001b[0m in \u001b[0;36mfit\u001b[1;34m(self, x, y, batch_size, epochs, verbose, callbacks, validation_split, validation_data, shuffle, class_weight, sample_weight, initial_epoch, steps_per_epoch, validation_steps, validation_freq, max_queue_size, workers, use_multiprocessing, **kwargs)\u001b[0m\n\u001b[0;32m    817\u001b[0m         \u001b[0mmax_queue_size\u001b[0m\u001b[1;33m=\u001b[0m\u001b[0mmax_queue_size\u001b[0m\u001b[1;33m,\u001b[0m\u001b[1;33m\u001b[0m\u001b[1;33m\u001b[0m\u001b[0m\n\u001b[0;32m    818\u001b[0m         \u001b[0mworkers\u001b[0m\u001b[1;33m=\u001b[0m\u001b[0mworkers\u001b[0m\u001b[1;33m,\u001b[0m\u001b[1;33m\u001b[0m\u001b[1;33m\u001b[0m\u001b[0m\n\u001b[1;32m--> 819\u001b[1;33m         use_multiprocessing=use_multiprocessing)\n\u001b[0m\u001b[0;32m    820\u001b[0m \u001b[1;33m\u001b[0m\u001b[0m\n\u001b[0;32m    821\u001b[0m   def evaluate(self,\n",
      "\u001b[1;32m~\\Anaconda\\envs\\jlab\\lib\\site-packages\\tensorflow_core\\python\\keras\\engine\\training_v2.py\u001b[0m in \u001b[0;36mfit\u001b[1;34m(self, model, x, y, batch_size, epochs, verbose, callbacks, validation_split, validation_data, shuffle, class_weight, sample_weight, initial_epoch, steps_per_epoch, validation_steps, validation_freq, max_queue_size, workers, use_multiprocessing, **kwargs)\u001b[0m\n\u001b[0;32m    340\u001b[0m                 \u001b[0mmode\u001b[0m\u001b[1;33m=\u001b[0m\u001b[0mModeKeys\u001b[0m\u001b[1;33m.\u001b[0m\u001b[0mTRAIN\u001b[0m\u001b[1;33m,\u001b[0m\u001b[1;33m\u001b[0m\u001b[1;33m\u001b[0m\u001b[0m\n\u001b[0;32m    341\u001b[0m                 \u001b[0mtraining_context\u001b[0m\u001b[1;33m=\u001b[0m\u001b[0mtraining_context\u001b[0m\u001b[1;33m,\u001b[0m\u001b[1;33m\u001b[0m\u001b[1;33m\u001b[0m\u001b[0m\n\u001b[1;32m--> 342\u001b[1;33m                 total_epochs=epochs)\n\u001b[0m\u001b[0;32m    343\u001b[0m             \u001b[0mcbks\u001b[0m\u001b[1;33m.\u001b[0m\u001b[0mmake_logs\u001b[0m\u001b[1;33m(\u001b[0m\u001b[0mmodel\u001b[0m\u001b[1;33m,\u001b[0m \u001b[0mepoch_logs\u001b[0m\u001b[1;33m,\u001b[0m \u001b[0mtraining_result\u001b[0m\u001b[1;33m,\u001b[0m \u001b[0mModeKeys\u001b[0m\u001b[1;33m.\u001b[0m\u001b[0mTRAIN\u001b[0m\u001b[1;33m)\u001b[0m\u001b[1;33m\u001b[0m\u001b[1;33m\u001b[0m\u001b[0m\n\u001b[0;32m    344\u001b[0m \u001b[1;33m\u001b[0m\u001b[0m\n",
      "\u001b[1;32m~\\Anaconda\\envs\\jlab\\lib\\site-packages\\tensorflow_core\\python\\keras\\engine\\training_v2.py\u001b[0m in \u001b[0;36mrun_one_epoch\u001b[1;34m(model, iterator, execution_function, dataset_size, batch_size, strategy, steps_per_epoch, num_samples, mode, training_context, total_epochs)\u001b[0m\n\u001b[0;32m    126\u001b[0m         step=step, mode=mode, size=current_batch_size) as batch_logs:\n\u001b[0;32m    127\u001b[0m       \u001b[1;32mtry\u001b[0m\u001b[1;33m:\u001b[0m\u001b[1;33m\u001b[0m\u001b[1;33m\u001b[0m\u001b[0m\n\u001b[1;32m--> 128\u001b[1;33m         \u001b[0mbatch_outs\u001b[0m \u001b[1;33m=\u001b[0m \u001b[0mexecution_function\u001b[0m\u001b[1;33m(\u001b[0m\u001b[0miterator\u001b[0m\u001b[1;33m)\u001b[0m\u001b[1;33m\u001b[0m\u001b[1;33m\u001b[0m\u001b[0m\n\u001b[0m\u001b[0;32m    129\u001b[0m       \u001b[1;32mexcept\u001b[0m \u001b[1;33m(\u001b[0m\u001b[0mStopIteration\u001b[0m\u001b[1;33m,\u001b[0m \u001b[0merrors\u001b[0m\u001b[1;33m.\u001b[0m\u001b[0mOutOfRangeError\u001b[0m\u001b[1;33m)\u001b[0m\u001b[1;33m:\u001b[0m\u001b[1;33m\u001b[0m\u001b[1;33m\u001b[0m\u001b[0m\n\u001b[0;32m    130\u001b[0m         \u001b[1;31m# TODO(kaftan): File bug about tf function and errors.OutOfRangeError?\u001b[0m\u001b[1;33m\u001b[0m\u001b[1;33m\u001b[0m\u001b[1;33m\u001b[0m\u001b[0m\n",
      "\u001b[1;32m~\\Anaconda\\envs\\jlab\\lib\\site-packages\\tensorflow_core\\python\\keras\\engine\\training_v2_utils.py\u001b[0m in \u001b[0;36mexecution_function\u001b[1;34m(input_fn)\u001b[0m\n\u001b[0;32m     96\u001b[0m     \u001b[1;31m# `numpy` translates Tensors to values in Eager mode.\u001b[0m\u001b[1;33m\u001b[0m\u001b[1;33m\u001b[0m\u001b[1;33m\u001b[0m\u001b[0m\n\u001b[0;32m     97\u001b[0m     return nest.map_structure(_non_none_constant_value,\n\u001b[1;32m---> 98\u001b[1;33m                               distributed_function(input_fn))\n\u001b[0m\u001b[0;32m     99\u001b[0m \u001b[1;33m\u001b[0m\u001b[0m\n\u001b[0;32m    100\u001b[0m   \u001b[1;32mreturn\u001b[0m \u001b[0mexecution_function\u001b[0m\u001b[1;33m\u001b[0m\u001b[1;33m\u001b[0m\u001b[0m\n",
      "\u001b[1;32m~\\Anaconda\\envs\\jlab\\lib\\site-packages\\tensorflow_core\\python\\eager\\def_function.py\u001b[0m in \u001b[0;36m__call__\u001b[1;34m(self, *args, **kwds)\u001b[0m\n\u001b[0;32m    566\u001b[0m         \u001b[0mxla_context\u001b[0m\u001b[1;33m.\u001b[0m\u001b[0mExit\u001b[0m\u001b[1;33m(\u001b[0m\u001b[1;33m)\u001b[0m\u001b[1;33m\u001b[0m\u001b[1;33m\u001b[0m\u001b[0m\n\u001b[0;32m    567\u001b[0m     \u001b[1;32melse\u001b[0m\u001b[1;33m:\u001b[0m\u001b[1;33m\u001b[0m\u001b[1;33m\u001b[0m\u001b[0m\n\u001b[1;32m--> 568\u001b[1;33m       \u001b[0mresult\u001b[0m \u001b[1;33m=\u001b[0m \u001b[0mself\u001b[0m\u001b[1;33m.\u001b[0m\u001b[0m_call\u001b[0m\u001b[1;33m(\u001b[0m\u001b[1;33m*\u001b[0m\u001b[0margs\u001b[0m\u001b[1;33m,\u001b[0m \u001b[1;33m**\u001b[0m\u001b[0mkwds\u001b[0m\u001b[1;33m)\u001b[0m\u001b[1;33m\u001b[0m\u001b[1;33m\u001b[0m\u001b[0m\n\u001b[0m\u001b[0;32m    569\u001b[0m \u001b[1;33m\u001b[0m\u001b[0m\n\u001b[0;32m    570\u001b[0m     \u001b[1;32mif\u001b[0m \u001b[0mtracing_count\u001b[0m \u001b[1;33m==\u001b[0m \u001b[0mself\u001b[0m\u001b[1;33m.\u001b[0m\u001b[0m_get_tracing_count\u001b[0m\u001b[1;33m(\u001b[0m\u001b[1;33m)\u001b[0m\u001b[1;33m:\u001b[0m\u001b[1;33m\u001b[0m\u001b[1;33m\u001b[0m\u001b[0m\n",
      "\u001b[1;32m~\\Anaconda\\envs\\jlab\\lib\\site-packages\\tensorflow_core\\python\\eager\\def_function.py\u001b[0m in \u001b[0;36m_call\u001b[1;34m(self, *args, **kwds)\u001b[0m\n\u001b[0;32m    604\u001b[0m       \u001b[1;31m# In this case we have not created variables on the first call. So we can\u001b[0m\u001b[1;33m\u001b[0m\u001b[1;33m\u001b[0m\u001b[1;33m\u001b[0m\u001b[0m\n\u001b[0;32m    605\u001b[0m       \u001b[1;31m# run the first trace but we should fail if variables are created.\u001b[0m\u001b[1;33m\u001b[0m\u001b[1;33m\u001b[0m\u001b[1;33m\u001b[0m\u001b[0m\n\u001b[1;32m--> 606\u001b[1;33m       \u001b[0mresults\u001b[0m \u001b[1;33m=\u001b[0m \u001b[0mself\u001b[0m\u001b[1;33m.\u001b[0m\u001b[0m_stateful_fn\u001b[0m\u001b[1;33m(\u001b[0m\u001b[1;33m*\u001b[0m\u001b[0margs\u001b[0m\u001b[1;33m,\u001b[0m \u001b[1;33m**\u001b[0m\u001b[0mkwds\u001b[0m\u001b[1;33m)\u001b[0m\u001b[1;33m\u001b[0m\u001b[1;33m\u001b[0m\u001b[0m\n\u001b[0m\u001b[0;32m    607\u001b[0m       \u001b[1;32mif\u001b[0m \u001b[0mself\u001b[0m\u001b[1;33m.\u001b[0m\u001b[0m_created_variables\u001b[0m\u001b[1;33m:\u001b[0m\u001b[1;33m\u001b[0m\u001b[1;33m\u001b[0m\u001b[0m\n\u001b[0;32m    608\u001b[0m         raise ValueError(\"Creating variables on a non-first call to a function\"\n",
      "\u001b[1;32m~\\Anaconda\\envs\\jlab\\lib\\site-packages\\tensorflow_core\\python\\eager\\function.py\u001b[0m in \u001b[0;36m__call__\u001b[1;34m(self, *args, **kwargs)\u001b[0m\n\u001b[0;32m   2361\u001b[0m     \u001b[1;32mwith\u001b[0m \u001b[0mself\u001b[0m\u001b[1;33m.\u001b[0m\u001b[0m_lock\u001b[0m\u001b[1;33m:\u001b[0m\u001b[1;33m\u001b[0m\u001b[1;33m\u001b[0m\u001b[0m\n\u001b[0;32m   2362\u001b[0m       \u001b[0mgraph_function\u001b[0m\u001b[1;33m,\u001b[0m \u001b[0margs\u001b[0m\u001b[1;33m,\u001b[0m \u001b[0mkwargs\u001b[0m \u001b[1;33m=\u001b[0m \u001b[0mself\u001b[0m\u001b[1;33m.\u001b[0m\u001b[0m_maybe_define_function\u001b[0m\u001b[1;33m(\u001b[0m\u001b[0margs\u001b[0m\u001b[1;33m,\u001b[0m \u001b[0mkwargs\u001b[0m\u001b[1;33m)\u001b[0m\u001b[1;33m\u001b[0m\u001b[1;33m\u001b[0m\u001b[0m\n\u001b[1;32m-> 2363\u001b[1;33m     \u001b[1;32mreturn\u001b[0m \u001b[0mgraph_function\u001b[0m\u001b[1;33m.\u001b[0m\u001b[0m_filtered_call\u001b[0m\u001b[1;33m(\u001b[0m\u001b[0margs\u001b[0m\u001b[1;33m,\u001b[0m \u001b[0mkwargs\u001b[0m\u001b[1;33m)\u001b[0m  \u001b[1;31m# pylint: disable=protected-access\u001b[0m\u001b[1;33m\u001b[0m\u001b[1;33m\u001b[0m\u001b[0m\n\u001b[0m\u001b[0;32m   2364\u001b[0m \u001b[1;33m\u001b[0m\u001b[0m\n\u001b[0;32m   2365\u001b[0m   \u001b[1;33m@\u001b[0m\u001b[0mproperty\u001b[0m\u001b[1;33m\u001b[0m\u001b[1;33m\u001b[0m\u001b[0m\n",
      "\u001b[1;32m~\\Anaconda\\envs\\jlab\\lib\\site-packages\\tensorflow_core\\python\\eager\\function.py\u001b[0m in \u001b[0;36m_filtered_call\u001b[1;34m(self, args, kwargs)\u001b[0m\n\u001b[0;32m   1609\u001b[0m          if isinstance(t, (ops.Tensor,\n\u001b[0;32m   1610\u001b[0m                            resource_variable_ops.BaseResourceVariable))),\n\u001b[1;32m-> 1611\u001b[1;33m         self.captured_inputs)\n\u001b[0m\u001b[0;32m   1612\u001b[0m \u001b[1;33m\u001b[0m\u001b[0m\n\u001b[0;32m   1613\u001b[0m   \u001b[1;32mdef\u001b[0m \u001b[0m_call_flat\u001b[0m\u001b[1;33m(\u001b[0m\u001b[0mself\u001b[0m\u001b[1;33m,\u001b[0m \u001b[0margs\u001b[0m\u001b[1;33m,\u001b[0m \u001b[0mcaptured_inputs\u001b[0m\u001b[1;33m,\u001b[0m \u001b[0mcancellation_manager\u001b[0m\u001b[1;33m=\u001b[0m\u001b[1;32mNone\u001b[0m\u001b[1;33m)\u001b[0m\u001b[1;33m:\u001b[0m\u001b[1;33m\u001b[0m\u001b[1;33m\u001b[0m\u001b[0m\n",
      "\u001b[1;32m~\\Anaconda\\envs\\jlab\\lib\\site-packages\\tensorflow_core\\python\\eager\\function.py\u001b[0m in \u001b[0;36m_call_flat\u001b[1;34m(self, args, captured_inputs, cancellation_manager)\u001b[0m\n\u001b[0;32m   1690\u001b[0m       \u001b[1;31m# No tape is watching; skip to running the function.\u001b[0m\u001b[1;33m\u001b[0m\u001b[1;33m\u001b[0m\u001b[1;33m\u001b[0m\u001b[0m\n\u001b[0;32m   1691\u001b[0m       return self._build_call_outputs(self._inference_function.call(\n\u001b[1;32m-> 1692\u001b[1;33m           ctx, args, cancellation_manager=cancellation_manager))\n\u001b[0m\u001b[0;32m   1693\u001b[0m     forward_backward = self._select_forward_and_backward_functions(\n\u001b[0;32m   1694\u001b[0m         \u001b[0margs\u001b[0m\u001b[1;33m,\u001b[0m\u001b[1;33m\u001b[0m\u001b[1;33m\u001b[0m\u001b[0m\n",
      "\u001b[1;32m~\\Anaconda\\envs\\jlab\\lib\\site-packages\\tensorflow_core\\python\\eager\\function.py\u001b[0m in \u001b[0;36mcall\u001b[1;34m(self, ctx, args, cancellation_manager)\u001b[0m\n\u001b[0;32m    543\u001b[0m               \u001b[0minputs\u001b[0m\u001b[1;33m=\u001b[0m\u001b[0margs\u001b[0m\u001b[1;33m,\u001b[0m\u001b[1;33m\u001b[0m\u001b[1;33m\u001b[0m\u001b[0m\n\u001b[0;32m    544\u001b[0m               \u001b[0mattrs\u001b[0m\u001b[1;33m=\u001b[0m\u001b[1;33m(\u001b[0m\u001b[1;34m\"executor_type\"\u001b[0m\u001b[1;33m,\u001b[0m \u001b[0mexecutor_type\u001b[0m\u001b[1;33m,\u001b[0m \u001b[1;34m\"config_proto\"\u001b[0m\u001b[1;33m,\u001b[0m \u001b[0mconfig\u001b[0m\u001b[1;33m)\u001b[0m\u001b[1;33m,\u001b[0m\u001b[1;33m\u001b[0m\u001b[1;33m\u001b[0m\u001b[0m\n\u001b[1;32m--> 545\u001b[1;33m               ctx=ctx)\n\u001b[0m\u001b[0;32m    546\u001b[0m         \u001b[1;32melse\u001b[0m\u001b[1;33m:\u001b[0m\u001b[1;33m\u001b[0m\u001b[1;33m\u001b[0m\u001b[0m\n\u001b[0;32m    547\u001b[0m           outputs = execute.execute_with_cancellation(\n",
      "\u001b[1;32m~\\Anaconda\\envs\\jlab\\lib\\site-packages\\tensorflow_core\\python\\eager\\execute.py\u001b[0m in \u001b[0;36mquick_execute\u001b[1;34m(op_name, num_outputs, inputs, attrs, ctx, name)\u001b[0m\n\u001b[0;32m     59\u001b[0m     tensors = pywrap_tensorflow.TFE_Py_Execute(ctx._handle, device_name,\n\u001b[0;32m     60\u001b[0m                                                \u001b[0mop_name\u001b[0m\u001b[1;33m,\u001b[0m \u001b[0minputs\u001b[0m\u001b[1;33m,\u001b[0m \u001b[0mattrs\u001b[0m\u001b[1;33m,\u001b[0m\u001b[1;33m\u001b[0m\u001b[1;33m\u001b[0m\u001b[0m\n\u001b[1;32m---> 61\u001b[1;33m                                                num_outputs)\n\u001b[0m\u001b[0;32m     62\u001b[0m   \u001b[1;32mexcept\u001b[0m \u001b[0mcore\u001b[0m\u001b[1;33m.\u001b[0m\u001b[0m_NotOkStatusException\u001b[0m \u001b[1;32mas\u001b[0m \u001b[0me\u001b[0m\u001b[1;33m:\u001b[0m\u001b[1;33m\u001b[0m\u001b[1;33m\u001b[0m\u001b[0m\n\u001b[0;32m     63\u001b[0m     \u001b[1;32mif\u001b[0m \u001b[0mname\u001b[0m \u001b[1;32mis\u001b[0m \u001b[1;32mnot\u001b[0m \u001b[1;32mNone\u001b[0m\u001b[1;33m:\u001b[0m\u001b[1;33m\u001b[0m\u001b[1;33m\u001b[0m\u001b[0m\n",
      "\u001b[1;31mKeyboardInterrupt\u001b[0m: "
     ]
    }
   ],
   "source": [
    "history = sr.m.fit([X_train for _ in range(len(members))], \n",
    "                   to_categorical(Y_train), \n",
    "                   batch_size = batch_size, \n",
    "                   epochs = 25, \n",
    "                   verbose = 1, shuffle = True, \n",
    "                   class_weight = class_weights,\n",
    "                   validation_data = ([X_val for _ in range(len(members))], to_categorical(Y_val)), \n",
    "                   callbacks = [checkpointer]) # add more callbacks if you want"
   ]
  },
  {
   "cell_type": "code",
   "execution_count": null,
   "metadata": {
    "Collapsed": "false"
   },
   "outputs": [],
   "source": []
  },
  {
   "cell_type": "markdown",
   "metadata": {
    "Collapsed": "false"
   },
   "source": [
    "## Now the CTC model"
   ]
  },
  {
   "cell_type": "code",
   "execution_count": 7,
   "metadata": {
    "Collapsed": "false"
   },
   "outputs": [],
   "source": [
    "from models import CTC, ctc_lambda_func #used in the CTC build method\n",
    "from ctc_utils import char_map, index_map, text_to_int, get_intseq, get_ctc_params"
   ]
  },
  {
   "cell_type": "code",
   "execution_count": 8,
   "metadata": {
    "Collapsed": "false"
   },
   "outputs": [],
   "source": [
    "# dummy loss\n",
    "def ctc(y_true, y_pred):\n",
    "    return y_pred"
   ]
  },
  {
   "cell_type": "markdown",
   "metadata": {
    "Collapsed": "false"
   },
   "source": [
    "The Conv1D layer at the top of the CTC model takes a 3-dimensional input, not 4 as the ResNet"
   ]
  },
  {
   "cell_type": "code",
   "execution_count": 9,
   "metadata": {
    "Collapsed": "false"
   },
   "outputs": [
    {
     "data": {
      "text/plain": [
       "(<tensorflow.python.keras.engine.training.Model at 0x165277829c8>,\n",
       " <tensorflow.python.keras.engine.training.Model at 0x165276cfa48>)"
      ]
     },
     "execution_count": 9,
     "metadata": {},
     "output_type": "execute_result"
    }
   ],
   "source": [
    "sr_ctc = CTC((122,85), 28)\n",
    "sr_ctc.build()"
   ]
  },
  {
   "cell_type": "code",
   "execution_count": 10,
   "metadata": {
    "Collapsed": "false"
   },
   "outputs": [],
   "source": [
    "sr_ctc.m.compile(loss = ctc, optimizer = 'adam', metrics = ['accuracy'])\n",
    "sr_ctc.tm.compile(loss = ctc, optimizer = 'adam')"
   ]
  },
  {
   "cell_type": "code",
   "execution_count": 11,
   "metadata": {
    "Collapsed": "false"
   },
   "outputs": [],
   "source": [
    "Y_train_all = np.load('data/Y_train_all.npy')\n",
    "Y_val_all = np.load('data/Y_val_all.npy')"
   ]
  },
  {
   "cell_type": "markdown",
   "metadata": {
    "Collapsed": "false"
   },
   "source": [
    "get the ctc parameters needed for the three extra ctc model inputs"
   ]
  },
  {
   "cell_type": "code",
   "execution_count": 12,
   "metadata": {
    "Collapsed": "false"
   },
   "outputs": [],
   "source": [
    "labels, input_length, label_length = get_ctc_params(Y = Y_train_all, classes_list = all_classes)\n",
    "labels_val, input_length_val, label_length_val = get_ctc_params(Y = Y_val_all, classes_list = all_classes)"
   ]
  },
  {
   "cell_type": "code",
   "execution_count": 15,
   "metadata": {
    "Collapsed": "false"
   },
   "outputs": [],
   "source": [
    "checkpointer = ModelCheckpoint(filepath=\"./models/ctc_{}_best.h5\".format(date),\n",
    "                               verbose=0,\n",
    "                               save_best_only=True)"
   ]
  },
  {
   "cell_type": "code",
   "execution_count": 17,
   "metadata": {
    "Collapsed": "false"
   },
   "outputs": [
    {
     "name": "stdout",
     "output_type": "stream",
     "text": [
      "Train on 58284 samples, validate on 6839 samples\n",
      "Epoch 1/10\n",
      "32000/58284 [===============>..............] - ETA: 6:12 - loss: 10.9938 - accuracy: 0.0021WARNING:tensorflow:Can save best model only with val_loss available, skipping.\n"
     ]
    },
    {
     "ename": "KeyboardInterrupt",
     "evalue": "",
     "output_type": "error",
     "traceback": [
      "\u001b[1;31m---------------------------------------------------------------------------\u001b[0m",
      "\u001b[1;31mKeyboardInterrupt\u001b[0m                         Traceback (most recent call last)",
      "\u001b[1;32m<ipython-input-17-7c2b3928e292>\u001b[0m in \u001b[0;36m<module>\u001b[1;34m\u001b[0m\n\u001b[0;32m     12\u001b[0m                                           np.zeros([len(Y_val_all)])), \n\u001b[0;32m     13\u001b[0m                        \u001b[0mcallbacks\u001b[0m \u001b[1;33m=\u001b[0m \u001b[1;33m[\u001b[0m\u001b[0mcheckpointer\u001b[0m\u001b[1;33m]\u001b[0m\u001b[1;33m,\u001b[0m\u001b[1;33m\u001b[0m\u001b[1;33m\u001b[0m\u001b[0m\n\u001b[1;32m---> 14\u001b[1;33m                        verbose = 1, shuffle = True)\n\u001b[0m",
      "\u001b[1;32m~\\Anaconda\\envs\\jlab\\lib\\site-packages\\tensorflow_core\\python\\keras\\engine\\training.py\u001b[0m in \u001b[0;36mfit\u001b[1;34m(self, x, y, batch_size, epochs, verbose, callbacks, validation_split, validation_data, shuffle, class_weight, sample_weight, initial_epoch, steps_per_epoch, validation_steps, validation_freq, max_queue_size, workers, use_multiprocessing, **kwargs)\u001b[0m\n\u001b[0;32m    817\u001b[0m         \u001b[0mmax_queue_size\u001b[0m\u001b[1;33m=\u001b[0m\u001b[0mmax_queue_size\u001b[0m\u001b[1;33m,\u001b[0m\u001b[1;33m\u001b[0m\u001b[1;33m\u001b[0m\u001b[0m\n\u001b[0;32m    818\u001b[0m         \u001b[0mworkers\u001b[0m\u001b[1;33m=\u001b[0m\u001b[0mworkers\u001b[0m\u001b[1;33m,\u001b[0m\u001b[1;33m\u001b[0m\u001b[1;33m\u001b[0m\u001b[0m\n\u001b[1;32m--> 819\u001b[1;33m         use_multiprocessing=use_multiprocessing)\n\u001b[0m\u001b[0;32m    820\u001b[0m \u001b[1;33m\u001b[0m\u001b[0m\n\u001b[0;32m    821\u001b[0m   def evaluate(self,\n",
      "\u001b[1;32m~\\Anaconda\\envs\\jlab\\lib\\site-packages\\tensorflow_core\\python\\keras\\engine\\training_v2.py\u001b[0m in \u001b[0;36mfit\u001b[1;34m(self, model, x, y, batch_size, epochs, verbose, callbacks, validation_split, validation_data, shuffle, class_weight, sample_weight, initial_epoch, steps_per_epoch, validation_steps, validation_freq, max_queue_size, workers, use_multiprocessing, **kwargs)\u001b[0m\n\u001b[0;32m    340\u001b[0m                 \u001b[0mmode\u001b[0m\u001b[1;33m=\u001b[0m\u001b[0mModeKeys\u001b[0m\u001b[1;33m.\u001b[0m\u001b[0mTRAIN\u001b[0m\u001b[1;33m,\u001b[0m\u001b[1;33m\u001b[0m\u001b[1;33m\u001b[0m\u001b[0m\n\u001b[0;32m    341\u001b[0m                 \u001b[0mtraining_context\u001b[0m\u001b[1;33m=\u001b[0m\u001b[0mtraining_context\u001b[0m\u001b[1;33m,\u001b[0m\u001b[1;33m\u001b[0m\u001b[1;33m\u001b[0m\u001b[0m\n\u001b[1;32m--> 342\u001b[1;33m                 total_epochs=epochs)\n\u001b[0m\u001b[0;32m    343\u001b[0m             \u001b[0mcbks\u001b[0m\u001b[1;33m.\u001b[0m\u001b[0mmake_logs\u001b[0m\u001b[1;33m(\u001b[0m\u001b[0mmodel\u001b[0m\u001b[1;33m,\u001b[0m \u001b[0mepoch_logs\u001b[0m\u001b[1;33m,\u001b[0m \u001b[0mtraining_result\u001b[0m\u001b[1;33m,\u001b[0m \u001b[0mModeKeys\u001b[0m\u001b[1;33m.\u001b[0m\u001b[0mTRAIN\u001b[0m\u001b[1;33m)\u001b[0m\u001b[1;33m\u001b[0m\u001b[1;33m\u001b[0m\u001b[0m\n\u001b[0;32m    344\u001b[0m \u001b[1;33m\u001b[0m\u001b[0m\n",
      "\u001b[1;32m~\\Anaconda\\envs\\jlab\\lib\\site-packages\\tensorflow_core\\python\\keras\\engine\\training_v2.py\u001b[0m in \u001b[0;36mrun_one_epoch\u001b[1;34m(model, iterator, execution_function, dataset_size, batch_size, strategy, steps_per_epoch, num_samples, mode, training_context, total_epochs)\u001b[0m\n\u001b[0;32m    126\u001b[0m         step=step, mode=mode, size=current_batch_size) as batch_logs:\n\u001b[0;32m    127\u001b[0m       \u001b[1;32mtry\u001b[0m\u001b[1;33m:\u001b[0m\u001b[1;33m\u001b[0m\u001b[1;33m\u001b[0m\u001b[0m\n\u001b[1;32m--> 128\u001b[1;33m         \u001b[0mbatch_outs\u001b[0m \u001b[1;33m=\u001b[0m \u001b[0mexecution_function\u001b[0m\u001b[1;33m(\u001b[0m\u001b[0miterator\u001b[0m\u001b[1;33m)\u001b[0m\u001b[1;33m\u001b[0m\u001b[1;33m\u001b[0m\u001b[0m\n\u001b[0m\u001b[0;32m    129\u001b[0m       \u001b[1;32mexcept\u001b[0m \u001b[1;33m(\u001b[0m\u001b[0mStopIteration\u001b[0m\u001b[1;33m,\u001b[0m \u001b[0merrors\u001b[0m\u001b[1;33m.\u001b[0m\u001b[0mOutOfRangeError\u001b[0m\u001b[1;33m)\u001b[0m\u001b[1;33m:\u001b[0m\u001b[1;33m\u001b[0m\u001b[1;33m\u001b[0m\u001b[0m\n\u001b[0;32m    130\u001b[0m         \u001b[1;31m# TODO(kaftan): File bug about tf function and errors.OutOfRangeError?\u001b[0m\u001b[1;33m\u001b[0m\u001b[1;33m\u001b[0m\u001b[1;33m\u001b[0m\u001b[0m\n",
      "\u001b[1;32m~\\Anaconda\\envs\\jlab\\lib\\site-packages\\tensorflow_core\\python\\keras\\engine\\training_v2_utils.py\u001b[0m in \u001b[0;36mexecution_function\u001b[1;34m(input_fn)\u001b[0m\n\u001b[0;32m     96\u001b[0m     \u001b[1;31m# `numpy` translates Tensors to values in Eager mode.\u001b[0m\u001b[1;33m\u001b[0m\u001b[1;33m\u001b[0m\u001b[1;33m\u001b[0m\u001b[0m\n\u001b[0;32m     97\u001b[0m     return nest.map_structure(_non_none_constant_value,\n\u001b[1;32m---> 98\u001b[1;33m                               distributed_function(input_fn))\n\u001b[0m\u001b[0;32m     99\u001b[0m \u001b[1;33m\u001b[0m\u001b[0m\n\u001b[0;32m    100\u001b[0m   \u001b[1;32mreturn\u001b[0m \u001b[0mexecution_function\u001b[0m\u001b[1;33m\u001b[0m\u001b[1;33m\u001b[0m\u001b[0m\n",
      "\u001b[1;32m~\\Anaconda\\envs\\jlab\\lib\\site-packages\\tensorflow_core\\python\\eager\\def_function.py\u001b[0m in \u001b[0;36m__call__\u001b[1;34m(self, *args, **kwds)\u001b[0m\n\u001b[0;32m    566\u001b[0m         \u001b[0mxla_context\u001b[0m\u001b[1;33m.\u001b[0m\u001b[0mExit\u001b[0m\u001b[1;33m(\u001b[0m\u001b[1;33m)\u001b[0m\u001b[1;33m\u001b[0m\u001b[1;33m\u001b[0m\u001b[0m\n\u001b[0;32m    567\u001b[0m     \u001b[1;32melse\u001b[0m\u001b[1;33m:\u001b[0m\u001b[1;33m\u001b[0m\u001b[1;33m\u001b[0m\u001b[0m\n\u001b[1;32m--> 568\u001b[1;33m       \u001b[0mresult\u001b[0m \u001b[1;33m=\u001b[0m \u001b[0mself\u001b[0m\u001b[1;33m.\u001b[0m\u001b[0m_call\u001b[0m\u001b[1;33m(\u001b[0m\u001b[1;33m*\u001b[0m\u001b[0margs\u001b[0m\u001b[1;33m,\u001b[0m \u001b[1;33m**\u001b[0m\u001b[0mkwds\u001b[0m\u001b[1;33m)\u001b[0m\u001b[1;33m\u001b[0m\u001b[1;33m\u001b[0m\u001b[0m\n\u001b[0m\u001b[0;32m    569\u001b[0m \u001b[1;33m\u001b[0m\u001b[0m\n\u001b[0;32m    570\u001b[0m     \u001b[1;32mif\u001b[0m \u001b[0mtracing_count\u001b[0m \u001b[1;33m==\u001b[0m \u001b[0mself\u001b[0m\u001b[1;33m.\u001b[0m\u001b[0m_get_tracing_count\u001b[0m\u001b[1;33m(\u001b[0m\u001b[1;33m)\u001b[0m\u001b[1;33m:\u001b[0m\u001b[1;33m\u001b[0m\u001b[1;33m\u001b[0m\u001b[0m\n",
      "\u001b[1;32m~\\Anaconda\\envs\\jlab\\lib\\site-packages\\tensorflow_core\\python\\eager\\def_function.py\u001b[0m in \u001b[0;36m_call\u001b[1;34m(self, *args, **kwds)\u001b[0m\n\u001b[0;32m    597\u001b[0m       \u001b[1;31m# In this case we have created variables on the first call, so we run the\u001b[0m\u001b[1;33m\u001b[0m\u001b[1;33m\u001b[0m\u001b[1;33m\u001b[0m\u001b[0m\n\u001b[0;32m    598\u001b[0m       \u001b[1;31m# defunned version which is guaranteed to never create variables.\u001b[0m\u001b[1;33m\u001b[0m\u001b[1;33m\u001b[0m\u001b[1;33m\u001b[0m\u001b[0m\n\u001b[1;32m--> 599\u001b[1;33m       \u001b[1;32mreturn\u001b[0m \u001b[0mself\u001b[0m\u001b[1;33m.\u001b[0m\u001b[0m_stateless_fn\u001b[0m\u001b[1;33m(\u001b[0m\u001b[1;33m*\u001b[0m\u001b[0margs\u001b[0m\u001b[1;33m,\u001b[0m \u001b[1;33m**\u001b[0m\u001b[0mkwds\u001b[0m\u001b[1;33m)\u001b[0m  \u001b[1;31m# pylint: disable=not-callable\u001b[0m\u001b[1;33m\u001b[0m\u001b[1;33m\u001b[0m\u001b[0m\n\u001b[0m\u001b[0;32m    600\u001b[0m     \u001b[1;32melif\u001b[0m \u001b[0mself\u001b[0m\u001b[1;33m.\u001b[0m\u001b[0m_stateful_fn\u001b[0m \u001b[1;32mis\u001b[0m \u001b[1;32mnot\u001b[0m \u001b[1;32mNone\u001b[0m\u001b[1;33m:\u001b[0m\u001b[1;33m\u001b[0m\u001b[1;33m\u001b[0m\u001b[0m\n\u001b[0;32m    601\u001b[0m       \u001b[1;31m# Release the lock early so that multiple threads can perform the call\u001b[0m\u001b[1;33m\u001b[0m\u001b[1;33m\u001b[0m\u001b[1;33m\u001b[0m\u001b[0m\n",
      "\u001b[1;32m~\\Anaconda\\envs\\jlab\\lib\\site-packages\\tensorflow_core\\python\\eager\\function.py\u001b[0m in \u001b[0;36m__call__\u001b[1;34m(self, *args, **kwargs)\u001b[0m\n\u001b[0;32m   2361\u001b[0m     \u001b[1;32mwith\u001b[0m \u001b[0mself\u001b[0m\u001b[1;33m.\u001b[0m\u001b[0m_lock\u001b[0m\u001b[1;33m:\u001b[0m\u001b[1;33m\u001b[0m\u001b[1;33m\u001b[0m\u001b[0m\n\u001b[0;32m   2362\u001b[0m       \u001b[0mgraph_function\u001b[0m\u001b[1;33m,\u001b[0m \u001b[0margs\u001b[0m\u001b[1;33m,\u001b[0m \u001b[0mkwargs\u001b[0m \u001b[1;33m=\u001b[0m \u001b[0mself\u001b[0m\u001b[1;33m.\u001b[0m\u001b[0m_maybe_define_function\u001b[0m\u001b[1;33m(\u001b[0m\u001b[0margs\u001b[0m\u001b[1;33m,\u001b[0m \u001b[0mkwargs\u001b[0m\u001b[1;33m)\u001b[0m\u001b[1;33m\u001b[0m\u001b[1;33m\u001b[0m\u001b[0m\n\u001b[1;32m-> 2363\u001b[1;33m     \u001b[1;32mreturn\u001b[0m \u001b[0mgraph_function\u001b[0m\u001b[1;33m.\u001b[0m\u001b[0m_filtered_call\u001b[0m\u001b[1;33m(\u001b[0m\u001b[0margs\u001b[0m\u001b[1;33m,\u001b[0m \u001b[0mkwargs\u001b[0m\u001b[1;33m)\u001b[0m  \u001b[1;31m# pylint: disable=protected-access\u001b[0m\u001b[1;33m\u001b[0m\u001b[1;33m\u001b[0m\u001b[0m\n\u001b[0m\u001b[0;32m   2364\u001b[0m \u001b[1;33m\u001b[0m\u001b[0m\n\u001b[0;32m   2365\u001b[0m   \u001b[1;33m@\u001b[0m\u001b[0mproperty\u001b[0m\u001b[1;33m\u001b[0m\u001b[1;33m\u001b[0m\u001b[0m\n",
      "\u001b[1;32m~\\Anaconda\\envs\\jlab\\lib\\site-packages\\tensorflow_core\\python\\eager\\function.py\u001b[0m in \u001b[0;36m_filtered_call\u001b[1;34m(self, args, kwargs)\u001b[0m\n\u001b[0;32m   1609\u001b[0m          if isinstance(t, (ops.Tensor,\n\u001b[0;32m   1610\u001b[0m                            resource_variable_ops.BaseResourceVariable))),\n\u001b[1;32m-> 1611\u001b[1;33m         self.captured_inputs)\n\u001b[0m\u001b[0;32m   1612\u001b[0m \u001b[1;33m\u001b[0m\u001b[0m\n\u001b[0;32m   1613\u001b[0m   \u001b[1;32mdef\u001b[0m \u001b[0m_call_flat\u001b[0m\u001b[1;33m(\u001b[0m\u001b[0mself\u001b[0m\u001b[1;33m,\u001b[0m \u001b[0margs\u001b[0m\u001b[1;33m,\u001b[0m \u001b[0mcaptured_inputs\u001b[0m\u001b[1;33m,\u001b[0m \u001b[0mcancellation_manager\u001b[0m\u001b[1;33m=\u001b[0m\u001b[1;32mNone\u001b[0m\u001b[1;33m)\u001b[0m\u001b[1;33m:\u001b[0m\u001b[1;33m\u001b[0m\u001b[1;33m\u001b[0m\u001b[0m\n",
      "\u001b[1;32m~\\Anaconda\\envs\\jlab\\lib\\site-packages\\tensorflow_core\\python\\eager\\function.py\u001b[0m in \u001b[0;36m_call_flat\u001b[1;34m(self, args, captured_inputs, cancellation_manager)\u001b[0m\n\u001b[0;32m   1690\u001b[0m       \u001b[1;31m# No tape is watching; skip to running the function.\u001b[0m\u001b[1;33m\u001b[0m\u001b[1;33m\u001b[0m\u001b[1;33m\u001b[0m\u001b[0m\n\u001b[0;32m   1691\u001b[0m       return self._build_call_outputs(self._inference_function.call(\n\u001b[1;32m-> 1692\u001b[1;33m           ctx, args, cancellation_manager=cancellation_manager))\n\u001b[0m\u001b[0;32m   1693\u001b[0m     forward_backward = self._select_forward_and_backward_functions(\n\u001b[0;32m   1694\u001b[0m         \u001b[0margs\u001b[0m\u001b[1;33m,\u001b[0m\u001b[1;33m\u001b[0m\u001b[1;33m\u001b[0m\u001b[0m\n",
      "\u001b[1;32m~\\Anaconda\\envs\\jlab\\lib\\site-packages\\tensorflow_core\\python\\eager\\function.py\u001b[0m in \u001b[0;36mcall\u001b[1;34m(self, ctx, args, cancellation_manager)\u001b[0m\n\u001b[0;32m    543\u001b[0m               \u001b[0minputs\u001b[0m\u001b[1;33m=\u001b[0m\u001b[0margs\u001b[0m\u001b[1;33m,\u001b[0m\u001b[1;33m\u001b[0m\u001b[1;33m\u001b[0m\u001b[0m\n\u001b[0;32m    544\u001b[0m               \u001b[0mattrs\u001b[0m\u001b[1;33m=\u001b[0m\u001b[1;33m(\u001b[0m\u001b[1;34m\"executor_type\"\u001b[0m\u001b[1;33m,\u001b[0m \u001b[0mexecutor_type\u001b[0m\u001b[1;33m,\u001b[0m \u001b[1;34m\"config_proto\"\u001b[0m\u001b[1;33m,\u001b[0m \u001b[0mconfig\u001b[0m\u001b[1;33m)\u001b[0m\u001b[1;33m,\u001b[0m\u001b[1;33m\u001b[0m\u001b[1;33m\u001b[0m\u001b[0m\n\u001b[1;32m--> 545\u001b[1;33m               ctx=ctx)\n\u001b[0m\u001b[0;32m    546\u001b[0m         \u001b[1;32melse\u001b[0m\u001b[1;33m:\u001b[0m\u001b[1;33m\u001b[0m\u001b[1;33m\u001b[0m\u001b[0m\n\u001b[0;32m    547\u001b[0m           outputs = execute.execute_with_cancellation(\n",
      "\u001b[1;32m~\\Anaconda\\envs\\jlab\\lib\\site-packages\\tensorflow_core\\python\\eager\\execute.py\u001b[0m in \u001b[0;36mquick_execute\u001b[1;34m(op_name, num_outputs, inputs, attrs, ctx, name)\u001b[0m\n\u001b[0;32m     59\u001b[0m     tensors = pywrap_tensorflow.TFE_Py_Execute(ctx._handle, device_name,\n\u001b[0;32m     60\u001b[0m                                                \u001b[0mop_name\u001b[0m\u001b[1;33m,\u001b[0m \u001b[0minputs\u001b[0m\u001b[1;33m,\u001b[0m \u001b[0mattrs\u001b[0m\u001b[1;33m,\u001b[0m\u001b[1;33m\u001b[0m\u001b[1;33m\u001b[0m\u001b[0m\n\u001b[1;32m---> 61\u001b[1;33m                                                num_outputs)\n\u001b[0m\u001b[0;32m     62\u001b[0m   \u001b[1;32mexcept\u001b[0m \u001b[0mcore\u001b[0m\u001b[1;33m.\u001b[0m\u001b[0m_NotOkStatusException\u001b[0m \u001b[1;32mas\u001b[0m \u001b[0me\u001b[0m\u001b[1;33m:\u001b[0m\u001b[1;33m\u001b[0m\u001b[1;33m\u001b[0m\u001b[0m\n\u001b[0;32m     63\u001b[0m     \u001b[1;32mif\u001b[0m \u001b[0mname\u001b[0m \u001b[1;32mis\u001b[0m \u001b[1;32mnot\u001b[0m \u001b[1;32mNone\u001b[0m\u001b[1;33m:\u001b[0m\u001b[1;33m\u001b[0m\u001b[1;33m\u001b[0m\u001b[0m\n",
      "\u001b[1;31mKeyboardInterrupt\u001b[0m: "
     ]
    }
   ],
   "source": [
    "history = sr_ctc.m.fit([np.squeeze(X_train), \n",
    "                            labels, \n",
    "                            input_length, \n",
    "                            label_length], \n",
    "                       np.zeros([len(Y_train_all)]), \n",
    "                       batch_size = 256, \n",
    "                       epochs = 10, \n",
    "                       validation_data = ([np.squeeze(X_val), \n",
    "                                           labels_val, \n",
    "                                           input_length_val, \n",
    "                                           label_length_val],\n",
    "                                          np.zeros([len(Y_val_all)])), \n",
    "                       callbacks = [checkpointer], \n",
    "                       verbose = 1, shuffle = True)\n"
   ]
  },
  {
   "cell_type": "code",
   "execution_count": 14,
   "metadata": {
    "Collapsed": "false"
   },
   "outputs": [],
   "source": [
    "sr_ctc.m.save_weights('./models/ctc_{}.h5'.format(date))\n",
    "sr_ctc.tm.load_weights('./models/ctc_{}_best.h5'.format(date))"
   ]
  },
  {
   "cell_type": "code",
   "execution_count": 15,
   "metadata": {
    "Collapsed": "false"
   },
   "outputs": [
    {
     "name": "stdout",
     "output_type": "stream",
     "text": [
      "dict_keys(['loss', 'val_acc', 'val_loss', 'acc'])\n"
     ]
    },
    {
     "data": {
      "image/png": "[encoded data removed]",
      "text/plain": [
       "<matplotlib.figure.Figure at 0x7f0d1a79f828>"
      ]
     },
     "metadata": {},
     "output_type": "display_data"
    },
    {
     "data": {
      "image/png": "[encoded data removed]",
      "text/plain": [
       "<matplotlib.figure.Figure at 0x7f0d1a755cc0>"
      ]
     },
     "metadata": {},
     "output_type": "display_data"
    }
   ],
   "source": [
    "# plot\n",
    "print(history.history.keys())\n",
    "# summarize history for accuracy\n",
    "plt.plot(history.history['acc'])\n",
    "plt.plot(history.history['val_acc'])\n",
    "plt.title('model accuracy')\n",
    "plt.ylabel('accuracy')\n",
    "plt.xlabel('epoch')\n",
    "plt.legend(['train', 'test'], loc='upper left')\n",
    "plt.savefig('graphs/ctc_{}_acc.png'.format(date),bbox_inches='tight')\n",
    "plt.show()\n",
    "# summarize history for loss\n",
    "plt.plot(history.history['loss'])\n",
    "plt.plot(history.history['val_loss'])\n",
    "plt.title('model loss')\n",
    "plt.ylabel('loss')\n",
    "plt.xlabel('epoch')\n",
    "plt.legend(['train', 'test'], loc='upper left')\n",
    "plt.savefig('graphs/ctc_{}_loss.png'.format(date), bbox_inches='tight')\n",
    "plt.show()"
   ]
  },
  {
   "cell_type": "markdown",
   "metadata": {
    "Collapsed": "false"
   },
   "source": [
    "decode the output of the predictions into strings"
   ]
  },
  {
   "cell_type": "code",
   "execution_count": 33,
   "metadata": {
    "Collapsed": "false"
   },
   "outputs": [],
   "source": [
    "def str_out(dataset = X_val):\n",
    "    k_ctc_out = K.ctc_decode(sr_ctc.tm.predict(np.squeeze(dataset), \n",
    "                                                verbose = 1), \n",
    "                             np.array([28 for _ in dataset]))\n",
    "    decoded_out = K.eval(k_ctc_out[0][0])\n",
    "    str_decoded_out = []\n",
    "    for i, _ in enumerate(decoded_out):     \n",
    "        str_decoded_out.append(\"\".join([index_map[c] for c in decoded_out[i] if not c == -1]))\n",
    "        \n",
    "    return str_decoded_out"
   ]
  },
  {
   "cell_type": "code",
   "execution_count": 22,
   "metadata": {
    "Collapsed": "false",
    "scrolled": true
   },
   "outputs": [
    {
     "name": "stdout",
     "output_type": "stream",
     "text": [
      "6839/6839 [==============================] - 4s 606us/step\n"
     ]
    }
   ],
   "source": [
    "y_pred_val = str_out()"
   ]
  },
  {
   "cell_type": "markdown",
   "metadata": {
    "Collapsed": "false"
   },
   "source": [
    "Turn the target array Y_val_all into strings with 'all_classes[Y_val_all[i]]'"
   ]
  },
  {
   "cell_type": "code",
   "execution_count": 44,
   "metadata": {
    "Collapsed": "false",
    "scrolled": true
   },
   "outputs": [
    {
     "name": "stdout",
     "output_type": "stream",
     "text": [
      "PREDICTED: \t REAL:\n",
      "three \t\t three\n",
      "cat \t\t cat\n",
      "marvin \t\t marvin\n",
      "up \t\t up\n",
      "riget \t\t right\n",
      "off \t\t off\n",
      "left \t\t left\n",
      "four \t\t four\n",
      "tree \t\t tree\n",
      "seven \t\t seven\n"
     ]
    }
   ],
   "source": [
    "print('PREDICTED: \\t REAL:')\n",
    "for i in range(10):\n",
    "    print(y_pred_val[i], '\\t\\t',all_classes[Y_val_all[i]])"
   ]
  },
  {
   "cell_type": "code",
   "execution_count": 47,
   "metadata": {
    "Collapsed": "false",
    "scrolled": true
   },
   "outputs": [
    {
     "name": "stdout",
     "output_type": "stream",
     "text": [
      "             precision    recall  f1-score   support\n",
      "\n",
      "        yes       1.00      0.94      0.97       261\n",
      "         no       0.96      0.82      0.88       270\n",
      "         up       0.94      0.88      0.91       260\n",
      "       down       0.98      0.81      0.89       264\n",
      "       left       0.99      0.91      0.95       247\n",
      "      right       0.98      0.88      0.93       256\n",
      "         on       0.91      0.89      0.90       257\n",
      "        off       0.96      0.28      0.43       256\n",
      "       stop       0.99      0.89      0.94       246\n",
      "         go       0.80      0.85      0.82       260\n",
      "    silence       0.00      0.00      0.00        41\n",
      "      house       1.00      0.95      0.97       173\n",
      "       nine       0.98      0.87      0.92       230\n",
      "       four       0.99      0.91      0.95       280\n",
      "      happy       0.99      0.98      0.99       189\n",
      "        wow       0.99      0.90      0.95       166\n",
      "       five       0.97      0.82      0.89       242\n",
      "       zero       1.00      0.93      0.96       260\n",
      "       tree       0.84      0.84      0.84       166\n",
      "        six       0.99      0.92      0.96       262\n",
      "        one       0.99      0.89      0.93       230\n",
      "      three       0.92      0.81      0.86       248\n",
      "      eight       0.96      0.90      0.93       243\n",
      "        cat       1.00      0.90      0.95       168\n",
      "        two       0.93      0.91      0.92       236\n",
      "      seven       1.00      0.89      0.94       263\n",
      "     marvin       1.00      0.94      0.97       160\n",
      "        dog       0.95      0.89      0.92       170\n",
      "     sheila       0.99      0.93      0.96       176\n",
      "        bed       0.98      0.84      0.90       197\n",
      "       bird       0.99      0.88      0.93       162\n",
      "\n",
      "avg / total       0.96      0.86      0.90      6839\n",
      "\n"
     ]
    },
    {
     "name": "stderr",
     "output_type": "stream",
     "text": [
      "/home/chris/.conda/envs/deep/lib/python3.5/site-packages/sklearn/metrics/classification.py:1135: UndefinedMetricWarning: Precision and F-score are ill-defined and being set to 0.0 in labels with no predicted samples.\n",
      "  'precision', 'predicted', average, warn_for)\n"
     ]
    }
   ],
   "source": [
    "print(classification_report([all_classes[Y_val_all[i]] for i, _ in enumerate(Y_val_all)], \n",
    "                            y_pred_val, labels = all_classes))"
   ]
  },
  {
   "cell_type": "code",
   "execution_count": 55,
   "metadata": {
    "Collapsed": "false"
   },
   "outputs": [
    {
     "data": {
      "image/png": "[encoded data removed]",
      "text/plain": [
       "<matplotlib.figure.Figure at 0x7f0d10725da0>"
      ]
     },
     "metadata": {},
     "output_type": "display_data"
    }
   ],
   "source": [
    "plt.figure(figsize = (8,8))\n",
    "plt.imshow(confusion_matrix([all_classes[Y_val_all[i]] for i, _ in enumerate(Y_val_all)], \n",
    "                            y_pred_val, labels = all_classes))\n",
    "plt.xticks(np.arange(0, len(all_classes)), all_classes, rotation = 'vertical', size = 12)\n",
    "plt.yticks(np.arange(0, len(all_classes)), all_classes, size = 12)\n",
    "plt.show()"
   ]
  }
 ],
 "metadata": {
  "kernelspec": {
   "display_name": "Python 3",
   "language": "python",
   "name": "python3"
  },
  "language_info": {
   "codemirror_mode": {
    "name": "ipython",
    "version": 3
   },
   "file_extension": ".py",
   "mimetype": "text/x-python",
   "name": "python",
   "nbconvert_exporter": "python",
   "pygments_lexer": "ipython3",
   "version": "3.7.6"
  }
 },
 "nbformat": 4,
 "nbformat_minor": 4
}
