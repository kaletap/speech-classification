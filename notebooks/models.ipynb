{
 "cells": [
  {
   "cell_type": "code",
   "execution_count": 1,
   "metadata": {
    "Collapsed": "false",
    "_uuid": "6e7b6f6347f596f78b3a8fb88cb7a820541998b1"
   },
   "outputs": [],
   "source": [
    "#path\n",
    "import os\n",
    "from os.path import isdir, join\n",
    "from pathlib import Path\n",
    "\n",
    "# Scientific Math \n",
    "import numpy as np\n",
    "from scipy.fftpack import fft\n",
    "from scipy import signal\n",
    "from scipy.io import wavfile\n",
    "from sklearn.model_selection import train_test_split\n",
    "\n",
    "# Visualization\n",
    "import matplotlib.pyplot as plt\n",
    "import tensorflow as tf\n",
    "import plotly.offline as py\n",
    "import plotly.graph_objs as go\n",
    "\n",
    "#Deep learning\n",
    "import tensorflow.keras as keras\n",
    "from tensorflow.keras.layers import Dense, Dropout, Flatten\n",
    "from tensorflow.keras import Input, layers\n",
    "from tensorflow.keras import backend as K\n",
    "import tensorflow as tf\n",
    "\n",
    "import random\n",
    "import copy\n",
    "import librosa\n",
    "\n",
    "\n",
    "from IPython.core.interactiveshell import InteractiveShell\n",
    "InteractiveShell.ast_node_interactivity = \"all\"\n",
    "%matplotlib inline"
   ]
  },
  {
   "cell_type": "code",
   "execution_count": 2,
   "metadata": {
    "Collapsed": "false",
    "_uuid": "bb0bfbe942e8dc8e6bf4864b7ec66212734657bb"
   },
   "outputs": [
    {
     "name": "stdout",
     "output_type": "stream",
     "text": [
      "['processed', 'test', 'train']\n"
     ]
    }
   ],
   "source": [
    "print(os.listdir(\"../data\"))"
   ]
  },
  {
   "cell_type": "code",
   "execution_count": 3,
   "metadata": {
    "Collapsed": "false",
    "_uuid": "1979ce525c49d97564617560c48fe00e40707b17"
   },
   "outputs": [
    {
     "name": "stdout",
     "output_type": "stream",
     "text": [
      "['bed', 'bird', 'cat', 'dog', 'down', 'eight', 'five', 'four', 'go', 'happy', 'house', 'left', 'marvin', 'nine', 'no', 'off', 'on', 'one', 'right', 'seven', 'sheila', 'six', 'stop', 'three', 'tree', 'two', 'up', 'wow', 'yes', 'zero', '_background_noise_']\n"
     ]
    }
   ],
   "source": [
    "train_audio_path = '../data/train/audio/'\n",
    "print(os.listdir(train_audio_path))"
   ]
  },
  {
   "cell_type": "markdown",
   "metadata": {
    "Collapsed": "false",
    "_uuid": "bc717705d62e8a2a312a983f59ab0406c0e0329b"
   },
   "source": [
    "### Load Data\n",
    "Load everything from scratch\n",
    "\n",
    "target list is ['yes', 'no', 'up', 'down', 'left', 'right', 'on', 'off', 'stop', 'go']\n",
    "unknown list is other\n",
    "silence will be made from '_background_noise_'\n",
    "\n",
    "Train data's sampling rate is 16000Hz, but for making lower computation cost, Resample to 8000hz\n",
    "\n",
    "After training, test set also will resample to 8000Hz"
   ]
  },
  {
   "cell_type": "code",
   "execution_count": 4,
   "metadata": {
    "Collapsed": "false",
    "_uuid": "baf56ce3fd56eb7c6dd4b5d088105a631654071e"
   },
   "outputs": [
    {
     "name": "stdout",
     "output_type": "stream",
     "text": [
      "Number of labels: 30\n",
      "['_background_noise_', 'bed', 'bird', 'cat', 'dog', 'down', 'eight', 'five', 'four', 'go', 'happy', 'house', 'left', 'marvin', 'nine', 'no', 'off', 'on', 'one', 'right', 'seven', 'sheila', 'six', 'stop', 'three', 'tree', 'two', 'up', 'wow', 'yes', 'zero']\n"
     ]
    }
   ],
   "source": [
    "dirs = [f for f in os.listdir(train_audio_path) if isdir(join(train_audio_path, f))]\n",
    "dirs.sort()\n",
    "print('Number of labels: ' + str(len(dirs[1:])))\n",
    "print(dirs)"
   ]
  },
  {
   "cell_type": "code",
   "execution_count": 5,
   "metadata": {
    "Collapsed": "false",
    "_uuid": "cdeb5698a33395d714bd7ec249f25a668734bc7d",
    "scrolled": true
   },
   "outputs": [
    {
     "name": "stdout",
     "output_type": "stream",
     "text": [
      "target_list : ['yes', 'no', 'up', 'down', 'left', 'right', 'on', 'off', 'stop', 'go']\n",
      "unknowns_list : ['bed', 'bird', 'cat', 'dog', 'eight', 'five', 'four', 'happy', 'house', 'marvin', 'nine', 'one', 'seven', 'sheila', 'six', 'three', 'tree', 'two', 'wow', 'zero']\n",
      "silence : _background_noise_\n"
     ]
    }
   ],
   "source": [
    "all_wav = []\n",
    "unknown_wav = []\n",
    "label_all = []\n",
    "label_value = {}\n",
    "target_list = ['yes', 'no', 'up', 'down', 'left', 'right', 'on', 'off', 'stop', 'go']\n",
    "unknown_list = [d for d in dirs if d not in target_list and d != '_background_noise_' ]\n",
    "print('target_list : ',end='')\n",
    "print(target_list)\n",
    "print('unknowns_list : ', end='')\n",
    "print(unknown_list)\n",
    "print('silence : _background_noise_')\n",
    "i=0;\n",
    "background = [f for f in os.listdir(join(train_audio_path, '_background_noise_')) if f.endswith('.wav')]\n",
    "background_noise = []\n",
    "for wav in background : \n",
    "    samples, sample_rate = librosa.load(join(join(train_audio_path,'_background_noise_'),wav))\n",
    "    samples = librosa.resample(samples, sample_rate, 8000)\n",
    "    background_noise.append(samples)"
   ]
  },
  {
   "cell_type": "markdown",
   "metadata": {
    "Collapsed": "true",
    "toc-hr-collapsed": true,
    "toc-nb-collapsed": true
   },
   "source": [
    "### load from scratch"
   ]
  },
  {
   "cell_type": "code",
   "execution_count": 6,
   "metadata": {
    "Collapsed": "false",
    "_uuid": "cdeb5698a33395d714bd7ec249f25a668734bc7d",
    "scrolled": true
   },
   "outputs": [
    {
     "name": "stdout",
     "output_type": "stream",
     "text": [
      "1:bed "
     ]
    },
    {
     "ename": "KeyboardInterrupt",
     "evalue": "",
     "output_type": "error",
     "traceback": [
      "\u001b[1;31m---------------------------------------------------------------------------\u001b[0m",
      "\u001b[1;31mKeyboardInterrupt\u001b[0m                         Traceback (most recent call last)",
      "\u001b[1;32m<ipython-input-6-fcac8044a0ea>\u001b[0m in \u001b[0;36m<module>\u001b[1;34m\u001b[0m\n\u001b[0;32m      5\u001b[0m     \u001b[0mprint\u001b[0m\u001b[1;33m(\u001b[0m\u001b[0mstr\u001b[0m\u001b[1;33m(\u001b[0m\u001b[0mi\u001b[0m\u001b[1;33m)\u001b[0m\u001b[1;33m+\u001b[0m\u001b[1;34m\":\"\u001b[0m \u001b[1;33m+\u001b[0m\u001b[0mstr\u001b[0m\u001b[1;33m(\u001b[0m\u001b[0mdirect\u001b[0m\u001b[1;33m)\u001b[0m \u001b[1;33m+\u001b[0m \u001b[1;34m\" \"\u001b[0m\u001b[1;33m,\u001b[0m \u001b[0mend\u001b[0m\u001b[1;33m=\u001b[0m\u001b[1;34m\"\"\u001b[0m\u001b[1;33m)\u001b[0m\u001b[1;33m\u001b[0m\u001b[1;33m\u001b[0m\u001b[0m\n\u001b[0;32m      6\u001b[0m     \u001b[1;32mfor\u001b[0m \u001b[0mwav\u001b[0m \u001b[1;32min\u001b[0m \u001b[0mwaves\u001b[0m\u001b[1;33m:\u001b[0m\u001b[1;33m\u001b[0m\u001b[1;33m\u001b[0m\u001b[0m\n\u001b[1;32m----> 7\u001b[1;33m         \u001b[0msamples\u001b[0m\u001b[1;33m,\u001b[0m \u001b[0msample_rate\u001b[0m \u001b[1;33m=\u001b[0m \u001b[0mlibrosa\u001b[0m\u001b[1;33m.\u001b[0m\u001b[0mload\u001b[0m\u001b[1;33m(\u001b[0m\u001b[0mjoin\u001b[0m\u001b[1;33m(\u001b[0m\u001b[0mjoin\u001b[0m\u001b[1;33m(\u001b[0m\u001b[0mtrain_audio_path\u001b[0m\u001b[1;33m,\u001b[0m\u001b[0mdirect\u001b[0m\u001b[1;33m)\u001b[0m\u001b[1;33m,\u001b[0m\u001b[0mwav\u001b[0m\u001b[1;33m)\u001b[0m\u001b[1;33m,\u001b[0m \u001b[0msr\u001b[0m \u001b[1;33m=\u001b[0m \u001b[1;36m16000\u001b[0m\u001b[1;33m)\u001b[0m\u001b[1;33m\u001b[0m\u001b[1;33m\u001b[0m\u001b[0m\n\u001b[0m\u001b[0;32m      8\u001b[0m         \u001b[0msamples\u001b[0m \u001b[1;33m=\u001b[0m \u001b[0mlibrosa\u001b[0m\u001b[1;33m.\u001b[0m\u001b[0mresample\u001b[0m\u001b[1;33m(\u001b[0m\u001b[0msamples\u001b[0m\u001b[1;33m,\u001b[0m \u001b[0msample_rate\u001b[0m\u001b[1;33m,\u001b[0m \u001b[1;36m8000\u001b[0m\u001b[1;33m)\u001b[0m\u001b[1;33m\u001b[0m\u001b[1;33m\u001b[0m\u001b[0m\n\u001b[0;32m      9\u001b[0m         \u001b[1;32mif\u001b[0m \u001b[0mlen\u001b[0m\u001b[1;33m(\u001b[0m\u001b[0msamples\u001b[0m\u001b[1;33m)\u001b[0m \u001b[1;33m!=\u001b[0m \u001b[1;36m8000\u001b[0m \u001b[1;33m:\u001b[0m\u001b[1;33m\u001b[0m\u001b[1;33m\u001b[0m\u001b[0m\n",
      "\u001b[1;32m~\\Anaconda\\envs\\jlab\\lib\\site-packages\\librosa\\core\\audio.py\u001b[0m in \u001b[0;36mload\u001b[1;34m(path, sr, mono, offset, duration, dtype, res_type)\u001b[0m\n\u001b[0;32m    169\u001b[0m \u001b[1;33m\u001b[0m\u001b[0m\n\u001b[0;32m    170\u001b[0m     \u001b[1;32mif\u001b[0m \u001b[0msr\u001b[0m \u001b[1;32mis\u001b[0m \u001b[1;32mnot\u001b[0m \u001b[1;32mNone\u001b[0m\u001b[1;33m:\u001b[0m\u001b[1;33m\u001b[0m\u001b[1;33m\u001b[0m\u001b[0m\n\u001b[1;32m--> 171\u001b[1;33m         \u001b[0my\u001b[0m \u001b[1;33m=\u001b[0m \u001b[0mresample\u001b[0m\u001b[1;33m(\u001b[0m\u001b[0my\u001b[0m\u001b[1;33m,\u001b[0m \u001b[0msr_native\u001b[0m\u001b[1;33m,\u001b[0m \u001b[0msr\u001b[0m\u001b[1;33m,\u001b[0m \u001b[0mres_type\u001b[0m\u001b[1;33m=\u001b[0m\u001b[0mres_type\u001b[0m\u001b[1;33m)\u001b[0m\u001b[1;33m\u001b[0m\u001b[1;33m\u001b[0m\u001b[0m\n\u001b[0m\u001b[0;32m    172\u001b[0m \u001b[1;33m\u001b[0m\u001b[0m\n\u001b[0;32m    173\u001b[0m     \u001b[1;32melse\u001b[0m\u001b[1;33m:\u001b[0m\u001b[1;33m\u001b[0m\u001b[1;33m\u001b[0m\u001b[0m\n",
      "\u001b[1;32m~\\Anaconda\\envs\\jlab\\lib\\site-packages\\librosa\\core\\audio.py\u001b[0m in \u001b[0;36mresample\u001b[1;34m(y, orig_sr, target_sr, res_type, fix, scale, **kwargs)\u001b[0m\n\u001b[0;32m    522\u001b[0m \u001b[1;33m\u001b[0m\u001b[0m\n\u001b[0;32m    523\u001b[0m     \u001b[1;31m# First, validate the audio buffer\u001b[0m\u001b[1;33m\u001b[0m\u001b[1;33m\u001b[0m\u001b[1;33m\u001b[0m\u001b[0m\n\u001b[1;32m--> 524\u001b[1;33m     \u001b[0mutil\u001b[0m\u001b[1;33m.\u001b[0m\u001b[0mvalid_audio\u001b[0m\u001b[1;33m(\u001b[0m\u001b[0my\u001b[0m\u001b[1;33m,\u001b[0m \u001b[0mmono\u001b[0m\u001b[1;33m=\u001b[0m\u001b[1;32mFalse\u001b[0m\u001b[1;33m)\u001b[0m\u001b[1;33m\u001b[0m\u001b[1;33m\u001b[0m\u001b[0m\n\u001b[0m\u001b[0;32m    525\u001b[0m \u001b[1;33m\u001b[0m\u001b[0m\n\u001b[0;32m    526\u001b[0m     \u001b[1;32mif\u001b[0m \u001b[0morig_sr\u001b[0m \u001b[1;33m==\u001b[0m \u001b[0mtarget_sr\u001b[0m\u001b[1;33m:\u001b[0m\u001b[1;33m\u001b[0m\u001b[1;33m\u001b[0m\u001b[0m\n",
      "\u001b[1;32m~\\Anaconda\\envs\\jlab\\lib\\site-packages\\librosa\\util\\utils.py\u001b[0m in \u001b[0;36mvalid_audio\u001b[1;34m(y, mono)\u001b[0m\n\u001b[0;32m    272\u001b[0m                              'Received shape={}'.format(y.shape))\n\u001b[0;32m    273\u001b[0m \u001b[1;33m\u001b[0m\u001b[0m\n\u001b[1;32m--> 274\u001b[1;33m     \u001b[1;32mif\u001b[0m \u001b[1;32mnot\u001b[0m \u001b[0mnp\u001b[0m\u001b[1;33m.\u001b[0m\u001b[0misfinite\u001b[0m\u001b[1;33m(\u001b[0m\u001b[0my\u001b[0m\u001b[1;33m)\u001b[0m\u001b[1;33m.\u001b[0m\u001b[0mall\u001b[0m\u001b[1;33m(\u001b[0m\u001b[1;33m)\u001b[0m\u001b[1;33m:\u001b[0m\u001b[1;33m\u001b[0m\u001b[1;33m\u001b[0m\u001b[0m\n\u001b[0m\u001b[0;32m    275\u001b[0m         \u001b[1;32mraise\u001b[0m \u001b[0mParameterError\u001b[0m\u001b[1;33m(\u001b[0m\u001b[1;34m'Audio buffer is not finite everywhere'\u001b[0m\u001b[1;33m)\u001b[0m\u001b[1;33m\u001b[0m\u001b[1;33m\u001b[0m\u001b[0m\n\u001b[0;32m    276\u001b[0m \u001b[1;33m\u001b[0m\u001b[0m\n",
      "\u001b[1;31mKeyboardInterrupt\u001b[0m: "
     ]
    }
   ],
   "source": [
    "for direct in dirs[1:]:\n",
    "    waves = [f for f in os.listdir(join(train_audio_path, direct)) if f.endswith('.wav')]\n",
    "    label_value[direct] = i\n",
    "    i = i + 1\n",
    "    print(str(i)+\":\" +str(direct) + \" \", end=\"\")\n",
    "    for wav in waves:\n",
    "        samples, sample_rate = librosa.load(join(join(train_audio_path,direct),wav), sr = 16000)\n",
    "        samples = librosa.resample(samples, sample_rate, 8000)\n",
    "        if len(samples) != 8000 : \n",
    "            continue\n",
    "            \n",
    "        if direct in unknown_list:\n",
    "            unknown_wav.append(samples)\n",
    "        else:\n",
    "            label_all.append(direct)\n",
    "            all_wav.append([samples, direct])"
   ]
  },
  {
   "cell_type": "markdown",
   "metadata": {
    "Collapsed": "false",
    "_uuid": "e9efa60ca094eeae08d34e078d4ec62231e50054"
   },
   "source": [
    "split wav, label"
   ]
  },
  {
   "cell_type": "code",
   "execution_count": 7,
   "metadata": {
    "Collapsed": "false",
    "_uuid": "8501a2e50843829e3a51853c683f105b040e954f"
   },
   "outputs": [],
   "source": [
    "wav_all = np.reshape(np.delete(all_wav,1,1),(len(all_wav)))\n",
    "label_all = [i for i in np.delete(all_wav,0,1).tolist()]"
   ]
  },
  {
   "cell_type": "markdown",
   "metadata": {
    "Collapsed": "true",
    "toc-hr-collapsed": true,
    "toc-nb-collapsed": true
   },
   "source": [
    "### Saving preprocessed files\n",
    "Save data loaded from scratch"
   ]
  },
  {
   "cell_type": "code",
   "execution_count": 8,
   "metadata": {
    "Collapsed": "false"
   },
   "outputs": [],
   "source": [
    "np.save(\"../data/processed/wav_all.npy\", wav_all)\n",
    "np.save(\"../data/processed/label_all.npy\", label_all)\n",
    "np.save(\"../data/processed/unknown_wav.npy\", unknown_wav)"
   ]
  },
  {
   "cell_type": "code",
   "execution_count": 29,
   "metadata": {
    "Collapsed": "false",
    "collapsed": true,
    "jupyter": {
     "outputs_hidden": true
    }
   },
   "outputs": [
    {
     "data": {
      "text/plain": [
       "(21312,)"
      ]
     },
     "execution_count": 29,
     "metadata": {},
     "output_type": "execute_result"
    },
    {
     "data": {
      "text/plain": [
       "8000"
      ]
     },
     "execution_count": 29,
     "metadata": {},
     "output_type": "execute_result"
    },
    {
     "data": {
      "text/plain": [
       "21312"
      ]
     },
     "execution_count": 29,
     "metadata": {},
     "output_type": "execute_result"
    },
    {
     "data": {
      "text/plain": [
       "1"
      ]
     },
     "execution_count": 29,
     "metadata": {},
     "output_type": "execute_result"
    },
    {
     "data": {
      "text/plain": [
       "36940"
      ]
     },
     "execution_count": 29,
     "metadata": {},
     "output_type": "execute_result"
    },
    {
     "data": {
      "text/plain": [
       "8000"
      ]
     },
     "execution_count": 29,
     "metadata": {},
     "output_type": "execute_result"
    },
    {
     "data": {
      "text/plain": [
       "list"
      ]
     },
     "execution_count": 29,
     "metadata": {},
     "output_type": "execute_result"
    },
    {
     "data": {
      "text/plain": [
       "list"
      ]
     },
     "execution_count": 29,
     "metadata": {},
     "output_type": "execute_result"
    },
    {
     "data": {
      "text/plain": [
       "list"
      ]
     },
     "execution_count": 29,
     "metadata": {},
     "output_type": "execute_result"
    },
    {
     "data": {
      "text/plain": [
       "numpy.ndarray"
      ]
     },
     "execution_count": 29,
     "metadata": {},
     "output_type": "execute_result"
    },
    {
     "data": {
      "text/plain": [
       "(8000,)"
      ]
     },
     "execution_count": 29,
     "metadata": {},
     "output_type": "execute_result"
    }
   ],
   "source": [
    "wav_all.shape\n",
    "len(wav_all[0])\n",
    "len(label_all)\n",
    "len(label_all[0])\n",
    "len(unknown_wav)\n",
    "len(unknown_wav[0])\n",
    "type(label_all)\n",
    "type(unknown_wav)\n",
    "type(label_all[1])\n",
    "type(unknown_wav[1])\n",
    "unknown_wav[1].shape"
   ]
  },
  {
   "cell_type": "markdown",
   "metadata": {
    "Collapsed": "false"
   },
   "source": [
    "### Loading preprocessed files"
   ]
  },
  {
   "cell_type": "code",
   "execution_count": 6,
   "metadata": {
    "Collapsed": "false"
   },
   "outputs": [],
   "source": [
    "wav_all = np.load(\"../data/processed/wav_all.npy\", allow_pickle=True)\n",
    "label_all = np.load(\"../data/processed/label_all.npy\").tolist()\n",
    "unknown_wav = np.load(\"../data/processed/unknown_wav.npy\").tolist()\n",
    "unknown_wav = [np.asarray(elem) for elem in unknown_wav]"
   ]
  },
  {
   "cell_type": "code",
   "execution_count": 7,
   "metadata": {
    "Collapsed": "false"
   },
   "outputs": [
    {
     "data": {
      "text/plain": [
       "21312"
      ]
     },
     "execution_count": 7,
     "metadata": {},
     "output_type": "execute_result"
    }
   ],
   "source": [
    "len(label_all)"
   ]
  },
  {
   "cell_type": "code",
   "execution_count": 8,
   "metadata": {
    "Collapsed": "false"
   },
   "outputs": [
    {
     "data": {
      "text/plain": [
       "(21312,)"
      ]
     },
     "execution_count": 8,
     "metadata": {},
     "output_type": "execute_result"
    },
    {
     "data": {
      "text/plain": [
       "8000"
      ]
     },
     "execution_count": 8,
     "metadata": {},
     "output_type": "execute_result"
    },
    {
     "data": {
      "text/plain": [
       "21312"
      ]
     },
     "execution_count": 8,
     "metadata": {},
     "output_type": "execute_result"
    },
    {
     "data": {
      "text/plain": [
       "1"
      ]
     },
     "execution_count": 8,
     "metadata": {},
     "output_type": "execute_result"
    },
    {
     "data": {
      "text/plain": [
       "36940"
      ]
     },
     "execution_count": 8,
     "metadata": {},
     "output_type": "execute_result"
    },
    {
     "data": {
      "text/plain": [
       "8000"
      ]
     },
     "execution_count": 8,
     "metadata": {},
     "output_type": "execute_result"
    },
    {
     "data": {
      "text/plain": [
       "list"
      ]
     },
     "execution_count": 8,
     "metadata": {},
     "output_type": "execute_result"
    },
    {
     "data": {
      "text/plain": [
       "list"
      ]
     },
     "execution_count": 8,
     "metadata": {},
     "output_type": "execute_result"
    },
    {
     "data": {
      "text/plain": [
       "list"
      ]
     },
     "execution_count": 8,
     "metadata": {},
     "output_type": "execute_result"
    },
    {
     "data": {
      "text/plain": [
       "numpy.ndarray"
      ]
     },
     "execution_count": 8,
     "metadata": {},
     "output_type": "execute_result"
    },
    {
     "data": {
      "text/plain": [
       "(8000,)"
      ]
     },
     "execution_count": 8,
     "metadata": {},
     "output_type": "execute_result"
    }
   ],
   "source": [
    "wav_all.shape\n",
    "len(wav_all[0])\n",
    "len(label_all)\n",
    "len(label_all[0])\n",
    "len(unknown_wav)\n",
    "len(unknown_wav[0])\n",
    "type(label_all)\n",
    "type(unknown_wav)\n",
    "type(label_all[1])\n",
    "type(unknown_wav[1])\n",
    "unknown_wav[1].shape"
   ]
  },
  {
   "cell_type": "code",
   "execution_count": 9,
   "metadata": {
    "Collapsed": "false"
   },
   "outputs": [
    {
     "data": {
      "text/plain": [
       "array(['down', 'go', 'left', 'no', 'off', 'on', 'right', 'stop', 'up',\n",
       "       'yes'], dtype='<U5')"
      ]
     },
     "execution_count": 9,
     "metadata": {},
     "output_type": "execute_result"
    }
   ],
   "source": [
    "np.unique(label_all)"
   ]
  },
  {
   "cell_type": "markdown",
   "metadata": {
    "Collapsed": "false"
   },
   "source": [
    "## Create exemplary spectogram"
   ]
  },
  {
   "cell_type": "code",
   "execution_count": 10,
   "metadata": {
    "Collapsed": "false"
   },
   "outputs": [],
   "source": [
    "def log_specgram(audio, sample_rate, window_size=20,\n",
    "                 step_size=10, eps=1e-10):\n",
    "    nperseg = int(round(window_size * sample_rate / 1e3))\n",
    "    noverlap = int(round(step_size * sample_rate / 1e3))\n",
    "#     noverlap = int(nperseg//8)\n",
    "    freqs, times, spec = signal.spectrogram(audio,\n",
    "                                    fs=sample_rate,\n",
    "                                    window='hann',\n",
    "                                    nperseg=nperseg,\n",
    "                                    noverlap=noverlap,\n",
    "                                    detrend=False)\n",
    "    return freqs, times, np.log(spec.T.astype(np.float32) + eps)\n",
    "def log_specgram_freq_160(audio, sample_rate, window_size=20,\n",
    "                 step_size=10, eps=1e-10):\n",
    "    nperseg = 256\n",
    "    noverlap = 256//8\n",
    "#     nperseg = int(round(window_size * sample_rate / 1e3))\n",
    "#     noverlap = int(round(step_size * sample_rate / 1e3))\n",
    "#     noverlap = int(nperseg//8)\n",
    "    freqs, times, spec = signal.spectrogram(audio,\n",
    "                                    fs=sample_rate,\n",
    "                                    window='hann',\n",
    "                                    nperseg=nperseg,\n",
    "                                    noverlap=noverlap,\n",
    "                                    detrend=False)\n",
    "    return freqs, times, np.log(spec.T.astype(np.float32) + eps)"
   ]
  },
  {
   "cell_type": "code",
   "execution_count": 11,
   "metadata": {
    "Collapsed": "false"
   },
   "outputs": [
    {
     "data": {
      "text/plain": [
       "(8000,)"
      ]
     },
     "execution_count": 11,
     "metadata": {},
     "output_type": "execute_result"
    },
    {
     "name": "stdout",
     "output_type": "stream",
     "text": [
      "[   0.   25.   50.   75.  100.  125.  150.  175.  200.  225.  250.  275.\n",
      "  300.  325.  350.  375.  400.  425.  450.  475.  500.  525.  550.  575.\n",
      "  600.  625.  650.  675.  700.  725.  750.  775.  800.  825.  850.  875.\n",
      "  900.  925.  950.  975. 1000. 1025. 1050. 1075. 1100. 1125. 1150. 1175.\n",
      " 1200. 1225. 1250. 1275. 1300. 1325. 1350. 1375. 1400. 1425. 1450. 1475.\n",
      " 1500. 1525. 1550. 1575. 1600. 1625. 1650. 1675. 1700. 1725. 1750. 1775.\n",
      " 1800. 1825. 1850. 1875. 1900. 1925. 1950. 1975. 2000. 2025. 2050. 2075.\n",
      " 2100. 2125. 2150. 2175. 2200. 2225. 2250. 2275. 2300. 2325. 2350. 2375.\n",
      " 2400. 2425. 2450. 2475. 2500. 2525. 2550. 2575. 2600. 2625. 2650. 2675.\n",
      " 2700. 2725. 2750. 2775. 2800. 2825. 2850. 2875. 2900. 2925. 2950. 2975.\n",
      " 3000. 3025. 3050. 3075. 3100. 3125. 3150. 3175. 3200. 3225. 3250. 3275.\n",
      " 3300. 3325. 3350. 3375. 3400. 3425. 3450. 3475. 3500. 3525. 3550. 3575.\n",
      " 3600. 3625. 3650. 3675. 3700. 3725. 3750. 3775. 3800. 3825. 3850. 3875.\n",
      " 3900. 3925. 3950. 3975. 4000.]\n",
      "[0.02 0.05 0.08 0.11 0.14 0.17 0.2  0.23 0.26 0.29 0.32 0.35 0.38 0.41\n",
      " 0.44 0.47 0.5  0.53 0.56 0.59 0.62 0.65 0.68 0.71 0.74 0.77 0.8  0.83\n",
      " 0.86 0.89 0.92 0.95 0.98]\n"
     ]
    },
    {
     "data": {
      "text/plain": [
       "(33, 161)"
      ]
     },
     "execution_count": 11,
     "metadata": {},
     "output_type": "execute_result"
    },
    {
     "data": {
      "text/plain": [
       "Text(0.5, 1.0, 'Raw wave of ')"
      ]
     },
     "execution_count": 11,
     "metadata": {},
     "output_type": "execute_result"
    },
    {
     "data": {
      "text/plain": [
       "Text(0, 0.5, 'Amplitude')"
      ]
     },
     "execution_count": 11,
     "metadata": {},
     "output_type": "execute_result"
    },
    {
     "data": {
      "text/plain": [
       "[<matplotlib.lines.Line2D at 0x1a447afee88>]"
      ]
     },
     "execution_count": 11,
     "metadata": {},
     "output_type": "execute_result"
    },
    {
     "data": {
      "text/plain": [
       "<matplotlib.image.AxesImage at 0x1a462fd5fc8>"
      ]
     },
     "execution_count": 11,
     "metadata": {},
     "output_type": "execute_result"
    },
    {
     "data": {
      "text/plain": [
       "[<matplotlib.axis.YTick at 0x1a463fcffc8>,\n",
       " <matplotlib.axis.YTick at 0x1a463fcf408>,\n",
       " <matplotlib.axis.YTick at 0x1a463fcc088>,\n",
       " <matplotlib.axis.YTick at 0x1a465f9df08>,\n",
       " <matplotlib.axis.YTick at 0x1a465fadd88>,\n",
       " <matplotlib.axis.YTick at 0x1a465fba1c8>,\n",
       " <matplotlib.axis.YTick at 0x1a465fbae08>,\n",
       " <matplotlib.axis.YTick at 0x1a465faa808>,\n",
       " <matplotlib.axis.YTick at 0x1a465fbf288>,\n",
       " <matplotlib.axis.YTick at 0x1a465fbfbc8>,\n",
       " <matplotlib.axis.YTick at 0x1a465fc4588>]"
      ]
     },
     "execution_count": 11,
     "metadata": {},
     "output_type": "execute_result"
    },
    {
     "data": {
      "text/plain": [
       "[<matplotlib.axis.XTick at 0x1a463fcca08>,\n",
       " <matplotlib.axis.XTick at 0x1a463fcc9c8>,\n",
       " <matplotlib.axis.XTick at 0x1a463fc5f48>]"
      ]
     },
     "execution_count": 11,
     "metadata": {},
     "output_type": "execute_result"
    },
    {
     "data": {
      "text/plain": [
       "Text(0.5, 1.0, 'Spectrogram of ')"
      ]
     },
     "execution_count": 11,
     "metadata": {},
     "output_type": "execute_result"
    },
    {
     "data": {
      "text/plain": [
       "Text(0, 0.5, 'Freqs in Hz')"
      ]
     },
     "execution_count": 11,
     "metadata": {},
     "output_type": "execute_result"
    },
    {
     "data": {
      "text/plain": [
       "Text(0.5, 0, 'Seconds')"
      ]
     },
     "execution_count": 11,
     "metadata": {},
     "output_type": "execute_result"
    },
    {
     "data": {
      "image/png": "[encoded data removed]",
      "text/plain": [
       "<Figure size 1008x576 with 2 Axes>"
      ]
     },
     "metadata": {
      "needs_background": "light"
     },
     "output_type": "display_data"
    }
   ],
   "source": [
    "samples, sample_rate = wav_all[0], 8000\n",
    "samples.shape\n",
    "freqs, times, spectrogram = log_specgram(samples, sample_rate, window_size=40, step_size=10)\n",
    "# freqs, times, spectrogram = log_specgram_freq_160(samples, sample_rate, window_size=39, step_size=10)\n",
    "print(freqs)\n",
    "print(times)\n",
    "spectrogram.shape\n",
    "fig = plt.figure(figsize=(14, 8))\n",
    "ax1 = fig.add_subplot(211)\n",
    "ax1.set_title('Raw wave of ')\n",
    "ax1.set_ylabel('Amplitude')\n",
    "ax1.plot(np.linspace(0, sample_rate/len(samples), sample_rate), samples)\n",
    "\n",
    "ax2 = fig.add_subplot(212)\n",
    "ax2.imshow(spectrogram.T, aspect='auto', origin='lower', \n",
    "           extent=[times.min(), times.max(), freqs.min(), freqs.max()])\n",
    "ax2.set_yticks(freqs[::16])\n",
    "ax2.set_xticks(times[::16])\n",
    "ax2.set_title('Spectrogram of ')\n",
    "ax2.set_ylabel('Freqs in Hz')\n",
    "ax2.set_xlabel('Seconds')"
   ]
  },
  {
   "cell_type": "markdown",
   "metadata": {
    "Collapsed": "false",
    "_uuid": "a3239651e24e6decb63e5c5c9221650357d684c2"
   },
   "source": [
    "### Data Augmentation\n",
    "\n",
    "For Data Augmentation. I will mix train wav, and same length(1 sec) noise(10%) from '_background_noise_'\n"
   ]
  },
  {
   "cell_type": "code",
   "execution_count": 12,
   "metadata": {
    "Collapsed": "false",
    "_uuid": "b59088b2bb5dc1848246dd4320d134ac0c673e65"
   },
   "outputs": [],
   "source": [
    "#Random pick start point\n",
    "def get_one_noise(noise_num = 0):\n",
    "    selected_noise = background_noise[noise_num]\n",
    "    start_idx = random.randint(0, len(selected_noise)- 1 - 8000)\n",
    "    return selected_noise[start_idx:(start_idx + 8000)]"
   ]
  },
  {
   "cell_type": "code",
   "execution_count": 13,
   "metadata": {
    "Collapsed": "false",
    "_uuid": "073bc68512dc809aff793dc03dc380d570631457"
   },
   "outputs": [
    {
     "data": {
      "text/plain": [
       "array([array([-1.27418665e-04, -1.12644804e-04, -1.86756923e-04, ...,\n",
       "       -1.62762426e-05, -4.93293861e-04, -3.55132594e-04], dtype=float32),\n",
       "       array([-0.00306999, -0.00410808, -0.00331036, ..., -0.00467804,\n",
       "       -0.00421489, -0.00610053], dtype=float32),\n",
       "       array([ 0.00015912,  0.00111388, -0.00125856, ..., -0.0095068 ,\n",
       "        0.01478101,  0.03418859], dtype=float32),\n",
       "       ...,\n",
       "       array([-1.8530698e-05, -1.7116408e-05, -1.5449716e-04, ...,\n",
       "        2.0603633e-04,  1.4838617e-04,  3.0142363e-04], dtype=float32),\n",
       "       array([-0.00013034, -0.00023936, -0.00036349, ...,  0.00059682,\n",
       "        0.00044404,  0.00033889], dtype=float32),\n",
       "       array([ 0.00037031,  0.00076071,  0.00072666, ..., -0.00076363,\n",
       "       -0.00083591, -0.0005128 ], dtype=float32)], dtype=object)"
      ]
     },
     "execution_count": 13,
     "metadata": {},
     "output_type": "execute_result"
    },
    {
     "data": {
      "text/plain": [
       "array(['down', 'down', 'down', ..., 'yes', 'yes', 'yes'], dtype='<U5')"
      ]
     },
     "execution_count": 13,
     "metadata": {},
     "output_type": "execute_result"
    }
   ],
   "source": [
    "max_ratio = 0.1\n",
    "noised_wav = []\n",
    "augment = 1\n",
    "delete_index = []\n",
    "for i in range(augment):\n",
    "    new_wav = []\n",
    "    noise = get_one_noise(i)\n",
    "    for i, s in enumerate(wav_all):\n",
    "        if len(s) != 8000:\n",
    "            delete_index.append(i)\n",
    "            continue\n",
    "        s = s + (max_ratio * noise)\n",
    "        noised_wav.append(s)\n",
    "np.delete(wav_all, delete_index)\n",
    "np.delete(label_all, delete_index)"
   ]
  },
  {
   "cell_type": "code",
   "execution_count": 14,
   "metadata": {
    "Collapsed": "false",
    "_uuid": "6bd94ec47be96cba4be12c60b91ed90044aedea0"
   },
   "outputs": [
    {
     "data": {
      "text/plain": [
       "(21312, 8000)"
      ]
     },
     "execution_count": 14,
     "metadata": {},
     "output_type": "execute_result"
    }
   ],
   "source": [
    "wav_vals = np.array([x for x in wav_all])\n",
    "label_vals = [x for x in label_all]\n",
    "wav_vals.shape"
   ]
  },
  {
   "cell_type": "code",
   "execution_count": 15,
   "metadata": {
    "Collapsed": "false",
    "_uuid": "94ef3d33c62e27cb1fb53a29025c010ec56ffbb4"
   },
   "outputs": [],
   "source": [
    "labels = copy.deepcopy(label_vals)\n",
    "for _ in range(augment):\n",
    "    label_vals = np.concatenate((label_vals, labels), axis = 0)\n",
    "label_vals = label_vals.reshape(-1,1)"
   ]
  },
  {
   "cell_type": "markdown",
   "metadata": {
    "Collapsed": "false",
    "_uuid": "e20c12d950b7ff2e8904fc57d5a9d429cd4b130d"
   },
   "source": [
    "Random sampling from unknown wav data\n"
   ]
  },
  {
   "cell_type": "code",
   "execution_count": 16,
   "metadata": {
    "Collapsed": "false",
    "_uuid": "5ee0b02d7cfbcc02ea20d65ee268ba44e01bf2b1"
   },
   "outputs": [],
   "source": [
    "#knowns audio random sampling\n",
    "unknown = unknown_wav\n",
    "np.random.shuffle(unknown_wav)\n",
    "unknown = np.array(unknown)\n",
    "unknown = unknown[:2000*(augment+1)]\n",
    "unknown_label = np.array(['unknown' for _ in range(2000*(augment+1))])\n",
    "unknown_label = unknown_label.reshape(2000*(augment+1),1)"
   ]
  },
  {
   "cell_type": "markdown",
   "metadata": {
    "Collapsed": "false",
    "_uuid": "72a6f2c8663ee74708da42313ed2e8d24c832b3f"
   },
   "source": [
    "May Some wav data has different length. So, Delete it"
   ]
  },
  {
   "cell_type": "code",
   "execution_count": 17,
   "metadata": {
    "Collapsed": "false",
    "_uuid": "70a499bce28fd081b7fa9742eb03851ebe4eb5f1"
   },
   "outputs": [],
   "source": [
    "delete_index = []\n",
    "for i,w in enumerate(unknown):\n",
    "    if len(w) != 8000:\n",
    "        delete_index.append(i)\n",
    "unknown = np.delete(unknown, delete_index, axis=0)"
   ]
  },
  {
   "cell_type": "markdown",
   "metadata": {
    "Collapsed": "false",
    "_uuid": "6a1f8bf0426f373ed063df7f1adbd963943a3fd0"
   },
   "source": [
    "Random sampling from '_background_noise_' \n",
    "\n",
    "Random pick background noise \n"
   ]
  },
  {
   "cell_type": "code",
   "execution_count": 18,
   "metadata": {
    "Collapsed": "false",
    "_uuid": "7ef23bb8580b70f2b52e2d91fb183674112d2eba"
   },
   "outputs": [
    {
     "data": {
      "text/plain": [
       "(3996, 8000)"
      ]
     },
     "execution_count": 18,
     "metadata": {},
     "output_type": "execute_result"
    }
   ],
   "source": [
    "#silence audio\n",
    "silence_wav = []\n",
    "num_wav = (2000*(augment+1))//len(background_noise)\n",
    "for i, _ in enumerate(background_noise):\n",
    "    for _ in range((2000*(augment+1))//len(background_noise)):\n",
    "        silence_wav.append(get_one_noise(i))\n",
    "silence_wav = np.array(silence_wav)\n",
    "silence_label = np.array(['silence' for _ in range(num_wav*len(background_noise))])\n",
    "silence_label = silence_label.reshape(-1,1)\n",
    "silence_wav.shape"
   ]
  },
  {
   "cell_type": "code",
   "execution_count": 19,
   "metadata": {
    "Collapsed": "false",
    "_uuid": "c06ab04ada253e19a0207d280ed3c1a444776cd3"
   },
   "outputs": [],
   "source": [
    "wav_vals    = np.reshape(wav_vals,    (-1, 8000))\n",
    "noised_wav  = np.reshape(noised_wav,  (-1, 8000))\n",
    "unknown       = np.reshape(unknown,   (-1, 8000))\n",
    "silence_wav = np.reshape(silence_wav, (-1, 8000))"
   ]
  },
  {
   "cell_type": "markdown",
   "metadata": {
    "Collapsed": "false",
    "_uuid": "4e1666c5bf721dbf9e4717be0d469734db9182f2"
   },
   "source": [
    "Check Dimensions"
   ]
  },
  {
   "cell_type": "code",
   "execution_count": 20,
   "metadata": {
    "Collapsed": "false",
    "_uuid": "841b9a9b2a2c38297a7a6d1c93744965755703fa"
   },
   "outputs": [
    {
     "name": "stdout",
     "output_type": "stream",
     "text": [
      "(21312, 8000)\n",
      "(21312, 8000)\n",
      "(4000, 8000)\n",
      "(3996, 8000)\n"
     ]
    }
   ],
   "source": [
    "print(wav_vals.shape)\n",
    "print(noised_wav.shape)\n",
    "print(unknown.shape)\n",
    "print(silence_wav.shape)"
   ]
  },
  {
   "cell_type": "code",
   "execution_count": 21,
   "metadata": {
    "Collapsed": "false",
    "_uuid": "ab1aba8c05398669f6e3152d74e00e8a41ee7503"
   },
   "outputs": [
    {
     "name": "stdout",
     "output_type": "stream",
     "text": [
      "(42624, 1)\n",
      "(4000, 1)\n",
      "(3996, 1)\n"
     ]
    }
   ],
   "source": [
    "print(label_vals.shape)\n",
    "print(unknown_label.shape)\n",
    "print(silence_label.shape)"
   ]
  },
  {
   "cell_type": "markdown",
   "metadata": {
    "Collapsed": "false",
    "_uuid": "c6816376d4450daffeb79114df92d3fb0eafb59a"
   },
   "source": [
    "Concatenate wavs, labels "
   ]
  },
  {
   "cell_type": "code",
   "execution_count": 22,
   "metadata": {
    "Collapsed": "false",
    "_uuid": "7d6afa30a5dda2b9ca4888b36aabe5b89922a121"
   },
   "outputs": [],
   "source": [
    "wav_vals = np.concatenate((wav_vals, noised_wav), axis = 0)\n",
    "wav_vals = np.concatenate((wav_vals, unknown), axis = 0)\n",
    "wav_vals = np.concatenate((wav_vals, silence_wav), axis = 0)"
   ]
  },
  {
   "cell_type": "code",
   "execution_count": 23,
   "metadata": {
    "Collapsed": "false",
    "_uuid": "420f9d709f805349b2635a80dabc383595eac011"
   },
   "outputs": [],
   "source": [
    "label_vals = np.concatenate((label_vals, unknown_label), axis = 0)\n",
    "label_vals = np.concatenate((label_vals, silence_label), axis = 0)"
   ]
  },
  {
   "cell_type": "code",
   "execution_count": 24,
   "metadata": {
    "Collapsed": "false",
    "_uuid": "0c33c9dc3fe0daa57968e89fa6c22352a8b53f55"
   },
   "outputs": [
    {
     "name": "stdout",
     "output_type": "stream",
     "text": [
      "50620\n",
      "50620\n"
     ]
    }
   ],
   "source": [
    "print(len(wav_vals))\n",
    "print(len(label_vals))"
   ]
  },
  {
   "cell_type": "markdown",
   "metadata": {
    "Collapsed": "false",
    "_uuid": "63c2da5df2edd06ab1fbdf6c1a50ad02216f0fe5"
   },
   "source": [
    "### Prepare Train"
   ]
  },
  {
   "cell_type": "code",
   "execution_count": 25,
   "metadata": {
    "Collapsed": "false",
    "_uuid": "ba0ab85ffd216b4d91855ea234b3202ba250b8be"
   },
   "outputs": [],
   "source": [
    "train_wav, test_wav, train_label, test_label = train_test_split(wav_vals, label_vals, \n",
    "                                                                    test_size=0.2,\n",
    "                                                                    random_state = 1993,\n",
    "                                                                    shuffle=True)"
   ]
  },
  {
   "cell_type": "code",
   "execution_count": 26,
   "metadata": {
    "Collapsed": "false",
    "_uuid": "9e6a9e72fbee7fd3bf612e60d5709b177deacaec"
   },
   "outputs": [],
   "source": [
    "# Parameters\n",
    "lr = 0.001\n",
    "generations = 20000\n",
    "num_gens_to_wait = 250\n",
    "batch_size = 512\n",
    "drop_out_rate = 0.5\n",
    "input_shape = (8000,1)"
   ]
  },
  {
   "cell_type": "code",
   "execution_count": 27,
   "metadata": {
    "Collapsed": "false",
    "_uuid": "73ffc6cf54f2100c1aa47203f0c33e350198dc3d"
   },
   "outputs": [],
   "source": [
    "#For Conv1D add Channel\n",
    "train_wav = train_wav.reshape(-1,8000,1)\n",
    "test_wav = test_wav.reshape(-1,8000,1)"
   ]
  },
  {
   "cell_type": "code",
   "execution_count": 28,
   "metadata": {
    "Collapsed": "false",
    "_uuid": "75fd1a40241009a857b5db9c878c9c665bdc84f2"
   },
   "outputs": [],
   "source": [
    "label_value = target_list\n",
    "label_value.append('unknown')\n",
    "label_value.append('silence')"
   ]
  },
  {
   "cell_type": "markdown",
   "metadata": {
    "Collapsed": "false"
   },
   "source": [
    "### Create dict of names"
   ]
  },
  {
   "cell_type": "code",
   "execution_count": 29,
   "metadata": {
    "Collapsed": "false",
    "_uuid": "cb801f97812407f60af16a787a0ae01db8e88038"
   },
   "outputs": [
    {
     "data": {
      "text/plain": [
       "{'yes': 0,\n",
       " 'no': 1,\n",
       " 'up': 2,\n",
       " 'down': 3,\n",
       " 'left': 4,\n",
       " 'right': 5,\n",
       " 'on': 6,\n",
       " 'off': 7,\n",
       " 'stop': 8,\n",
       " 'go': 9,\n",
       " 'unknown': 10,\n",
       " 'silence': 11}"
      ]
     },
     "execution_count": 29,
     "metadata": {},
     "output_type": "execute_result"
    }
   ],
   "source": [
    "new_label_value = dict()\n",
    "for i, l in enumerate(label_value):\n",
    "    new_label_value[l] = i\n",
    "label_value = new_label_value\n",
    "label_value"
   ]
  },
  {
   "cell_type": "code",
   "execution_count": 30,
   "metadata": {
    "Collapsed": "false",
    "_uuid": "65647981d409fb31ac391af3d5d091ef354a0f02"
   },
   "outputs": [],
   "source": [
    "#Make Label data 'string' -> 'class num'\n",
    "temp = []\n",
    "for v in train_label:\n",
    "    temp.append(label_value[v[0]])\n",
    "train_label = np.array(temp)\n",
    "\n",
    "temp = []\n",
    "for v in test_label:\n",
    "    temp.append(label_value[v[0]])\n",
    "test_label = np.array(temp)\n",
    "\n",
    "train_label_scalar = train_label\n",
    "test_label_scalar = test_label\n",
    "#Make Label data 'class num' -> 'One hot vector'\n",
    "train_label = keras.utils.to_categorical(train_label, len(label_value))\n",
    "test_label = keras.utils.to_categorical(test_label, len(label_value))"
   ]
  },
  {
   "cell_type": "code",
   "execution_count": 31,
   "metadata": {
    "Collapsed": "false",
    "_uuid": "96b340a033294465394c168e232df012a011ae1a"
   },
   "outputs": [
    {
     "name": "stdout",
     "output_type": "stream",
     "text": [
      "Train_Wav Demension : (40496, 8000, 1)\n",
      "Train_Label Demension : (40496, 12)\n",
      "Test_Wav Demension : (10124, 8000, 1)\n",
      "Test_Label Demension : (10124, 12)\n",
      "Number Of Labels : 12\n"
     ]
    }
   ],
   "source": [
    "print('Train_Wav Demension : ' + str(np.shape(train_wav)))\n",
    "print('Train_Label Demension : ' + str(np.shape(train_label)))\n",
    "print('Test_Wav Demension : ' + str(np.shape(test_wav)))\n",
    "print('Test_Label Demension : ' + str(np.shape(test_label)))\n",
    "print('Number Of Labels : ' + str(len(label_value)))"
   ]
  },
  {
   "cell_type": "markdown",
   "metadata": {
    "Collapsed": "true"
   },
   "source": [
    "# Simple Conv1D model"
   ]
  },
  {
   "cell_type": "code",
   "execution_count": 59,
   "metadata": {
    "Collapsed": "false",
    "_uuid": "c3ac90355cbf04993a8b090483164d0e86401855"
   },
   "outputs": [],
   "source": [
    "#Conv1D Model\n",
    "input_tensor = Input(shape=(input_shape))\n",
    "\n",
    "x = layers.Conv1D(8, 11, padding='valid', activation='relu', strides=1)(input_tensor)\n",
    "x = layers.MaxPooling1D(2)(x)\n",
    "x = layers.Dropout(drop_out_rate)(x)\n",
    "x = layers.Conv1D(16, 7, padding='valid', activation='relu', strides=1)(x)\n",
    "x = layers.MaxPooling1D(2)(x)\n",
    "x = layers.Dropout(drop_out_rate)(x)\n",
    "x = layers.Conv1D(32, 5, padding='valid', activation='relu', strides=1)(x)\n",
    "x = layers.MaxPooling1D(10)(x)\n",
    "# x = layers.Dropout(drop_out_rate)(x)\n",
    "# x = layers.Conv1D(64, 5, padding='valid', activation='relu', strides=1)(x)\n",
    "# x = layers.MaxPooling1D(2)(x)\n",
    "# x = layers.Dropout(drop_out_rate)(x)\n",
    "# x = layers.Conv1D(128, 3, padding='valid', activation='relu', strides=1)(x)\n",
    "# x = layers.MaxPooling1D(2)(x)\n",
    "x = layers.Flatten()(x)\n",
    "# x = layers.Dense(256, activation='relu')(x)\n",
    "# x = layers.Dropout(drop_out_rate)(x)\n",
    "# x = layers.Dense(128, activation='relu')(x)\n",
    "x = layers.Dense(128, activation='relu')(x)\n",
    "x = layers.Dropout(drop_out_rate)(x)\n",
    "x = layers.Dense(64, activation='relu')(x)\n",
    "x = layers.Dropout(drop_out_rate)(x)\n",
    "output_tensor = layers.Dense(len(label_value), activation='softmax')(x)\n",
    "\n",
    "model = tf.keras.Model(input_tensor, output_tensor)\n",
    "\n",
    "model.compile(loss=keras.losses.categorical_crossentropy,\n",
    "             optimizer=keras.optimizers.Adam(lr = lr),\n",
    "             metrics=['accuracy'])\n"
   ]
  },
  {
   "cell_type": "code",
   "execution_count": 60,
   "metadata": {
    "Collapsed": "false",
    "_uuid": "0c1c50793d9d2c12af1cbf1029daca221afdaff9"
   },
   "outputs": [
    {
     "name": "stdout",
     "output_type": "stream",
     "text": [
      "Model: \"model\"\n",
      "_________________________________________________________________\n",
      "Layer (type)                 Output Shape              Param #   \n",
      "=================================================================\n",
      "input_1 (InputLayer)         [(None, 8000, 1)]         0         \n",
      "_________________________________________________________________\n",
      "conv1d (Conv1D)              (None, 7990, 8)           96        \n",
      "_________________________________________________________________\n",
      "max_pooling1d (MaxPooling1D) (None, 3995, 8)           0         \n",
      "_________________________________________________________________\n",
      "dropout (Dropout)            (None, 3995, 8)           0         \n",
      "_________________________________________________________________\n",
      "conv1d_1 (Conv1D)            (None, 3989, 16)          912       \n",
      "_________________________________________________________________\n",
      "max_pooling1d_1 (MaxPooling1 (None, 1994, 16)          0         \n",
      "_________________________________________________________________\n",
      "dropout_1 (Dropout)          (None, 1994, 16)          0         \n",
      "_________________________________________________________________\n",
      "conv1d_2 (Conv1D)            (None, 1990, 32)          2592      \n",
      "_________________________________________________________________\n",
      "max_pooling1d_2 (MaxPooling1 (None, 199, 32)           0         \n",
      "_________________________________________________________________\n",
      "flatten (Flatten)            (None, 6368)              0         \n",
      "_________________________________________________________________\n",
      "dense (Dense)                (None, 128)               815232    \n",
      "_________________________________________________________________\n",
      "dropout_2 (Dropout)          (None, 128)               0         \n",
      "_________________________________________________________________\n",
      "dense_1 (Dense)              (None, 64)                8256      \n",
      "_________________________________________________________________\n",
      "dropout_3 (Dropout)          (None, 64)                0         \n",
      "_________________________________________________________________\n",
      "dense_2 (Dense)              (None, 12)                780       \n",
      "=================================================================\n",
      "Total params: 827,868\n",
      "Trainable params: 827,868\n",
      "Non-trainable params: 0\n",
      "_________________________________________________________________\n"
     ]
    }
   ],
   "source": [
    "model.summary()"
   ]
  },
  {
   "cell_type": "code",
   "execution_count": 61,
   "metadata": {
    "Collapsed": "false",
    "_uuid": "9b61710f92afdf22a09a07b9dd9d3ddc3e75c05b",
    "collapsed": true,
    "jupyter": {
     "outputs_hidden": true
    }
   },
   "outputs": [
    {
     "name": "stdout",
     "output_type": "stream",
     "text": [
      "Train on 40496 samples, validate on 10124 samples\n",
      "Epoch 1/100\n",
      "  512/40496 [..............................] - ETA: 10:19"
     ]
    },
    {
     "ename": "UnknownError",
     "evalue": " Failed to get convolution algorithm. This is probably because cuDNN failed to initialize, so try looking to see if a warning log message was printed above.\n\t [[node model/conv1d/conv1d (defined at <ipython-input-61-cf1815e6ba93>:4) ]] [Op:__inference_distributed_function_1521]\n\nFunction call stack:\ndistributed_function\n",
     "output_type": "error",
     "traceback": [
      "\u001b[1;31m---------------------------------------------------------------------------\u001b[0m",
      "\u001b[1;31mUnknownError\u001b[0m                              Traceback (most recent call last)",
      "\u001b[1;32m<ipython-input-61-cf1815e6ba93>\u001b[0m in \u001b[0;36m<module>\u001b[1;34m\u001b[0m\n\u001b[0;32m      2\u001b[0m           \u001b[0mbatch_size\u001b[0m\u001b[1;33m=\u001b[0m\u001b[0mbatch_size\u001b[0m\u001b[1;33m,\u001b[0m\u001b[1;33m\u001b[0m\u001b[1;33m\u001b[0m\u001b[0m\n\u001b[0;32m      3\u001b[0m           \u001b[0mepochs\u001b[0m\u001b[1;33m=\u001b[0m\u001b[1;36m100\u001b[0m\u001b[1;33m,\u001b[0m\u001b[1;33m\u001b[0m\u001b[1;33m\u001b[0m\u001b[0m\n\u001b[1;32m----> 4\u001b[1;33m           verbose=1)\n\u001b[0m",
      "\u001b[1;32m~\\Anaconda\\envs\\jlab\\lib\\site-packages\\tensorflow_core\\python\\keras\\engine\\training.py\u001b[0m in \u001b[0;36mfit\u001b[1;34m(self, x, y, batch_size, epochs, verbose, callbacks, validation_split, validation_data, shuffle, class_weight, sample_weight, initial_epoch, steps_per_epoch, validation_steps, validation_freq, max_queue_size, workers, use_multiprocessing, **kwargs)\u001b[0m\n\u001b[0;32m    817\u001b[0m         \u001b[0mmax_queue_size\u001b[0m\u001b[1;33m=\u001b[0m\u001b[0mmax_queue_size\u001b[0m\u001b[1;33m,\u001b[0m\u001b[1;33m\u001b[0m\u001b[1;33m\u001b[0m\u001b[0m\n\u001b[0;32m    818\u001b[0m         \u001b[0mworkers\u001b[0m\u001b[1;33m=\u001b[0m\u001b[0mworkers\u001b[0m\u001b[1;33m,\u001b[0m\u001b[1;33m\u001b[0m\u001b[1;33m\u001b[0m\u001b[0m\n\u001b[1;32m--> 819\u001b[1;33m         use_multiprocessing=use_multiprocessing)\n\u001b[0m\u001b[0;32m    820\u001b[0m \u001b[1;33m\u001b[0m\u001b[0m\n\u001b[0;32m    821\u001b[0m   def evaluate(self,\n",
      "\u001b[1;32m~\\Anaconda\\envs\\jlab\\lib\\site-packages\\tensorflow_core\\python\\keras\\engine\\training_v2.py\u001b[0m in \u001b[0;36mfit\u001b[1;34m(self, model, x, y, batch_size, epochs, verbose, callbacks, validation_split, validation_data, shuffle, class_weight, sample_weight, initial_epoch, steps_per_epoch, validation_steps, validation_freq, max_queue_size, workers, use_multiprocessing, **kwargs)\u001b[0m\n\u001b[0;32m    340\u001b[0m                 \u001b[0mmode\u001b[0m\u001b[1;33m=\u001b[0m\u001b[0mModeKeys\u001b[0m\u001b[1;33m.\u001b[0m\u001b[0mTRAIN\u001b[0m\u001b[1;33m,\u001b[0m\u001b[1;33m\u001b[0m\u001b[1;33m\u001b[0m\u001b[0m\n\u001b[0;32m    341\u001b[0m                 \u001b[0mtraining_context\u001b[0m\u001b[1;33m=\u001b[0m\u001b[0mtraining_context\u001b[0m\u001b[1;33m,\u001b[0m\u001b[1;33m\u001b[0m\u001b[1;33m\u001b[0m\u001b[0m\n\u001b[1;32m--> 342\u001b[1;33m                 total_epochs=epochs)\n\u001b[0m\u001b[0;32m    343\u001b[0m             \u001b[0mcbks\u001b[0m\u001b[1;33m.\u001b[0m\u001b[0mmake_logs\u001b[0m\u001b[1;33m(\u001b[0m\u001b[0mmodel\u001b[0m\u001b[1;33m,\u001b[0m \u001b[0mepoch_logs\u001b[0m\u001b[1;33m,\u001b[0m \u001b[0mtraining_result\u001b[0m\u001b[1;33m,\u001b[0m \u001b[0mModeKeys\u001b[0m\u001b[1;33m.\u001b[0m\u001b[0mTRAIN\u001b[0m\u001b[1;33m)\u001b[0m\u001b[1;33m\u001b[0m\u001b[1;33m\u001b[0m\u001b[0m\n\u001b[0;32m    344\u001b[0m \u001b[1;33m\u001b[0m\u001b[0m\n",
      "\u001b[1;32m~\\Anaconda\\envs\\jlab\\lib\\site-packages\\tensorflow_core\\python\\keras\\engine\\training_v2.py\u001b[0m in \u001b[0;36mrun_one_epoch\u001b[1;34m(model, iterator, execution_function, dataset_size, batch_size, strategy, steps_per_epoch, num_samples, mode, training_context, total_epochs)\u001b[0m\n\u001b[0;32m    126\u001b[0m         step=step, mode=mode, size=current_batch_size) as batch_logs:\n\u001b[0;32m    127\u001b[0m       \u001b[1;32mtry\u001b[0m\u001b[1;33m:\u001b[0m\u001b[1;33m\u001b[0m\u001b[1;33m\u001b[0m\u001b[0m\n\u001b[1;32m--> 128\u001b[1;33m         \u001b[0mbatch_outs\u001b[0m \u001b[1;33m=\u001b[0m \u001b[0mexecution_function\u001b[0m\u001b[1;33m(\u001b[0m\u001b[0miterator\u001b[0m\u001b[1;33m)\u001b[0m\u001b[1;33m\u001b[0m\u001b[1;33m\u001b[0m\u001b[0m\n\u001b[0m\u001b[0;32m    129\u001b[0m       \u001b[1;32mexcept\u001b[0m \u001b[1;33m(\u001b[0m\u001b[0mStopIteration\u001b[0m\u001b[1;33m,\u001b[0m \u001b[0merrors\u001b[0m\u001b[1;33m.\u001b[0m\u001b[0mOutOfRangeError\u001b[0m\u001b[1;33m)\u001b[0m\u001b[1;33m:\u001b[0m\u001b[1;33m\u001b[0m\u001b[1;33m\u001b[0m\u001b[0m\n\u001b[0;32m    130\u001b[0m         \u001b[1;31m# TODO(kaftan): File bug about tf function and errors.OutOfRangeError?\u001b[0m\u001b[1;33m\u001b[0m\u001b[1;33m\u001b[0m\u001b[1;33m\u001b[0m\u001b[0m\n",
      "\u001b[1;32m~\\Anaconda\\envs\\jlab\\lib\\site-packages\\tensorflow_core\\python\\keras\\engine\\training_v2_utils.py\u001b[0m in \u001b[0;36mexecution_function\u001b[1;34m(input_fn)\u001b[0m\n\u001b[0;32m     96\u001b[0m     \u001b[1;31m# `numpy` translates Tensors to values in Eager mode.\u001b[0m\u001b[1;33m\u001b[0m\u001b[1;33m\u001b[0m\u001b[1;33m\u001b[0m\u001b[0m\n\u001b[0;32m     97\u001b[0m     return nest.map_structure(_non_none_constant_value,\n\u001b[1;32m---> 98\u001b[1;33m                               distributed_function(input_fn))\n\u001b[0m\u001b[0;32m     99\u001b[0m \u001b[1;33m\u001b[0m\u001b[0m\n\u001b[0;32m    100\u001b[0m   \u001b[1;32mreturn\u001b[0m \u001b[0mexecution_function\u001b[0m\u001b[1;33m\u001b[0m\u001b[1;33m\u001b[0m\u001b[0m\n",
      "\u001b[1;32m~\\Anaconda\\envs\\jlab\\lib\\site-packages\\tensorflow_core\\python\\eager\\def_function.py\u001b[0m in \u001b[0;36m__call__\u001b[1;34m(self, *args, **kwds)\u001b[0m\n\u001b[0;32m    566\u001b[0m         \u001b[0mxla_context\u001b[0m\u001b[1;33m.\u001b[0m\u001b[0mExit\u001b[0m\u001b[1;33m(\u001b[0m\u001b[1;33m)\u001b[0m\u001b[1;33m\u001b[0m\u001b[1;33m\u001b[0m\u001b[0m\n\u001b[0;32m    567\u001b[0m     \u001b[1;32melse\u001b[0m\u001b[1;33m:\u001b[0m\u001b[1;33m\u001b[0m\u001b[1;33m\u001b[0m\u001b[0m\n\u001b[1;32m--> 568\u001b[1;33m       \u001b[0mresult\u001b[0m \u001b[1;33m=\u001b[0m \u001b[0mself\u001b[0m\u001b[1;33m.\u001b[0m\u001b[0m_call\u001b[0m\u001b[1;33m(\u001b[0m\u001b[1;33m*\u001b[0m\u001b[0margs\u001b[0m\u001b[1;33m,\u001b[0m \u001b[1;33m**\u001b[0m\u001b[0mkwds\u001b[0m\u001b[1;33m)\u001b[0m\u001b[1;33m\u001b[0m\u001b[1;33m\u001b[0m\u001b[0m\n\u001b[0m\u001b[0;32m    569\u001b[0m \u001b[1;33m\u001b[0m\u001b[0m\n\u001b[0;32m    570\u001b[0m     \u001b[1;32mif\u001b[0m \u001b[0mtracing_count\u001b[0m \u001b[1;33m==\u001b[0m \u001b[0mself\u001b[0m\u001b[1;33m.\u001b[0m\u001b[0m_get_tracing_count\u001b[0m\u001b[1;33m(\u001b[0m\u001b[1;33m)\u001b[0m\u001b[1;33m:\u001b[0m\u001b[1;33m\u001b[0m\u001b[1;33m\u001b[0m\u001b[0m\n",
      "\u001b[1;32m~\\Anaconda\\envs\\jlab\\lib\\site-packages\\tensorflow_core\\python\\eager\\def_function.py\u001b[0m in \u001b[0;36m_call\u001b[1;34m(self, *args, **kwds)\u001b[0m\n\u001b[0;32m    630\u001b[0m         \u001b[1;31m# Lifting succeeded, so variables are initialized and we can run the\u001b[0m\u001b[1;33m\u001b[0m\u001b[1;33m\u001b[0m\u001b[1;33m\u001b[0m\u001b[0m\n\u001b[0;32m    631\u001b[0m         \u001b[1;31m# stateless function.\u001b[0m\u001b[1;33m\u001b[0m\u001b[1;33m\u001b[0m\u001b[1;33m\u001b[0m\u001b[0m\n\u001b[1;32m--> 632\u001b[1;33m         \u001b[1;32mreturn\u001b[0m \u001b[0mself\u001b[0m\u001b[1;33m.\u001b[0m\u001b[0m_stateless_fn\u001b[0m\u001b[1;33m(\u001b[0m\u001b[1;33m*\u001b[0m\u001b[0margs\u001b[0m\u001b[1;33m,\u001b[0m \u001b[1;33m**\u001b[0m\u001b[0mkwds\u001b[0m\u001b[1;33m)\u001b[0m\u001b[1;33m\u001b[0m\u001b[1;33m\u001b[0m\u001b[0m\n\u001b[0m\u001b[0;32m    633\u001b[0m     \u001b[1;32melse\u001b[0m\u001b[1;33m:\u001b[0m\u001b[1;33m\u001b[0m\u001b[1;33m\u001b[0m\u001b[0m\n\u001b[0;32m    634\u001b[0m       \u001b[0mcanon_args\u001b[0m\u001b[1;33m,\u001b[0m \u001b[0mcanon_kwds\u001b[0m \u001b[1;33m=\u001b[0m\u001b[0;31m \u001b[0m\u001b[0;31m\\\u001b[0m\u001b[1;33m\u001b[0m\u001b[1;33m\u001b[0m\u001b[0m\n",
      "\u001b[1;32m~\\Anaconda\\envs\\jlab\\lib\\site-packages\\tensorflow_core\\python\\eager\\function.py\u001b[0m in \u001b[0;36m__call__\u001b[1;34m(self, *args, **kwargs)\u001b[0m\n\u001b[0;32m   2361\u001b[0m     \u001b[1;32mwith\u001b[0m \u001b[0mself\u001b[0m\u001b[1;33m.\u001b[0m\u001b[0m_lock\u001b[0m\u001b[1;33m:\u001b[0m\u001b[1;33m\u001b[0m\u001b[1;33m\u001b[0m\u001b[0m\n\u001b[0;32m   2362\u001b[0m       \u001b[0mgraph_function\u001b[0m\u001b[1;33m,\u001b[0m \u001b[0margs\u001b[0m\u001b[1;33m,\u001b[0m \u001b[0mkwargs\u001b[0m \u001b[1;33m=\u001b[0m \u001b[0mself\u001b[0m\u001b[1;33m.\u001b[0m\u001b[0m_maybe_define_function\u001b[0m\u001b[1;33m(\u001b[0m\u001b[0margs\u001b[0m\u001b[1;33m,\u001b[0m \u001b[0mkwargs\u001b[0m\u001b[1;33m)\u001b[0m\u001b[1;33m\u001b[0m\u001b[1;33m\u001b[0m\u001b[0m\n\u001b[1;32m-> 2363\u001b[1;33m     \u001b[1;32mreturn\u001b[0m \u001b[0mgraph_function\u001b[0m\u001b[1;33m.\u001b[0m\u001b[0m_filtered_call\u001b[0m\u001b[1;33m(\u001b[0m\u001b[0margs\u001b[0m\u001b[1;33m,\u001b[0m \u001b[0mkwargs\u001b[0m\u001b[1;33m)\u001b[0m  \u001b[1;31m# pylint: disable=protected-access\u001b[0m\u001b[1;33m\u001b[0m\u001b[1;33m\u001b[0m\u001b[0m\n\u001b[0m\u001b[0;32m   2364\u001b[0m \u001b[1;33m\u001b[0m\u001b[0m\n\u001b[0;32m   2365\u001b[0m   \u001b[1;33m@\u001b[0m\u001b[0mproperty\u001b[0m\u001b[1;33m\u001b[0m\u001b[1;33m\u001b[0m\u001b[0m\n",
      "\u001b[1;32m~\\Anaconda\\envs\\jlab\\lib\\site-packages\\tensorflow_core\\python\\eager\\function.py\u001b[0m in \u001b[0;36m_filtered_call\u001b[1;34m(self, args, kwargs)\u001b[0m\n\u001b[0;32m   1609\u001b[0m          if isinstance(t, (ops.Tensor,\n\u001b[0;32m   1610\u001b[0m                            resource_variable_ops.BaseResourceVariable))),\n\u001b[1;32m-> 1611\u001b[1;33m         self.captured_inputs)\n\u001b[0m\u001b[0;32m   1612\u001b[0m \u001b[1;33m\u001b[0m\u001b[0m\n\u001b[0;32m   1613\u001b[0m   \u001b[1;32mdef\u001b[0m \u001b[0m_call_flat\u001b[0m\u001b[1;33m(\u001b[0m\u001b[0mself\u001b[0m\u001b[1;33m,\u001b[0m \u001b[0margs\u001b[0m\u001b[1;33m,\u001b[0m \u001b[0mcaptured_inputs\u001b[0m\u001b[1;33m,\u001b[0m \u001b[0mcancellation_manager\u001b[0m\u001b[1;33m=\u001b[0m\u001b[1;32mNone\u001b[0m\u001b[1;33m)\u001b[0m\u001b[1;33m:\u001b[0m\u001b[1;33m\u001b[0m\u001b[1;33m\u001b[0m\u001b[0m\n",
      "\u001b[1;32m~\\Anaconda\\envs\\jlab\\lib\\site-packages\\tensorflow_core\\python\\eager\\function.py\u001b[0m in \u001b[0;36m_call_flat\u001b[1;34m(self, args, captured_inputs, cancellation_manager)\u001b[0m\n\u001b[0;32m   1690\u001b[0m       \u001b[1;31m# No tape is watching; skip to running the function.\u001b[0m\u001b[1;33m\u001b[0m\u001b[1;33m\u001b[0m\u001b[1;33m\u001b[0m\u001b[0m\n\u001b[0;32m   1691\u001b[0m       return self._build_call_outputs(self._inference_function.call(\n\u001b[1;32m-> 1692\u001b[1;33m           ctx, args, cancellation_manager=cancellation_manager))\n\u001b[0m\u001b[0;32m   1693\u001b[0m     forward_backward = self._select_forward_and_backward_functions(\n\u001b[0;32m   1694\u001b[0m         \u001b[0margs\u001b[0m\u001b[1;33m,\u001b[0m\u001b[1;33m\u001b[0m\u001b[1;33m\u001b[0m\u001b[0m\n",
      "\u001b[1;32m~\\Anaconda\\envs\\jlab\\lib\\site-packages\\tensorflow_core\\python\\eager\\function.py\u001b[0m in \u001b[0;36mcall\u001b[1;34m(self, ctx, args, cancellation_manager)\u001b[0m\n\u001b[0;32m    543\u001b[0m               \u001b[0minputs\u001b[0m\u001b[1;33m=\u001b[0m\u001b[0margs\u001b[0m\u001b[1;33m,\u001b[0m\u001b[1;33m\u001b[0m\u001b[1;33m\u001b[0m\u001b[0m\n\u001b[0;32m    544\u001b[0m               \u001b[0mattrs\u001b[0m\u001b[1;33m=\u001b[0m\u001b[1;33m(\u001b[0m\u001b[1;34m\"executor_type\"\u001b[0m\u001b[1;33m,\u001b[0m \u001b[0mexecutor_type\u001b[0m\u001b[1;33m,\u001b[0m \u001b[1;34m\"config_proto\"\u001b[0m\u001b[1;33m,\u001b[0m \u001b[0mconfig\u001b[0m\u001b[1;33m)\u001b[0m\u001b[1;33m,\u001b[0m\u001b[1;33m\u001b[0m\u001b[1;33m\u001b[0m\u001b[0m\n\u001b[1;32m--> 545\u001b[1;33m               ctx=ctx)\n\u001b[0m\u001b[0;32m    546\u001b[0m         \u001b[1;32melse\u001b[0m\u001b[1;33m:\u001b[0m\u001b[1;33m\u001b[0m\u001b[1;33m\u001b[0m\u001b[0m\n\u001b[0;32m    547\u001b[0m           outputs = execute.execute_with_cancellation(\n",
      "\u001b[1;32m~\\Anaconda\\envs\\jlab\\lib\\site-packages\\tensorflow_core\\python\\eager\\execute.py\u001b[0m in \u001b[0;36mquick_execute\u001b[1;34m(op_name, num_outputs, inputs, attrs, ctx, name)\u001b[0m\n\u001b[0;32m     65\u001b[0m     \u001b[1;32melse\u001b[0m\u001b[1;33m:\u001b[0m\u001b[1;33m\u001b[0m\u001b[1;33m\u001b[0m\u001b[0m\n\u001b[0;32m     66\u001b[0m       \u001b[0mmessage\u001b[0m \u001b[1;33m=\u001b[0m \u001b[0me\u001b[0m\u001b[1;33m.\u001b[0m\u001b[0mmessage\u001b[0m\u001b[1;33m\u001b[0m\u001b[1;33m\u001b[0m\u001b[0m\n\u001b[1;32m---> 67\u001b[1;33m     \u001b[0msix\u001b[0m\u001b[1;33m.\u001b[0m\u001b[0mraise_from\u001b[0m\u001b[1;33m(\u001b[0m\u001b[0mcore\u001b[0m\u001b[1;33m.\u001b[0m\u001b[0m_status_to_exception\u001b[0m\u001b[1;33m(\u001b[0m\u001b[0me\u001b[0m\u001b[1;33m.\u001b[0m\u001b[0mcode\u001b[0m\u001b[1;33m,\u001b[0m \u001b[0mmessage\u001b[0m\u001b[1;33m)\u001b[0m\u001b[1;33m,\u001b[0m \u001b[1;32mNone\u001b[0m\u001b[1;33m)\u001b[0m\u001b[1;33m\u001b[0m\u001b[1;33m\u001b[0m\u001b[0m\n\u001b[0m\u001b[0;32m     68\u001b[0m   \u001b[1;32mexcept\u001b[0m \u001b[0mTypeError\u001b[0m \u001b[1;32mas\u001b[0m \u001b[0me\u001b[0m\u001b[1;33m:\u001b[0m\u001b[1;33m\u001b[0m\u001b[1;33m\u001b[0m\u001b[0m\n\u001b[0;32m     69\u001b[0m     keras_symbolic_tensors = [\n",
      "\u001b[1;32m~\\Anaconda\\envs\\jlab\\lib\\site-packages\\six.py\u001b[0m in \u001b[0;36mraise_from\u001b[1;34m(value, from_value)\u001b[0m\n",
      "\u001b[1;31mUnknownError\u001b[0m:  Failed to get convolution algorithm. This is probably because cuDNN failed to initialize, so try looking to see if a warning log message was printed above.\n\t [[node model/conv1d/conv1d (defined at <ipython-input-61-cf1815e6ba93>:4) ]] [Op:__inference_distributed_function_1521]\n\nFunction call stack:\ndistributed_function\n"
     ]
    }
   ],
   "source": [
    "history = model.fit(train_wav, train_label, validation_data=[test_wav, test_label],\n",
    "          batch_size=batch_size, \n",
    "          epochs=100,\n",
    "          verbose=1)"
   ]
  },
  {
   "cell_type": "code",
   "execution_count": null,
   "metadata": {
    "Collapsed": "false"
   },
   "outputs": [],
   "source": [
    "model.save(\"../models/conv/baseline.h5\")"
   ]
  },
  {
   "cell_type": "code",
   "execution_count": 43,
   "metadata": {
    "Collapsed": "false",
    "_uuid": "5cbb0f06ea603cb0e5ef7b9893080ecfdd082864"
   },
   "outputs": [
    {
     "data": {
      "image/png": "[encoded data removed]",
      "text/plain": [
       "<Figure size 432x288 with 1 Axes>"
      ]
     },
     "metadata": {
      "needs_background": "light"
     },
     "output_type": "display_data"
    },
    {
     "data": {
      "image/png": "[encoded data removed]",
      "text/plain": [
       "<Figure size 432x288 with 1 Axes>"
      ]
     },
     "metadata": {
      "needs_background": "light"
     },
     "output_type": "display_data"
    }
   ],
   "source": [
    "plt.plot(history.history['accuracy'])\n",
    "plt.plot(history.history['val_accuracy'])\n",
    "plt.title('model accuracy')\n",
    "plt.ylabel('accuracy')\n",
    "plt.xlabel('epoch')\n",
    "plt.legend(['train', 'test'], loc='upper left')\n",
    "plt.show()\n",
    "# summarize history for loss\n",
    "plt.plot(history.history['loss'])\n",
    "plt.plot(history.history['val_loss'])\n",
    "plt.title('model loss')\n",
    "plt.ylabel('loss')\n",
    "plt.xlabel('epoch')\n",
    "plt.legend(['train', 'test'], loc='upper left')\n",
    "plt.show()"
   ]
  },
  {
   "cell_type": "code",
   "execution_count": 45,
   "metadata": {
    "Collapsed": "false"
   },
   "outputs": [
    {
     "data": {
      "image/png": "[encoded data removed]",
      "text/plain": [
       "<Figure size 432x288 with 1 Axes>"
      ]
     },
     "metadata": {
      "needs_background": "light"
     },
     "output_type": "display_data"
    },
    {
     "data": {
      "image/png": "[encoded data removed]",
      "text/plain": [
       "<Figure size 432x288 with 1 Axes>"
      ]
     },
     "metadata": {
      "needs_background": "light"
     },
     "output_type": "display_data"
    }
   ],
   "source": [
    "plt.plot(history.history['accuracy'])\n",
    "plt.plot(history.history['val_accuracy'])\n",
    "plt.title('model accuracy')\n",
    "plt.ylabel('accuracy')\n",
    "plt.xlabel('epoch')\n",
    "plt.legend(['train', 'test'], loc='upper left')\n",
    "plt.show()\n",
    "# summarize history for loss\n",
    "plt.plot(history.history['loss'])\n",
    "plt.plot(history.history['val_loss'])\n",
    "plt.title('model loss')\n",
    "plt.ylabel('loss')\n",
    "plt.xlabel('epoch')\n",
    "plt.legend(['train', 'test'], loc='upper left')\n",
    "plt.show()"
   ]
  },
  {
   "cell_type": "markdown",
   "metadata": {
    "Collapsed": "false",
    "toc-hr-collapsed": true,
    "toc-nb-collapsed": true
   },
   "source": [
    "# Model with LSTM cells"
   ]
  },
  {
   "cell_type": "code",
   "execution_count": 34,
   "metadata": {
    "Collapsed": "false",
    "_uuid": "c3ac90355cbf04993a8b090483164d0e86401855"
   },
   "outputs": [],
   "source": [
    "#Conv1D Model\n",
    "input_tensor = Input(shape=(input_shape))\n",
    "\n",
    "x = layers.Conv1D(8, 11, padding='valid', activation='relu', strides=1)(input_tensor)\n",
    "x = layers.MaxPooling1D(2)(x)\n",
    "x = layers.Dropout(drop_out_rate)(x)\n",
    "x = layers.Conv1D(16, 7, padding='valid', activation='relu', strides=1)(x)\n",
    "x = layers.MaxPooling1D(2)(x)\n",
    "x = layers.Dropout(drop_out_rate)(x)\n",
    "x = layers.Conv1D(32, 5, padding='valid', activation='relu', strides=1)(x)\n",
    "x = layers.MaxPooling1D(10)(x)\n",
    "x = layers.LSTM(64, return_sequences=True)(x)\n",
    "x = layers.LSTM(32, return_sequences=True)(x)\n",
    "x = layers.Flatten()(x)\n",
    "# x = layers.Dense(256, activation='relu')(x)\n",
    "# x = layers.Dropout(drop_out_rate)(x)\n",
    "# x = layers.Dense(128, activation='relu')(x)\n",
    "x = layers.Dense(128, activation='relu')(x)\n",
    "x = layers.Dropout(drop_out_rate)(x)\n",
    "x = layers.Dense(64, activation='relu')(x)\n",
    "x = layers.Dropout(drop_out_rate)(x)\n",
    "output_tensor = layers.Dense(len(label_value), activation='softmax')(x)\n",
    "\n",
    "model = tf.keras.Model(input_tensor, output_tensor)\n",
    "\n",
    "model.compile(loss=keras.losses.categorical_crossentropy,\n",
    "             optimizer=keras.optimizers.Adam(lr = lr),\n",
    "             metrics=['accuracy'])\n"
   ]
  },
  {
   "cell_type": "code",
   "execution_count": 35,
   "metadata": {
    "Collapsed": "false",
    "_uuid": "0c1c50793d9d2c12af1cbf1029daca221afdaff9"
   },
   "outputs": [
    {
     "name": "stdout",
     "output_type": "stream",
     "text": [
      "Model: \"model\"\n",
      "_________________________________________________________________\n",
      "Layer (type)                 Output Shape              Param #   \n",
      "=================================================================\n",
      "input_1 (InputLayer)         [(None, 8000, 1)]         0         \n",
      "_________________________________________________________________\n",
      "conv1d (Conv1D)              (None, 7990, 8)           96        \n",
      "_________________________________________________________________\n",
      "max_pooling1d (MaxPooling1D) (None, 3995, 8)           0         \n",
      "_________________________________________________________________\n",
      "dropout (Dropout)            (None, 3995, 8)           0         \n",
      "_________________________________________________________________\n",
      "conv1d_1 (Conv1D)            (None, 3989, 16)          912       \n",
      "_________________________________________________________________\n",
      "max_pooling1d_1 (MaxPooling1 (None, 1994, 16)          0         \n",
      "_________________________________________________________________\n",
      "dropout_1 (Dropout)          (None, 1994, 16)          0         \n",
      "_________________________________________________________________\n",
      "conv1d_2 (Conv1D)            (None, 1990, 32)          2592      \n",
      "_________________________________________________________________\n",
      "max_pooling1d_2 (MaxPooling1 (None, 199, 32)           0         \n",
      "_________________________________________________________________\n",
      "lstm (LSTM)                  (None, 199, 64)           24832     \n",
      "_________________________________________________________________\n",
      "lstm_1 (LSTM)                (None, 199, 32)           12416     \n",
      "_________________________________________________________________\n",
      "flatten (Flatten)            (None, 6368)              0         \n",
      "_________________________________________________________________\n",
      "dense (Dense)                (None, 128)               815232    \n",
      "_________________________________________________________________\n",
      "dropout_2 (Dropout)          (None, 128)               0         \n",
      "_________________________________________________________________\n",
      "dense_1 (Dense)              (None, 64)                8256      \n",
      "_________________________________________________________________\n",
      "dropout_3 (Dropout)          (None, 64)                0         \n",
      "_________________________________________________________________\n",
      "dense_2 (Dense)              (None, 12)                780       \n",
      "=================================================================\n",
      "Total params: 865,116\n",
      "Trainable params: 865,116\n",
      "Non-trainable params: 0\n",
      "_________________________________________________________________\n"
     ]
    }
   ],
   "source": [
    "model.summary()"
   ]
  },
  {
   "cell_type": "markdown",
   "metadata": {
    "Collapsed": "false"
   },
   "source": [
    "#### Callbacks"
   ]
  },
  {
   "cell_type": "code",
   "execution_count": 39,
   "metadata": {
    "Collapsed": "false"
   },
   "outputs": [],
   "source": [
    "run_path = \"../models/rec\"\n",
    "earlyStopping = tf.keras.callbacks.EarlyStopping(monitor='accuracy', patience=10, verbose=0)\n",
    "mcp_save = tf.keras.callbacks.ModelCheckpoint(os.path.join(run_path, 'model-{epoch:03d}-{val_accuracy:03f}.h5'),\n",
    "                           save_best_only=True, monitor='accuracy', patience=7)\n",
    "reduce_lr_loss = tf.keras.callbacks.ReduceLROnPlateau(monitor='accuracy', factor=0.1, patience=7, verbose=1, min_delta=1e-4)\n",
    "\n",
    "callbacks = [earlyStopping, mcp_save, reduce_lr_loss]"
   ]
  },
  {
   "cell_type": "code",
   "execution_count": 40,
   "metadata": {
    "Collapsed": "false",
    "_uuid": "9b61710f92afdf22a09a07b9dd9d3ddc3e75c05b"
   },
   "outputs": [
    {
     "name": "stdout",
     "output_type": "stream",
     "text": [
      "Train on 40496 samples, validate on 10124 samples\n",
      "Epoch 1/100\n",
      "40496/40496 [==============================] - 23s 561us/sample - loss: 2.3591 - accuracy: 0.1563 - val_loss: 2.1991 - val_accuracy: 0.2250\n",
      "Epoch 2/100\n",
      "40496/40496 [==============================] - 16s 389us/sample - loss: 2.1149 - accuracy: 0.2346 - val_loss: 1.9488 - val_accuracy: 0.3107ss: 2.1151 - accuracy: 0.23\n",
      "Epoch 3/100\n",
      "40496/40496 [==============================] - 16s 392us/sample - loss: 1.9243 - accuracy: 0.2974 - val_loss: 1.7401 - val_accuracy: 0.3830\n",
      "Epoch 4/100\n",
      "40496/40496 [==============================] - 16s 393us/sample - loss: 1.7081 - accuracy: 0.3758 - val_loss: 1.4283 - val_accuracy: 0.495410s - loss: 1.815 - ETA: 8s - loss: 1.7920 - accuracy: 0.34 - ETA: 8s - loss: 1.7900 - accuracy - ETA: 3s - loss: 1.7415 - accuracy: 0. - ETA: \n",
      "Epoch 5/100\n",
      "40496/40496 [==============================] - 16s 394us/sample - loss: 1.5010 - accuracy: 0.4563 - val_loss: 1.2972 - val_accuracy: 0.5501\n",
      "Epoch 6/100\n",
      "40496/40496 [==============================] - 16s 395us/sample - loss: 1.3603 - accuracy: 0.5156 - val_loss: 1.2081 - val_accuracy: 0.5836\n",
      "Epoch 7/100\n",
      "40496/40496 [==============================] - 16s 396us/sample - loss: 1.2365 - accuracy: 0.5696 - val_loss: 1.1693 - val_accuracy: 0.61651.2403 - ac\n",
      "Epoch 8/100\n",
      "40496/40496 [==============================] - 16s 396us/sample - loss: 1.1334 - accuracy: 0.6066 - val_loss: 1.0090 - val_accuracy: 0.6652 12s - ETA: 8s - loss: 1.1669 - accura - ETA: 3s - loss: 1.1413 - accuracy: 0.60 - ETA: 2s - - ETA: 0s - loss: 1.1334 - accuracy: 0.60\n",
      "Epoch 9/100\n",
      "40496/40496 [==============================] - 16s 396us/sample - loss: 1.0646 - accuracy: 0.6336 - val_loss: 0.9221 - val_accuracy: 0.6975\n",
      "Epoch 10/100\n",
      "40496/40496 [==============================] - 16s 397us/sample - loss: 1.0087 - accuracy: 0.6602 - val_loss: 0.9033 - val_accuracy: 0.70901s - loss: 1 - ETA: 4s - los - ETA: 1s - loss: 1.0\n",
      "Epoch 11/100\n",
      "40496/40496 [==============================] - 16s 398us/sample - loss: 0.9738 - accuracy: 0.6728 - val_loss: 0.8731 - val_accuracy: 0.7205\n",
      "Epoch 12/100\n",
      "40496/40496 [==============================] - 16s 398us/sample - loss: 0.9206 - accuracy: 0.6927 - val_loss: 0.7771 - val_accuracy: 0.7444\n",
      "Epoch 13/100\n",
      "40496/40496 [==============================] - 16s 398us/sample - loss: 0.8830 - accuracy: 0.7058 - val_loss: 0.8490 - val_accuracy: 0.7257- ETA\n",
      "Epoch 14/100\n",
      "40496/40496 [==============================] - 16s 398us/sample - loss: 0.8530 - accuracy: 0.7156 - val_loss: 0.7400 - val_accuracy: 0.7542\n",
      "Epoch 15/100\n",
      "40496/40496 [==============================] - 16s 399us/sample - loss: 0.8155 - accuracy: 0.7310 - val_loss: 0.8230 - val_accuracy: 0.7294loss: 0 - ETA: 0s - loss: 0.8163 - accuracy: \n",
      "Epoch 16/100\n",
      "40496/40496 [==============================] - 16s 399us/sample - loss: 0.7984 - accuracy: 0.7367 - val_loss: 0.7518 - val_accuracy: 0.7581\n",
      "Epoch 17/100\n",
      "40496/40496 [==============================] - 16s 399us/sample - loss: 0.7762 - accuracy: 0.7443 - val_loss: 0.6847 - val_accuracy: 0.7741\n",
      "Epoch 18/100\n",
      "40496/40496 [==============================] - 16s 399us/sample - loss: 0.7427 - accuracy: 0.7561 - val_loss: 0.6231 - val_accuracy: 0.7953\n",
      "Epoch 19/100\n",
      "40496/40496 [==============================] - 16s 402us/sample - loss: 0.7298 - accuracy: 0.7627 - val_loss: 0.6801 - val_accuracy: 0.7803\n",
      "Epoch 20/100\n",
      "40496/40496 [==============================] - 16s 399us/sample - loss: 0.7143 - accuracy: 0.7695 - val_loss: 0.6990 - val_accuracy: 0.7749\n",
      "Epoch 21/100\n",
      "40496/40496 [==============================] - 16s 399us/sample - loss: 0.6978 - accuracy: 0.7731 - val_loss: 0.6817 - val_accuracy: 0.7808\n",
      "Epoch 22/100\n",
      "40496/40496 [==============================] - 16s 400us/sample - loss: 0.6593 - accuracy: 0.7891 - val_loss: 0.6448 - val_accuracy: 0.7976\n",
      "Epoch 23/100\n",
      "40496/40496 [==============================] - 16s 399us/sample - loss: 0.6615 - accuracy: 0.7887 - val_loss: 0.6455 - val_accuracy: 0.7958\n",
      "Epoch 24/100\n",
      "40496/40496 [==============================] - 16s 400us/sample - loss: 0.6502 - accuracy: 0.7909 - val_loss: 0.6807 - val_accuracy: 0.7795\n",
      "Epoch 25/100\n",
      "40496/40496 [==============================] - 16s 399us/sample - loss: 0.6400 - accuracy: 0.7926 - val_loss: 0.5842 - val_accuracy: 0.8127uracy\n",
      "Epoch 26/100\n",
      "40496/40496 [==============================] - 16s 400us/sample - loss: 0.6087 - accuracy: 0.8042 - val_loss: 0.5718 - val_accuracy: 0.8198\n",
      "Epoch 27/100\n",
      "40496/40496 [==============================] - 16s 400us/sample - loss: 0.6027 - accuracy: 0.8042 - val_loss: 0.6222 - val_accuracy: 0.8020\n",
      "Epoch 28/100\n",
      "40496/40496 [==============================] - 16s 399us/sample - loss: 0.5864 - accuracy: 0.8110 - val_loss: 0.6429 - val_accuracy: 0.7887\n",
      "Epoch 29/100\n",
      "40496/40496 [==============================] - 16s 401us/sample - loss: 0.5817 - accuracy: 0.8128 - val_loss: 0.5644 - val_accuracy: 0.8178\n",
      "Epoch 30/100\n",
      "40496/40496 [==============================] - 16s 402us/sample - loss: 0.5578 - accuracy: 0.8232 - val_loss: 0.5910 - val_accuracy: 0.8164\n",
      "Epoch 31/100\n",
      "40496/40496 [==============================] - 16s 401us/sample - loss: 0.5445 - accuracy: 0.8267 - val_loss: 0.6439 - val_accuracy: 0.8011\n",
      "Epoch 32/100\n",
      "40496/40496 [==============================] - 16s 399us/sample - loss: 0.5476 - accuracy: 0.8254 - val_loss: 0.5662 - val_accuracy: 0.8228\n",
      "Epoch 33/100\n",
      "40496/40496 [==============================] - 16s 400us/sample - loss: 0.5307 - accuracy: 0.8327 - val_loss: 0.5304 - val_accuracy: 0.8340\n",
      "Epoch 34/100\n",
      "40496/40496 [==============================] - 16s 399us/sample - loss: 0.5403 - accuracy: 0.8266 - val_loss: 0.5959 - val_accuracy: 0.8131\n",
      "Epoch 35/100\n",
      "40496/40496 [==============================] - 16s 399us/sample - loss: 0.5250 - accuracy: 0.8315 - val_loss: 0.5702 - val_accuracy: 0.8238\n",
      "Epoch 36/100\n",
      "40496/40496 [==============================] - 16s 400us/sample - loss: 0.4963 - accuracy: 0.8406 - val_loss: 0.6476 - val_accuracy: 0.8011ss: 0.4958 - accuracy: 0.\n",
      "Epoch 37/100\n",
      "40496/40496 [==============================] - 16s 401us/sample - loss: 0.4975 - accuracy: 0.8423 - val_loss: 0.5506 - val_accuracy: 0.8356\n",
      "Epoch 38/100\n",
      "40496/40496 [==============================] - 16s 400us/sample - loss: 0.4754 - accuracy: 0.8480 - val_loss: 0.5363 - val_accuracy: 0.8306\n",
      "Epoch 39/100\n",
      "40496/40496 [==============================] - 16s 400us/sample - loss: 0.4954 - accuracy: 0.8420 - val_loss: 0.6317 - val_accuracy: 0.8239\n",
      "Epoch 40/100\n",
      "40496/40496 [==============================] - 16s 402us/sample - loss: 0.4757 - accuracy: 0.8490 - val_loss: 0.6189 - val_accuracy: 0.8155\n",
      "Epoch 41/100\n",
      "40496/40496 [==============================] - 16s 402us/sample - loss: 0.4708 - accuracy: 0.8500 - val_loss: 0.5756 - val_accuracy: 0.8341\n",
      "Epoch 42/100\n",
      "40496/40496 [==============================] - 16s 402us/sample - loss: 0.4543 - accuracy: 0.8552 - val_loss: 0.5769 - val_accuracy: 0.8327\n",
      "Epoch 43/100\n",
      "40496/40496 [==============================] - 16s 400us/sample - loss: 0.4492 - accuracy: 0.8568 - val_loss: 0.6239 - val_accuracy: 0.8231\n",
      "Epoch 44/100\n",
      "40496/40496 [==============================] - 16s 401us/sample - loss: 0.4483 - accuracy: 0.8592 - val_loss: 0.6122 - val_accuracy: 0.8218\n",
      "Epoch 45/100\n",
      "40496/40496 [==============================] - 16s 404us/sample - loss: 0.4324 - accuracy: 0.8637 - val_loss: 0.5028 - val_accuracy: 0.8454\n",
      "Epoch 46/100\n",
      "40496/40496 [==============================] - 16s 400us/sample - loss: 0.4421 - accuracy: 0.8596 - val_loss: 0.5199 - val_accuracy: 0.8414\n",
      "Epoch 47/100\n",
      "40496/40496 [==============================] - 16s 402us/sample - loss: 0.4229 - accuracy: 0.8652 - val_loss: 0.6176 - val_accuracy: 0.8243\n",
      "Epoch 48/100\n",
      "40496/40496 [==============================] - 16s 406us/sample - loss: 0.4259 - accuracy: 0.8624 - val_loss: 0.5033 - val_accuracy: 0.8482\n",
      "Epoch 49/100\n",
      "40496/40496 [==============================] - 16s 403us/sample - loss: 0.4175 - accuracy: 0.8677 - val_loss: 0.5858 - val_accuracy: 0.8300\n",
      "Epoch 50/100\n",
      "40496/40496 [==============================] - 16s 401us/sample - loss: 0.4125 - accuracy: 0.8676 - val_loss: 0.5373 - val_accuracy: 0.8474\n",
      "Epoch 51/100\n",
      "40496/40496 [==============================] - 16s 402us/sample - loss: 0.4025 - accuracy: 0.8712 - val_loss: 0.6283 - val_accuracy: 0.8311\n",
      "Epoch 52/100\n",
      "40496/40496 [==============================] - 16s 403us/sample - loss: 0.3927 - accuracy: 0.8748 - val_loss: 0.7162 - val_accuracy: 0.8236\n",
      "Epoch 53/100\n",
      "40496/40496 [==============================] - 16s 401us/sample - loss: 0.3952 - accuracy: 0.8739 - val_loss: 0.5106 - val_accuracy: 0.8452\n",
      "Epoch 54/100\n",
      "40496/40496 [==============================] - 16s 401us/sample - loss: 0.3963 - accuracy: 0.8732 - val_loss: 0.5049 - val_accuracy: 0.8481\n",
      "Epoch 55/100\n",
      "40496/40496 [==============================] - 16s 402us/sample - loss: 0.3791 - accuracy: 0.8777 - val_loss: 0.5380 - val_accuracy: 0.8394\n",
      "Epoch 56/100\n",
      "40496/40496 [==============================] - 16s 403us/sample - loss: 0.3768 - accuracy: 0.8815 - val_loss: 0.5607 - val_accuracy: 0.8407\n",
      "Epoch 57/100\n",
      "40496/40496 [==============================] - 16s 400us/sample - loss: 0.3769 - accuracy: 0.8791 - val_loss: 0.6249 - val_accuracy: 0.8398\n",
      "Epoch 58/100\n",
      "40496/40496 [==============================] - 16s 402us/sample - loss: 0.3657 - accuracy: 0.8833 - val_loss: 0.5388 - val_accuracy: 0.8474\n",
      "Epoch 59/100\n",
      "40496/40496 [==============================] - 16s 400us/sample - loss: 0.3662 - accuracy: 0.8817 - val_loss: 0.4493 - val_accuracy: 0.8606\n",
      "Epoch 60/100\n",
      "40496/40496 [==============================] - 16s 402us/sample - loss: 0.3608 - accuracy: 0.8823 - val_loss: 0.5474 - val_accuracy: 0.8454\n",
      "Epoch 61/100\n",
      "40496/40496 [==============================] - 16s 403us/sample - loss: 0.3645 - accuracy: 0.8839 - val_loss: 0.4567 - val_accuracy: 0.8630\n",
      "Epoch 62/100\n",
      "40496/40496 [==============================] - 16s 405us/sample - loss: 0.3497 - accuracy: 0.8872 - val_loss: 1.4914 - val_accuracy: 0.8076\n",
      "Epoch 63/100\n",
      "40496/40496 [==============================] - 16s 404us/sample - loss: 0.3385 - accuracy: 0.8900 - val_loss: 0.6784 - val_accuracy: 0.8525loss: 0.3397 - ac\n",
      "Epoch 64/100\n",
      "40496/40496 [==============================] - 16s 403us/sample - loss: 0.3567 - accuracy: 0.8859 - val_loss: 0.7457 - val_accuracy: 0.8334\n",
      "Epoch 65/100\n",
      "40496/40496 [==============================] - 16s 399us/sample - loss: 0.3478 - accuracy: 0.8889 - val_loss: 0.4866 - val_accuracy: 0.8586\n",
      "Epoch 66/100\n",
      "40496/40496 [==============================] - 16s 403us/sample - loss: 0.3342 - accuracy: 0.8924 - val_loss: 0.4414 - val_accuracy: 0.8687\n",
      "Epoch 67/100\n",
      "40496/40496 [==============================] - 17s 409us/sample - loss: 0.3359 - accuracy: 0.8919 - val_loss: 0.4808 - val_accuracy: 0.86383356 - ac\n",
      "Epoch 68/100\n",
      "40496/40496 [==============================] - 16s 406us/sample - loss: 0.3282 - accuracy: 0.8936 - val_loss: 0.5649 - val_accuracy: 0.8425\n",
      "Epoch 69/100\n",
      "40496/40496 [==============================] - 16s 400us/sample - loss: 0.3542 - accuracy: 0.8869 - val_loss: 0.4579 - val_accuracy: 0.8646\n",
      "Epoch 70/100\n",
      "40496/40496 [==============================] - 16s 404us/sample - loss: 0.3369 - accuracy: 0.8926 - val_loss: 0.6593 - val_accuracy: 0.8354\n",
      "Epoch 71/100\n",
      "40496/40496 [==============================] - 16s 406us/sample - loss: 0.3205 - accuracy: 0.8990 - val_loss: 0.4391 - val_accuracy: 0.8654\n",
      "Epoch 72/100\n",
      "40496/40496 [==============================] - 16s 404us/sample - loss: 0.3110 - accuracy: 0.8983 - val_loss: 0.5678 - val_accuracy: 0.8594\n",
      "Epoch 73/100\n",
      "40496/40496 [==============================] - 16s 402us/sample - loss: 0.3300 - accuracy: 0.8943 - val_loss: 0.5472 - val_accuracy: 0.8540\n",
      "Epoch 74/100\n",
      "40496/40496 [==============================] - 16s 405us/sample - loss: 0.3045 - accuracy: 0.9026 - val_loss: 0.4765 - val_accuracy: 0.8632\n",
      "Epoch 75/100\n",
      "40496/40496 [==============================] - 16s 403us/sample - loss: 0.3152 - accuracy: 0.8991 - val_loss: 0.5106 - val_accuracy: 0.8559- -\n",
      "Epoch 76/100\n",
      "40496/40496 [==============================] - 16s 402us/sample - loss: 0.3064 - accuracy: 0.9005 - val_loss: 0.5437 - val_accuracy: 0.8487\n",
      "Epoch 77/100\n",
      "40496/40496 [==============================] - 17s 409us/sample - loss: 0.3083 - accuracy: 0.9009 - val_loss: 0.4228 - val_accuracy: 0.8769\n",
      "Epoch 78/100\n",
      "40496/40496 [==============================] - 17s 425us/sample - loss: 0.3036 - accuracy: 0.9038 - val_loss: 0.6287 - val_accuracy: 0.8529\n",
      "Epoch 79/100\n",
      "40496/40496 [==============================] - 17s 418us/sample - loss: 0.2928 - accuracy: 0.9054 - val_loss: 0.5294 - val_accuracy: 0.8545: 0.296\n",
      "Epoch 80/100\n",
      "40496/40496 [==============================] - 17s 424us/sample - loss: 0.3030 - accuracy: 0.9023 - val_loss: 0.4676 - val_accuracy: 0.8664\n",
      "Epoch 81/100\n",
      "40496/40496 [==============================] - 17s 413us/sample - loss: 0.2879 - accuracy: 0.9079 - val_loss: 0.4435 - val_accuracy: 0.8695\n",
      "Epoch 82/100\n",
      "40496/40496 [==============================] - 16s 407us/sample - loss: 0.2895 - accuracy: 0.9065 - val_loss: 0.4946 - val_accuracy: 0.8646\n",
      "Epoch 83/100\n",
      "40496/40496 [==============================] - 17s 408us/sample - loss: 0.2987 - accuracy: 0.9056 - val_loss: 0.4212 - val_accuracy: 0.8775\n",
      "Epoch 84/100\n",
      "40496/40496 [==============================] - 16s 403us/sample - loss: 0.2828 - accuracy: 0.9081 - val_loss: 0.4580 - val_accuracy: 0.8690\n",
      "Epoch 85/100\n",
      "40496/40496 [==============================] - 17s 414us/sample - loss: 0.2819 - accuracy: 0.9071 - val_loss: 0.4738 - val_accuracy: 0.8684\n",
      "Epoch 86/100\n",
      "40496/40496 [==============================] - 16s 407us/sample - loss: 0.2947 - accuracy: 0.9059 - val_loss: 0.4847 - val_accuracy: 0.8686\n",
      "Epoch 87/100\n",
      "40496/40496 [==============================] - 16s 406us/sample - loss: 0.2983 - accuracy: 0.9047 - val_loss: 0.4795 - val_accuracy: 0.8684\n",
      "Epoch 88/100\n",
      "40496/40496 [==============================] - 17s 412us/sample - loss: 0.2760 - accuracy: 0.9109 - val_loss: 0.8235 - val_accuracy: 0.8431\n",
      "Epoch 89/100\n",
      "40496/40496 [==============================] - 17s 409us/sample - loss: 0.2734 - accuracy: 0.9109 - val_loss: 0.4610 - val_accuracy: 0.8750s - los\n",
      "Epoch 90/100\n",
      "40496/40496 [==============================] - 17s 413us/sample - loss: 0.2676 - accuracy: 0.9156 - val_loss: 0.4922 - val_accuracy: 0.8716A: 2s - loss: 0\n",
      "Epoch 91/100\n",
      "40496/40496 [==============================] - 16s 406us/sample - loss: 0.2725 - accuracy: 0.9135 - val_loss: 0.5044 - val_accuracy: 0.8666\n",
      "Epoch 92/100\n",
      "40496/40496 [==============================] - 16s 405us/sample - loss: 0.2689 - accuracy: 0.9150 - val_loss: 0.4537 - val_accuracy: 0.8770\n",
      "Epoch 93/100\n",
      "40496/40496 [==============================] - 16s 403us/sample - loss: 0.2701 - accuracy: 0.9113 - val_loss: 0.4616 - val_accuracy: 0.8757\n",
      "Epoch 94/100\n",
      "40496/40496 [==============================] - 16s 407us/sample - loss: 0.2572 - accuracy: 0.9176 - val_loss: 0.5206 - val_accuracy: 0.8673\n",
      "Epoch 95/100\n",
      "40496/40496 [==============================] - 16s 405us/sample - loss: 0.2555 - accuracy: 0.9169 - val_loss: 0.4941 - val_accuracy: 0.8716\n",
      "Epoch 96/100\n",
      "40496/40496 [==============================] - 17s 409us/sample - loss: 0.2603 - accuracy: 0.9160 - val_loss: 0.5004 - val_accuracy: 0.8701\n",
      "Epoch 97/100\n",
      "40496/40496 [==============================] - 17s 410us/sample - loss: 0.2637 - accuracy: 0.9151 - val_loss: 0.6421 - val_accuracy: 0.8452\n",
      "Epoch 98/100\n",
      "40496/40496 [==============================] - 17s 409us/sample - loss: 0.2547 - accuracy: 0.9189 - val_loss: 1.0274 - val_accuracy: 0.8424\n",
      "Epoch 99/100\n",
      "40496/40496 [==============================] - 17s 408us/sample - loss: 0.2836 - accuracy: 0.9113 - val_loss: 0.4277 - val_accuracy: 0.8805\n",
      "Epoch 100/100\n",
      "40496/40496 [==============================] - 16s 404us/sample - loss: 0.2609 - accuracy: 0.9172 - val_loss: 0.5130 - val_accuracy: 0.8667\n"
     ]
    }
   ],
   "source": [
    "history = model.fit(train_wav, train_label, validation_data=[test_wav, test_label],\n",
    "          batch_size=batch_size, \n",
    "          epochs=100,\n",
    "          callbacks=callbacks,\n",
    "          verbose=1)\n",
    "model.save(\"../models/rec/baseline.h5\")"
   ]
  },
  {
   "cell_type": "code",
   "execution_count": 41,
   "metadata": {
    "Collapsed": "false",
    "_uuid": "5cbb0f06ea603cb0e5ef7b9893080ecfdd082864"
   },
   "outputs": [
    {
     "data": {
      "text/plain": [
       "[<matplotlib.lines.Line2D at 0x290161f5e08>]"
      ]
     },
     "execution_count": 41,
     "metadata": {},
     "output_type": "execute_result"
    },
    {
     "data": {
      "text/plain": [
       "[<matplotlib.lines.Line2D at 0x290161f5788>]"
      ]
     },
     "execution_count": 41,
     "metadata": {},
     "output_type": "execute_result"
    },
    {
     "data": {
      "text/plain": [
       "Text(0.5, 1.0, 'model accuracy')"
      ]
     },
     "execution_count": 41,
     "metadata": {},
     "output_type": "execute_result"
    },
    {
     "data": {
      "text/plain": [
       "Text(0, 0.5, 'accuracy')"
      ]
     },
     "execution_count": 41,
     "metadata": {},
     "output_type": "execute_result"
    },
    {
     "data": {
      "text/plain": [
       "Text(0.5, 0, 'epoch')"
      ]
     },
     "execution_count": 41,
     "metadata": {},
     "output_type": "execute_result"
    },
    {
     "data": {
      "text/plain": [
       "<matplotlib.legend.Legend at 0x29016210448>"
      ]
     },
     "execution_count": 41,
     "metadata": {},
     "output_type": "execute_result"
    },
    {
     "data": {
      "image/png": "[encoded data removed]",
      "text/plain": [
       "<Figure size 432x288 with 1 Axes>"
      ]
     },
     "metadata": {
      "needs_background": "light"
     },
     "output_type": "display_data"
    },
    {
     "data": {
      "text/plain": [
       "[<matplotlib.lines.Line2D at 0x290162ba488>]"
      ]
     },
     "execution_count": 41,
     "metadata": {},
     "output_type": "execute_result"
    },
    {
     "data": {
      "text/plain": [
       "[<matplotlib.lines.Line2D at 0x290162b1dc8>]"
      ]
     },
     "execution_count": 41,
     "metadata": {},
     "output_type": "execute_result"
    },
    {
     "data": {
      "text/plain": [
       "Text(0.5, 1.0, 'model loss')"
      ]
     },
     "execution_count": 41,
     "metadata": {},
     "output_type": "execute_result"
    },
    {
     "data": {
      "text/plain": [
       "Text(0, 0.5, 'loss')"
      ]
     },
     "execution_count": 41,
     "metadata": {},
     "output_type": "execute_result"
    },
    {
     "data": {
      "text/plain": [
       "Text(0.5, 0, 'epoch')"
      ]
     },
     "execution_count": 41,
     "metadata": {},
     "output_type": "execute_result"
    },
    {
     "data": {
      "text/plain": [
       "<matplotlib.legend.Legend at 0x290162c3e88>"
      ]
     },
     "execution_count": 41,
     "metadata": {},
     "output_type": "execute_result"
    },
    {
     "data": {
      "image/png": "[encoded data removed]",
      "text/plain": [
       "<Figure size 432x288 with 1 Axes>"
      ]
     },
     "metadata": {
      "needs_background": "light"
     },
     "output_type": "display_data"
    }
   ],
   "source": [
    "plt.plot(history.history['accuracy'])\n",
    "plt.plot(history.history['val_accuracy'])\n",
    "plt.title('model accuracy')\n",
    "plt.ylabel('accuracy')\n",
    "plt.xlabel('epoch')\n",
    "plt.legend(['train', 'test'], loc='upper left')\n",
    "plt.show()\n",
    "# summarize history for loss\n",
    "plt.plot(history.history['loss'])\n",
    "plt.plot(history.history['val_loss'])\n",
    "plt.title('model loss')\n",
    "plt.ylabel('loss')\n",
    "plt.xlabel('epoch')\n",
    "plt.legend(['train', 'test'], loc='upper left')\n",
    "plt.show()"
   ]
  },
  {
   "cell_type": "markdown",
   "metadata": {
    "Collapsed": "false"
   },
   "source": [
    "# Models for spectograms"
   ]
  },
  {
   "cell_type": "code",
   "execution_count": 32,
   "metadata": {
    "Collapsed": "false"
   },
   "outputs": [],
   "source": [
    "del(wav_vals)"
   ]
  },
  {
   "cell_type": "code",
   "execution_count": 33,
   "metadata": {
    "Collapsed": "false"
   },
   "outputs": [],
   "source": [
    "def log_specgram(audio, sample_rate, window_size=20,\n",
    "                 step_size=10, eps=1e-10):\n",
    "    nperseg = int(round(window_size * sample_rate / 1e3))\n",
    "    noverlap = int(round(step_size * sample_rate / 1e3))\n",
    "#     noverlap = int(nperseg//8)\n",
    "    freqs, times, spec = signal.spectrogram(audio,\n",
    "                                            fs=sample_rate,\n",
    "                                            window='hann',\n",
    "                                            nperseg=nperseg,\n",
    "                                            noverlap=noverlap,\n",
    "                                            detrend=False)\n",
    "    return freqs, times, np.log(spec.T.astype(np.float32) + eps)"
   ]
  },
  {
   "cell_type": "code",
   "execution_count": 36,
   "metadata": {
    "Collapsed": "false"
   },
   "outputs": [
    {
     "data": {
      "text/plain": [
       "(8000,)"
      ]
     },
     "execution_count": 36,
     "metadata": {},
     "output_type": "execute_result"
    },
    {
     "name": "stdout",
     "output_type": "stream",
     "text": [
      "(161,)\n",
      "(33,)\n"
     ]
    },
    {
     "data": {
      "text/plain": [
       "(33, 161)"
      ]
     },
     "execution_count": 36,
     "metadata": {},
     "output_type": "execute_result"
    },
    {
     "data": {
      "text/plain": [
       "Text(0.5, 1.0, 'Raw wave of ')"
      ]
     },
     "execution_count": 36,
     "metadata": {},
     "output_type": "execute_result"
    },
    {
     "data": {
      "text/plain": [
       "Text(0, 0.5, 'Amplitude')"
      ]
     },
     "execution_count": 36,
     "metadata": {},
     "output_type": "execute_result"
    },
    {
     "data": {
      "text/plain": [
       "[<matplotlib.lines.Line2D at 0x1a46a00fe88>]"
      ]
     },
     "execution_count": 36,
     "metadata": {},
     "output_type": "execute_result"
    },
    {
     "data": {
      "text/plain": [
       "<matplotlib.image.AxesImage at 0x1a448c6ed48>"
      ]
     },
     "execution_count": 36,
     "metadata": {},
     "output_type": "execute_result"
    },
    {
     "data": {
      "text/plain": [
       "[<matplotlib.axis.YTick at 0x1a74c7a3708>,\n",
       " <matplotlib.axis.YTick at 0x1a74c79fbc8>,\n",
       " <matplotlib.axis.YTick at 0x1a74c79d948>,\n",
       " <matplotlib.axis.YTick at 0x1a74c5db148>,\n",
       " <matplotlib.axis.YTick at 0x1a74c5db848>,\n",
       " <matplotlib.axis.YTick at 0x1a74c5e4748>,\n",
       " <matplotlib.axis.YTick at 0x1a74c5e21c8>,\n",
       " <matplotlib.axis.YTick at 0x1a74c5e4bc8>,\n",
       " <matplotlib.axis.YTick at 0x1a74c5e2a08>,\n",
       " <matplotlib.axis.YTick at 0x1a74c5ec488>,\n",
       " <matplotlib.axis.YTick at 0x1a74c5ece08>]"
      ]
     },
     "execution_count": 36,
     "metadata": {},
     "output_type": "execute_result"
    },
    {
     "data": {
      "text/plain": [
       "[<matplotlib.axis.XTick at 0x1a74c79f308>,\n",
       " <matplotlib.axis.XTick at 0x1a74c79f2c8>,\n",
       " <matplotlib.axis.XTick at 0x1a74c79d848>]"
      ]
     },
     "execution_count": 36,
     "metadata": {},
     "output_type": "execute_result"
    },
    {
     "data": {
      "text/plain": [
       "Text(0.5, 1.0, 'Spectrogram of ')"
      ]
     },
     "execution_count": 36,
     "metadata": {},
     "output_type": "execute_result"
    },
    {
     "data": {
      "text/plain": [
       "Text(0, 0.5, 'Freqs in Hz')"
      ]
     },
     "execution_count": 36,
     "metadata": {},
     "output_type": "execute_result"
    },
    {
     "data": {
      "text/plain": [
       "Text(0.5, 0, 'Seconds')"
      ]
     },
     "execution_count": 36,
     "metadata": {},
     "output_type": "execute_result"
    },
    {
     "data": {
      "image/png": "[encoded data removed]",
      "text/plain": [
       "<Figure size 1008x576 with 2 Axes>"
      ]
     },
     "metadata": {
      "needs_background": "light"
     },
     "output_type": "display_data"
    }
   ],
   "source": [
    "samples, sample_rate = np.squeeze(train_wav[0]), 8000\n",
    "samples.shape\n",
    "freqs, times, spectrogram = log_specgram(samples, sample_rate, window_size=40, step_size=10)\n",
    "# freqs, times, spectrogram = log_specgram(samples, sample_rate, window_size=12, step_size=3)\n",
    "print(freqs.shape)\n",
    "print(times.shape)\n",
    "spectrogram.shape\n",
    "# spectrogram = spectrogram[10:,:] # first axis is time\n",
    "fig = plt.figure(figsize=(14, 8))\n",
    "ax1 = fig.add_subplot(211)\n",
    "ax1.set_title('Raw wave of ')\n",
    "ax1.set_ylabel('Amplitude')\n",
    "ax1.plot(np.linspace(0, sample_rate/len(samples), sample_rate), samples)\n",
    "\n",
    "ax2 = fig.add_subplot(212)\n",
    "ax2.imshow(spectrogram.T, aspect='auto', origin='lower', \n",
    "           extent=[times.min(), times.max(), freqs.min(), freqs.max()])\n",
    "ax2.set_yticks(freqs[::16])\n",
    "ax2.set_xticks(times[::16])\n",
    "ax2.set_title('Spectrogram of ')\n",
    "ax2.set_ylabel('Freqs in Hz')\n",
    "ax2.set_xlabel('Seconds')"
   ]
  },
  {
   "cell_type": "code",
   "execution_count": 37,
   "metadata": {
    "Collapsed": "false"
   },
   "outputs": [
    {
     "data": {
      "text/plain": [
       "(8000,)"
      ]
     },
     "execution_count": 37,
     "metadata": {},
     "output_type": "execute_result"
    }
   ],
   "source": [
    "np.squeeze(train_wav[i]).shape"
   ]
  },
  {
   "cell_type": "code",
   "execution_count": null,
   "metadata": {
    "Collapsed": "false"
   },
   "outputs": [],
   "source": [
    "spectograms_train = [log_specgram(np.squeeze(elem), sample_rate, window_size=12, step_size=3)[2][:, 1:]\\\n",
    "                     for elem in train_wav]\n",
    "spectograms_train = np.asarray(spectograms_train)\n",
    "spectograms_train.shape\n",
    "spectograms_val = [log_specgram(np.squeeze(elem), sample_rate, window_size=12, step_size=3)[2][:, 1:]\\\n",
    "                     for elem in test_wav]\n",
    "spectograms_val = np.asarray(spectograms_val)\n",
    "spectograms_val.shape"
   ]
  },
  {
   "cell_type": "code",
   "execution_count": 37,
   "metadata": {
    "Collapsed": "false"
   },
   "outputs": [],
   "source": [
    "input_shape = (110, 49, 1)"
   ]
  },
  {
   "cell_type": "code",
   "execution_count": 39,
   "metadata": {
    "Collapsed": "false",
    "_uuid": "c3ac90355cbf04993a8b090483164d0e86401855"
   },
   "outputs": [],
   "source": [
    "#Conv2D Model\n",
    "input_tensor = Input(shape=(input_shape))\n",
    "\n",
    "x = layers.BatchNormalization(axis=2)(input_tensor)\n",
    "\n",
    "x = layers.Conv2D(16, (11,49), padding='valid', activation='relu', strides=1)(x)\n",
    "x = layers.Dropout(drop_out_rate)(x)\n",
    "x = layers.BatchNormalization()(x)\n",
    "# x = layers.MaxPooling2D(1, x.shape[2])(x)\n",
    "\n",
    "# x = layers.Conv2D(32, (3,40), activation='relu')(x)\n",
    "# x = layers.Dropout(drop_out_rate)(x)\n",
    "# x = layers.BatchNormalization()(x)\n",
    "# x = layers.MaxPooling2D(1, x.shape[2])(x)\n",
    "\n",
    "x = layers.Reshape((100, 16))(x)\n",
    "# x = layers.Conv1D(16, 7, padding='valid', activation='relu', strides=1)(x)\n",
    "# x = layers.MaxPooling1D(2)(x)\n",
    "# x = layers.Dropout(drop_out_rate)(x)\n",
    "# x = layers.Conv1D(32, 5, padding='valid', activation='relu', strides=1)(x)\n",
    "# x = layers.MaxPooling1D(10)(x)\n",
    "x = layers.Bidirectional(layers.LSTM(128, return_sequences=True))(x)\n",
    "x = layers.Bidirectional(layers.LSTM(64, return_sequences=True))(x)\n",
    "x = layers.Bidirectional(layers.LSTM(32, return_sequences=True))(x)\n",
    "x = layers.Flatten()(x)\n",
    "# x = layers.Dense(256, activation='relu')(x)\n",
    "# x = layers.Dropout(drop_out_rate)(x)\n",
    "# x = layers.Dense(128, activation='relu')(x)\n",
    "x = layers.Dense(128, activation='relu')(x)\n",
    "x = layers.Dropout(drop_out_rate)(x)\n",
    "x = layers.Dense(64, activation='relu')(x)\n",
    "x = layers.Dropout(drop_out_rate)(x)\n",
    "output_tensor = layers.Dense(len(label_value), activation='softmax')(x)\n",
    "\n",
    "model = tf.keras.Model(input_tensor, output_tensor)\n",
    "\n",
    "model.compile(loss=keras.losses.categorical_crossentropy,\n",
    "             optimizer=keras.optimizers.Adam(lr = lr),\n",
    "             metrics=['accuracy'])\n"
   ]
  },
  {
   "cell_type": "code",
   "execution_count": 40,
   "metadata": {
    "Collapsed": "false",
    "_uuid": "0c1c50793d9d2c12af1cbf1029daca221afdaff9"
   },
   "outputs": [
    {
     "name": "stdout",
     "output_type": "stream",
     "text": [
      "Model: \"model\"\n",
      "_________________________________________________________________\n",
      "Layer (type)                 Output Shape              Param #   \n",
      "=================================================================\n",
      "input_2 (InputLayer)         [(None, 110, 49, 1)]      0         \n",
      "_________________________________________________________________\n",
      "batch_normalization_2 (Batch (None, 110, 49, 1)        196       \n",
      "_________________________________________________________________\n",
      "conv2d_1 (Conv2D)            (None, 100, 1, 16)        8640      \n",
      "_________________________________________________________________\n",
      "dropout_3 (Dropout)          (None, 100, 1, 16)        0         \n",
      "_________________________________________________________________\n",
      "batch_normalization_3 (Batch (None, 100, 1, 16)        64        \n",
      "_________________________________________________________________\n",
      "reshape_1 (Reshape)          (None, 100, 16)           0         \n",
      "_________________________________________________________________\n",
      "bidirectional_3 (Bidirection (None, 100, 256)          148480    \n",
      "_________________________________________________________________\n",
      "bidirectional_4 (Bidirection (None, 100, 128)          164352    \n",
      "_________________________________________________________________\n",
      "bidirectional_5 (Bidirection (None, 100, 64)           41216     \n",
      "_________________________________________________________________\n",
      "flatten_1 (Flatten)          (None, 6400)              0         \n",
      "_________________________________________________________________\n",
      "dense_2 (Dense)              (None, 128)               819328    \n",
      "_________________________________________________________________\n",
      "dropout_4 (Dropout)          (None, 128)               0         \n",
      "_________________________________________________________________\n",
      "dense_3 (Dense)              (None, 64)                8256      \n",
      "_________________________________________________________________\n",
      "dropout_5 (Dropout)          (None, 64)                0         \n",
      "_________________________________________________________________\n",
      "dense_4 (Dense)              (None, 12)                780       \n",
      "=================================================================\n",
      "Total params: 1,191,312\n",
      "Trainable params: 1,191,182\n",
      "Non-trainable params: 130\n",
      "_________________________________________________________________\n"
     ]
    }
   ],
   "source": [
    "model.summary()"
   ]
  },
  {
   "cell_type": "markdown",
   "metadata": {
    "Collapsed": "false"
   },
   "source": [
    "#### Callbacks"
   ]
  },
  {
   "cell_type": "code",
   "execution_count": 41,
   "metadata": {
    "Collapsed": "false"
   },
   "outputs": [],
   "source": [
    "run_path = \"../models/spect2\"\n",
    "earlyStopping = tf.keras.callbacks.EarlyStopping(monitor='acc', patience=10, verbose=0)\n",
    "mcp_save = tf.keras.callbacks.ModelCheckpoint(os.path.join(run_path, 'model-{epoch:03d}-{val_accuracy:03f}.h5'),\n",
    "                           save_best_only=True, monitor='accuracy', patience=7)\n",
    "reduce_lr_loss = tf.keras.callbacks.ReduceLROnPlateau(monitor='accuracy', factor=0.1, patience=7, verbose=1, min_delta=1e-4)\n",
    "\n",
    "callbacks = [earlyStopping, mcp_save, reduce_lr_loss]"
   ]
  },
  {
   "cell_type": "code",
   "execution_count": 42,
   "metadata": {
    "Collapsed": "false"
   },
   "outputs": [
    {
     "data": {
      "text/plain": [
       "(40496, 110, 49)"
      ]
     },
     "execution_count": 42,
     "metadata": {},
     "output_type": "execute_result"
    }
   ],
   "source": [
    "spectograms_train = np.squeeze(spectograms_train)\n",
    "spectograms_val = np.squeeze(spectograms_val)\n",
    "spectograms_train.shape"
   ]
  },
  {
   "cell_type": "code",
   "execution_count": 43,
   "metadata": {
    "Collapsed": "false"
   },
   "outputs": [
    {
     "data": {
      "text/plain": [
       "(40496, 110, 49, 1)"
      ]
     },
     "execution_count": 43,
     "metadata": {},
     "output_type": "execute_result"
    }
   ],
   "source": [
    "spectograms_train = np.expand_dims(spectograms_train, axis=3)\n",
    "spectograms_val = np.expand_dims(spectograms_val, axis=3)\n",
    "spectograms_train.shape"
   ]
  },
  {
   "cell_type": "markdown",
   "metadata": {
    "Collapsed": "false"
   },
   "source": [
    "#### Calculate class weights"
   ]
  },
  {
   "cell_type": "code",
   "execution_count": 44,
   "metadata": {
    "Collapsed": "false"
   },
   "outputs": [
    {
     "data": {
      "text/plain": [
       "array([ 8,  5,  1, ...,  3, 11,  2])"
      ]
     },
     "execution_count": 44,
     "metadata": {},
     "output_type": "execute_result"
    }
   ],
   "source": [
    "train_label_scalar"
   ]
  },
  {
   "cell_type": "code",
   "execution_count": 45,
   "metadata": {
    "Collapsed": "false"
   },
   "outputs": [],
   "source": [
    "from sklearn.utils import class_weight\n",
    "class_weights = class_weight.compute_class_weight('balanced',\n",
    "                                                 np.unique(train_label_scalar),\n",
    "                                                 train_label_scalar)"
   ]
  },
  {
   "cell_type": "code",
   "execution_count": 46,
   "metadata": {
    "Collapsed": "false",
    "_uuid": "9b61710f92afdf22a09a07b9dd9d3ddc3e75c05b",
    "collapsed": true,
    "jupyter": {
     "outputs_hidden": true
    }
   },
   "outputs": [
    {
     "name": "stdout",
     "output_type": "stream",
     "text": [
      "Train on 40496 samples, validate on 10124 samples\n",
      "Epoch 1/100\n",
      "40448/40496 [============================>.] - ETA: 0s - loss: 1.8498 - accuracy: 0.3636WARNING:tensorflow:Early stopping conditioned on metric `acc` which is not available. Available metrics are: loss,accuracy,val_loss,val_accuracy\n",
      "40496/40496 [==============================] - 63s 2ms/sample - loss: 1.8491 - accuracy: 0.3639 - val_loss: 2.9732 - val_accuracy: 0.1175\n",
      "Epoch 2/100\n",
      "40448/40496 [============================>.] - ETA: 0s - loss: 1.1089 - accuracy: 0.6431WARNING:tensorflow:Early stopping conditioned on metric `acc` which is not available. Available metrics are: loss,accuracy,val_loss,val_accuracy\n",
      "40496/40496 [==============================] - 82s 2ms/sample - loss: 1.1088 - accuracy: 0.6431 - val_loss: 1.5281 - val_accuracy: 0.4854\n",
      "Epoch 3/100\n",
      "40448/40496 [============================>.] - ETA: 0s - loss: 0.8256 - accuracy: 0.7455WARNING:tensorflow:Early stopping conditioned on metric `acc` which is not available. Available metrics are: loss,accuracy,val_loss,val_accuracy\n",
      "40496/40496 [==============================] - 78s 2ms/sample - loss: 0.8253 - accuracy: 0.7456 - val_loss: 0.9508 - val_accuracy: 0.7487\n",
      "Epoch 4/100\n",
      "40448/40496 [============================>.] - ETA: 0s - loss: 0.7040 - accuracy: 0.7906WARNING:tensorflow:Early stopping conditioned on metric `acc` which is not available. Available metrics are: loss,accuracy,val_loss,val_accuracy\n",
      "40496/40496 [==============================] - 85s 2ms/sample - loss: 0.7038 - accuracy: 0.7907 - val_loss: 0.5054 - val_accuracy: 0.8457\n",
      "Epoch 5/100\n",
      "40448/40496 [============================>.] - ETA: 0s - loss: 0.6510 - accuracy: 0.8089WARNING:tensorflow:Early stopping conditioned on metric `acc` which is not available. Available metrics are: loss,accuracy,val_loss,val_accuracy\n",
      "40496/40496 [==============================] - 91s 2ms/sample - loss: 0.6510 - accuracy: 0.8089 - val_loss: 0.4900 - val_accuracy: 0.8512\n",
      "Epoch 6/100\n",
      "40448/40496 [============================>.] - ETA: 0s - loss: 0.5765 - accuracy: 0.8321WARNING:tensorflow:Early stopping conditioned on metric `acc` which is not available. Available metrics are: loss,accuracy,val_loss,val_accuracy\n",
      "40496/40496 [==============================] - 90s 2ms/sample - loss: 0.5767 - accuracy: 0.8321 - val_loss: 0.4345 - val_accuracy: 0.8609\n",
      "Epoch 7/100\n",
      "40448/40496 [============================>.] - ETA: 0s - loss: 0.5167 - accuracy: 0.8516WARNING:tensorflow:Early stopping conditioned on metric `acc` which is not available. Available metrics are: loss,accuracy,val_loss,val_accuracy\n",
      "40496/40496 [==============================] - 91s 2ms/sample - loss: 0.5165 - accuracy: 0.8516 - val_loss: 0.4439 - val_accuracy: 0.8703\n",
      "Epoch 8/100\n",
      "40448/40496 [============================>.] - ETA: 0s - loss: 0.4761 - accuracy: 0.8631WARNING:tensorflow:Early stopping conditioned on metric `acc` which is not available. Available metrics are: loss,accuracy,val_loss,val_accuracy\n",
      "40496/40496 [==============================] - 91s 2ms/sample - loss: 0.4763 - accuracy: 0.8630 - val_loss: 0.3265 - val_accuracy: 0.8962\n",
      "Epoch 9/100\n",
      "40448/40496 [============================>.] - ETA: 0s - loss: 0.4593 - accuracy: 0.8666WARNING:tensorflow:Early stopping conditioned on metric `acc` which is not available. Available metrics are: loss,accuracy,val_loss,val_accuracy\n",
      "40496/40496 [==============================] - 72s 2ms/sample - loss: 0.4593 - accuracy: 0.8666 - val_loss: 0.3137 - val_accuracy: 0.9009\n",
      "Epoch 10/100\n",
      "40448/40496 [============================>.] - ETA: 0s - loss: 0.4299 - accuracy: 0.8762WARNING:tensorflow:Early stopping conditioned on metric `acc` which is not available. Available metrics are: loss,accuracy,val_loss,val_accuracy\n",
      "40496/40496 [==============================] - 75s 2ms/sample - loss: 0.4303 - accuracy: 0.8761 - val_loss: 0.2760 - val_accuracy: 0.9119\n",
      "Epoch 11/100\n",
      "40448/40496 [============================>.] - ETA: 0s - loss: 0.3965 - accuracy: 0.8856WARNING:tensorflow:Early stopping conditioned on metric `acc` which is not available. Available metrics are: loss,accuracy,val_loss,val_accuracy\n",
      "40496/40496 [==============================] - 85s 2ms/sample - loss: 0.3964 - accuracy: 0.8856 - val_loss: 0.2823 - val_accuracy: 0.9110\n",
      "Epoch 12/100\n",
      "40448/40496 [============================>.] - ETA: 0s - loss: 0.3691 - accuracy: 0.8913WARNING:tensorflow:Early stopping conditioned on metric `acc` which is not available. Available metrics are: loss,accuracy,val_loss,val_accuracy\n",
      "40496/40496 [==============================] - 72s 2ms/sample - loss: 0.3689 - accuracy: 0.8913 - val_loss: 0.2942 - val_accuracy: 0.9086\n",
      "Epoch 13/100\n",
      "40448/40496 [============================>.] - ETA: 0s - loss: 0.3448 - accuracy: 0.9010WARNING:tensorflow:Early stopping conditioned on metric `acc` which is not available. Available metrics are: loss,accuracy,val_loss,val_accuracy\n",
      "40496/40496 [==============================] - 87s 2ms/sample - loss: 0.3448 - accuracy: 0.9010 - val_loss: 0.2849 - val_accuracy: 0.9099\n",
      "Epoch 14/100\n",
      "40448/40496 [============================>.] - ETA: 0s - loss: 0.3488 - accuracy: 0.8993WARNING:tensorflow:Early stopping conditioned on metric `acc` which is not available. Available metrics are: loss,accuracy,val_loss,val_accuracy\n",
      "40496/40496 [==============================] - 91s 2ms/sample - loss: 0.3488 - accuracy: 0.8992 - val_loss: 0.2692 - val_accuracy: 0.9158\n",
      "Epoch 15/100\n",
      "40448/40496 [============================>.] - ETA: 0s - loss: 0.3154 - accuracy: 0.9075WARNING:tensorflow:Early stopping conditioned on metric `acc` which is not available. Available metrics are: loss,accuracy,val_loss,val_accuracy\n",
      "40496/40496 [==============================] - 91s 2ms/sample - loss: 0.3153 - accuracy: 0.9075 - val_loss: 0.2807 - val_accuracy: 0.9136\n",
      "Epoch 16/100\n",
      "40448/40496 [============================>.] - ETA: 0s - loss: 0.3282 - accuracy: 0.9062WARNING:tensorflow:Early stopping conditioned on metric `acc` which is not available. Available metrics are: loss,accuracy,val_loss,val_accuracy\n",
      "40496/40496 [==============================] - 80s 2ms/sample - loss: 0.3282 - accuracy: 0.9062 - val_loss: 0.2459 - val_accuracy: 0.9205\n",
      "Epoch 17/100\n",
      "40448/40496 [============================>.] - ETA: 0s - loss: 0.3082 - accuracy: 0.9100WARNING:tensorflow:Early stopping conditioned on metric `acc` which is not available. Available metrics are: loss,accuracy,val_loss,val_accuracy\n",
      "40496/40496 [==============================] - 79s 2ms/sample - loss: 0.3088 - accuracy: 0.9100 - val_loss: 0.2328 - val_accuracy: 0.9254\n",
      "Epoch 18/100\n",
      "40448/40496 [============================>.] - ETA: 0s - loss: 0.3274 - accuracy: 0.9062WARNING:tensorflow:Early stopping conditioned on metric `acc` which is not available. Available metrics are: loss,accuracy,val_loss,val_accuracy\n",
      "40496/40496 [==============================] - 79s 2ms/sample - loss: 0.3278 - accuracy: 0.9061 - val_loss: 0.2438 - val_accuracy: 0.9214\n",
      "Epoch 19/100\n",
      "40448/40496 [============================>.] - ETA: 0s - loss: 0.3034 - accuracy: 0.9119WARNING:tensorflow:Early stopping conditioned on metric `acc` which is not available. Available metrics are: loss,accuracy,val_loss,val_accuracy\n",
      "40496/40496 [==============================] - 75s 2ms/sample - loss: 0.3037 - accuracy: 0.9118 - val_loss: 0.2284 - val_accuracy: 0.9253\n",
      "Epoch 20/100\n",
      "40448/40496 [============================>.] - ETA: 0s - loss: 0.3025 - accuracy: 0.9121WARNING:tensorflow:Early stopping conditioned on metric `acc` which is not available. Available metrics are: loss,accuracy,val_loss,val_accuracy\n",
      "40496/40496 [==============================] - 85s 2ms/sample - loss: 0.3025 - accuracy: 0.9121 - val_loss: 0.2384 - val_accuracy: 0.9249\n",
      "Epoch 21/100\n",
      "40448/40496 [============================>.] - ETA: 0s - loss: 0.2916 - accuracy: 0.9159WARNING:tensorflow:Early stopping conditioned on metric `acc` which is not available. Available metrics are: loss,accuracy,val_loss,val_accuracy\n",
      "40496/40496 [==============================] - 91s 2ms/sample - loss: 0.2917 - accuracy: 0.9158 - val_loss: 0.2145 - val_accuracy: 0.9308\n",
      "Epoch 22/100\n",
      "40448/40496 [============================>.] - ETA: 0s - loss: 0.2453 - accuracy: 0.9271WARNING:tensorflow:Early stopping conditioned on metric `acc` which is not available. Available metrics are: loss,accuracy,val_loss,val_accuracy\n",
      "40496/40496 [==============================] - 80s 2ms/sample - loss: 0.2451 - accuracy: 0.9272 - val_loss: 0.2086 - val_accuracy: 0.9343\n",
      "Epoch 23/100\n",
      "40448/40496 [============================>.] - ETA: 0s - loss: 0.2356 - accuracy: 0.9303WARNING:tensorflow:Early stopping conditioned on metric `acc` which is not available. Available metrics are: loss,accuracy,val_loss,val_accuracy\n",
      "40496/40496 [==============================] - 82s 2ms/sample - loss: 0.2358 - accuracy: 0.9302 - val_loss: 0.2201 - val_accuracy: 0.9280\n",
      "Epoch 24/100\n",
      "40448/40496 [============================>.] - ETA: 0s - loss: 0.2571 - accuracy: 0.9254WARNING:tensorflow:Early stopping conditioned on metric `acc` which is not available. Available metrics are: loss,accuracy,val_loss,val_accuracy\n",
      "40496/40496 [==============================] - 82s 2ms/sample - loss: 0.2572 - accuracy: 0.9254 - val_loss: 0.1975 - val_accuracy: 0.9331\n",
      "Epoch 25/100\n",
      "40448/40496 [============================>.] - ETA: 0s - loss: 0.2567 - accuracy: 0.9260WARNING:tensorflow:Early stopping conditioned on metric `acc` which is not available. Available metrics are: loss,accuracy,val_loss,val_accuracy\n",
      "40496/40496 [==============================] - 74s 2ms/sample - loss: 0.2565 - accuracy: 0.9260 - val_loss: 0.2348 - val_accuracy: 0.9270\n",
      "Epoch 26/100\n",
      "40448/40496 [============================>.] - ETA: 0s - loss: 0.2209 - accuracy: 0.9334WARNING:tensorflow:Early stopping conditioned on metric `acc` which is not available. Available metrics are: loss,accuracy,val_loss,val_accuracy\n",
      "40496/40496 [==============================] - 81s 2ms/sample - loss: 0.2210 - accuracy: 0.9334 - val_loss: 0.1947 - val_accuracy: 0.9381\n",
      "Epoch 27/100\n",
      "40448/40496 [============================>.] - ETA: 0s - loss: 0.2206 - accuracy: 0.9349WARNING:tensorflow:Early stopping conditioned on metric `acc` which is not available. Available metrics are: loss,accuracy,val_loss,val_accuracy\n",
      "40496/40496 [==============================] - 90s 2ms/sample - loss: 0.2206 - accuracy: 0.9349 - val_loss: 0.2020 - val_accuracy: 0.9375\n",
      "Epoch 28/100\n",
      "40448/40496 [============================>.] - ETA: 0s - loss: 0.2210 - accuracy: 0.9354WARNING:tensorflow:Early stopping conditioned on metric `acc` which is not available. Available metrics are: loss,accuracy,val_loss,val_accuracy\n",
      "40496/40496 [==============================] - 92s 2ms/sample - loss: 0.2211 - accuracy: 0.9353 - val_loss: 0.2216 - val_accuracy: 0.9278\n",
      "Epoch 29/100\n",
      "40448/40496 [============================>.] - ETA: 0s - loss: 0.2049 - accuracy: 0.9394WARNING:tensorflow:Early stopping conditioned on metric `acc` which is not available. Available metrics are: loss,accuracy,val_loss,val_accuracy\n",
      "40496/40496 [==============================] - 91s 2ms/sample - loss: 0.2051 - accuracy: 0.9393 - val_loss: 0.2062 - val_accuracy: 0.9334\n",
      "Epoch 30/100\n",
      "40448/40496 [============================>.] - ETA: 0s - loss: 0.2013 - accuracy: 0.9390WARNING:tensorflow:Early stopping conditioned on metric `acc` which is not available. Available metrics are: loss,accuracy,val_loss,val_accuracy\n",
      "40496/40496 [==============================] - 89s 2ms/sample - loss: 0.2012 - accuracy: 0.9391 - val_loss: 0.2622 - val_accuracy: 0.9238\n",
      "Epoch 31/100\n",
      "40448/40496 [============================>.] - ETA: 0s - loss: 0.2044 - accuracy: 0.9383WARNING:tensorflow:Early stopping conditioned on metric `acc` which is not available. Available metrics are: loss,accuracy,val_loss,val_accuracy\n",
      "40496/40496 [==============================] - 74s 2ms/sample - loss: 0.2043 - accuracy: 0.9383 - val_loss: 0.1975 - val_accuracy: 0.9378\n",
      "Epoch 32/100\n",
      "40448/40496 [============================>.] - ETA: 0s - loss: 0.1942 - accuracy: 0.9411WARNING:tensorflow:Early stopping conditioned on metric `acc` which is not available. Available metrics are: loss,accuracy,val_loss,val_accuracy\n",
      "40496/40496 [==============================] - 85s 2ms/sample - loss: 0.1942 - accuracy: 0.9411 - val_loss: 0.2079 - val_accuracy: 0.9358\n",
      "Epoch 33/100\n",
      "40448/40496 [============================>.] - ETA: 0s - loss: 0.1940 - accuracy: 0.9423WARNING:tensorflow:Early stopping conditioned on metric `acc` which is not available. Available metrics are: loss,accuracy,val_loss,val_accuracy\n",
      "40496/40496 [==============================] - 91s 2ms/sample - loss: 0.1940 - accuracy: 0.9423 - val_loss: 0.2369 - val_accuracy: 0.9358\n",
      "Epoch 34/100\n",
      "40448/40496 [============================>.] - ETA: 0s - loss: 0.2089 - accuracy: 0.9396WARNING:tensorflow:Early stopping conditioned on metric `acc` which is not available. Available metrics are: loss,accuracy,val_loss,val_accuracy\n",
      "40496/40496 [==============================] - 91s 2ms/sample - loss: 0.2090 - accuracy: 0.9396 - val_loss: 0.2437 - val_accuracy: 0.9278\n",
      "Epoch 35/100\n",
      "40448/40496 [============================>.] - ETA: 0s - loss: 0.2834 - accuracy: 0.9192WARNING:tensorflow:Early stopping conditioned on metric `acc` which is not available. Available metrics are: loss,accuracy,val_loss,val_accuracy\n",
      "40496/40496 [==============================] - 91s 2ms/sample - loss: 0.2836 - accuracy: 0.9192 - val_loss: 0.2263 - val_accuracy: 0.9299\n",
      "Epoch 36/100\n",
      "12800/40496 [========>.....................] - ETA: 57s - loss: 0.1982 - accuracy: 0.9399WARNING:tensorflow:Early stopping conditioned on metric `acc` which is not available. Available metrics are: loss,accuracy\n"
     ]
    },
    {
     "ename": "KeyError",
     "evalue": "'val_accuracy'",
     "output_type": "error",
     "traceback": [
      "\u001b[1;31m---------------------------------------------------------------------------\u001b[0m",
      "\u001b[1;31mKeyboardInterrupt\u001b[0m                         Traceback (most recent call last)",
      "\u001b[1;32m~\\Anaconda\\envs\\jlab\\lib\\site-packages\\tensorflow_core\\python\\keras\\engine\\training_v2.py\u001b[0m in \u001b[0;36mon_epoch\u001b[1;34m(self, epoch, mode)\u001b[0m\n\u001b[0;32m    766\u001b[0m     \u001b[1;32mtry\u001b[0m\u001b[1;33m:\u001b[0m\u001b[1;33m\u001b[0m\u001b[1;33m\u001b[0m\u001b[0m\n\u001b[1;32m--> 767\u001b[1;33m       \u001b[1;32myield\u001b[0m \u001b[0mepoch_logs\u001b[0m\u001b[1;33m\u001b[0m\u001b[1;33m\u001b[0m\u001b[0m\n\u001b[0m\u001b[0;32m    768\u001b[0m     \u001b[1;32mfinally\u001b[0m\u001b[1;33m:\u001b[0m\u001b[1;33m\u001b[0m\u001b[1;33m\u001b[0m\u001b[0m\n",
      "\u001b[1;32m~\\Anaconda\\envs\\jlab\\lib\\site-packages\\tensorflow_core\\python\\keras\\engine\\training_v2.py\u001b[0m in \u001b[0;36mfit\u001b[1;34m(self, model, x, y, batch_size, epochs, verbose, callbacks, validation_split, validation_data, shuffle, class_weight, sample_weight, initial_epoch, steps_per_epoch, validation_steps, validation_freq, max_queue_size, workers, use_multiprocessing, **kwargs)\u001b[0m\n\u001b[0;32m    341\u001b[0m                 \u001b[0mtraining_context\u001b[0m\u001b[1;33m=\u001b[0m\u001b[0mtraining_context\u001b[0m\u001b[1;33m,\u001b[0m\u001b[1;33m\u001b[0m\u001b[1;33m\u001b[0m\u001b[0m\n\u001b[1;32m--> 342\u001b[1;33m                 total_epochs=epochs)\n\u001b[0m\u001b[0;32m    343\u001b[0m             \u001b[0mcbks\u001b[0m\u001b[1;33m.\u001b[0m\u001b[0mmake_logs\u001b[0m\u001b[1;33m(\u001b[0m\u001b[0mmodel\u001b[0m\u001b[1;33m,\u001b[0m \u001b[0mepoch_logs\u001b[0m\u001b[1;33m,\u001b[0m \u001b[0mtraining_result\u001b[0m\u001b[1;33m,\u001b[0m \u001b[0mModeKeys\u001b[0m\u001b[1;33m.\u001b[0m\u001b[0mTRAIN\u001b[0m\u001b[1;33m)\u001b[0m\u001b[1;33m\u001b[0m\u001b[1;33m\u001b[0m\u001b[0m\n",
      "\u001b[1;32m~\\Anaconda\\envs\\jlab\\lib\\site-packages\\tensorflow_core\\python\\keras\\engine\\training_v2.py\u001b[0m in \u001b[0;36mrun_one_epoch\u001b[1;34m(model, iterator, execution_function, dataset_size, batch_size, strategy, steps_per_epoch, num_samples, mode, training_context, total_epochs)\u001b[0m\n\u001b[0;32m    127\u001b[0m       \u001b[1;32mtry\u001b[0m\u001b[1;33m:\u001b[0m\u001b[1;33m\u001b[0m\u001b[1;33m\u001b[0m\u001b[0m\n\u001b[1;32m--> 128\u001b[1;33m         \u001b[0mbatch_outs\u001b[0m \u001b[1;33m=\u001b[0m \u001b[0mexecution_function\u001b[0m\u001b[1;33m(\u001b[0m\u001b[0miterator\u001b[0m\u001b[1;33m)\u001b[0m\u001b[1;33m\u001b[0m\u001b[1;33m\u001b[0m\u001b[0m\n\u001b[0m\u001b[0;32m    129\u001b[0m       \u001b[1;32mexcept\u001b[0m \u001b[1;33m(\u001b[0m\u001b[0mStopIteration\u001b[0m\u001b[1;33m,\u001b[0m \u001b[0merrors\u001b[0m\u001b[1;33m.\u001b[0m\u001b[0mOutOfRangeError\u001b[0m\u001b[1;33m)\u001b[0m\u001b[1;33m:\u001b[0m\u001b[1;33m\u001b[0m\u001b[1;33m\u001b[0m\u001b[0m\n",
      "\u001b[1;32m~\\Anaconda\\envs\\jlab\\lib\\site-packages\\tensorflow_core\\python\\keras\\engine\\training_v2_utils.py\u001b[0m in \u001b[0;36mexecution_function\u001b[1;34m(input_fn)\u001b[0m\n\u001b[0;32m     97\u001b[0m     return nest.map_structure(_non_none_constant_value,\n\u001b[1;32m---> 98\u001b[1;33m                               distributed_function(input_fn))\n\u001b[0m\u001b[0;32m     99\u001b[0m \u001b[1;33m\u001b[0m\u001b[0m\n",
      "\u001b[1;32m~\\Anaconda\\envs\\jlab\\lib\\site-packages\\tensorflow_core\\python\\eager\\def_function.py\u001b[0m in \u001b[0;36m__call__\u001b[1;34m(self, *args, **kwds)\u001b[0m\n\u001b[0;32m    567\u001b[0m     \u001b[1;32melse\u001b[0m\u001b[1;33m:\u001b[0m\u001b[1;33m\u001b[0m\u001b[1;33m\u001b[0m\u001b[0m\n\u001b[1;32m--> 568\u001b[1;33m       \u001b[0mresult\u001b[0m \u001b[1;33m=\u001b[0m \u001b[0mself\u001b[0m\u001b[1;33m.\u001b[0m\u001b[0m_call\u001b[0m\u001b[1;33m(\u001b[0m\u001b[1;33m*\u001b[0m\u001b[0margs\u001b[0m\u001b[1;33m,\u001b[0m \u001b[1;33m**\u001b[0m\u001b[0mkwds\u001b[0m\u001b[1;33m)\u001b[0m\u001b[1;33m\u001b[0m\u001b[1;33m\u001b[0m\u001b[0m\n\u001b[0m\u001b[0;32m    569\u001b[0m \u001b[1;33m\u001b[0m\u001b[0m\n",
      "\u001b[1;32m~\\Anaconda\\envs\\jlab\\lib\\site-packages\\tensorflow_core\\python\\eager\\def_function.py\u001b[0m in \u001b[0;36m_call\u001b[1;34m(self, *args, **kwds)\u001b[0m\n\u001b[0;32m    598\u001b[0m       \u001b[1;31m# defunned version which is guaranteed to never create variables.\u001b[0m\u001b[1;33m\u001b[0m\u001b[1;33m\u001b[0m\u001b[1;33m\u001b[0m\u001b[0m\n\u001b[1;32m--> 599\u001b[1;33m       \u001b[1;32mreturn\u001b[0m \u001b[0mself\u001b[0m\u001b[1;33m.\u001b[0m\u001b[0m_stateless_fn\u001b[0m\u001b[1;33m(\u001b[0m\u001b[1;33m*\u001b[0m\u001b[0margs\u001b[0m\u001b[1;33m,\u001b[0m \u001b[1;33m**\u001b[0m\u001b[0mkwds\u001b[0m\u001b[1;33m)\u001b[0m  \u001b[1;31m# pylint: disable=not-callable\u001b[0m\u001b[1;33m\u001b[0m\u001b[1;33m\u001b[0m\u001b[0m\n\u001b[0m\u001b[0;32m    600\u001b[0m     \u001b[1;32melif\u001b[0m \u001b[0mself\u001b[0m\u001b[1;33m.\u001b[0m\u001b[0m_stateful_fn\u001b[0m \u001b[1;32mis\u001b[0m \u001b[1;32mnot\u001b[0m \u001b[1;32mNone\u001b[0m\u001b[1;33m:\u001b[0m\u001b[1;33m\u001b[0m\u001b[1;33m\u001b[0m\u001b[0m\n",
      "\u001b[1;32m~\\Anaconda\\envs\\jlab\\lib\\site-packages\\tensorflow_core\\python\\eager\\function.py\u001b[0m in \u001b[0;36m__call__\u001b[1;34m(self, *args, **kwargs)\u001b[0m\n\u001b[0;32m   2362\u001b[0m       \u001b[0mgraph_function\u001b[0m\u001b[1;33m,\u001b[0m \u001b[0margs\u001b[0m\u001b[1;33m,\u001b[0m \u001b[0mkwargs\u001b[0m \u001b[1;33m=\u001b[0m \u001b[0mself\u001b[0m\u001b[1;33m.\u001b[0m\u001b[0m_maybe_define_function\u001b[0m\u001b[1;33m(\u001b[0m\u001b[0margs\u001b[0m\u001b[1;33m,\u001b[0m \u001b[0mkwargs\u001b[0m\u001b[1;33m)\u001b[0m\u001b[1;33m\u001b[0m\u001b[1;33m\u001b[0m\u001b[0m\n\u001b[1;32m-> 2363\u001b[1;33m     \u001b[1;32mreturn\u001b[0m \u001b[0mgraph_function\u001b[0m\u001b[1;33m.\u001b[0m\u001b[0m_filtered_call\u001b[0m\u001b[1;33m(\u001b[0m\u001b[0margs\u001b[0m\u001b[1;33m,\u001b[0m \u001b[0mkwargs\u001b[0m\u001b[1;33m)\u001b[0m  \u001b[1;31m# pylint: disable=protected-access\u001b[0m\u001b[1;33m\u001b[0m\u001b[1;33m\u001b[0m\u001b[0m\n\u001b[0m\u001b[0;32m   2364\u001b[0m \u001b[1;33m\u001b[0m\u001b[0m\n",
      "\u001b[1;32m~\\Anaconda\\envs\\jlab\\lib\\site-packages\\tensorflow_core\\python\\eager\\function.py\u001b[0m in \u001b[0;36m_filtered_call\u001b[1;34m(self, args, kwargs)\u001b[0m\n\u001b[0;32m   1610\u001b[0m                            resource_variable_ops.BaseResourceVariable))),\n\u001b[1;32m-> 1611\u001b[1;33m         self.captured_inputs)\n\u001b[0m\u001b[0;32m   1612\u001b[0m \u001b[1;33m\u001b[0m\u001b[0m\n",
      "\u001b[1;32m~\\Anaconda\\envs\\jlab\\lib\\site-packages\\tensorflow_core\\python\\eager\\function.py\u001b[0m in \u001b[0;36m_call_flat\u001b[1;34m(self, args, captured_inputs, cancellation_manager)\u001b[0m\n\u001b[0;32m   1691\u001b[0m       return self._build_call_outputs(self._inference_function.call(\n\u001b[1;32m-> 1692\u001b[1;33m           ctx, args, cancellation_manager=cancellation_manager))\n\u001b[0m\u001b[0;32m   1693\u001b[0m     forward_backward = self._select_forward_and_backward_functions(\n",
      "\u001b[1;32m~\\Anaconda\\envs\\jlab\\lib\\site-packages\\tensorflow_core\\python\\eager\\function.py\u001b[0m in \u001b[0;36mcall\u001b[1;34m(self, ctx, args, cancellation_manager)\u001b[0m\n\u001b[0;32m    544\u001b[0m               \u001b[0mattrs\u001b[0m\u001b[1;33m=\u001b[0m\u001b[1;33m(\u001b[0m\u001b[1;34m\"executor_type\"\u001b[0m\u001b[1;33m,\u001b[0m \u001b[0mexecutor_type\u001b[0m\u001b[1;33m,\u001b[0m \u001b[1;34m\"config_proto\"\u001b[0m\u001b[1;33m,\u001b[0m \u001b[0mconfig\u001b[0m\u001b[1;33m)\u001b[0m\u001b[1;33m,\u001b[0m\u001b[1;33m\u001b[0m\u001b[1;33m\u001b[0m\u001b[0m\n\u001b[1;32m--> 545\u001b[1;33m               ctx=ctx)\n\u001b[0m\u001b[0;32m    546\u001b[0m         \u001b[1;32melse\u001b[0m\u001b[1;33m:\u001b[0m\u001b[1;33m\u001b[0m\u001b[1;33m\u001b[0m\u001b[0m\n",
      "\u001b[1;32m~\\Anaconda\\envs\\jlab\\lib\\site-packages\\tensorflow_core\\python\\eager\\execute.py\u001b[0m in \u001b[0;36mquick_execute\u001b[1;34m(op_name, num_outputs, inputs, attrs, ctx, name)\u001b[0m\n\u001b[0;32m     60\u001b[0m                                                \u001b[0mop_name\u001b[0m\u001b[1;33m,\u001b[0m \u001b[0minputs\u001b[0m\u001b[1;33m,\u001b[0m \u001b[0mattrs\u001b[0m\u001b[1;33m,\u001b[0m\u001b[1;33m\u001b[0m\u001b[1;33m\u001b[0m\u001b[0m\n\u001b[1;32m---> 61\u001b[1;33m                                                num_outputs)\n\u001b[0m\u001b[0;32m     62\u001b[0m   \u001b[1;32mexcept\u001b[0m \u001b[0mcore\u001b[0m\u001b[1;33m.\u001b[0m\u001b[0m_NotOkStatusException\u001b[0m \u001b[1;32mas\u001b[0m \u001b[0me\u001b[0m\u001b[1;33m:\u001b[0m\u001b[1;33m\u001b[0m\u001b[1;33m\u001b[0m\u001b[0m\n",
      "\u001b[1;31mKeyboardInterrupt\u001b[0m: ",
      "\nDuring handling of the above exception, another exception occurred:\n",
      "\u001b[1;31mKeyError\u001b[0m                                  Traceback (most recent call last)",
      "\u001b[1;32m<ipython-input-46-da62ec5d6024>\u001b[0m in \u001b[0;36m<module>\u001b[1;34m\u001b[0m\n\u001b[0;32m      4\u001b[0m           \u001b[0mcallbacks\u001b[0m\u001b[1;33m=\u001b[0m\u001b[0mcallbacks\u001b[0m\u001b[1;33m,\u001b[0m\u001b[1;33m\u001b[0m\u001b[1;33m\u001b[0m\u001b[0m\n\u001b[0;32m      5\u001b[0m \u001b[1;31m#           class_weights = class_weights,\u001b[0m\u001b[1;33m\u001b[0m\u001b[1;33m\u001b[0m\u001b[1;33m\u001b[0m\u001b[0m\n\u001b[1;32m----> 6\u001b[1;33m           verbose=1)\n\u001b[0m",
      "\u001b[1;32m~\\Anaconda\\envs\\jlab\\lib\\site-packages\\tensorflow_core\\python\\keras\\engine\\training.py\u001b[0m in \u001b[0;36mfit\u001b[1;34m(self, x, y, batch_size, epochs, verbose, callbacks, validation_split, validation_data, shuffle, class_weight, sample_weight, initial_epoch, steps_per_epoch, validation_steps, validation_freq, max_queue_size, workers, use_multiprocessing, **kwargs)\u001b[0m\n\u001b[0;32m    817\u001b[0m         \u001b[0mmax_queue_size\u001b[0m\u001b[1;33m=\u001b[0m\u001b[0mmax_queue_size\u001b[0m\u001b[1;33m,\u001b[0m\u001b[1;33m\u001b[0m\u001b[1;33m\u001b[0m\u001b[0m\n\u001b[0;32m    818\u001b[0m         \u001b[0mworkers\u001b[0m\u001b[1;33m=\u001b[0m\u001b[0mworkers\u001b[0m\u001b[1;33m,\u001b[0m\u001b[1;33m\u001b[0m\u001b[1;33m\u001b[0m\u001b[0m\n\u001b[1;32m--> 819\u001b[1;33m         use_multiprocessing=use_multiprocessing)\n\u001b[0m\u001b[0;32m    820\u001b[0m \u001b[1;33m\u001b[0m\u001b[0m\n\u001b[0;32m    821\u001b[0m   def evaluate(self,\n",
      "\u001b[1;32m~\\Anaconda\\envs\\jlab\\lib\\site-packages\\tensorflow_core\\python\\keras\\engine\\training_v2.py\u001b[0m in \u001b[0;36mfit\u001b[1;34m(self, model, x, y, batch_size, epochs, verbose, callbacks, validation_split, validation_data, shuffle, class_weight, sample_weight, initial_epoch, steps_per_epoch, validation_steps, validation_freq, max_queue_size, workers, use_multiprocessing, **kwargs)\u001b[0m\n\u001b[0;32m    395\u001b[0m                       total_epochs=1)\n\u001b[0;32m    396\u001b[0m                   cbks.make_logs(model, epoch_logs, eval_result, ModeKeys.TEST,\n\u001b[1;32m--> 397\u001b[1;33m                                  prefix='val_')\n\u001b[0m\u001b[0;32m    398\u001b[0m \u001b[1;33m\u001b[0m\u001b[0m\n\u001b[0;32m    399\u001b[0m     \u001b[1;32mreturn\u001b[0m \u001b[0mmodel\u001b[0m\u001b[1;33m.\u001b[0m\u001b[0mhistory\u001b[0m\u001b[1;33m\u001b[0m\u001b[1;33m\u001b[0m\u001b[0m\n",
      "\u001b[1;32m~\\Anaconda\\envs\\jlab\\lib\\contextlib.py\u001b[0m in \u001b[0;36m__exit__\u001b[1;34m(self, type, value, traceback)\u001b[0m\n\u001b[0;32m    128\u001b[0m                 \u001b[0mvalue\u001b[0m \u001b[1;33m=\u001b[0m \u001b[0mtype\u001b[0m\u001b[1;33m(\u001b[0m\u001b[1;33m)\u001b[0m\u001b[1;33m\u001b[0m\u001b[1;33m\u001b[0m\u001b[0m\n\u001b[0;32m    129\u001b[0m             \u001b[1;32mtry\u001b[0m\u001b[1;33m:\u001b[0m\u001b[1;33m\u001b[0m\u001b[1;33m\u001b[0m\u001b[0m\n\u001b[1;32m--> 130\u001b[1;33m                 \u001b[0mself\u001b[0m\u001b[1;33m.\u001b[0m\u001b[0mgen\u001b[0m\u001b[1;33m.\u001b[0m\u001b[0mthrow\u001b[0m\u001b[1;33m(\u001b[0m\u001b[0mtype\u001b[0m\u001b[1;33m,\u001b[0m \u001b[0mvalue\u001b[0m\u001b[1;33m,\u001b[0m \u001b[0mtraceback\u001b[0m\u001b[1;33m)\u001b[0m\u001b[1;33m\u001b[0m\u001b[1;33m\u001b[0m\u001b[0m\n\u001b[0m\u001b[0;32m    131\u001b[0m             \u001b[1;32mexcept\u001b[0m \u001b[0mStopIteration\u001b[0m \u001b[1;32mas\u001b[0m \u001b[0mexc\u001b[0m\u001b[1;33m:\u001b[0m\u001b[1;33m\u001b[0m\u001b[1;33m\u001b[0m\u001b[0m\n\u001b[0;32m    132\u001b[0m                 \u001b[1;31m# Suppress StopIteration *unless* it's the same exception that\u001b[0m\u001b[1;33m\u001b[0m\u001b[1;33m\u001b[0m\u001b[1;33m\u001b[0m\u001b[0m\n",
      "\u001b[1;32m~\\Anaconda\\envs\\jlab\\lib\\site-packages\\tensorflow_core\\python\\keras\\engine\\training_v2.py\u001b[0m in \u001b[0;36mon_epoch\u001b[1;34m(self, epoch, mode)\u001b[0m\n\u001b[0;32m    769\u001b[0m       \u001b[1;32mif\u001b[0m \u001b[0mmode\u001b[0m \u001b[1;33m==\u001b[0m \u001b[0mModeKeys\u001b[0m\u001b[1;33m.\u001b[0m\u001b[0mTRAIN\u001b[0m\u001b[1;33m:\u001b[0m\u001b[1;33m\u001b[0m\u001b[1;33m\u001b[0m\u001b[0m\n\u001b[0;32m    770\u001b[0m         \u001b[1;31m# Epochs only apply to `fit`.\u001b[0m\u001b[1;33m\u001b[0m\u001b[1;33m\u001b[0m\u001b[1;33m\u001b[0m\u001b[0m\n\u001b[1;32m--> 771\u001b[1;33m         \u001b[0mself\u001b[0m\u001b[1;33m.\u001b[0m\u001b[0mcallbacks\u001b[0m\u001b[1;33m.\u001b[0m\u001b[0mon_epoch_end\u001b[0m\u001b[1;33m(\u001b[0m\u001b[0mepoch\u001b[0m\u001b[1;33m,\u001b[0m \u001b[0mepoch_logs\u001b[0m\u001b[1;33m)\u001b[0m\u001b[1;33m\u001b[0m\u001b[1;33m\u001b[0m\u001b[0m\n\u001b[0m\u001b[0;32m    772\u001b[0m       \u001b[0mself\u001b[0m\u001b[1;33m.\u001b[0m\u001b[0mprogbar\u001b[0m\u001b[1;33m.\u001b[0m\u001b[0mon_epoch_end\u001b[0m\u001b[1;33m(\u001b[0m\u001b[0mepoch\u001b[0m\u001b[1;33m,\u001b[0m \u001b[0mepoch_logs\u001b[0m\u001b[1;33m)\u001b[0m\u001b[1;33m\u001b[0m\u001b[1;33m\u001b[0m\u001b[0m\n\u001b[0;32m    773\u001b[0m \u001b[1;33m\u001b[0m\u001b[0m\n",
      "\u001b[1;32m~\\Anaconda\\envs\\jlab\\lib\\site-packages\\tensorflow_core\\python\\keras\\callbacks.py\u001b[0m in \u001b[0;36mon_epoch_end\u001b[1;34m(self, epoch, logs)\u001b[0m\n\u001b[0;32m    300\u001b[0m     \u001b[0mlogs\u001b[0m \u001b[1;33m=\u001b[0m \u001b[0mlogs\u001b[0m \u001b[1;32mor\u001b[0m \u001b[1;33m{\u001b[0m\u001b[1;33m}\u001b[0m\u001b[1;33m\u001b[0m\u001b[1;33m\u001b[0m\u001b[0m\n\u001b[0;32m    301\u001b[0m     \u001b[1;32mfor\u001b[0m \u001b[0mcallback\u001b[0m \u001b[1;32min\u001b[0m \u001b[0mself\u001b[0m\u001b[1;33m.\u001b[0m\u001b[0mcallbacks\u001b[0m\u001b[1;33m:\u001b[0m\u001b[1;33m\u001b[0m\u001b[1;33m\u001b[0m\u001b[0m\n\u001b[1;32m--> 302\u001b[1;33m       \u001b[0mcallback\u001b[0m\u001b[1;33m.\u001b[0m\u001b[0mon_epoch_end\u001b[0m\u001b[1;33m(\u001b[0m\u001b[0mepoch\u001b[0m\u001b[1;33m,\u001b[0m \u001b[0mlogs\u001b[0m\u001b[1;33m)\u001b[0m\u001b[1;33m\u001b[0m\u001b[1;33m\u001b[0m\u001b[0m\n\u001b[0m\u001b[0;32m    303\u001b[0m \u001b[1;33m\u001b[0m\u001b[0m\n\u001b[0;32m    304\u001b[0m   \u001b[1;32mdef\u001b[0m \u001b[0mon_train_batch_begin\u001b[0m\u001b[1;33m(\u001b[0m\u001b[0mself\u001b[0m\u001b[1;33m,\u001b[0m \u001b[0mbatch\u001b[0m\u001b[1;33m,\u001b[0m \u001b[0mlogs\u001b[0m\u001b[1;33m=\u001b[0m\u001b[1;32mNone\u001b[0m\u001b[1;33m)\u001b[0m\u001b[1;33m:\u001b[0m\u001b[1;33m\u001b[0m\u001b[1;33m\u001b[0m\u001b[0m\n",
      "\u001b[1;32m~\\Anaconda\\envs\\jlab\\lib\\site-packages\\tensorflow_core\\python\\keras\\callbacks.py\u001b[0m in \u001b[0;36mon_epoch_end\u001b[1;34m(self, epoch, logs)\u001b[0m\n\u001b[0;32m    990\u001b[0m           \u001b[0mself\u001b[0m\u001b[1;33m.\u001b[0m\u001b[0m_save_model\u001b[0m\u001b[1;33m(\u001b[0m\u001b[0mepoch\u001b[0m\u001b[1;33m=\u001b[0m\u001b[0mepoch\u001b[0m\u001b[1;33m,\u001b[0m \u001b[0mlogs\u001b[0m\u001b[1;33m=\u001b[0m\u001b[0mlogs\u001b[0m\u001b[1;33m)\u001b[0m\u001b[1;33m\u001b[0m\u001b[1;33m\u001b[0m\u001b[0m\n\u001b[0;32m    991\u001b[0m       \u001b[1;32melse\u001b[0m\u001b[1;33m:\u001b[0m\u001b[1;33m\u001b[0m\u001b[1;33m\u001b[0m\u001b[0m\n\u001b[1;32m--> 992\u001b[1;33m         \u001b[0mself\u001b[0m\u001b[1;33m.\u001b[0m\u001b[0m_save_model\u001b[0m\u001b[1;33m(\u001b[0m\u001b[0mepoch\u001b[0m\u001b[1;33m=\u001b[0m\u001b[0mepoch\u001b[0m\u001b[1;33m,\u001b[0m \u001b[0mlogs\u001b[0m\u001b[1;33m=\u001b[0m\u001b[0mlogs\u001b[0m\u001b[1;33m)\u001b[0m\u001b[1;33m\u001b[0m\u001b[1;33m\u001b[0m\u001b[0m\n\u001b[0m\u001b[0;32m    993\u001b[0m     \u001b[1;32mif\u001b[0m \u001b[0mself\u001b[0m\u001b[1;33m.\u001b[0m\u001b[0mmodel\u001b[0m\u001b[1;33m.\u001b[0m\u001b[0m_in_multi_worker_mode\u001b[0m\u001b[1;33m(\u001b[0m\u001b[1;33m)\u001b[0m\u001b[1;33m:\u001b[0m\u001b[1;33m\u001b[0m\u001b[1;33m\u001b[0m\u001b[0m\n\u001b[0;32m    994\u001b[0m       \u001b[1;31m# For multi-worker training, back up the weights and current training\u001b[0m\u001b[1;33m\u001b[0m\u001b[1;33m\u001b[0m\u001b[1;33m\u001b[0m\u001b[0m\n",
      "\u001b[1;32m~\\Anaconda\\envs\\jlab\\lib\\site-packages\\tensorflow_core\\python\\keras\\callbacks.py\u001b[0m in \u001b[0;36m_save_model\u001b[1;34m(self, epoch, logs)\u001b[0m\n\u001b[0;32m   1009\u001b[0m                   int) or self.epochs_since_last_save >= self.period:\n\u001b[0;32m   1010\u001b[0m       \u001b[0mself\u001b[0m\u001b[1;33m.\u001b[0m\u001b[0mepochs_since_last_save\u001b[0m \u001b[1;33m=\u001b[0m \u001b[1;36m0\u001b[0m\u001b[1;33m\u001b[0m\u001b[1;33m\u001b[0m\u001b[0m\n\u001b[1;32m-> 1011\u001b[1;33m       \u001b[0mfilepath\u001b[0m \u001b[1;33m=\u001b[0m \u001b[0mself\u001b[0m\u001b[1;33m.\u001b[0m\u001b[0m_get_file_path\u001b[0m\u001b[1;33m(\u001b[0m\u001b[0mepoch\u001b[0m\u001b[1;33m,\u001b[0m \u001b[0mlogs\u001b[0m\u001b[1;33m)\u001b[0m\u001b[1;33m\u001b[0m\u001b[1;33m\u001b[0m\u001b[0m\n\u001b[0m\u001b[0;32m   1012\u001b[0m \u001b[1;33m\u001b[0m\u001b[0m\n\u001b[0;32m   1013\u001b[0m       \u001b[1;32mtry\u001b[0m\u001b[1;33m:\u001b[0m\u001b[1;33m\u001b[0m\u001b[1;33m\u001b[0m\u001b[0m\n",
      "\u001b[1;32m~\\Anaconda\\envs\\jlab\\lib\\site-packages\\tensorflow_core\\python\\keras\\callbacks.py\u001b[0m in \u001b[0;36m_get_file_path\u001b[1;34m(self, epoch, logs)\u001b[0m\n\u001b[0;32m   1053\u001b[0m     if not self.model._in_multi_worker_mode(\n\u001b[0;32m   1054\u001b[0m     ) or multi_worker_util.should_save_checkpoint():\n\u001b[1;32m-> 1055\u001b[1;33m       \u001b[1;32mreturn\u001b[0m \u001b[0mself\u001b[0m\u001b[1;33m.\u001b[0m\u001b[0mfilepath\u001b[0m\u001b[1;33m.\u001b[0m\u001b[0mformat\u001b[0m\u001b[1;33m(\u001b[0m\u001b[0mepoch\u001b[0m\u001b[1;33m=\u001b[0m\u001b[0mepoch\u001b[0m \u001b[1;33m+\u001b[0m \u001b[1;36m1\u001b[0m\u001b[1;33m,\u001b[0m \u001b[1;33m**\u001b[0m\u001b[0mlogs\u001b[0m\u001b[1;33m)\u001b[0m\u001b[1;33m\u001b[0m\u001b[1;33m\u001b[0m\u001b[0m\n\u001b[0m\u001b[0;32m   1056\u001b[0m     \u001b[1;32melse\u001b[0m\u001b[1;33m:\u001b[0m\u001b[1;33m\u001b[0m\u001b[1;33m\u001b[0m\u001b[0m\n\u001b[0;32m   1057\u001b[0m       \u001b[1;31m# If this is multi-worker training, and this worker should not\u001b[0m\u001b[1;33m\u001b[0m\u001b[1;33m\u001b[0m\u001b[1;33m\u001b[0m\u001b[0m\n",
      "\u001b[1;31mKeyError\u001b[0m: 'val_accuracy'"
     ]
    }
   ],
   "source": [
    "history = model.fit(spectograms_train, train_label, validation_data=[spectograms_val, test_label],\n",
    "          batch_size=batch_size, \n",
    "          epochs=100,\n",
    "          callbacks=callbacks,\n",
    "#           class_weights = class_weights,\n",
    "          verbose=1)"
   ]
  },
  {
   "cell_type": "markdown",
   "metadata": {
    "Collapsed": "false"
   },
   "source": [
    "# Predict on test set (spectrogram )"
   ]
  },
  {
   "cell_type": "markdown",
   "metadata": {
    "Collapsed": "false"
   },
   "source": [
    "## Load data fast"
   ]
  },
  {
   "cell_type": "code",
   "execution_count": 47,
   "metadata": {
    "Collapsed": "false"
   },
   "outputs": [
    {
     "data": {
      "text/plain": [
       "(158538, 2)"
      ]
     },
     "execution_count": 47,
     "metadata": {},
     "output_type": "execute_result"
    }
   ],
   "source": [
    "saved = np.load(\"../data/test/all_wavs.npy\", allow_pickle=True)\n",
    "saved.shape"
   ]
  },
  {
   "cell_type": "code",
   "execution_count": 48,
   "metadata": {
    "Collapsed": "false"
   },
   "outputs": [],
   "source": [
    "saved = saved.tolist()"
   ]
  },
  {
   "cell_type": "code",
   "execution_count": 49,
   "metadata": {
    "Collapsed": "false"
   },
   "outputs": [],
   "source": [
    "wavs_names = []\n",
    "wavs = []\n",
    "for i in range(len(saved)):\n",
    "    wavs_names.append(saved[i][0])\n",
    "    wavs.append(saved[i][1])"
   ]
  },
  {
   "cell_type": "code",
   "execution_count": 50,
   "metadata": {
    "Collapsed": "false"
   },
   "outputs": [
    {
     "data": {
      "text/plain": [
       "(158538, 8000)"
      ]
     },
     "execution_count": 50,
     "metadata": {},
     "output_type": "execute_result"
    }
   ],
   "source": [
    "wavs = np.asarray(wavs)\n",
    "wavs.shape"
   ]
  },
  {
   "cell_type": "code",
   "execution_count": 52,
   "metadata": {
    "Collapsed": "false"
   },
   "outputs": [
    {
     "data": {
      "text/plain": [
       "154"
      ]
     },
     "execution_count": 52,
     "metadata": {},
     "output_type": "execute_result"
    }
   ],
   "source": [
    "n_steps = wavs.shape[0]//1024\n",
    "n_steps"
   ]
  },
  {
   "cell_type": "code",
   "execution_count": null,
   "metadata": {
    "Collapsed": "false"
   },
   "outputs": [],
   "source": [
    "preds_all = []\n",
    "sample_rate = 8000\n",
    "for i in range(n_steps+1):\n",
    "    print(i)\n",
    "    if i==n_steps:\n",
    "        spectograms_test = [log_specgram(np.squeeze(elem), sample_rate, window_size=12, step_size=3)[2]\\\n",
    "                         for elem in wavs[i*1024:]]\n",
    "    else:\n",
    "        spectograms_test = [log_specgram(np.squeeze(elem), sample_rate, window_size=12, step_size=3)[2]\\\n",
    "                         for elem in wavs[i*1024:i*1024 + 1024]]\n",
    "    spectograms_test = np.asarray(spectograms_test)\n",
    "    spectograms_test = np.expand_dims(spectograms_test, axis=3)\n",
    "    spectograms_test.shape\n",
    "    preds_all.append(model.predict(spectograms_test))\n",
    "preds_all = [item for sublist in preds_all for item in sublist]"
   ]
  },
  {
   "cell_type": "code",
   "execution_count": null,
   "metadata": {
    "Collapsed": "false"
   },
   "outputs": [],
   "source": [
    "preds_all = np.asarray(preds_all)\n",
    "preds_all.shape\n",
    "predictions = preds_all"
   ]
  },
  {
   "cell_type": "markdown",
   "metadata": {
    "Collapsed": "false"
   },
   "source": [
    "## Predictions to submission file"
   ]
  },
  {
   "cell_type": "code",
   "execution_count": 18,
   "metadata": {
    "Collapsed": "false"
   },
   "outputs": [],
   "source": [
    "label_dict = {'yes': 0,\n",
    "             'no': 1,\n",
    "             'up': 2,\n",
    "             'down': 3,\n",
    "             'left': 4,\n",
    "             'right': 5,\n",
    "             'on': 6,\n",
    "             'off': 7,\n",
    "             'stop': 8,\n",
    "             'go': 9,\n",
    "             'unknown': 10,\n",
    "             'silence': 11}"
   ]
  },
  {
   "cell_type": "code",
   "execution_count": 22,
   "metadata": {
    "Collapsed": "false"
   },
   "outputs": [
    {
     "data": {
      "text/plain": [
       "{0: 'yes',\n",
       " 1: 'no',\n",
       " 2: 'up',\n",
       " 3: 'down',\n",
       " 4: 'left',\n",
       " 5: 'right',\n",
       " 6: 'on',\n",
       " 7: 'off',\n",
       " 8: 'stop',\n",
       " 9: 'go',\n",
       " 10: 'unknown',\n",
       " 11: 'silence'}"
      ]
     },
     "execution_count": 22,
     "metadata": {},
     "output_type": "execute_result"
    }
   ],
   "source": [
    "num_to_label = {value: key for key, value in label_dict.items()}\n",
    "num_to_label"
   ]
  },
  {
   "cell_type": "code",
   "execution_count": 24,
   "metadata": {
    "Collapsed": "false",
    "collapsed": true,
    "jupyter": {
     "outputs_hidden": true
    }
   },
   "outputs": [
    {
     "data": {
      "text/plain": [
       "['no',\n",
       " 'unknown',\n",
       " 'unknown',\n",
       " 'silence',\n",
       " 'unknown',\n",
       " 'on',\n",
       " 'unknown',\n",
       " 'unknown',\n",
       " 'go',\n",
       " 'unknown',\n",
       " 'off',\n",
       " 'unknown',\n",
       " 'unknown',\n",
       " 'yes',\n",
       " 'no',\n",
       " 'stop',\n",
       " 'right',\n",
       " 'down',\n",
       " 'go',\n",
       " 'stop',\n",
       " 'unknown',\n",
       " 'unknown',\n",
       " 'right',\n",
       " 'unknown',\n",
       " 'unknown',\n",
       " 'yes',\n",
       " 'unknown',\n",
       " 'on',\n",
       " 'off',\n",
       " 'down',\n",
       " 'unknown',\n",
       " 'unknown',\n",
       " 'unknown',\n",
       " 'stop',\n",
       " 'down',\n",
       " 'unknown',\n",
       " 'go',\n",
       " 'yes',\n",
       " 'silence',\n",
       " 'right',\n",
       " 'off',\n",
       " 'down',\n",
       " 'unknown',\n",
       " 'off',\n",
       " 'unknown',\n",
       " 'off',\n",
       " 'yes',\n",
       " 'no',\n",
       " 'unknown',\n",
       " 'off',\n",
       " 'unknown',\n",
       " 'unknown',\n",
       " 'stop',\n",
       " 'go',\n",
       " 'on',\n",
       " 'unknown',\n",
       " 'on',\n",
       " 'unknown',\n",
       " 'left',\n",
       " 'unknown',\n",
       " 'unknown',\n",
       " 'stop',\n",
       " 'unknown',\n",
       " 'up',\n",
       " 'unknown',\n",
       " 'off',\n",
       " 'yes',\n",
       " 'left',\n",
       " 'unknown',\n",
       " 'unknown',\n",
       " 'unknown',\n",
       " 'unknown',\n",
       " 'off',\n",
       " 'unknown',\n",
       " 'silence',\n",
       " 'unknown',\n",
       " 'no',\n",
       " 'unknown',\n",
       " 'off',\n",
       " 'unknown',\n",
       " 'no',\n",
       " 'unknown',\n",
       " 'unknown',\n",
       " 'unknown',\n",
       " 'go',\n",
       " 'unknown',\n",
       " 'down',\n",
       " 'no',\n",
       " 'off',\n",
       " 'silence',\n",
       " 'on',\n",
       " 'left',\n",
       " 'unknown',\n",
       " 'down',\n",
       " 'on',\n",
       " 'unknown',\n",
       " 'go',\n",
       " 'unknown',\n",
       " 'unknown',\n",
       " 'on',\n",
       " 'silence',\n",
       " 'unknown',\n",
       " 'right',\n",
       " 'down',\n",
       " 'on',\n",
       " 'unknown',\n",
       " 'unknown',\n",
       " 'unknown',\n",
       " 'unknown',\n",
       " 'unknown',\n",
       " 'unknown',\n",
       " 'down',\n",
       " 'on',\n",
       " 'unknown',\n",
       " 'unknown',\n",
       " 'unknown',\n",
       " 'unknown',\n",
       " 'unknown',\n",
       " 'unknown',\n",
       " 'unknown',\n",
       " 'no',\n",
       " 'unknown',\n",
       " 'unknown',\n",
       " 'unknown',\n",
       " 'off',\n",
       " 'silence',\n",
       " 'on',\n",
       " 'off',\n",
       " 'unknown',\n",
       " 'off',\n",
       " 'right',\n",
       " 'go',\n",
       " 'unknown',\n",
       " 'go',\n",
       " 'unknown',\n",
       " 'unknown',\n",
       " 'on',\n",
       " 'on',\n",
       " 'unknown',\n",
       " 'no',\n",
       " 'unknown',\n",
       " 'unknown',\n",
       " 'unknown',\n",
       " 'left',\n",
       " 'go',\n",
       " 'off',\n",
       " 'off',\n",
       " 'up',\n",
       " 'left',\n",
       " 'yes',\n",
       " 'stop',\n",
       " 'unknown',\n",
       " 'unknown',\n",
       " 'no',\n",
       " 'go',\n",
       " 'stop',\n",
       " 'go',\n",
       " 'unknown',\n",
       " 'unknown',\n",
       " 'go',\n",
       " 'right',\n",
       " 'on',\n",
       " 'unknown',\n",
       " 'left',\n",
       " 'unknown',\n",
       " 'unknown',\n",
       " 'yes',\n",
       " 'unknown',\n",
       " 'down',\n",
       " 'unknown',\n",
       " 'no',\n",
       " 'stop',\n",
       " 'unknown',\n",
       " 'unknown',\n",
       " 'yes',\n",
       " 'unknown',\n",
       " 'silence',\n",
       " 'unknown',\n",
       " 'unknown',\n",
       " 'up',\n",
       " 'on',\n",
       " 'off',\n",
       " 'up',\n",
       " 'unknown',\n",
       " 'unknown',\n",
       " 'silence',\n",
       " 'unknown',\n",
       " 'unknown',\n",
       " 'stop',\n",
       " 'yes',\n",
       " 'yes',\n",
       " 'unknown',\n",
       " 'unknown',\n",
       " 'unknown',\n",
       " 'right',\n",
       " 'stop',\n",
       " 'stop',\n",
       " 'up',\n",
       " 'unknown',\n",
       " 'stop',\n",
       " 'down',\n",
       " 'unknown',\n",
       " 'silence',\n",
       " 'down',\n",
       " 'silence',\n",
       " 'unknown',\n",
       " 'up',\n",
       " 'on',\n",
       " 'unknown',\n",
       " 'unknown',\n",
       " 'on',\n",
       " 'off',\n",
       " 'unknown',\n",
       " 'unknown',\n",
       " 'off',\n",
       " 'down',\n",
       " 'off',\n",
       " 'unknown',\n",
       " 'unknown',\n",
       " 'unknown',\n",
       " 'up',\n",
       " 'go',\n",
       " 'unknown',\n",
       " 'unknown',\n",
       " 'silence',\n",
       " 'on',\n",
       " 'unknown',\n",
       " 'go',\n",
       " 'unknown',\n",
       " 'unknown',\n",
       " 'unknown',\n",
       " 'go',\n",
       " 'right',\n",
       " 'unknown',\n",
       " 'no',\n",
       " 'yes',\n",
       " 'unknown',\n",
       " 'stop',\n",
       " 'unknown',\n",
       " 'down',\n",
       " 'down',\n",
       " 'unknown',\n",
       " 'up',\n",
       " 'right',\n",
       " 'unknown',\n",
       " 'unknown',\n",
       " 'unknown',\n",
       " 'left',\n",
       " 'right',\n",
       " 'stop',\n",
       " 'right',\n",
       " 'off',\n",
       " 'unknown',\n",
       " 'on',\n",
       " 'on',\n",
       " 'off',\n",
       " 'unknown',\n",
       " 'unknown',\n",
       " 'go',\n",
       " 'down',\n",
       " 'unknown',\n",
       " 'unknown',\n",
       " 'unknown',\n",
       " 'unknown',\n",
       " 'unknown',\n",
       " 'stop',\n",
       " 'off',\n",
       " 'left',\n",
       " 'unknown',\n",
       " 'unknown',\n",
       " 'on',\n",
       " 'unknown',\n",
       " 'go',\n",
       " 'unknown',\n",
       " 'no',\n",
       " 'left',\n",
       " 'down',\n",
       " 'yes',\n",
       " 'unknown',\n",
       " 'unknown',\n",
       " 'no',\n",
       " 'off',\n",
       " 'unknown',\n",
       " 'unknown',\n",
       " 'silence',\n",
       " 'unknown',\n",
       " 'unknown',\n",
       " 'go',\n",
       " 'unknown',\n",
       " 'down',\n",
       " 'stop',\n",
       " 'unknown',\n",
       " 'on',\n",
       " 'yes',\n",
       " 'on',\n",
       " 'stop',\n",
       " 'unknown',\n",
       " 'go',\n",
       " 'unknown',\n",
       " 'yes',\n",
       " 'right',\n",
       " 'stop',\n",
       " 'silence',\n",
       " 'unknown',\n",
       " 'unknown',\n",
       " 'off',\n",
       " 'off',\n",
       " 'unknown',\n",
       " 'off',\n",
       " 'left',\n",
       " 'stop',\n",
       " 'left',\n",
       " 'up',\n",
       " 'right',\n",
       " 'go',\n",
       " 'unknown',\n",
       " 'silence',\n",
       " 'right',\n",
       " 'stop',\n",
       " 'go',\n",
       " 'unknown',\n",
       " 'go',\n",
       " 'unknown',\n",
       " 'unknown',\n",
       " 'left',\n",
       " 'left',\n",
       " 'left',\n",
       " 'unknown',\n",
       " 'unknown',\n",
       " 'down',\n",
       " 'unknown',\n",
       " 'no',\n",
       " 'left',\n",
       " 'unknown',\n",
       " 'unknown',\n",
       " 'on',\n",
       " 'unknown',\n",
       " 'unknown',\n",
       " 'unknown',\n",
       " 'unknown',\n",
       " 'unknown',\n",
       " 'unknown',\n",
       " 'stop',\n",
       " 'unknown',\n",
       " 'unknown',\n",
       " 'unknown',\n",
       " 'unknown',\n",
       " 'unknown',\n",
       " 'off',\n",
       " 'yes',\n",
       " 'silence',\n",
       " 'left',\n",
       " 'no',\n",
       " 'no',\n",
       " 'right',\n",
       " 'unknown',\n",
       " 'on',\n",
       " 'go',\n",
       " 'yes',\n",
       " 'unknown',\n",
       " 'off',\n",
       " 'unknown',\n",
       " 'unknown',\n",
       " 'left',\n",
       " 'unknown',\n",
       " 'right',\n",
       " 'unknown',\n",
       " 'off',\n",
       " 'go',\n",
       " 'right',\n",
       " 'on',\n",
       " 'unknown',\n",
       " 'unknown',\n",
       " 'unknown',\n",
       " 'yes',\n",
       " 'stop',\n",
       " 'right',\n",
       " 'right',\n",
       " 'up',\n",
       " 'unknown',\n",
       " 'unknown',\n",
       " 'stop',\n",
       " 'silence',\n",
       " 'unknown',\n",
       " 'silence',\n",
       " 'stop',\n",
       " 'off',\n",
       " 'left',\n",
       " 'silence',\n",
       " 'unknown',\n",
       " 'unknown',\n",
       " 'up',\n",
       " 'go',\n",
       " 'unknown',\n",
       " 'unknown',\n",
       " 'yes',\n",
       " 'unknown',\n",
       " 'right',\n",
       " 'unknown',\n",
       " 'off',\n",
       " 'on',\n",
       " 'right',\n",
       " 'left',\n",
       " 'unknown',\n",
       " 'unknown',\n",
       " 'unknown',\n",
       " 'unknown',\n",
       " 'silence',\n",
       " 'down',\n",
       " 'down',\n",
       " 'on',\n",
       " 'unknown',\n",
       " 'unknown',\n",
       " 'silence',\n",
       " 'stop',\n",
       " 'left',\n",
       " 'unknown',\n",
       " 'off',\n",
       " 'stop',\n",
       " 'unknown',\n",
       " 'unknown',\n",
       " 'off',\n",
       " 'unknown',\n",
       " 'off',\n",
       " 'unknown',\n",
       " 'down',\n",
       " 'off',\n",
       " 'unknown',\n",
       " 'unknown',\n",
       " 'up',\n",
       " 'left',\n",
       " 'go',\n",
       " 'left',\n",
       " 'unknown',\n",
       " 'on',\n",
       " 'unknown',\n",
       " 'go',\n",
       " 'unknown',\n",
       " 'left',\n",
       " 'unknown',\n",
       " 'off',\n",
       " 'off',\n",
       " 'left',\n",
       " 'unknown',\n",
       " 'unknown',\n",
       " 'stop',\n",
       " 'off',\n",
       " 'unknown',\n",
       " 'no',\n",
       " 'on',\n",
       " 'go',\n",
       " 'unknown',\n",
       " 'unknown',\n",
       " 'on',\n",
       " 'unknown',\n",
       " 'unknown',\n",
       " 'off',\n",
       " 'up',\n",
       " 'go',\n",
       " 'yes',\n",
       " 'yes',\n",
       " 'unknown',\n",
       " 'silence',\n",
       " 'left',\n",
       " 'go',\n",
       " 'off',\n",
       " 'right',\n",
       " 'off',\n",
       " 'left',\n",
       " 'unknown',\n",
       " 'stop',\n",
       " 'unknown',\n",
       " 'right',\n",
       " 'unknown',\n",
       " 'go',\n",
       " 'unknown',\n",
       " 'off',\n",
       " 'unknown',\n",
       " 'right',\n",
       " 'stop',\n",
       " 'unknown',\n",
       " 'go',\n",
       " 'unknown',\n",
       " 'off',\n",
       " 'no',\n",
       " 'left',\n",
       " 'unknown',\n",
       " 'unknown',\n",
       " 'yes',\n",
       " 'left',\n",
       " 'left',\n",
       " 'up',\n",
       " 'go',\n",
       " 'no',\n",
       " 'stop',\n",
       " 'unknown',\n",
       " 'silence',\n",
       " 'stop',\n",
       " 'unknown',\n",
       " 'silence',\n",
       " 'unknown',\n",
       " 'on',\n",
       " 'go',\n",
       " 'down',\n",
       " 'stop',\n",
       " 'unknown',\n",
       " 'unknown',\n",
       " 'on',\n",
       " 'yes',\n",
       " 'off',\n",
       " 'unknown',\n",
       " 'right',\n",
       " 'no',\n",
       " 'unknown',\n",
       " 'unknown',\n",
       " 'unknown',\n",
       " 'unknown',\n",
       " 'unknown',\n",
       " 'go',\n",
       " 'unknown',\n",
       " 'unknown',\n",
       " 'unknown',\n",
       " 'on',\n",
       " 'unknown',\n",
       " 'unknown',\n",
       " 'left',\n",
       " 'no',\n",
       " 'on',\n",
       " 'yes',\n",
       " 'go',\n",
       " 'unknown',\n",
       " 'off',\n",
       " 'unknown',\n",
       " 'unknown',\n",
       " 'unknown',\n",
       " 'right',\n",
       " 'unknown',\n",
       " 'stop',\n",
       " 'unknown',\n",
       " 'unknown',\n",
       " 'stop',\n",
       " 'stop',\n",
       " 'unknown',\n",
       " 'on',\n",
       " 'left',\n",
       " 'yes',\n",
       " 'go',\n",
       " 'go',\n",
       " 'stop',\n",
       " 'silence',\n",
       " 'off',\n",
       " 'off',\n",
       " 'unknown',\n",
       " 'unknown',\n",
       " 'up',\n",
       " 'right',\n",
       " 'go',\n",
       " 'on',\n",
       " 'go',\n",
       " 'unknown',\n",
       " 'no',\n",
       " 'silence',\n",
       " 'unknown',\n",
       " 'unknown',\n",
       " 'stop',\n",
       " 'no',\n",
       " 'stop',\n",
       " 'off',\n",
       " 'right',\n",
       " 'on',\n",
       " 'unknown',\n",
       " 'on',\n",
       " 'unknown',\n",
       " 'right',\n",
       " 'left',\n",
       " 'stop',\n",
       " 'off',\n",
       " 'on',\n",
       " 'unknown',\n",
       " 'stop',\n",
       " 'on',\n",
       " 'unknown',\n",
       " 'yes',\n",
       " 'off',\n",
       " 'unknown',\n",
       " 'yes',\n",
       " 'unknown',\n",
       " 'left',\n",
       " 'unknown',\n",
       " 'on',\n",
       " 'right',\n",
       " 'stop',\n",
       " 'unknown',\n",
       " 'on',\n",
       " 'unknown',\n",
       " 'stop',\n",
       " 'up',\n",
       " 'unknown',\n",
       " 'unknown',\n",
       " 'unknown',\n",
       " 'right',\n",
       " 'off',\n",
       " 'yes',\n",
       " 'no',\n",
       " 'unknown',\n",
       " 'go',\n",
       " 'silence',\n",
       " 'silence',\n",
       " 'unknown',\n",
       " 'stop',\n",
       " 'silence',\n",
       " 'unknown',\n",
       " 'right',\n",
       " 'unknown',\n",
       " 'yes',\n",
       " 'left',\n",
       " 'silence',\n",
       " 'unknown',\n",
       " 'no',\n",
       " 'silence',\n",
       " 'go',\n",
       " 'unknown',\n",
       " 'unknown',\n",
       " 'go',\n",
       " 'unknown',\n",
       " 'on',\n",
       " 'unknown',\n",
       " 'unknown',\n",
       " 'no',\n",
       " 'yes',\n",
       " 'unknown',\n",
       " 'off',\n",
       " 'go',\n",
       " 'unknown',\n",
       " 'go',\n",
       " 'up',\n",
       " 'no',\n",
       " 'unknown',\n",
       " 'unknown',\n",
       " 'right',\n",
       " 'unknown',\n",
       " 'stop',\n",
       " 'unknown',\n",
       " 'left',\n",
       " 'unknown',\n",
       " 'up',\n",
       " 'unknown',\n",
       " 'on',\n",
       " 'yes',\n",
       " 'unknown',\n",
       " 'on',\n",
       " 'off',\n",
       " 'go',\n",
       " 'unknown',\n",
       " 'unknown',\n",
       " 'unknown',\n",
       " 'on',\n",
       " 'unknown',\n",
       " 'off',\n",
       " 'on',\n",
       " 'off',\n",
       " 'down',\n",
       " 'on',\n",
       " 'yes',\n",
       " 'right',\n",
       " 'no',\n",
       " 'off',\n",
       " 'unknown',\n",
       " 'unknown',\n",
       " 'silence',\n",
       " 'down',\n",
       " 'on',\n",
       " 'unknown',\n",
       " 'yes',\n",
       " 'up',\n",
       " 'left',\n",
       " 'unknown',\n",
       " 'down',\n",
       " 'go',\n",
       " 'on',\n",
       " 'unknown',\n",
       " 'unknown',\n",
       " 'unknown',\n",
       " 'on',\n",
       " 'unknown',\n",
       " 'yes',\n",
       " 'unknown',\n",
       " 'off',\n",
       " 'unknown',\n",
       " 'silence',\n",
       " 'unknown',\n",
       " 'unknown',\n",
       " 'unknown',\n",
       " 'right',\n",
       " 'unknown',\n",
       " 'unknown',\n",
       " 'on',\n",
       " 'down',\n",
       " 'off',\n",
       " 'down',\n",
       " 'no',\n",
       " 'unknown',\n",
       " 'off',\n",
       " 'unknown',\n",
       " 'unknown',\n",
       " 'unknown',\n",
       " 'unknown',\n",
       " 'yes',\n",
       " 'unknown',\n",
       " 'go',\n",
       " 'up',\n",
       " 'unknown',\n",
       " 'stop',\n",
       " 'on',\n",
       " 'yes',\n",
       " 'on',\n",
       " 'right',\n",
       " 'unknown',\n",
       " 'yes',\n",
       " 'unknown',\n",
       " 'down',\n",
       " 'off',\n",
       " 'yes',\n",
       " 'go',\n",
       " 'unknown',\n",
       " 'unknown',\n",
       " 'unknown',\n",
       " 'yes',\n",
       " 'unknown',\n",
       " 'off',\n",
       " 'yes',\n",
       " 'stop',\n",
       " 'unknown',\n",
       " 'off',\n",
       " 'right',\n",
       " 'up',\n",
       " 'unknown',\n",
       " 'off',\n",
       " 'left',\n",
       " 'go',\n",
       " 'silence',\n",
       " 'unknown',\n",
       " 'stop',\n",
       " 'unknown',\n",
       " 'unknown',\n",
       " 'left',\n",
       " 'stop',\n",
       " 'no',\n",
       " 'unknown',\n",
       " 'unknown',\n",
       " 'stop',\n",
       " 'right',\n",
       " 'unknown',\n",
       " 'silence',\n",
       " 'down',\n",
       " 'off',\n",
       " 'unknown',\n",
       " 'unknown',\n",
       " 'unknown',\n",
       " 'right',\n",
       " 'unknown',\n",
       " 'unknown',\n",
       " 'yes',\n",
       " 'go',\n",
       " 'silence',\n",
       " 'stop',\n",
       " 'silence',\n",
       " 'stop',\n",
       " 'yes',\n",
       " 'go',\n",
       " 'stop',\n",
       " 'up',\n",
       " 'unknown',\n",
       " 'unknown',\n",
       " 'go',\n",
       " 'silence',\n",
       " 'right',\n",
       " 'no',\n",
       " 'go',\n",
       " 'left',\n",
       " 'unknown',\n",
       " 'unknown',\n",
       " 'unknown',\n",
       " 'unknown',\n",
       " 'right',\n",
       " 'unknown',\n",
       " 'right',\n",
       " 'stop',\n",
       " 'unknown',\n",
       " 'go',\n",
       " 'up',\n",
       " 'unknown',\n",
       " 'on',\n",
       " 'unknown',\n",
       " 'unknown',\n",
       " 'yes',\n",
       " 'go',\n",
       " 'stop',\n",
       " 'unknown',\n",
       " 'go',\n",
       " 'unknown',\n",
       " 'down',\n",
       " 'unknown',\n",
       " 'left',\n",
       " 'unknown',\n",
       " 'yes',\n",
       " 'go',\n",
       " 'off',\n",
       " 'silence',\n",
       " 'silence',\n",
       " 'no',\n",
       " 'unknown',\n",
       " 'stop',\n",
       " 'right',\n",
       " 'yes',\n",
       " 'left',\n",
       " 'unknown',\n",
       " 'unknown',\n",
       " 'up',\n",
       " 'left',\n",
       " 'silence',\n",
       " 'unknown',\n",
       " 'unknown',\n",
       " 'unknown',\n",
       " 'left',\n",
       " 'left',\n",
       " 'on',\n",
       " 'unknown',\n",
       " 'unknown',\n",
       " 'unknown',\n",
       " 'down',\n",
       " 'unknown',\n",
       " 'unknown',\n",
       " 'unknown',\n",
       " 'unknown',\n",
       " 'off',\n",
       " 'unknown',\n",
       " 'unknown',\n",
       " 'unknown',\n",
       " 'yes',\n",
       " 'go',\n",
       " 'up',\n",
       " 'unknown',\n",
       " 'up',\n",
       " 'unknown',\n",
       " 'unknown',\n",
       " 'off',\n",
       " 'right',\n",
       " 'yes',\n",
       " 'unknown',\n",
       " 'silence',\n",
       " 'up',\n",
       " 'unknown',\n",
       " 'stop',\n",
       " 'stop',\n",
       " 'go',\n",
       " 'go',\n",
       " 'unknown',\n",
       " 'unknown',\n",
       " 'unknown',\n",
       " 'unknown',\n",
       " 'unknown',\n",
       " 'down',\n",
       " 'unknown',\n",
       " 'silence',\n",
       " 'stop',\n",
       " 'left',\n",
       " 'right',\n",
       " 'up',\n",
       " 'stop',\n",
       " 'unknown',\n",
       " 'left',\n",
       " 'on',\n",
       " 'yes',\n",
       " 'unknown',\n",
       " 'unknown',\n",
       " 'unknown',\n",
       " 'yes',\n",
       " 'unknown',\n",
       " 'right',\n",
       " 'right',\n",
       " 'unknown',\n",
       " 'unknown',\n",
       " 'stop',\n",
       " 'silence',\n",
       " 'left',\n",
       " 'stop',\n",
       " 'go',\n",
       " 'up',\n",
       " 'yes',\n",
       " 'unknown',\n",
       " 'on',\n",
       " 'right',\n",
       " 'stop',\n",
       " 'unknown',\n",
       " 'unknown',\n",
       " 'no',\n",
       " 'down',\n",
       " 'unknown',\n",
       " 'on',\n",
       " 'left',\n",
       " 'unknown',\n",
       " 'yes',\n",
       " 'up',\n",
       " 'unknown',\n",
       " 'silence',\n",
       " 'unknown',\n",
       " 'unknown',\n",
       " 'go',\n",
       " 'unknown',\n",
       " 'unknown',\n",
       " 'right',\n",
       " 'on',\n",
       " 'silence',\n",
       " 'go',\n",
       " 'right',\n",
       " 'off',\n",
       " 'unknown',\n",
       " 'off',\n",
       " 'yes',\n",
       " 'unknown',\n",
       " 'unknown',\n",
       " 'unknown',\n",
       " 'right',\n",
       " 'unknown',\n",
       " 'unknown',\n",
       " 'unknown',\n",
       " 'go',\n",
       " 'up',\n",
       " 'go',\n",
       " 'yes',\n",
       " 'up',\n",
       " 'yes',\n",
       " 'unknown',\n",
       " 'go',\n",
       " 'unknown',\n",
       " 'unknown',\n",
       " 'stop',\n",
       " 'unknown',\n",
       " 'up',\n",
       " 'off',\n",
       " 'unknown',\n",
       " 'down',\n",
       " 'unknown',\n",
       " 'up',\n",
       " 'unknown',\n",
       " 'go',\n",
       " 'left',\n",
       " 'unknown',\n",
       " 'silence',\n",
       " 'unknown',\n",
       " 'unknown',\n",
       " 'off',\n",
       " 'left',\n",
       " 'off',\n",
       " 'left',\n",
       " 'unknown',\n",
       " 'go',\n",
       " 'on',\n",
       " 'unknown',\n",
       " 'unknown',\n",
       " 'unknown',\n",
       " 'unknown',\n",
       " 'off',\n",
       " 'left',\n",
       " 'no',\n",
       " 'up',\n",
       " 'unknown',\n",
       " 'unknown',\n",
       " 'go',\n",
       " 'unknown',\n",
       " 'unknown',\n",
       " 'off',\n",
       " 'go',\n",
       " 'yes',\n",
       " 'left',\n",
       " 'go',\n",
       " 'right',\n",
       " 'unknown',\n",
       " 'unknown',\n",
       " 'unknown',\n",
       " 'yes',\n",
       " 'unknown',\n",
       " 'right',\n",
       " 'go',\n",
       " 'unknown',\n",
       " 'on',\n",
       " 'unknown',\n",
       " 'unknown',\n",
       " 'stop',\n",
       " 'unknown',\n",
       " 'silence',\n",
       " 'down',\n",
       " 'silence',\n",
       " 'off',\n",
       " 'unknown',\n",
       " 'up',\n",
       " 'no',\n",
       " 'unknown',\n",
       " 'up',\n",
       " ...]"
      ]
     },
     "execution_count": 24,
     "metadata": {},
     "output_type": "execute_result"
    }
   ],
   "source": [
    "predicted_labels = [num_to_label[num] for num in predictions.argmax(1)]"
   ]
  },
  {
   "cell_type": "code",
   "execution_count": 28,
   "metadata": {
    "Collapsed": "false"
   },
   "outputs": [
    {
     "data": {
      "text/html": [
       "<div>\n",
       "<style scoped>\n",
       "    .dataframe tbody tr th:only-of-type {\n",
       "        vertical-align: middle;\n",
       "    }\n",
       "\n",
       "    .dataframe tbody tr th {\n",
       "        vertical-align: top;\n",
       "    }\n",
       "\n",
       "    .dataframe thead th {\n",
       "        text-align: right;\n",
       "    }\n",
       "</style>\n",
       "<table border=\"1\" class=\"dataframe\">\n",
       "  <thead>\n",
       "    <tr style=\"text-align: right;\">\n",
       "      <th></th>\n",
       "      <th>fname</th>\n",
       "      <th>label</th>\n",
       "    </tr>\n",
       "  </thead>\n",
       "  <tbody>\n",
       "    <tr>\n",
       "      <th>0</th>\n",
       "      <td>clip_000044442.wav</td>\n",
       "      <td>silence</td>\n",
       "    </tr>\n",
       "    <tr>\n",
       "      <th>1</th>\n",
       "      <td>clip_0000adecb.wav</td>\n",
       "      <td>silence</td>\n",
       "    </tr>\n",
       "    <tr>\n",
       "      <th>2</th>\n",
       "      <td>clip_0000d4322.wav</td>\n",
       "      <td>silence</td>\n",
       "    </tr>\n",
       "    <tr>\n",
       "      <th>3</th>\n",
       "      <td>clip_0000fb6fe.wav</td>\n",
       "      <td>silence</td>\n",
       "    </tr>\n",
       "    <tr>\n",
       "      <th>4</th>\n",
       "      <td>clip_0001d1559.wav</td>\n",
       "      <td>silence</td>\n",
       "    </tr>\n",
       "  </tbody>\n",
       "</table>\n",
       "</div>"
      ],
      "text/plain": [
       "                fname    label\n",
       "0  clip_000044442.wav  silence\n",
       "1  clip_0000adecb.wav  silence\n",
       "2  clip_0000d4322.wav  silence\n",
       "3  clip_0000fb6fe.wav  silence\n",
       "4  clip_0001d1559.wav  silence"
      ]
     },
     "execution_count": 28,
     "metadata": {},
     "output_type": "execute_result"
    }
   ],
   "source": [
    "submission_file = pd.read_csv(os.path.join(\"../data/test\", \"sample_submission.csv\"))\n",
    "submission_file.head()"
   ]
  },
  {
   "cell_type": "markdown",
   "metadata": {
    "Collapsed": "false"
   },
   "source": [
    "## Check if order is allright"
   ]
  },
  {
   "cell_type": "code",
   "execution_count": 32,
   "metadata": {
    "Collapsed": "false"
   },
   "outputs": [
    {
     "data": {
      "text/plain": [
       "True"
      ]
     },
     "execution_count": 32,
     "metadata": {},
     "output_type": "execute_result"
    }
   ],
   "source": [
    "submission_file.fname.values.tolist() == wavs_names"
   ]
  },
  {
   "cell_type": "code",
   "execution_count": 33,
   "metadata": {
    "Collapsed": "false"
   },
   "outputs": [],
   "source": [
    "submission_file[\"label\"] = predicted_labels"
   ]
  },
  {
   "cell_type": "code",
   "execution_count": 34,
   "metadata": {
    "Collapsed": "false"
   },
   "outputs": [],
   "source": [
    "submission_file.to_csv(os.path.join(\"../submissions\", \"submission_lstm.csv\"), index=False)"
   ]
  }
 ],
 "metadata": {
  "kernelspec": {
   "display_name": "Python 3",
   "language": "python",
   "name": "python3"
  },
  "language_info": {
   "codemirror_mode": {
    "name": "ipython",
    "version": 3
   },
   "file_extension": ".py",
   "mimetype": "text/x-python",
   "name": "python",
   "nbconvert_exporter": "python",
   "pygments_lexer": "ipython3",
   "version": "3.7.6"
  },
  "toc-showcode": false,
  "toc-showmarkdowntxt": false
 },
 "nbformat": 4,
 "nbformat_minor": 4
}
