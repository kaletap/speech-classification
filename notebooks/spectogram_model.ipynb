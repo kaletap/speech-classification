{
  "nbformat": 4,
  "nbformat_minor": 0,
  "metadata": {
    "colab": {
      "name": "spectogram_model.ipynb",
      "provenance": [],
      "collapsed_sections": [],
      "toc_visible": true
    },
    "kernelspec": {
      "name": "python3",
      "display_name": "Python 3"
    },
    "accelerator": "GPU",
    "widgets": {
      "application/vnd.jupyter.widget-state+json": {
        "93faa41be187450c952d228e1d244df1": {
          "model_module": "@jupyter-widgets/controls",
          "model_name": "HBoxModel",
          "state": {
            "_view_name": "HBoxView",
            "_dom_classes": [],
            "_model_name": "HBoxModel",
            "_view_module": "@jupyter-widgets/controls",
            "_model_module_version": "1.5.0",
            "_view_count": null,
            "_view_module_version": "1.5.0",
            "box_style": "",
            "layout": "IPY_MODEL_707d1b98acf14feab489c692f09d936a",
            "_model_module": "@jupyter-widgets/controls",
            "children": [
              "IPY_MODEL_3ab03bbddcc5477f89fa839fdcbd33f9",
              "IPY_MODEL_4f8a578aa9ca4a9b931a56378d9c8656"
            ]
          }
        },
        "707d1b98acf14feab489c692f09d936a": {
          "model_module": "@jupyter-widgets/base",
          "model_name": "LayoutModel",
          "state": {
            "_view_name": "LayoutView",
            "grid_template_rows": null,
            "right": null,
            "justify_content": null,
            "_view_module": "@jupyter-widgets/base",
            "overflow": null,
            "_model_module_version": "1.2.0",
            "_view_count": null,
            "flex_flow": null,
            "width": null,
            "min_width": null,
            "border": null,
            "align_items": null,
            "bottom": null,
            "_model_module": "@jupyter-widgets/base",
            "top": null,
            "grid_column": null,
            "overflow_y": null,
            "overflow_x": null,
            "grid_auto_flow": null,
            "grid_area": null,
            "grid_template_columns": null,
            "flex": null,
            "_model_name": "LayoutModel",
            "justify_items": null,
            "grid_row": null,
            "max_height": null,
            "align_content": null,
            "visibility": null,
            "align_self": null,
            "height": null,
            "min_height": null,
            "padding": null,
            "grid_auto_rows": null,
            "grid_gap": null,
            "max_width": null,
            "order": null,
            "_view_module_version": "1.2.0",
            "grid_template_areas": null,
            "object_position": null,
            "object_fit": null,
            "grid_auto_columns": null,
            "margin": null,
            "display": null,
            "left": null
          }
        },
        "3ab03bbddcc5477f89fa839fdcbd33f9": {
          "model_module": "@jupyter-widgets/controls",
          "model_name": "FloatProgressModel",
          "state": {
            "_view_name": "ProgressView",
            "style": "IPY_MODEL_cde6d1bcef944772a1f595a98746679f",
            "_dom_classes": [],
            "description": "100%",
            "_model_name": "FloatProgressModel",
            "bar_style": "success",
            "max": 155,
            "_view_module": "@jupyter-widgets/controls",
            "_model_module_version": "1.5.0",
            "value": 155,
            "_view_count": null,
            "_view_module_version": "1.5.0",
            "orientation": "horizontal",
            "min": 0,
            "description_tooltip": null,
            "_model_module": "@jupyter-widgets/controls",
            "layout": "IPY_MODEL_3610547b9b274130a8d5242382fc570f"
          }
        },
        "4f8a578aa9ca4a9b931a56378d9c8656": {
          "model_module": "@jupyter-widgets/controls",
          "model_name": "HTMLModel",
          "state": {
            "_view_name": "HTMLView",
            "style": "IPY_MODEL_987c7e3e4ddd4a84b2a781ff76d6482f",
            "_dom_classes": [],
            "description": "",
            "_model_name": "HTMLModel",
            "placeholder": "​",
            "_view_module": "@jupyter-widgets/controls",
            "_model_module_version": "1.5.0",
            "value": " 155/155 [08:45&lt;00:00,  3.39s/it]",
            "_view_count": null,
            "_view_module_version": "1.5.0",
            "description_tooltip": null,
            "_model_module": "@jupyter-widgets/controls",
            "layout": "IPY_MODEL_1f63b0ad73aa49d9bccbcf8a4a9e1c91"
          }
        },
        "cde6d1bcef944772a1f595a98746679f": {
          "model_module": "@jupyter-widgets/controls",
          "model_name": "ProgressStyleModel",
          "state": {
            "_view_name": "StyleView",
            "_model_name": "ProgressStyleModel",
            "description_width": "initial",
            "_view_module": "@jupyter-widgets/base",
            "_model_module_version": "1.5.0",
            "_view_count": null,
            "_view_module_version": "1.2.0",
            "bar_color": null,
            "_model_module": "@jupyter-widgets/controls"
          }
        },
        "3610547b9b274130a8d5242382fc570f": {
          "model_module": "@jupyter-widgets/base",
          "model_name": "LayoutModel",
          "state": {
            "_view_name": "LayoutView",
            "grid_template_rows": null,
            "right": null,
            "justify_content": null,
            "_view_module": "@jupyter-widgets/base",
            "overflow": null,
            "_model_module_version": "1.2.0",
            "_view_count": null,
            "flex_flow": null,
            "width": null,
            "min_width": null,
            "border": null,
            "align_items": null,
            "bottom": null,
            "_model_module": "@jupyter-widgets/base",
            "top": null,
            "grid_column": null,
            "overflow_y": null,
            "overflow_x": null,
            "grid_auto_flow": null,
            "grid_area": null,
            "grid_template_columns": null,
            "flex": null,
            "_model_name": "LayoutModel",
            "justify_items": null,
            "grid_row": null,
            "max_height": null,
            "align_content": null,
            "visibility": null,
            "align_self": null,
            "height": null,
            "min_height": null,
            "padding": null,
            "grid_auto_rows": null,
            "grid_gap": null,
            "max_width": null,
            "order": null,
            "_view_module_version": "1.2.0",
            "grid_template_areas": null,
            "object_position": null,
            "object_fit": null,
            "grid_auto_columns": null,
            "margin": null,
            "display": null,
            "left": null
          }
        },
        "987c7e3e4ddd4a84b2a781ff76d6482f": {
          "model_module": "@jupyter-widgets/controls",
          "model_name": "DescriptionStyleModel",
          "state": {
            "_view_name": "StyleView",
            "_model_name": "DescriptionStyleModel",
            "description_width": "",
            "_view_module": "@jupyter-widgets/base",
            "_model_module_version": "1.5.0",
            "_view_count": null,
            "_view_module_version": "1.2.0",
            "_model_module": "@jupyter-widgets/controls"
          }
        },
        "1f63b0ad73aa49d9bccbcf8a4a9e1c91": {
          "model_module": "@jupyter-widgets/base",
          "model_name": "LayoutModel",
          "state": {
            "_view_name": "LayoutView",
            "grid_template_rows": null,
            "right": null,
            "justify_content": null,
            "_view_module": "@jupyter-widgets/base",
            "overflow": null,
            "_model_module_version": "1.2.0",
            "_view_count": null,
            "flex_flow": null,
            "width": null,
            "min_width": null,
            "border": null,
            "align_items": null,
            "bottom": null,
            "_model_module": "@jupyter-widgets/base",
            "top": null,
            "grid_column": null,
            "overflow_y": null,
            "overflow_x": null,
            "grid_auto_flow": null,
            "grid_area": null,
            "grid_template_columns": null,
            "flex": null,
            "_model_name": "LayoutModel",
            "justify_items": null,
            "grid_row": null,
            "max_height": null,
            "align_content": null,
            "visibility": null,
            "align_self": null,
            "height": null,
            "min_height": null,
            "padding": null,
            "grid_auto_rows": null,
            "grid_gap": null,
            "max_width": null,
            "order": null,
            "_view_module_version": "1.2.0",
            "grid_template_areas": null,
            "object_position": null,
            "object_fit": null,
            "grid_auto_columns": null,
            "margin": null,
            "display": null,
            "left": null
          }
        }
      }
    }
  },
  "cells": [
    {
      "cell_type": "markdown",
      "metadata": {
        "id": "DMaeGDHqdHzl",
        "colab_type": "text"
      },
      "source": [
        "# Tensorflow speech recognition challenge (Kaggle)"
      ]
    },
    {
      "cell_type": "code",
      "metadata": {
        "id": "F9M1eQyP_RQb",
        "colab_type": "code",
        "outputId": "d43bdc63-2dc3-4352-c8cc-43617b7ab00f",
        "colab": {
          "base_uri": "https://localhost:8080/",
          "height": 35
        }
      },
      "source": [
        "import numpy as np\n",
        "import pandas as pd\n",
        "import matplotlib.pyplot as plt\n",
        "import os\n",
        "from collections import Counter\n",
        "import random\n",
        "from sklearn.model_selection import train_test_split\n",
        "from scipy import signal\n",
        "import tensorflow as tf\n",
        "import tensorflow.keras as keras\n",
        "from tensorflow.keras import Input, layers\n",
        "from tensorflow.keras.callbacks import ModelCheckpoint\n",
        "from tqdm.notebook import tqdm, trange\n",
        "tf.__version__"
      ],
      "execution_count": 41,
      "outputs": [
        {
          "output_type": "execute_result",
          "data": {
            "text/plain": [
              "'2.2.0'"
            ]
          },
          "metadata": {
            "tags": []
          },
          "execution_count": 41
        }
      ]
    },
    {
      "cell_type": "code",
      "metadata": {
        "id": "KrnMmqcsAJEW",
        "colab_type": "code",
        "outputId": "530c248c-0d16-46b5-d392-8dda887419da",
        "colab": {
          "base_uri": "https://localhost:8080/",
          "height": 233
        }
      },
      "source": [
        "data_path = \"drive/My Drive/Colab Notebooks/data/preprocessed\"\n",
        "os.listdir(data_path)"
      ],
      "execution_count": 42,
      "outputs": [
        {
          "output_type": "execute_result",
          "data": {
            "text/plain": [
              "['wav_all.npy',\n",
              " 'label_all.npy',\n",
              " 'unknown_wav.npy',\n",
              " 'background_wav.npy',\n",
              " 'test_wav_final.npy',\n",
              " 'model-089-0.875049.h5',\n",
              " 'best_val_model.hdf5',\n",
              " 'best_deepspeech.hdf5',\n",
              " 'Kopia best_val_model.hdf5',\n",
              " 'Kopia best_deepspeech.hdf5',\n",
              " 'test_wav_16000.npy',\n",
              " 'sample_1600']"
            ]
          },
          "metadata": {
            "tags": []
          },
          "execution_count": 42
        }
      ]
    },
    {
      "cell_type": "code",
      "metadata": {
        "id": "VdeRLsS3Aaaz",
        "colab_type": "code",
        "colab": {}
      },
      "source": [
        "wav_all = np.load(os.path.join(data_path, \"wav_all.npy\"), allow_pickle=True)\n",
        "wav_all = np.array([list(arr) for arr in wav_all])\n",
        "\n",
        "label_all = np.load(os.path.join(data_path, \"label_all.npy\")).reshape(-1)\n",
        "\n",
        "unknown_wav = np.load(os.path.join(data_path, \"unknown_wav.npy\"))\n",
        "background_wav = np.load(os.path.join(data_path, \"background_wav.npy\"), allow_pickle=True)"
      ],
      "execution_count": 0,
      "outputs": []
    },
    {
      "cell_type": "markdown",
      "metadata": {
        "id": "dEgnocZwA8Q7",
        "colab_type": "text"
      },
      "source": [
        "---\n",
        "### Generating training data\n",
        "#### Generating silence samples from background noise\n",
        "Since we have around 2131 of every label in our dataset, we will generate 2131 additional samples from background noise (and label it silence, because it doesn't contain any speech)."
      ]
    },
    {
      "cell_type": "code",
      "metadata": {
        "id": "5sKyApoLEPbJ",
        "colab_type": "code",
        "colab": {}
      },
      "source": [
        "n_silence_samples = 41115"
      ],
      "execution_count": 0,
      "outputs": []
    },
    {
      "cell_type": "code",
      "metadata": {
        "id": "E4z49YjgDoi6",
        "colab_type": "code",
        "colab": {}
      },
      "source": [
        "def get_noise_sample(noise_num=0):\n",
        "    \"\"\"Gets random sample from selected noise type (one out of 6)\"\"\"\n",
        "    selected_noise = background_wav[noise_num]\n",
        "    start_idx = random.randint(0, len(selected_noise)- 1 - 8000)\n",
        "    return selected_noise[start_idx:(start_idx + 8000)]"
      ],
      "execution_count": 0,
      "outputs": []
    },
    {
      "cell_type": "code",
      "metadata": {
        "id": "ldySn_SqFCai",
        "colab_type": "code",
        "outputId": "18815d97-93d0-4d76-9083-4bcfd23129c4",
        "colab": {
          "base_uri": "https://localhost:8080/",
          "height": 35
        }
      },
      "source": [
        "#silence audio\n",
        "silence_wav = []\n",
        "n_samples_per_noise = n_silence_samples // len(background_wav)\n",
        "for i, _ in enumerate(background_wav):\n",
        "    for _ in range(n_samples_per_noise):\n",
        "        silence_wav.append(get_noise_sample(i))\n",
        "silence_wav = np.array(silence_wav)\n",
        "silence_label = np.array(['silence' for _ in range(n_samples_per_noise * len(background_wav))])\n",
        "silence_wav.shape"
      ],
      "execution_count": 46,
      "outputs": [
        {
          "output_type": "execute_result",
          "data": {
            "text/plain": [
              "(41112, 8000)"
            ]
          },
          "metadata": {
            "tags": []
          },
          "execution_count": 46
        }
      ]
    },
    {
      "cell_type": "markdown",
      "metadata": {
        "id": "-KtadH5iFOu5",
        "colab_type": "text"
      },
      "source": [
        "#### Creating samples of unknown speech\n",
        "Samples form all other labels. "
      ]
    },
    {
      "cell_type": "code",
      "metadata": {
        "id": "ebywyxujHEZT",
        "colab_type": "code",
        "colab": {}
      },
      "source": [
        "unknown_wav = np.array(random.sample(list(unknown_wav), n_silence_samples))\n",
        "unknown_label = [\"unknown\" for _ in range(n_silence_samples)]"
      ],
      "execution_count": 0,
      "outputs": []
    },
    {
      "cell_type": "markdown",
      "metadata": {
        "id": "s8nsEtO5JJ2w",
        "colab_type": "text"
      },
      "source": [
        "---\n",
        "#### Data Processing pipeline\n",
        "The next step would be to create data processing pipeline: sample elements from the whole dataset instead of choosing fixed set of unknown samples and also doing data aumentation (mixing with noise) when doing training."
      ]
    },
    {
      "cell_type": "code",
      "metadata": {
        "id": "NZSQlPQVCipn",
        "colab_type": "code",
        "colab": {}
      },
      "source": [
        "data = np.concatenate([wav_all, unknown_wav, silence_wav], 0)\n",
        "labels = np.concatenate([label_all, unknown_label, silence_label], 0)\n",
        "del(wav_all)\n",
        "del(unknown_wav)\n",
        "del(silence_wav)"
      ],
      "execution_count": 0,
      "outputs": []
    },
    {
      "cell_type": "code",
      "metadata": {
        "id": "IXUToZx6BZ8q",
        "colab_type": "code",
        "outputId": "e5bb09e4-b203-4870-8c0e-7719a38d57c5",
        "colab": {
          "base_uri": "https://localhost:8080/",
          "height": 233
        }
      },
      "source": [
        "# Converting labels to one hot vectors\n",
        "label_values = np.unique(labels)\n",
        "label_dict = {label: value for value, label in enumerate(sorted(label_values))}\n",
        "label_dict"
      ],
      "execution_count": 49,
      "outputs": [
        {
          "output_type": "execute_result",
          "data": {
            "text/plain": [
              "{'down': 0,\n",
              " 'go': 1,\n",
              " 'left': 2,\n",
              " 'no': 3,\n",
              " 'off': 4,\n",
              " 'on': 5,\n",
              " 'right': 6,\n",
              " 'silence': 7,\n",
              " 'stop': 8,\n",
              " 'unknown': 9,\n",
              " 'up': 10,\n",
              " 'yes': 11}"
            ]
          },
          "metadata": {
            "tags": []
          },
          "execution_count": 49
        }
      ]
    },
    {
      "cell_type": "code",
      "metadata": {
        "id": "iAartyPsJ4r4",
        "colab_type": "code",
        "outputId": "291c9d2d-e13d-4657-9d70-dbe51ac9e2b3",
        "colab": {
          "base_uri": "https://localhost:8080/",
          "height": 35
        }
      },
      "source": [
        "label_all = [label_dict[label] for label in labels]\n",
        "label_all = keras.utils.to_categorical(label_all, len(label_dict)).reshape(-1, 12, 1)\n",
        "label_all.shape"
      ],
      "execution_count": 50,
      "outputs": [
        {
          "output_type": "execute_result",
          "data": {
            "text/plain": [
              "(103539, 12, 1)"
            ]
          },
          "metadata": {
            "tags": []
          },
          "execution_count": 50
        }
      ]
    },
    {
      "cell_type": "code",
      "metadata": {
        "id": "H9IlnW8DAZ-O",
        "colab_type": "code",
        "colab": {}
      },
      "source": [
        "train_wav, test_wav, train_label, test_label = train_test_split(data, label_all, test_size=0.1, random_state=42, shuffle=True)\n",
        "del(data)  # saving RAM space"
      ],
      "execution_count": 0,
      "outputs": []
    },
    {
      "cell_type": "markdown",
      "metadata": {
        "id": "cjZeBt7ABYF8",
        "colab_type": "text"
      },
      "source": [
        "#### Spectogram"
      ]
    },
    {
      "cell_type": "code",
      "metadata": {
        "id": "5iL-6W2kBU63",
        "colab_type": "code",
        "colab": {}
      },
      "source": [
        "def log_specgram(audio, sample_rate=8000, window_size=20,\n",
        "                 step_size=10, eps=1e-10):\n",
        "    nperseg = int(round(window_size * sample_rate / 1e3))\n",
        "    noverlap = int(round(step_size * sample_rate / 1e3))\n",
        "\n",
        "    freqs, times, spec = signal.spectrogram(audio,\n",
        "                                    fs=sample_rate,\n",
        "                                    window='hann',\n",
        "                                    nperseg=nperseg,\n",
        "                                    noverlap=noverlap,\n",
        "                                    detrend=False)\n",
        "    logspec = np.log(spec.T.astype(np.float32) + eps)\n",
        "    return logspec.reshape(*logspec.shape, 1)"
      ],
      "execution_count": 0,
      "outputs": []
    },
    {
      "cell_type": "code",
      "metadata": {
        "id": "k4RujTOgHsFc",
        "colab_type": "code",
        "colab": {}
      },
      "source": [
        "# train_wav_spec = np.array([log_specgram(x) for x in tqdm(train_wav)])\n",
        "# test_wav_spec = np.array([log_specgram(x) for x in tqdm(test_wav)])"
      ],
      "execution_count": 0,
      "outputs": []
    },
    {
      "cell_type": "code",
      "metadata": {
        "id": "YzX4DUFeXyCo",
        "colab_type": "code",
        "colab": {}
      },
      "source": [
        "def get_noise_sample(noise_num=0):\n",
        "    \"\"\"Gets random sample from selected noise type (one out of 6)\"\"\"\n",
        "    selected_noise = background_wav[noise_num]\n",
        "    start_idx = random.randint(0, len(selected_noise)- 1 - 8000)\n",
        "    return selected_noise[start_idx:(start_idx + 8000)]\n",
        "\n",
        "def augment_convert(x):\n",
        "    noise_ratio = random.random()\n",
        "    num = random.randint(0, 5)\n",
        "    noise = get_noise_sample(num)\n",
        "    noised_x = x + noise_ratio * noise\n",
        "    return log_specgram(noised_x)\n",
        "    # return tf.reshape(noised_x, [8000, 1])\n",
        "\n",
        "def convert(x):\n",
        "    return log_specgram(x)"
      ],
      "execution_count": 0,
      "outputs": []
    },
    {
      "cell_type": "code",
      "metadata": {
        "id": "XrW9EkBYE3k3",
        "colab_type": "code",
        "colab": {}
      },
      "source": [
        "kwargs = dict(deterministic=False, num_parallel_calls=-1)\n",
        "\n",
        "x_train = tf.data.Dataset.from_tensor_slices(train_wav).map(lambda x: tf.py_function(func=augment_convert, inp=[x], Tout=tf.float32), **kwargs)\n",
        "y_train = tf.data.Dataset.from_tensor_slices(train_label.reshape([-1, 12]))\n",
        "\n",
        "x_test = tf.data.Dataset.from_tensor_slices(test_wav).map(lambda x: tf.py_function(func=convert, inp=[x], Tout=tf.float32), **kwargs)\n",
        "y_test = tf.data.Dataset.from_tensor_slices(test_label.reshape([-1, 12]))\n",
        "\n",
        "# next(iter(x_train)).shape"
      ],
      "execution_count": 0,
      "outputs": []
    },
    {
      "cell_type": "code",
      "metadata": {
        "id": "Y1JFm_4s61Hi",
        "colab_type": "code",
        "colab": {}
      },
      "source": [
        "# Defining data augmentation pipeline\n",
        "train_dataset = tf.data.Dataset.zip((x_train, y_train)).batch(512).prefetch(1000)\n",
        "valid_dataset = tf.data.Dataset.zip((x_test, y_test)).batch(512).prefetch(1000)\n",
        "# next(iter(train_dataset))[0].shape, next(iter(train_dataset))[1].shape"
      ],
      "execution_count": 0,
      "outputs": []
    },
    {
      "cell_type": "markdown",
      "metadata": {
        "id": "ewv8h9DxQKSK",
        "colab_type": "text"
      },
      "source": [
        "---\n",
        "## Model"
      ]
    },
    {
      "cell_type": "code",
      "metadata": {
        "id": "eK9Si5zfQmMc",
        "colab_type": "code",
        "colab": {}
      },
      "source": [
        "# Parameters\n",
        "lr = 0.001\n",
        "initial_lr = 0.001\n",
        "batch_size = 1024\n",
        "dropout_rate = 0.5\n",
        "input_shape = (99, 81, 1)\n",
        "best_model_path = '.best_val_model.hdf5'\n",
        "\n",
        "# class weights\n",
        "label_cnt = Counter(labels)\n",
        "num_to_label = {value: key for key, value in label_dict.items()}\n",
        "class_weight = {label_dict[key]: 2062 / value for key, value in label_cnt.items()}"
      ],
      "execution_count": 0,
      "outputs": []
    },
    {
      "cell_type": "code",
      "metadata": {
        "id": "F2-MFDZLQgSx",
        "colab_type": "code",
        "colab": {}
      },
      "source": [
        "def scheduler(epoch, lr):\n",
        "    if epoch < 2:\n",
        "        return 0.01\n",
        "    elif epoch < 5:\n",
        "        return 0.001\n",
        "    else:\n",
        "        return 0.0001"
      ],
      "execution_count": 0,
      "outputs": []
    },
    {
      "cell_type": "code",
      "metadata": {
        "id": "5BZMokUQHMWQ",
        "colab_type": "code",
        "colab": {}
      },
      "source": [
        "#Conv2D Model\n",
        "input_tensor = Input(shape=(input_shape))\n",
        "\n",
        "x = layers.BatchNormalization(axis=2)(input_tensor)\n",
        "\n",
        "x = layers.Conv2D(16, (11,41), padding='valid', activation='relu', strides=1)(x)\n",
        "x = layers.Dropout(dropout_rate)(x)\n",
        "x = layers.BatchNormalization()(x)\n",
        "\n",
        "x = layers.Conv2D(32, (11,21), padding='valid', activation='relu', strides=1)(x)\n",
        "x = layers.Dropout(dropout_rate)(x)\n",
        "x = layers.BatchNormalization()(x)\n",
        "# x = layers.MaxPooling2D(1, x.shape[2])(x)\n",
        "\n",
        "# x = layers.Conv2D(32, (3,40), activation='relu')(x)\n",
        "# x = layers.Dropout(dropout_rate)(x)\n",
        "# x = layers.BatchNormalization()(x)\n",
        "# x = layers.MaxPooling2D(1, x.shape[2])(x)\n",
        "\n",
        "x = layers.Reshape((x.shape[1], x.shape[2]*x.shape[3]))(x)\n",
        "\n",
        "# x = layers.Conv1D(16, 7, padding='valid', activation='relu', strides=1)(x)\n",
        "# x = layers.MaxPooling1D(2)(x)\n",
        "# x = layers.Dropout(dropout_rate)(x)\n",
        "# x = layers.Conv1D(32, 5, padding='valid', activation='relu', strides=1)(x)\n",
        "# x = layers.MaxPooling1D(10)(x)\n",
        "x = layers.Bidirectional(layers.LSTM(128, return_sequences=True))(x)\n",
        "x = layers.BatchNormalization()(x)\n",
        "\n",
        "x = layers.Bidirectional(layers.LSTM(64, return_sequences=True))(x)\n",
        "x = layers.BatchNormalization()(x)\n",
        "\n",
        "x = layers.Bidirectional(layers.LSTM(32, return_sequences=True))(x)\n",
        "x = layers.BatchNormalization()(x)\n",
        "\n",
        "x = layers.Bidirectional(layers.LSTM(16, return_sequences=True))(x)\n",
        "x = layers.BatchNormalization()(x)\n",
        "\n",
        "x = layers.Flatten()(x)\n",
        "# x = layers.Dense(256, activation='relu')(x)\n",
        "# x = layers.Dropout(dropout_rate)(x)\n",
        "# x = layers.Dense(128, activation='relu')(x)\n",
        "x = layers.Dense(128, activation='relu')(x)\n",
        "x = layers.Dropout(dropout_rate)(x)\n",
        "x = layers.BatchNormalization()(x)\n",
        "\n",
        "x = layers.Dense(64, activation='relu')(x)\n",
        "x = layers.Dropout(dropout_rate)(x)\n",
        "x = layers.BatchNormalization()(x)\n",
        "\n",
        "output_tensor = layers.Dense(12, activation='softmax')(x)\n",
        "\n",
        "model = tf.keras.Model(input_tensor, output_tensor)\n",
        "model.compile(loss=keras.losses.categorical_crossentropy,\n",
        "             optimizer=keras.optimizers.Adam(lr=lr),\n",
        "             metrics=['accuracy'])\n",
        "\n",
        "best_model_path = os.path.join(data_path, \"best_val_model.hdf5\")\n",
        "mcp_save = ModelCheckpoint(best_model_path, save_best_only=True, monitor='val_loss', mode='min')"
      ],
      "execution_count": 0,
      "outputs": []
    },
    {
      "cell_type": "code",
      "metadata": {
        "id": "ePAzBl-NuHn3",
        "colab_type": "code",
        "outputId": "9a4e477c-3296-4d8c-f269-66b03d54ad5f",
        "colab": {
          "base_uri": "https://localhost:8080/",
          "height": 35
        }
      },
      "source": [
        "# Starting training from scratch\n",
        "# schedule = tf.keras.callbacks.LearningRateScheduler(scheduler)\n",
        "\n",
        "history = model.fit(train_dataset, validation_data=valid_dataset, class_weight=class_weight, shuffle=True, epochs=1, verbose=1, callbacks=[mcp_save])"
      ],
      "execution_count": 61,
      "outputs": [
        {
          "output_type": "stream",
          "text": [
            "183/183 [==============================] - 288s 2s/step - loss: 0.6383 - accuracy: 0.1381 - val_loss: 2.7319 - val_accuracy: 0.0217\n"
          ],
          "name": "stdout"
        }
      ]
    },
    {
      "cell_type": "code",
      "metadata": {
        "id": "jGFvjWub0S68",
        "colab_type": "code",
        "colab": {}
      },
      "source": [
        "# Traininig continuation\n",
        "model = keras.models.load_model(best_model_path)"
      ],
      "execution_count": 0,
      "outputs": []
    },
    {
      "cell_type": "code",
      "metadata": {
        "id": "n_HK8xRkB0nR",
        "colab_type": "code",
        "outputId": "bad2f0f9-a125-4d5f-8681-95c745372945",
        "colab": {
          "base_uri": "https://localhost:8080/",
          "height": 35
        }
      },
      "source": [
        "model.optimizer.lr = 0.001\n",
        "model.optimizer.lr"
      ],
      "execution_count": 0,
      "outputs": [
        {
          "output_type": "execute_result",
          "data": {
            "text/plain": [
              "<tf.Variable 'learning_rate:0' shape=() dtype=float32, numpy=0.001>"
            ]
          },
          "metadata": {
            "tags": []
          },
          "execution_count": 26
        }
      ]
    },
    {
      "cell_type": "code",
      "metadata": {
        "id": "PqmCrGoRBzJC",
        "colab_type": "code",
        "outputId": "2938963f-86d2-44bc-bb16-3f65bc9f96b7",
        "colab": {
          "base_uri": "https://localhost:8080/",
          "height": 1000
        }
      },
      "source": [
        "history = model.fit(train_dataset, validation_data=valid_dataset, class_weight=class_weight, shuffle=True, epochs=100, verbose=1, callbacks=[mcp_save])"
      ],
      "execution_count": 0,
      "outputs": [
        {
          "output_type": "stream",
          "text": [
            "Epoch 1/100\n",
            "183/183 [==============================] - 414s 2s/step - loss: 0.3540 - accuracy: 0.6663 - val_loss: 0.8491 - val_accuracy: 0.8780\n",
            "Epoch 2/100\n",
            "183/183 [==============================] - 288s 2s/step - loss: 0.2239 - accuracy: 0.7722 - val_loss: 0.8639 - val_accuracy: 0.8717\n",
            "Epoch 3/100\n",
            "183/183 [==============================] - 291s 2s/step - loss: 0.2224 - accuracy: 0.7766 - val_loss: 0.7555 - val_accuracy: 0.8753\n",
            "Epoch 4/100\n",
            "183/183 [==============================] - 288s 2s/step - loss: 0.2175 - accuracy: 0.7819 - val_loss: 0.9601 - val_accuracy: 0.8525\n",
            "Epoch 5/100\n",
            "183/183 [==============================] - 287s 2s/step - loss: 0.2182 - accuracy: 0.7767 - val_loss: 0.8938 - val_accuracy: 0.8669\n",
            "Epoch 6/100\n",
            "183/183 [==============================] - 287s 2s/step - loss: 0.2158 - accuracy: 0.7835 - val_loss: 0.9036 - val_accuracy: 0.8689\n",
            "Epoch 7/100\n",
            "183/183 [==============================] - 287s 2s/step - loss: 0.2121 - accuracy: 0.7848 - val_loss: 0.8759 - val_accuracy: 0.8666\n",
            "Epoch 8/100\n",
            "183/183 [==============================] - 288s 2s/step - loss: 0.2119 - accuracy: 0.7836 - val_loss: 0.9953 - val_accuracy: 0.8422\n",
            "Epoch 9/100\n",
            "183/183 [==============================] - 290s 2s/step - loss: 0.2041 - accuracy: 0.7865 - val_loss: 0.7436 - val_accuracy: 0.8788\n",
            "Epoch 10/100\n",
            "183/183 [==============================] - 286s 2s/step - loss: 0.2068 - accuracy: 0.7893 - val_loss: 0.9016 - val_accuracy: 0.8771\n",
            "Epoch 11/100\n",
            "183/183 [==============================] - 288s 2s/step - loss: 0.2079 - accuracy: 0.7854 - val_loss: 0.7411 - val_accuracy: 0.8876\n",
            "Epoch 12/100\n",
            "183/183 [==============================] - 285s 2s/step - loss: 0.2104 - accuracy: 0.7871 - val_loss: 0.9371 - val_accuracy: 0.8478\n",
            "Epoch 13/100\n",
            "183/183 [==============================] - 286s 2s/step - loss: 0.2043 - accuracy: 0.7904 - val_loss: 0.7673 - val_accuracy: 0.8786\n",
            "Epoch 14/100\n",
            "183/183 [==============================] - 286s 2s/step - loss: 0.2049 - accuracy: 0.7932 - val_loss: 0.9102 - val_accuracy: 0.8680\n",
            "Epoch 15/100\n",
            "183/183 [==============================] - 286s 2s/step - loss: 0.2012 - accuracy: 0.7939 - val_loss: 0.7777 - val_accuracy: 0.8828\n",
            "Epoch 16/100\n",
            "183/183 [==============================] - 286s 2s/step - loss: 0.1999 - accuracy: 0.7979 - val_loss: 1.0010 - val_accuracy: 0.8567\n",
            "Epoch 17/100\n",
            "183/183 [==============================] - 286s 2s/step - loss: 0.2042 - accuracy: 0.7956 - val_loss: 0.7851 - val_accuracy: 0.8864\n",
            "Epoch 18/100\n",
            "183/183 [==============================] - 285s 2s/step - loss: 0.1994 - accuracy: 0.7963 - val_loss: 0.7937 - val_accuracy: 0.8767\n",
            "Epoch 19/100\n",
            "183/183 [==============================] - 286s 2s/step - loss: 0.2002 - accuracy: 0.7993 - val_loss: 0.7644 - val_accuracy: 0.8818\n",
            "Epoch 20/100\n",
            "183/183 [==============================] - 287s 2s/step - loss: 0.2011 - accuracy: 0.7950 - val_loss: 0.9113 - val_accuracy: 0.8598\n",
            "Epoch 21/100\n",
            "183/183 [==============================] - 287s 2s/step - loss: 0.1985 - accuracy: 0.7964 - val_loss: 0.8671 - val_accuracy: 0.8713\n",
            "Epoch 22/100\n",
            "183/183 [==============================] - 286s 2s/step - loss: 0.1977 - accuracy: 0.8011 - val_loss: 0.9494 - val_accuracy: 0.8155\n",
            "Epoch 23/100\n",
            "183/183 [==============================] - 286s 2s/step - loss: 0.1971 - accuracy: 0.8009 - val_loss: 0.8927 - val_accuracy: 0.8898\n",
            "Epoch 24/100\n",
            "183/183 [==============================] - 286s 2s/step - loss: 0.1920 - accuracy: 0.8060 - val_loss: 0.9365 - val_accuracy: 0.8507\n",
            "Epoch 25/100\n",
            "183/183 [==============================] - 286s 2s/step - loss: 0.1864 - accuracy: 0.8083 - val_loss: 0.7599 - val_accuracy: 0.8950\n",
            "Epoch 26/100\n",
            "183/183 [==============================] - 286s 2s/step - loss: 0.1939 - accuracy: 0.8024 - val_loss: 0.9629 - val_accuracy: 0.8599\n",
            "Epoch 27/100\n",
            "183/183 [==============================] - 286s 2s/step - loss: 0.1932 - accuracy: 0.8021 - val_loss: 0.7670 - val_accuracy: 0.8809\n",
            "Epoch 28/100\n",
            "183/183 [==============================] - 286s 2s/step - loss: 0.1891 - accuracy: 0.8082 - val_loss: 0.9387 - val_accuracy: 0.8726\n",
            "Epoch 29/100\n",
            "183/183 [==============================] - 288s 2s/step - loss: 0.1904 - accuracy: 0.8064 - val_loss: 0.6571 - val_accuracy: 0.9042\n",
            "Epoch 30/100\n",
            "183/183 [==============================] - 285s 2s/step - loss: 0.1919 - accuracy: 0.8068 - val_loss: 0.7867 - val_accuracy: 0.8954\n",
            "Epoch 31/100\n",
            "183/183 [==============================] - 286s 2s/step - loss: 0.1907 - accuracy: 0.8078 - val_loss: 0.6903 - val_accuracy: 0.9006\n",
            "Epoch 32/100\n",
            "183/183 [==============================] - 287s 2s/step - loss: 0.1896 - accuracy: 0.8089 - val_loss: 0.9217 - val_accuracy: 0.8771\n",
            "Epoch 33/100\n",
            "183/183 [==============================] - 287s 2s/step - loss: 0.1890 - accuracy: 0.8070 - val_loss: 0.8032 - val_accuracy: 0.8916\n",
            "Epoch 34/100\n",
            "183/183 [==============================] - 286s 2s/step - loss: 0.1852 - accuracy: 0.8120 - val_loss: 0.7923 - val_accuracy: 0.8892\n",
            "Epoch 35/100\n",
            "183/183 [==============================] - 287s 2s/step - loss: 0.1870 - accuracy: 0.8109 - val_loss: 0.7670 - val_accuracy: 0.8980\n",
            "Epoch 36/100\n",
            "183/183 [==============================] - 287s 2s/step - loss: 0.1879 - accuracy: 0.8081 - val_loss: 0.7447 - val_accuracy: 0.8946\n",
            "Epoch 37/100\n",
            "183/183 [==============================] - 286s 2s/step - loss: 0.1893 - accuracy: 0.8119 - val_loss: 0.7874 - val_accuracy: 0.9106\n",
            "Epoch 38/100\n",
            "183/183 [==============================] - 287s 2s/step - loss: 0.1859 - accuracy: 0.8137 - val_loss: 0.6672 - val_accuracy: 0.9039\n",
            "Epoch 39/100\n",
            "183/183 [==============================] - 287s 2s/step - loss: 0.1830 - accuracy: 0.8121 - val_loss: 0.8218 - val_accuracy: 0.9050\n",
            "Epoch 40/100\n",
            "183/183 [==============================] - 286s 2s/step - loss: 0.1816 - accuracy: 0.8125 - val_loss: 0.9032 - val_accuracy: 0.8733\n",
            "Epoch 41/100\n",
            "183/183 [==============================] - 286s 2s/step - loss: 0.1857 - accuracy: 0.8143 - val_loss: 0.6699 - val_accuracy: 0.9026\n",
            "Epoch 42/100\n",
            "183/183 [==============================] - 286s 2s/step - loss: 0.1834 - accuracy: 0.8148 - val_loss: 0.8241 - val_accuracy: 0.8952\n",
            "Epoch 43/100\n",
            "183/183 [==============================] - 286s 2s/step - loss: 0.1840 - accuracy: 0.8122 - val_loss: 0.7582 - val_accuracy: 0.9031\n",
            "Epoch 44/100\n",
            "183/183 [==============================] - 289s 2s/step - loss: 0.1851 - accuracy: 0.8157 - val_loss: 0.6364 - val_accuracy: 0.9054\n",
            "Epoch 45/100\n",
            "183/183 [==============================] - 287s 2s/step - loss: 0.1844 - accuracy: 0.8135 - val_loss: 0.7242 - val_accuracy: 0.8948\n",
            "Epoch 46/100\n",
            "183/183 [==============================] - 287s 2s/step - loss: 0.1835 - accuracy: 0.8152 - val_loss: 0.7071 - val_accuracy: 0.9007\n",
            "Epoch 47/100\n",
            "183/183 [==============================] - 287s 2s/step - loss: 0.1834 - accuracy: 0.8182 - val_loss: 0.9545 - val_accuracy: 0.8786\n",
            "Epoch 48/100\n",
            "183/183 [==============================] - 286s 2s/step - loss: 0.1857 - accuracy: 0.8133 - val_loss: 0.7273 - val_accuracy: 0.9065\n",
            "Epoch 49/100\n",
            "183/183 [==============================] - 287s 2s/step - loss: 0.1779 - accuracy: 0.8192 - val_loss: 0.7328 - val_accuracy: 0.9046\n",
            "Epoch 50/100\n",
            "183/183 [==============================] - 286s 2s/step - loss: 0.1839 - accuracy: 0.8152 - val_loss: 0.8061 - val_accuracy: 0.8939\n",
            "Epoch 51/100\n",
            "183/183 [==============================] - 287s 2s/step - loss: 0.1813 - accuracy: 0.8165 - val_loss: 0.8556 - val_accuracy: 0.8948\n",
            "Epoch 52/100\n",
            "183/183 [==============================] - 287s 2s/step - loss: 0.1823 - accuracy: 0.8168 - val_loss: 0.9661 - val_accuracy: 0.8773\n",
            "Epoch 53/100\n",
            "183/183 [==============================] - 287s 2s/step - loss: 0.1831 - accuracy: 0.8172 - val_loss: 0.7754 - val_accuracy: 0.8988\n",
            "Epoch 54/100\n",
            "183/183 [==============================] - 286s 2s/step - loss: 0.1777 - accuracy: 0.8184 - val_loss: 0.7730 - val_accuracy: 0.9050\n",
            "Epoch 55/100\n",
            "183/183 [==============================] - 285s 2s/step - loss: 0.1794 - accuracy: 0.8212 - val_loss: 0.8593 - val_accuracy: 0.8905\n",
            "Epoch 56/100\n",
            "183/183 [==============================] - 286s 2s/step - loss: 0.1805 - accuracy: 0.8182 - val_loss: 0.6945 - val_accuracy: 0.9030\n",
            "Epoch 57/100\n",
            "183/183 [==============================] - 286s 2s/step - loss: 0.1763 - accuracy: 0.8203 - val_loss: 0.6448 - val_accuracy: 0.9058\n",
            "Epoch 58/100\n",
            "183/183 [==============================] - 286s 2s/step - loss: 0.1781 - accuracy: 0.8201 - val_loss: 0.6776 - val_accuracy: 0.9072\n",
            "Epoch 59/100\n",
            "183/183 [==============================] - 285s 2s/step - loss: 0.1765 - accuracy: 0.8254 - val_loss: 0.6674 - val_accuracy: 0.9038\n",
            "Epoch 60/100\n",
            "183/183 [==============================] - 286s 2s/step - loss: 0.1774 - accuracy: 0.8254 - val_loss: 0.7418 - val_accuracy: 0.8955\n",
            "Epoch 61/100\n",
            "183/183 [==============================] - 286s 2s/step - loss: 0.1748 - accuracy: 0.8257 - val_loss: 0.7366 - val_accuracy: 0.9005\n",
            "Epoch 62/100\n",
            "183/183 [==============================] - 286s 2s/step - loss: 0.1803 - accuracy: 0.8215 - val_loss: 0.6668 - val_accuracy: 0.9027\n",
            "Epoch 63/100\n",
            "183/183 [==============================] - 288s 2s/step - loss: 0.1735 - accuracy: 0.8235 - val_loss: 0.6252 - val_accuracy: 0.9125\n",
            "Epoch 64/100\n",
            "183/183 [==============================] - 286s 2s/step - loss: 0.1755 - accuracy: 0.8246 - val_loss: 0.4557 - val_accuracy: 0.9378\n",
            "Epoch 65/100\n",
            "183/183 [==============================] - 284s 2s/step - loss: 0.1812 - accuracy: 0.8230 - val_loss: 0.7026 - val_accuracy: 0.9036\n",
            "Epoch 66/100\n",
            "183/183 [==============================] - 284s 2s/step - loss: 0.1787 - accuracy: 0.8228 - val_loss: 0.7897 - val_accuracy: 0.9112\n",
            "Epoch 67/100\n",
            "183/183 [==============================] - 284s 2s/step - loss: 0.1777 - accuracy: 0.8229 - val_loss: 0.7911 - val_accuracy: 0.9023\n",
            "Epoch 68/100\n",
            "183/183 [==============================] - 283s 2s/step - loss: 0.1773 - accuracy: 0.8226 - val_loss: 0.8133 - val_accuracy: 0.8954\n",
            "Epoch 69/100\n",
            "183/183 [==============================] - 282s 2s/step - loss: 0.1767 - accuracy: 0.8245 - val_loss: 0.6417 - val_accuracy: 0.9093\n",
            "Epoch 70/100\n",
            "183/183 [==============================] - 282s 2s/step - loss: 0.1768 - accuracy: 0.8249 - val_loss: 0.8543 - val_accuracy: 0.8902\n",
            "Epoch 71/100\n",
            "183/183 [==============================] - 281s 2s/step - loss: 0.1794 - accuracy: 0.8189 - val_loss: 0.8529 - val_accuracy: 0.8946\n",
            "Epoch 72/100\n"
          ],
          "name": "stdout"
        }
      ]
    },
    {
      "cell_type": "code",
      "metadata": {
        "id": "lnKLqFhN9CnP",
        "colab_type": "code",
        "colab": {}
      },
      "source": [
        "best_model_path = os.path.join(data_path, \"best_val_model.hdf5\")\n",
        "model = keras.models.load_model(best_model_path)"
      ],
      "execution_count": 0,
      "outputs": []
    },
    {
      "cell_type": "code",
      "metadata": {
        "id": "H6f47mrgeCMB",
        "colab_type": "code",
        "outputId": "c4aa66b4-5147-473b-d85c-174f147d916c",
        "colab": {
          "base_uri": "https://localhost:8080/",
          "height": 1000
        }
      },
      "source": [
        "model.summary()"
      ],
      "execution_count": 0,
      "outputs": [
        {
          "output_type": "stream",
          "text": [
            "Model: \"model\"\n",
            "_________________________________________________________________\n",
            "Layer (type)                 Output Shape              Param #   \n",
            "=================================================================\n",
            "input_1 (InputLayer)         [(None, 99, 81, 1)]       0         \n",
            "_________________________________________________________________\n",
            "batch_normalization (BatchNo (None, 99, 81, 1)         324       \n",
            "_________________________________________________________________\n",
            "conv2d (Conv2D)              (None, 89, 41, 16)        7232      \n",
            "_________________________________________________________________\n",
            "dropout (Dropout)            (None, 89, 41, 16)        0         \n",
            "_________________________________________________________________\n",
            "batch_normalization_1 (Batch (None, 89, 41, 16)        64        \n",
            "_________________________________________________________________\n",
            "conv2d_1 (Conv2D)            (None, 79, 21, 32)        118304    \n",
            "_________________________________________________________________\n",
            "dropout_1 (Dropout)          (None, 79, 21, 32)        0         \n",
            "_________________________________________________________________\n",
            "batch_normalization_2 (Batch (None, 79, 21, 32)        128       \n",
            "_________________________________________________________________\n",
            "reshape (Reshape)            (None, 79, 672)           0         \n",
            "_________________________________________________________________\n",
            "bidirectional (Bidirectional (None, 79, 256)           820224    \n",
            "_________________________________________________________________\n",
            "batch_normalization_3 (Batch (None, 79, 256)           1024      \n",
            "_________________________________________________________________\n",
            "bidirectional_1 (Bidirection (None, 79, 128)           164352    \n",
            "_________________________________________________________________\n",
            "batch_normalization_4 (Batch (None, 79, 128)           512       \n",
            "_________________________________________________________________\n",
            "bidirectional_2 (Bidirection (None, 79, 64)            41216     \n",
            "_________________________________________________________________\n",
            "batch_normalization_5 (Batch (None, 79, 64)            256       \n",
            "_________________________________________________________________\n",
            "bidirectional_3 (Bidirection (None, 79, 32)            10368     \n",
            "_________________________________________________________________\n",
            "batch_normalization_6 (Batch (None, 79, 32)            128       \n",
            "_________________________________________________________________\n",
            "flatten (Flatten)            (None, 2528)              0         \n",
            "_________________________________________________________________\n",
            "dense (Dense)                (None, 128)               323712    \n",
            "_________________________________________________________________\n",
            "dropout_2 (Dropout)          (None, 128)               0         \n",
            "_________________________________________________________________\n",
            "batch_normalization_7 (Batch (None, 128)               512       \n",
            "_________________________________________________________________\n",
            "dense_1 (Dense)              (None, 64)                8256      \n",
            "_________________________________________________________________\n",
            "dropout_3 (Dropout)          (None, 64)                0         \n",
            "_________________________________________________________________\n",
            "batch_normalization_8 (Batch (None, 64)                256       \n",
            "_________________________________________________________________\n",
            "dense_2 (Dense)              (None, 12)                780       \n",
            "=================================================================\n",
            "Total params: 1,497,648\n",
            "Trainable params: 1,496,046\n",
            "Non-trainable params: 1,602\n",
            "_________________________________________________________________\n"
          ],
          "name": "stdout"
        }
      ]
    },
    {
      "cell_type": "markdown",
      "metadata": {
        "id": "6b6Bmzp5SxLA",
        "colab_type": "text"
      },
      "source": [
        "## Running model on test data"
      ]
    },
    {
      "cell_type": "code",
      "metadata": {
        "id": "e4ROrEW0iDOY",
        "colab_type": "code",
        "colab": {}
      },
      "source": [
        "label_dict = {'down': 0,\n",
        "            'go': 1,\n",
        "            'left': 2,\n",
        "            'no': 3,\n",
        "            'off': 4,\n",
        "            'on': 5,\n",
        "            'right': 6,\n",
        "            'silence': 7,\n",
        "            'stop': 8,\n",
        "            'unknown': 9,\n",
        "            'up': 10,\n",
        "            'yes': 11}"
      ],
      "execution_count": 0,
      "outputs": []
    },
    {
      "cell_type": "code",
      "metadata": {
        "id": "HBFGgqvJXJNH",
        "colab_type": "code",
        "colab": {}
      },
      "source": [
        "test_path = os.path.join(data_path, \"test_wav_final.npy\")\n",
        "test_all = np.load(test_path)  # may take a while (~3 minutes) (it's almost 5GB)"
      ],
      "execution_count": 0,
      "outputs": []
    },
    {
      "cell_type": "code",
      "metadata": {
        "id": "of72QntpSbMG",
        "colab_type": "code",
        "colab": {}
      },
      "source": [
        "del(train_wav_spec)\n",
        "del(test_wav_spec)"
      ],
      "execution_count": 0,
      "outputs": []
    },
    {
      "cell_type": "code",
      "metadata": {
        "id": "BXyO7vTskWrm",
        "colab_type": "code",
        "outputId": "0998829e-c11f-4886-d1f8-4b9839fc721c",
        "colab": {
          "base_uri": "https://localhost:8080/",
          "height": 35
        }
      },
      "source": [
        "n_steps = test_all.shape[0] // chunk_size\n",
        "n_steps"
      ],
      "execution_count": 0,
      "outputs": [
        {
          "output_type": "execute_result",
          "data": {
            "text/plain": [
              "154"
            ]
          },
          "metadata": {
            "tags": []
          },
          "execution_count": 11
        }
      ]
    },
    {
      "cell_type": "code",
      "metadata": {
        "id": "QMzg3eivj24k",
        "colab_type": "code",
        "outputId": "858e453b-fd01-462b-ac92-4d8863bb080a",
        "colab": {
          "base_uri": "https://localhost:8080/",
          "height": 67,
          "referenced_widgets": [
            "93faa41be187450c952d228e1d244df1",
            "707d1b98acf14feab489c692f09d936a",
            "3ab03bbddcc5477f89fa839fdcbd33f9",
            "4f8a578aa9ca4a9b931a56378d9c8656",
            "cde6d1bcef944772a1f595a98746679f",
            "3610547b9b274130a8d5242382fc570f",
            "987c7e3e4ddd4a84b2a781ff76d6482f",
            "1f63b0ad73aa49d9bccbcf8a4a9e1c91"
          ]
        }
      },
      "source": [
        "preds_all = []\n",
        "sample_rate = 8000\n",
        "for i in trange(n_steps+1):\n",
        "    if i==n_steps:\n",
        "        spectograms_test = [log_specgram(np.squeeze(elem))\\\n",
        "                         for elem in test_all[i*chunk_size:]]\n",
        "    else:\n",
        "        spectograms_test = [log_specgram(np.squeeze(elem))\\\n",
        "                         for elem in test_all[i*chunk_size:i*chunk_size + chunk_size]]\n",
        "    spectograms_test = np.asarray(spectograms_test)\n",
        "    spectograms_test = np.expand_dims(spectograms_test, axis=3)\n",
        "    preds_all.append(model.predict(spectograms_test))\n",
        "preds = np.array([item for sublist in preds_all for item in sublist])"
      ],
      "execution_count": 0,
      "outputs": [
        {
          "output_type": "display_data",
          "data": {
            "application/vnd.jupyter.widget-view+json": {
              "model_id": "93faa41be187450c952d228e1d244df1",
              "version_minor": 0,
              "version_major": 2
            },
            "text/plain": [
              "HBox(children=(FloatProgress(value=0.0, max=155.0), HTML(value='')))"
            ]
          },
          "metadata": {
            "tags": []
          }
        },
        {
          "output_type": "stream",
          "text": [
            "\n"
          ],
          "name": "stdout"
        }
      ]
    },
    {
      "cell_type": "code",
      "metadata": {
        "id": "KpfMNgwfnIRf",
        "colab_type": "code",
        "colab": {}
      },
      "source": [
        "preds = np.array(preds)"
      ],
      "execution_count": 0,
      "outputs": []
    },
    {
      "cell_type": "code",
      "metadata": {
        "id": "cKFz_71mYk8q",
        "colab_type": "code",
        "outputId": "01e9aafc-2632-4e68-ee03-21245611253e",
        "colab": {
          "base_uri": "https://localhost:8080/",
          "height": 233
        }
      },
      "source": [
        "num_to_label = {value: key for key, value in label_dict.items()}\n",
        "num_to_label"
      ],
      "execution_count": 0,
      "outputs": [
        {
          "output_type": "execute_result",
          "data": {
            "text/plain": [
              "{0: 'down',\n",
              " 1: 'go',\n",
              " 2: 'left',\n",
              " 3: 'no',\n",
              " 4: 'off',\n",
              " 5: 'on',\n",
              " 6: 'right',\n",
              " 7: 'silence',\n",
              " 8: 'stop',\n",
              " 9: 'unknown',\n",
              " 10: 'up',\n",
              " 11: 'yes'}"
            ]
          },
          "metadata": {
            "tags": []
          },
          "execution_count": 14
        }
      ]
    },
    {
      "cell_type": "code",
      "metadata": {
        "id": "8LrrfW0lYmcw",
        "colab_type": "code",
        "colab": {}
      },
      "source": [
        "predicted_labels = [num_to_label[num] for num in preds.argmax(1)]"
      ],
      "execution_count": 0,
      "outputs": []
    },
    {
      "cell_type": "code",
      "metadata": {
        "id": "7iEeRA-xZgwM",
        "colab_type": "code",
        "colab": {}
      },
      "source": [
        "submission_file = pd.read_csv(os.path.join(data_path, \"sample_submission.csv\"))\n",
        "submission_file[\"label\"] = predicted_labels\n",
        "submission_file.to_csv(os.path.join(data_path, \"submission.csv\"), index=False)"
      ],
      "execution_count": 0,
      "outputs": []
    },
    {
      "cell_type": "code",
      "metadata": {
        "id": "WrZIrwUdaUc_",
        "colab_type": "code",
        "outputId": "5798da9f-1019-445f-d6c1-0116b1692847",
        "colab": {
          "base_uri": "https://localhost:8080/",
          "height": 204
        }
      },
      "source": [
        "pd.read_csv(os.path.join(data_path, \"submission.csv\")).head()"
      ],
      "execution_count": 0,
      "outputs": [
        {
          "output_type": "execute_result",
          "data": {
            "text/html": [
              "<div>\n",
              "<style scoped>\n",
              "    .dataframe tbody tr th:only-of-type {\n",
              "        vertical-align: middle;\n",
              "    }\n",
              "\n",
              "    .dataframe tbody tr th {\n",
              "        vertical-align: top;\n",
              "    }\n",
              "\n",
              "    .dataframe thead th {\n",
              "        text-align: right;\n",
              "    }\n",
              "</style>\n",
              "<table border=\"1\" class=\"dataframe\">\n",
              "  <thead>\n",
              "    <tr style=\"text-align: right;\">\n",
              "      <th></th>\n",
              "      <th>fname</th>\n",
              "      <th>label</th>\n",
              "    </tr>\n",
              "  </thead>\n",
              "  <tbody>\n",
              "    <tr>\n",
              "      <th>0</th>\n",
              "      <td>clip_000044442.wav</td>\n",
              "      <td>no</td>\n",
              "    </tr>\n",
              "    <tr>\n",
              "      <th>1</th>\n",
              "      <td>clip_0000adecb.wav</td>\n",
              "      <td>unknown</td>\n",
              "    </tr>\n",
              "    <tr>\n",
              "      <th>2</th>\n",
              "      <td>clip_0000d4322.wav</td>\n",
              "      <td>unknown</td>\n",
              "    </tr>\n",
              "    <tr>\n",
              "      <th>3</th>\n",
              "      <td>clip_0000fb6fe.wav</td>\n",
              "      <td>up</td>\n",
              "    </tr>\n",
              "    <tr>\n",
              "      <th>4</th>\n",
              "      <td>clip_0001d1559.wav</td>\n",
              "      <td>unknown</td>\n",
              "    </tr>\n",
              "  </tbody>\n",
              "</table>\n",
              "</div>"
            ],
            "text/plain": [
              "                fname    label\n",
              "0  clip_000044442.wav       no\n",
              "1  clip_0000adecb.wav  unknown\n",
              "2  clip_0000d4322.wav  unknown\n",
              "3  clip_0000fb6fe.wav       up\n",
              "4  clip_0001d1559.wav  unknown"
            ]
          },
          "metadata": {
            "tags": []
          },
          "execution_count": 17
        }
      ]
    },
    {
      "cell_type": "code",
      "metadata": {
        "id": "rOUv_pm9jDJm",
        "colab_type": "code",
        "outputId": "52b80b10-2468-4105-8b89-7cc199a214d9",
        "colab": {
          "base_uri": "https://localhost:8080/",
          "height": 330
        }
      },
      "source": [
        "predicted_label_cnt = Counter(submission_file.label.values)\n",
        "plt.bar(predicted_label_cnt.keys(), predicted_label_cnt.values())\n",
        "plt.xticks(rotation=45)"
      ],
      "execution_count": 0,
      "outputs": [
        {
          "output_type": "execute_result",
          "data": {
            "text/plain": [
              "([0, 1, 2, 3, 4, 5, 6, 7, 8, 9, 10, 11],\n",
              " <a list of 12 Text major ticklabel objects>)"
            ]
          },
          "metadata": {
            "tags": []
          },
          "execution_count": 18
        },
        {
          "output_type": "display_data",
          "data": {
            "image/png": "[encoded data removed]",
            "text/plain": [
              "<Figure size 432x288 with 1 Axes>"
            ]
          },
          "metadata": {
            "tags": [],
            "needs_background": "light"
          }
        }
      ]
    },
    {
      "cell_type": "code",
      "metadata": {
        "id": "VmdYtdEt1bif",
        "colab_type": "code",
        "outputId": "e057e799-fc8d-4212-89c7-177e15dbb96b",
        "colab": {
          "base_uri": "https://localhost:8080/",
          "height": 1000
        }
      },
      "source": [
        "model.summary()"
      ],
      "execution_count": 0,
      "outputs": [
        {
          "output_type": "stream",
          "text": [
            "Model: \"model\"\n",
            "_________________________________________________________________\n",
            "Layer (type)                 Output Shape              Param #   \n",
            "=================================================================\n",
            "input_1 (InputLayer)         [(None, 99, 81, 1)]       0         \n",
            "_________________________________________________________________\n",
            "batch_normalization (BatchNo (None, 99, 81, 1)         324       \n",
            "_________________________________________________________________\n",
            "conv2d (Conv2D)              (None, 89, 41, 16)        7232      \n",
            "_________________________________________________________________\n",
            "dropout (Dropout)            (None, 89, 41, 16)        0         \n",
            "_________________________________________________________________\n",
            "batch_normalization_1 (Batch (None, 89, 41, 16)        64        \n",
            "_________________________________________________________________\n",
            "conv2d_1 (Conv2D)            (None, 79, 21, 32)        118304    \n",
            "_________________________________________________________________\n",
            "dropout_1 (Dropout)          (None, 79, 21, 32)        0         \n",
            "_________________________________________________________________\n",
            "batch_normalization_2 (Batch (None, 79, 21, 32)        128       \n",
            "_________________________________________________________________\n",
            "reshape (Reshape)            (None, 79, 672)           0         \n",
            "_________________________________________________________________\n",
            "bidirectional (Bidirectional (None, 79, 256)           820224    \n",
            "_________________________________________________________________\n",
            "batch_normalization_3 (Batch (None, 79, 256)           1024      \n",
            "_________________________________________________________________\n",
            "bidirectional_1 (Bidirection (None, 79, 128)           164352    \n",
            "_________________________________________________________________\n",
            "batch_normalization_4 (Batch (None, 79, 128)           512       \n",
            "_________________________________________________________________\n",
            "bidirectional_2 (Bidirection (None, 79, 64)            41216     \n",
            "_________________________________________________________________\n",
            "batch_normalization_5 (Batch (None, 79, 64)            256       \n",
            "_________________________________________________________________\n",
            "bidirectional_3 (Bidirection (None, 79, 32)            10368     \n",
            "_________________________________________________________________\n",
            "batch_normalization_6 (Batch (None, 79, 32)            128       \n",
            "_________________________________________________________________\n",
            "flatten (Flatten)            (None, 2528)              0         \n",
            "_________________________________________________________________\n",
            "dense (Dense)                (None, 128)               323712    \n",
            "_________________________________________________________________\n",
            "dropout_2 (Dropout)          (None, 128)               0         \n",
            "_________________________________________________________________\n",
            "batch_normalization_7 (Batch (None, 128)               512       \n",
            "_________________________________________________________________\n",
            "dense_1 (Dense)              (None, 64)                8256      \n",
            "_________________________________________________________________\n",
            "dropout_3 (Dropout)          (None, 64)                0         \n",
            "_________________________________________________________________\n",
            "batch_normalization_8 (Batch (None, 64)                256       \n",
            "_________________________________________________________________\n",
            "dense_2 (Dense)              (None, 12)                780       \n",
            "=================================================================\n",
            "Total params: 1,497,648\n",
            "Trainable params: 1,496,046\n",
            "Non-trainable params: 1,602\n",
            "_________________________________________________________________\n"
          ],
          "name": "stdout"
        }
      ]
    },
    {
      "cell_type": "code",
      "metadata": {
        "id": "IZeVIY_qjLQS",
        "colab_type": "code",
        "colab": {}
      },
      "source": [
        ""
      ],
      "execution_count": 0,
      "outputs": []
    }
  ]
}