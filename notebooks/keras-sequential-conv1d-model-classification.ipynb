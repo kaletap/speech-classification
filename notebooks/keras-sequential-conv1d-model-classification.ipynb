{
 "cells": [
  {
   "cell_type": "code",
   "execution_count": 37,
   "metadata": {
    "Collapsed": "false",
    "_uuid": "6e7b6f6347f596f78b3a8fb88cb7a820541998b1"
   },
   "outputs": [],
   "source": [
    "#path\n",
    "import os\n",
    "from os.path import isdir, join\n",
    "from pathlib import Path\n",
    "\n",
    "# Scientific Math \n",
    "import numpy as np\n",
    "from scipy.fftpack import fft\n",
    "from scipy import signal\n",
    "from scipy.io import wavfile\n",
    "from sklearn.model_selection import train_test_split\n",
    "\n",
    "# Visualization\n",
    "import matplotlib.pyplot as plt\n",
    "import tensorflow as tf\n",
    "import plotly.offline as py\n",
    "import plotly.graph_objs as go\n",
    "\n",
    "#Deep learning\n",
    "import tensorflow.keras as keras\n",
    "from tensorflow.keras.layers import Dense, Dropout, Flatten\n",
    "from tensorflow.keras import Input, layers\n",
    "from tensorflow.keras import backend as K\n",
    "import tensorflow as tf\n",
    "\n",
    "import random\n",
    "import copy\n",
    "import librosa\n",
    "\n",
    "\n",
    "from IPython.core.interactiveshell import InteractiveShell\n",
    "InteractiveShell.ast_node_interactivity = \"all\"\n",
    "%matplotlib inline"
   ]
  },
  {
   "cell_type": "code",
   "execution_count": 2,
   "metadata": {
    "Collapsed": "false",
    "_uuid": "bb0bfbe942e8dc8e6bf4864b7ec66212734657bb"
   },
   "outputs": [
    {
     "name": "stdout",
     "output_type": "stream",
     "text": [
      "['processed', 'train']\n"
     ]
    }
   ],
   "source": [
    "print(os.listdir(\"../data\"))\n"
   ]
  },
  {
   "cell_type": "code",
   "execution_count": 3,
   "metadata": {
    "Collapsed": "false",
    "_uuid": "1979ce525c49d97564617560c48fe00e40707b17"
   },
   "outputs": [
    {
     "name": "stdout",
     "output_type": "stream",
     "text": [
      "['bed', 'bird', 'cat', 'dog', 'down', 'eight', 'five', 'four', 'go', 'happy', 'house', 'left', 'marvin', 'nine', 'no', 'off', 'on', 'one', 'right', 'seven', 'sheila', 'six', 'stop', 'three', 'tree', 'two', 'up', 'wow', 'yes', 'zero', '_background_noise_']\n"
     ]
    }
   ],
   "source": [
    "train_audio_path = '../data/train/audio/'\n",
    "print(os.listdir(train_audio_path))"
   ]
  },
  {
   "cell_type": "markdown",
   "metadata": {
    "Collapsed": "false",
    "_uuid": "bc717705d62e8a2a312a983f59ab0406c0e0329b"
   },
   "source": [
    "### Load Data\n",
    "\n",
    "target list is ['yes', 'no', 'up', 'down', 'left', 'right', 'on', 'off', 'stop', 'go']\n",
    "unknown list is other\n",
    "silence will be made from '_background_noise_'\n",
    "\n",
    "Train data's sampling rate is 16000Hz, but for making lower computation cost, Resample to 8000hz\n",
    "\n",
    "After training, test set also will resample to 8000Hz"
   ]
  },
  {
   "cell_type": "code",
   "execution_count": 4,
   "metadata": {
    "Collapsed": "false",
    "_uuid": "baf56ce3fd56eb7c6dd4b5d088105a631654071e"
   },
   "outputs": [
    {
     "name": "stdout",
     "output_type": "stream",
     "text": [
      "Number of labels: 30\n",
      "['_background_noise_', 'bed', 'bird', 'cat', 'dog', 'down', 'eight', 'five', 'four', 'go', 'happy', 'house', 'left', 'marvin', 'nine', 'no', 'off', 'on', 'one', 'right', 'seven', 'sheila', 'six', 'stop', 'three', 'tree', 'two', 'up', 'wow', 'yes', 'zero']\n"
     ]
    }
   ],
   "source": [
    "dirs = [f for f in os.listdir(train_audio_path) if isdir(join(train_audio_path, f))]\n",
    "dirs.sort()\n",
    "print('Number of labels: ' + str(len(dirs[1:])))\n",
    "print(dirs)"
   ]
  },
  {
   "cell_type": "code",
   "execution_count": 5,
   "metadata": {
    "Collapsed": "false",
    "_uuid": "cdeb5698a33395d714bd7ec249f25a668734bc7d",
    "scrolled": true
   },
   "outputs": [
    {
     "name": "stdout",
     "output_type": "stream",
     "text": [
      "target_list : ['yes', 'no', 'up', 'down', 'left', 'right', 'on', 'off', 'stop', 'go']\n",
      "unknowns_list : ['bed', 'bird', 'cat', 'dog', 'eight', 'five', 'four', 'happy', 'house', 'marvin', 'nine', 'one', 'seven', 'sheila', 'six', 'three', 'tree', 'two', 'wow', 'zero']\n",
      "silence : _background_noise_\n"
     ]
    }
   ],
   "source": [
    "all_wav = []\n",
    "unknown_wav = []\n",
    "label_all = []\n",
    "label_value = {}\n",
    "target_list = ['yes', 'no', 'up', 'down', 'left', 'right', 'on', 'off', 'stop', 'go']\n",
    "unknown_list = [d for d in dirs if d not in target_list and d != '_background_noise_' ]\n",
    "print('target_list : ',end='')\n",
    "print(target_list)\n",
    "print('unknowns_list : ', end='')\n",
    "print(unknown_list)\n",
    "print('silence : _background_noise_')\n",
    "i=0;\n",
    "background = [f for f in os.listdir(join(train_audio_path, '_background_noise_')) if f.endswith('.wav')]\n",
    "background_noise = []\n",
    "for wav in background : \n",
    "    samples, sample_rate = librosa.load(join(join(train_audio_path,'_background_noise_'),wav))\n",
    "    samples = librosa.resample(samples, sample_rate, 8000)\n",
    "    background_noise.append(samples)"
   ]
  },
  {
   "cell_type": "code",
   "execution_count": 6,
   "metadata": {
    "Collapsed": "false",
    "_uuid": "cdeb5698a33395d714bd7ec249f25a668734bc7d",
    "scrolled": true
   },
   "outputs": [
    {
     "name": "stdout",
     "output_type": "stream",
     "text": [
      "1:bed 2:bird 3:cat 4:dog 5:down 6:eight 7:five 8:four 9:go 10:happy 11:house 12:left 13:marvin 14:nine 15:no 16:off 17:on 18:one 19:right 20:seven 21:sheila 22:six 23:stop 24:three 25:tree 26:two 27:up 28:wow 29:yes 30:zero "
     ]
    }
   ],
   "source": [
    "for direct in dirs[1:]:\n",
    "    waves = [f for f in os.listdir(join(train_audio_path, direct)) if f.endswith('.wav')]\n",
    "    label_value[direct] = i\n",
    "    i = i + 1\n",
    "    print(str(i)+\":\" +str(direct) + \" \", end=\"\")\n",
    "    for wav in waves:\n",
    "        samples, sample_rate = librosa.load(join(join(train_audio_path,direct),wav), sr = 16000)\n",
    "        samples = librosa.resample(samples, sample_rate, 8000)\n",
    "        if len(samples) != 8000 : \n",
    "            continue\n",
    "            \n",
    "        if direct in unknown_list:\n",
    "            unknown_wav.append(samples)\n",
    "        else:\n",
    "            label_all.append(direct)\n",
    "            all_wav.append([samples, direct])"
   ]
  },
  {
   "cell_type": "markdown",
   "metadata": {
    "Collapsed": "false",
    "_uuid": "e9efa60ca094eeae08d34e078d4ec62231e50054"
   },
   "source": [
    "split wav, label"
   ]
  },
  {
   "cell_type": "code",
   "execution_count": 7,
   "metadata": {
    "Collapsed": "false",
    "_uuid": "8501a2e50843829e3a51853c683f105b040e954f"
   },
   "outputs": [],
   "source": [
    "wav_all = np.reshape(np.delete(all_wav,1,1),(len(all_wav)))\n",
    "label_all = [i for i in np.delete(all_wav,0,1).tolist()]"
   ]
  },
  {
   "cell_type": "markdown",
   "metadata": {
    "Collapsed": "false"
   },
   "source": [
    "### Saving preprocessed files"
   ]
  },
  {
   "cell_type": "code",
   "execution_count": 8,
   "metadata": {
    "Collapsed": "false"
   },
   "outputs": [],
   "source": [
    "np.save(\"../data/processed/wav_all.npy\", wav_all)\n",
    "np.save(\"../data/processed/label_all.npy\", label_all)\n",
    "np.save(\"../data/processed/unknown_wav.npy\", unknown_wav)"
   ]
  },
  {
   "cell_type": "code",
   "execution_count": 29,
   "metadata": {
    "Collapsed": "false",
    "collapsed": true,
    "jupyter": {
     "outputs_hidden": true
    }
   },
   "outputs": [
    {
     "data": {
      "text/plain": [
       "(21312,)"
      ]
     },
     "execution_count": 29,
     "metadata": {},
     "output_type": "execute_result"
    },
    {
     "data": {
      "text/plain": [
       "8000"
      ]
     },
     "execution_count": 29,
     "metadata": {},
     "output_type": "execute_result"
    },
    {
     "data": {
      "text/plain": [
       "21312"
      ]
     },
     "execution_count": 29,
     "metadata": {},
     "output_type": "execute_result"
    },
    {
     "data": {
      "text/plain": [
       "1"
      ]
     },
     "execution_count": 29,
     "metadata": {},
     "output_type": "execute_result"
    },
    {
     "data": {
      "text/plain": [
       "36940"
      ]
     },
     "execution_count": 29,
     "metadata": {},
     "output_type": "execute_result"
    },
    {
     "data": {
      "text/plain": [
       "8000"
      ]
     },
     "execution_count": 29,
     "metadata": {},
     "output_type": "execute_result"
    },
    {
     "data": {
      "text/plain": [
       "list"
      ]
     },
     "execution_count": 29,
     "metadata": {},
     "output_type": "execute_result"
    },
    {
     "data": {
      "text/plain": [
       "list"
      ]
     },
     "execution_count": 29,
     "metadata": {},
     "output_type": "execute_result"
    },
    {
     "data": {
      "text/plain": [
       "list"
      ]
     },
     "execution_count": 29,
     "metadata": {},
     "output_type": "execute_result"
    },
    {
     "data": {
      "text/plain": [
       "numpy.ndarray"
      ]
     },
     "execution_count": 29,
     "metadata": {},
     "output_type": "execute_result"
    },
    {
     "data": {
      "text/plain": [
       "(8000,)"
      ]
     },
     "execution_count": 29,
     "metadata": {},
     "output_type": "execute_result"
    }
   ],
   "source": [
    "wav_all.shape\n",
    "len(wav_all[0])\n",
    "len(label_all)\n",
    "len(label_all[0])\n",
    "len(unknown_wav)\n",
    "len(unknown_wav[0])\n",
    "type(label_all)\n",
    "type(unknown_wav)\n",
    "type(label_all[1])\n",
    "type(unknown_wav[1])\n",
    "unknown_wav[1].shape"
   ]
  },
  {
   "cell_type": "markdown",
   "metadata": {
    "Collapsed": "false"
   },
   "source": [
    "### Loading preprocessed files"
   ]
  },
  {
   "cell_type": "code",
   "execution_count": 8,
   "metadata": {
    "Collapsed": "false"
   },
   "outputs": [],
   "source": [
    "wav_all = np.load(\"../data/processed/wav_all.npy\", allow_pickle=True)\n",
    "label_all = np.load(\"../data/processed/label_all.npy\").tolist()\n",
    "unknown_wav = np.load(\"../data/processed/unknown_wav.npy\").tolist()\n",
    "unknown_wav = [np.asarray(elem) for elem in unknown_wav]"
   ]
  },
  {
   "cell_type": "code",
   "execution_count": 9,
   "metadata": {
    "Collapsed": "false"
   },
   "outputs": [
    {
     "data": {
      "text/plain": [
       "(21312,)"
      ]
     },
     "execution_count": 9,
     "metadata": {},
     "output_type": "execute_result"
    },
    {
     "data": {
      "text/plain": [
       "8000"
      ]
     },
     "execution_count": 9,
     "metadata": {},
     "output_type": "execute_result"
    },
    {
     "data": {
      "text/plain": [
       "21312"
      ]
     },
     "execution_count": 9,
     "metadata": {},
     "output_type": "execute_result"
    },
    {
     "data": {
      "text/plain": [
       "1"
      ]
     },
     "execution_count": 9,
     "metadata": {},
     "output_type": "execute_result"
    },
    {
     "data": {
      "text/plain": [
       "36940"
      ]
     },
     "execution_count": 9,
     "metadata": {},
     "output_type": "execute_result"
    },
    {
     "data": {
      "text/plain": [
       "8000"
      ]
     },
     "execution_count": 9,
     "metadata": {},
     "output_type": "execute_result"
    },
    {
     "data": {
      "text/plain": [
       "list"
      ]
     },
     "execution_count": 9,
     "metadata": {},
     "output_type": "execute_result"
    },
    {
     "data": {
      "text/plain": [
       "list"
      ]
     },
     "execution_count": 9,
     "metadata": {},
     "output_type": "execute_result"
    },
    {
     "data": {
      "text/plain": [
       "list"
      ]
     },
     "execution_count": 9,
     "metadata": {},
     "output_type": "execute_result"
    },
    {
     "data": {
      "text/plain": [
       "numpy.ndarray"
      ]
     },
     "execution_count": 9,
     "metadata": {},
     "output_type": "execute_result"
    },
    {
     "data": {
      "text/plain": [
       "(8000,)"
      ]
     },
     "execution_count": 9,
     "metadata": {},
     "output_type": "execute_result"
    }
   ],
   "source": [
    "# wav_all1.shape\n",
    "# len(wav_all1[0])\n",
    "# len(label_all1)\n",
    "# len(label_all1[0])\n",
    "# len(unknown_wav1)\n",
    "# len(unknown_wav1[0])\n",
    "# type(label_all1)\n",
    "# type(unknown_wav1)\n",
    "# type(label_all1[1])\n",
    "# type(unknown_wav1[1])\n",
    "# unknown_wav1[1].shape\n",
    "wav_all.shape\n",
    "len(wav_all[0])\n",
    "len(label_all)\n",
    "len(label_all[0])\n",
    "len(unknown_wav)\n",
    "len(unknown_wav[0])\n",
    "type(label_all)\n",
    "type(unknown_wav)\n",
    "type(label_all[1])\n",
    "type(unknown_wav[1])\n",
    "unknown_wav[1].shape"
   ]
  },
  {
   "cell_type": "markdown",
   "metadata": {
    "Collapsed": "false",
    "_uuid": "a3239651e24e6decb63e5c5c9221650357d684c2"
   },
   "source": [
    "### Data Augmentation\n",
    "\n",
    "For Data Augmentation. I will mix train wav, and same length(1 sec) noise(10%) from '_background_noise_'\n"
   ]
  },
  {
   "cell_type": "code",
   "execution_count": 10,
   "metadata": {
    "Collapsed": "false",
    "_uuid": "b59088b2bb5dc1848246dd4320d134ac0c673e65"
   },
   "outputs": [],
   "source": [
    "#Random pick start point\n",
    "def get_one_noise(noise_num = 0):\n",
    "    selected_noise = background_noise[noise_num]\n",
    "    start_idx = random.randint(0, len(selected_noise)- 1 - 8000)\n",
    "    return selected_noise[start_idx:(start_idx + 8000)]"
   ]
  },
  {
   "cell_type": "code",
   "execution_count": 11,
   "metadata": {
    "Collapsed": "false",
    "_uuid": "073bc68512dc809aff793dc03dc380d570631457"
   },
   "outputs": [
    {
     "data": {
      "text/plain": [
       "array([array([-1.27418665e-04, -1.12644804e-04, -1.86756923e-04, ...,\n",
       "       -1.62762426e-05, -4.93293861e-04, -3.55132594e-04], dtype=float32),\n",
       "       array([-0.00306999, -0.00410808, -0.00331036, ..., -0.00467804,\n",
       "       -0.00421489, -0.00610053], dtype=float32),\n",
       "       array([ 0.00015912,  0.00111388, -0.00125856, ..., -0.0095068 ,\n",
       "        0.01478101,  0.03418859], dtype=float32),\n",
       "       ...,\n",
       "       array([-1.8530698e-05, -1.7116408e-05, -1.5449716e-04, ...,\n",
       "        2.0603633e-04,  1.4838617e-04,  3.0142363e-04], dtype=float32),\n",
       "       array([-0.00013034, -0.00023936, -0.00036349, ...,  0.00059682,\n",
       "        0.00044404,  0.00033889], dtype=float32),\n",
       "       array([ 0.00037031,  0.00076071,  0.00072666, ..., -0.00076363,\n",
       "       -0.00083591, -0.0005128 ], dtype=float32)], dtype=object)"
      ]
     },
     "execution_count": 11,
     "metadata": {},
     "output_type": "execute_result"
    },
    {
     "data": {
      "text/plain": [
       "array(['down', 'down', 'down', ..., 'yes', 'yes', 'yes'], dtype='<U5')"
      ]
     },
     "execution_count": 11,
     "metadata": {},
     "output_type": "execute_result"
    }
   ],
   "source": [
    "max_ratio = 0.1\n",
    "noised_wav = []\n",
    "augment = 1\n",
    "delete_index = []\n",
    "for i in range(augment):\n",
    "    new_wav = []\n",
    "    noise = get_one_noise(i)\n",
    "    for i, s in enumerate(wav_all):\n",
    "        if len(s) != 8000:\n",
    "            delete_index.append(i)\n",
    "            continue\n",
    "        s = s + (max_ratio * noise)\n",
    "        noised_wav.append(s)\n",
    "np.delete(wav_all, delete_index)\n",
    "np.delete(label_all, delete_index)"
   ]
  },
  {
   "cell_type": "code",
   "execution_count": 12,
   "metadata": {
    "Collapsed": "false",
    "_uuid": "6bd94ec47be96cba4be12c60b91ed90044aedea0"
   },
   "outputs": [
    {
     "data": {
      "text/plain": [
       "(21312, 8000)"
      ]
     },
     "execution_count": 12,
     "metadata": {},
     "output_type": "execute_result"
    }
   ],
   "source": [
    "wav_vals = np.array([x for x in wav_all])\n",
    "label_vals = [x for x in label_all]\n",
    "wav_vals.shape"
   ]
  },
  {
   "cell_type": "code",
   "execution_count": 13,
   "metadata": {
    "Collapsed": "false",
    "_uuid": "94ef3d33c62e27cb1fb53a29025c010ec56ffbb4"
   },
   "outputs": [],
   "source": [
    "labels = copy.deepcopy(label_vals)\n",
    "for _ in range(augment):\n",
    "    label_vals = np.concatenate((label_vals, labels), axis = 0)\n",
    "label_vals = label_vals.reshape(-1,1)"
   ]
  },
  {
   "cell_type": "markdown",
   "metadata": {
    "Collapsed": "false",
    "_uuid": "e20c12d950b7ff2e8904fc57d5a9d429cd4b130d"
   },
   "source": [
    "Random sampling from unknown wav data\n"
   ]
  },
  {
   "cell_type": "code",
   "execution_count": 14,
   "metadata": {
    "Collapsed": "false",
    "_uuid": "5ee0b02d7cfbcc02ea20d65ee268ba44e01bf2b1"
   },
   "outputs": [],
   "source": [
    "#knowns audio random sampling\n",
    "unknown = unknown_wav\n",
    "np.random.shuffle(unknown_wav)\n",
    "unknown = np.array(unknown)\n",
    "unknown = unknown[:2000*(augment+1)]\n",
    "unknown_label = np.array(['unknown' for _ in range(2000*(augment+1))])\n",
    "unknown_label = unknown_label.reshape(2000*(augment+1),1)"
   ]
  },
  {
   "cell_type": "markdown",
   "metadata": {
    "Collapsed": "false",
    "_uuid": "72a6f2c8663ee74708da42313ed2e8d24c832b3f"
   },
   "source": [
    "May Some wav data has different length. So, Delete it"
   ]
  },
  {
   "cell_type": "code",
   "execution_count": 15,
   "metadata": {
    "Collapsed": "false",
    "_uuid": "70a499bce28fd081b7fa9742eb03851ebe4eb5f1"
   },
   "outputs": [],
   "source": [
    "delete_index = []\n",
    "for i,w in enumerate(unknown):\n",
    "    if len(w) != 8000:\n",
    "        delete_index.append(i)\n",
    "unknown = np.delete(unknown, delete_index, axis=0)"
   ]
  },
  {
   "cell_type": "markdown",
   "metadata": {
    "Collapsed": "false",
    "_uuid": "6a1f8bf0426f373ed063df7f1adbd963943a3fd0"
   },
   "source": [
    "Random sampling from '_background_noise_' \n",
    "\n",
    "Random pick background noise \n"
   ]
  },
  {
   "cell_type": "code",
   "execution_count": 16,
   "metadata": {
    "Collapsed": "false",
    "_uuid": "7ef23bb8580b70f2b52e2d91fb183674112d2eba"
   },
   "outputs": [
    {
     "data": {
      "text/plain": [
       "(3996, 8000)"
      ]
     },
     "execution_count": 16,
     "metadata": {},
     "output_type": "execute_result"
    }
   ],
   "source": [
    "#silence audio\n",
    "silence_wav = []\n",
    "num_wav = (2000*(augment+1))//len(background_noise)\n",
    "for i, _ in enumerate(background_noise):\n",
    "    for _ in range((2000*(augment+1))//len(background_noise)):\n",
    "        silence_wav.append(get_one_noise(i))\n",
    "silence_wav = np.array(silence_wav)\n",
    "silence_label = np.array(['silence' for _ in range(num_wav*len(background_noise))])\n",
    "silence_label = silence_label.reshape(-1,1)\n",
    "silence_wav.shape"
   ]
  },
  {
   "cell_type": "code",
   "execution_count": 17,
   "metadata": {
    "Collapsed": "false",
    "_uuid": "c06ab04ada253e19a0207d280ed3c1a444776cd3"
   },
   "outputs": [],
   "source": [
    "wav_vals    = np.reshape(wav_vals,    (-1, 8000))\n",
    "noised_wav  = np.reshape(noised_wav,  (-1, 8000))\n",
    "unknown       = np.reshape(unknown,   (-1, 8000))\n",
    "silence_wav = np.reshape(silence_wav, (-1, 8000))"
   ]
  },
  {
   "cell_type": "markdown",
   "metadata": {
    "Collapsed": "false",
    "_uuid": "4e1666c5bf721dbf9e4717be0d469734db9182f2"
   },
   "source": [
    "Check Dimensions"
   ]
  },
  {
   "cell_type": "code",
   "execution_count": 18,
   "metadata": {
    "Collapsed": "false",
    "_uuid": "841b9a9b2a2c38297a7a6d1c93744965755703fa"
   },
   "outputs": [
    {
     "name": "stdout",
     "output_type": "stream",
     "text": [
      "(21312, 8000)\n",
      "(21312, 8000)\n",
      "(4000, 8000)\n",
      "(3996, 8000)\n"
     ]
    }
   ],
   "source": [
    "print(wav_vals.shape)\n",
    "print(noised_wav.shape)\n",
    "print(unknown.shape)\n",
    "print(silence_wav.shape)"
   ]
  },
  {
   "cell_type": "code",
   "execution_count": 19,
   "metadata": {
    "Collapsed": "false",
    "_uuid": "ab1aba8c05398669f6e3152d74e00e8a41ee7503"
   },
   "outputs": [
    {
     "name": "stdout",
     "output_type": "stream",
     "text": [
      "(42624, 1)\n",
      "(4000, 1)\n",
      "(3996, 1)\n"
     ]
    }
   ],
   "source": [
    "print(label_vals.shape)\n",
    "print(unknown_label.shape)\n",
    "print(silence_label.shape)"
   ]
  },
  {
   "cell_type": "markdown",
   "metadata": {
    "Collapsed": "false",
    "_uuid": "c6816376d4450daffeb79114df92d3fb0eafb59a"
   },
   "source": [
    "Concatenate wavs, labels "
   ]
  },
  {
   "cell_type": "code",
   "execution_count": 20,
   "metadata": {
    "Collapsed": "false",
    "_uuid": "7d6afa30a5dda2b9ca4888b36aabe5b89922a121"
   },
   "outputs": [],
   "source": [
    "wav_vals = np.concatenate((wav_vals, noised_wav), axis = 0)\n",
    "wav_vals = np.concatenate((wav_vals, unknown), axis = 0)\n",
    "wav_vals = np.concatenate((wav_vals, silence_wav), axis = 0)"
   ]
  },
  {
   "cell_type": "code",
   "execution_count": 21,
   "metadata": {
    "Collapsed": "false",
    "_uuid": "420f9d709f805349b2635a80dabc383595eac011"
   },
   "outputs": [],
   "source": [
    "label_vals = np.concatenate((label_vals, unknown_label), axis = 0)\n",
    "label_vals = np.concatenate((label_vals, silence_label), axis = 0)"
   ]
  },
  {
   "cell_type": "code",
   "execution_count": 22,
   "metadata": {
    "Collapsed": "false",
    "_uuid": "0c33c9dc3fe0daa57968e89fa6c22352a8b53f55"
   },
   "outputs": [
    {
     "name": "stdout",
     "output_type": "stream",
     "text": [
      "50620\n",
      "50620\n"
     ]
    }
   ],
   "source": [
    "print(len(wav_vals))\n",
    "print(len(label_vals))"
   ]
  },
  {
   "cell_type": "markdown",
   "metadata": {
    "Collapsed": "false",
    "_uuid": "63c2da5df2edd06ab1fbdf6c1a50ad02216f0fe5"
   },
   "source": [
    "### Prepare Train"
   ]
  },
  {
   "cell_type": "code",
   "execution_count": 23,
   "metadata": {
    "Collapsed": "false",
    "_uuid": "ba0ab85ffd216b4d91855ea234b3202ba250b8be"
   },
   "outputs": [],
   "source": [
    "train_wav, test_wav, train_label, test_label = train_test_split(wav_vals, label_vals, \n",
    "                                                                    test_size=0.2,\n",
    "                                                                    random_state = 1993,\n",
    "                                                                   shuffle=True)"
   ]
  },
  {
   "cell_type": "code",
   "execution_count": 24,
   "metadata": {
    "Collapsed": "false",
    "_uuid": "9e6a9e72fbee7fd3bf612e60d5709b177deacaec"
   },
   "outputs": [],
   "source": [
    "# Parameters\n",
    "lr = 0.001\n",
    "generations = 20000\n",
    "num_gens_to_wait = 250\n",
    "batch_size = 512\n",
    "drop_out_rate = 0.5\n",
    "input_shape = (8000,1)"
   ]
  },
  {
   "cell_type": "code",
   "execution_count": 25,
   "metadata": {
    "Collapsed": "false",
    "_uuid": "73ffc6cf54f2100c1aa47203f0c33e350198dc3d"
   },
   "outputs": [],
   "source": [
    "#For Conv1D add Channel\n",
    "train_wav = train_wav.reshape(-1,8000,1)\n",
    "test_wav = test_wav.reshape(-1,8000,1)"
   ]
  },
  {
   "cell_type": "code",
   "execution_count": 26,
   "metadata": {
    "Collapsed": "false",
    "_uuid": "75fd1a40241009a857b5db9c878c9c665bdc84f2"
   },
   "outputs": [],
   "source": [
    "label_value = target_list\n",
    "label_value.append('unknown')\n",
    "label_value.append('silence')"
   ]
  },
  {
   "cell_type": "code",
   "execution_count": 27,
   "metadata": {
    "Collapsed": "false",
    "_uuid": "cb801f97812407f60af16a787a0ae01db8e88038"
   },
   "outputs": [],
   "source": [
    "new_label_value = dict()\n",
    "for i, l in enumerate(label_value):\n",
    "    new_label_value[l] = i\n",
    "label_value = new_label_value"
   ]
  },
  {
   "cell_type": "code",
   "execution_count": 28,
   "metadata": {
    "Collapsed": "false",
    "_uuid": "65647981d409fb31ac391af3d5d091ef354a0f02"
   },
   "outputs": [],
   "source": [
    "#Make Label data 'string' -> 'class num'\n",
    "temp = []\n",
    "for v in train_label:\n",
    "    temp.append(label_value[v[0]])\n",
    "train_label = np.array(temp)\n",
    "\n",
    "temp = []\n",
    "for v in test_label:\n",
    "    temp.append(label_value[v[0]])\n",
    "test_label = np.array(temp)\n",
    "\n",
    "#Make Label data 'class num' -> 'One hot vector'\n",
    "train_label = keras.utils.to_categorical(train_label, len(label_value))\n",
    "test_label = keras.utils.to_categorical(test_label, len(label_value))"
   ]
  },
  {
   "cell_type": "code",
   "execution_count": 29,
   "metadata": {
    "Collapsed": "false",
    "_uuid": "96b340a033294465394c168e232df012a011ae1a"
   },
   "outputs": [
    {
     "name": "stdout",
     "output_type": "stream",
     "text": [
      "Train_Wav Demension : (40496, 8000, 1)\n"
     ]
    }
   ],
   "source": [
    "print('Train_Wav Demension : ' + str(np.shape(train_wav)))"
   ]
  },
  {
   "cell_type": "code",
   "execution_count": 30,
   "metadata": {
    "Collapsed": "false",
    "_uuid": "994265f130050666438cd7a14357ef766b279495",
    "scrolled": true
   },
   "outputs": [
    {
     "name": "stdout",
     "output_type": "stream",
     "text": [
      "Train_Label Demension : (40496, 12)\n"
     ]
    }
   ],
   "source": [
    "print('Train_Label Demension : ' + str(np.shape(train_label)))"
   ]
  },
  {
   "cell_type": "code",
   "execution_count": 31,
   "metadata": {
    "Collapsed": "false",
    "_uuid": "edf649f1ec18a201a7a2b2bf9c5115e443fe6b03"
   },
   "outputs": [
    {
     "name": "stdout",
     "output_type": "stream",
     "text": [
      "Test_Wav Demension : (10124, 8000, 1)\n"
     ]
    }
   ],
   "source": [
    "print('Test_Wav Demension : ' + str(np.shape(test_wav)))"
   ]
  },
  {
   "cell_type": "code",
   "execution_count": 32,
   "metadata": {
    "Collapsed": "false",
    "_uuid": "c3bf3f485f3b3f4e44f25ce4ec35861a7b22f866"
   },
   "outputs": [
    {
     "name": "stdout",
     "output_type": "stream",
     "text": [
      "Test_Label Demension : (10124, 12)\n"
     ]
    }
   ],
   "source": [
    "print('Test_Label Demension : ' + str(np.shape(test_label)))"
   ]
  },
  {
   "cell_type": "code",
   "execution_count": 33,
   "metadata": {
    "Collapsed": "false",
    "_uuid": "557d3f766acfe47197813f0301d0b562cf3388be"
   },
   "outputs": [
    {
     "name": "stdout",
     "output_type": "stream",
     "text": [
      "Number Of Labels : 12\n"
     ]
    }
   ],
   "source": [
    "print('Number Of Labels : ' + str(len(label_value)))"
   ]
  },
  {
   "cell_type": "code",
   "execution_count": 39,
   "metadata": {
    "Collapsed": "false",
    "_uuid": "c3ac90355cbf04993a8b090483164d0e86401855"
   },
   "outputs": [],
   "source": [
    "#Conv1D Model\n",
    "input_tensor = Input(shape=(input_shape))\n",
    "\n",
    "x = layers.Conv1D(8, 11, padding='valid', activation='relu', strides=1)(input_tensor)\n",
    "x = layers.MaxPooling1D(2)(x)\n",
    "x = layers.Dropout(drop_out_rate)(x)\n",
    "x = layers.Conv1D(16, 7, padding='valid', activation='relu', strides=1)(x)\n",
    "x = layers.MaxPooling1D(2)(x)\n",
    "x = layers.Dropout(drop_out_rate)(x)\n",
    "x = layers.Conv1D(32, 5, padding='valid', activation='relu', strides=1)(x)\n",
    "x = layers.MaxPooling1D(10)(x)\n",
    "# x = layers.Dropout(drop_out_rate)(x)\n",
    "# x = layers.Conv1D(64, 5, padding='valid', activation='relu', strides=1)(x)\n",
    "# x = layers.MaxPooling1D(2)(x)\n",
    "# x = layers.Dropout(drop_out_rate)(x)\n",
    "# x = layers.Conv1D(128, 3, padding='valid', activation='relu', strides=1)(x)\n",
    "# x = layers.MaxPooling1D(2)(x)\n",
    "x = layers.Flatten()(x)\n",
    "# x = layers.Dense(256, activation='relu')(x)\n",
    "# x = layers.Dropout(drop_out_rate)(x)\n",
    "# x = layers.Dense(128, activation='relu')(x)\n",
    "x = layers.Dense(128, activation='relu')(x)\n",
    "x = layers.Dropout(drop_out_rate)(x)\n",
    "x = layers.Dense(64, activation='relu')(x)\n",
    "x = layers.Dropout(drop_out_rate)(x)\n",
    "output_tensor = layers.Dense(len(label_value), activation='softmax')(x)\n",
    "\n",
    "model = tf.keras.Model(input_tensor, output_tensor)\n",
    "\n",
    "model.compile(loss=keras.losses.categorical_crossentropy,\n",
    "             optimizer=keras.optimizers.Adam(lr = lr),\n",
    "             metrics=['accuracy'])\n"
   ]
  },
  {
   "cell_type": "code",
   "execution_count": 40,
   "metadata": {
    "Collapsed": "false",
    "_uuid": "0c1c50793d9d2c12af1cbf1029daca221afdaff9"
   },
   "outputs": [
    {
     "name": "stdout",
     "output_type": "stream",
     "text": [
      "Model: \"model_3\"\n",
      "_________________________________________________________________\n",
      "Layer (type)                 Output Shape              Param #   \n",
      "=================================================================\n",
      "input_4 (InputLayer)         [(None, 8000, 1)]         0         \n",
      "_________________________________________________________________\n",
      "conv1d_9 (Conv1D)            (None, 7990, 8)           96        \n",
      "_________________________________________________________________\n",
      "max_pooling1d_9 (MaxPooling1 (None, 3995, 8)           0         \n",
      "_________________________________________________________________\n",
      "dropout_12 (Dropout)         (None, 3995, 8)           0         \n",
      "_________________________________________________________________\n",
      "conv1d_10 (Conv1D)           (None, 3989, 16)          912       \n",
      "_________________________________________________________________\n",
      "max_pooling1d_10 (MaxPooling (None, 1994, 16)          0         \n",
      "_________________________________________________________________\n",
      "dropout_13 (Dropout)         (None, 1994, 16)          0         \n",
      "_________________________________________________________________\n",
      "conv1d_11 (Conv1D)           (None, 1990, 32)          2592      \n",
      "_________________________________________________________________\n",
      "max_pooling1d_11 (MaxPooling (None, 199, 32)           0         \n",
      "_________________________________________________________________\n",
      "flatten_3 (Flatten)          (None, 6368)              0         \n",
      "_________________________________________________________________\n",
      "dense_9 (Dense)              (None, 128)               815232    \n",
      "_________________________________________________________________\n",
      "dropout_14 (Dropout)         (None, 128)               0         \n",
      "_________________________________________________________________\n",
      "dense_10 (Dense)             (None, 64)                8256      \n",
      "_________________________________________________________________\n",
      "dropout_15 (Dropout)         (None, 64)                0         \n",
      "_________________________________________________________________\n",
      "dense_11 (Dense)             (None, 12)                780       \n",
      "=================================================================\n",
      "Total params: 827,868\n",
      "Trainable params: 827,868\n",
      "Non-trainable params: 0\n",
      "_________________________________________________________________\n"
     ]
    }
   ],
   "source": [
    "model.summary()"
   ]
  },
  {
   "cell_type": "markdown",
   "metadata": {
    "Collapsed": "false",
    "_uuid": "45ce60c3949727441c5c75dabb3575cb95aa59be"
   },
   "source": [
    "### Train!"
   ]
  },
  {
   "cell_type": "code",
   "execution_count": 44,
   "metadata": {
    "Collapsed": "false",
    "_uuid": "9b61710f92afdf22a09a07b9dd9d3ddc3e75c05b"
   },
   "outputs": [
    {
     "name": "stdout",
     "output_type": "stream",
     "text": [
      "Train on 40496 samples, validate on 10124 samples\n",
      "Epoch 1/100\n",
      "40496/40496 [==============================] - 12s 300us/sample - loss: 1.1246 - accuracy: 0.6128 - val_loss: 1.0966 - val_accuracy: 0.6628\n",
      "Epoch 2/100\n",
      "40496/40496 [==============================] - 12s 304us/sample - loss: 1.1196 - accuracy: 0.6133 - val_loss: 1.0549 - val_accuracy: 0.6865\n",
      "Epoch 3/100\n",
      "40496/40496 [==============================] - 12s 303us/sample - loss: 1.1047 - accuracy: 0.6193 - val_loss: 1.0960 - val_accuracy: 0.6761\n",
      "Epoch 4/100\n",
      "40496/40496 [==============================] - 13s 319us/sample - loss: 1.0798 - accuracy: 0.6286 - val_loss: 1.0895 - val_accuracy: 0.6777\n",
      "Epoch 5/100\n",
      "40496/40496 [==============================] - 12s 308us/sample - loss: 1.0866 - accuracy: 0.6278 - val_loss: 1.0766 - val_accuracy: 0.6681\n",
      "Epoch 6/100\n",
      "40496/40496 [==============================] - 13s 312us/sample - loss: 1.0628 - accuracy: 0.6333 - val_loss: 1.0306 - val_accuracy: 0.6815\n",
      "Epoch 7/100\n",
      "40496/40496 [==============================] - 13s 315us/sample - loss: 1.0489 - accuracy: 0.6408 - val_loss: 1.0252 - val_accuracy: 0.6881\n",
      "Epoch 8/100\n",
      "40496/40496 [==============================] - 12s 307us/sample - loss: 1.0466 - accuracy: 0.6418 - val_loss: 1.0101 - val_accuracy: 0.6955\n",
      "Epoch 9/100\n",
      "40496/40496 [==============================] - 12s 307us/sample - loss: 1.0404 - accuracy: 0.6445 - val_loss: 1.0373 - val_accuracy: 0.6845\n",
      "Epoch 10/100\n",
      "40496/40496 [==============================] - 12s 303us/sample - loss: 1.0214 - accuracy: 0.6515 - val_loss: 0.9770 - val_accuracy: 0.6932\n",
      "Epoch 11/100\n",
      "40496/40496 [==============================] - 12s 308us/sample - loss: 1.0119 - accuracy: 0.6539 - val_loss: 1.0002 - val_accuracy: 0.6785\n",
      "Epoch 12/100\n",
      "40496/40496 [==============================] - 13s 312us/sample - loss: 1.0096 - accuracy: 0.6566 - val_loss: 0.9464 - val_accuracy: 0.7089\n",
      "Epoch 13/100\n",
      "40496/40496 [==============================] - 12s 307us/sample - loss: 0.9963 - accuracy: 0.6587 - val_loss: 1.0220 - val_accuracy: 0.6964\n",
      "Epoch 14/100\n",
      "40496/40496 [==============================] - 13s 322us/sample - loss: 0.9872 - accuracy: 0.6627 - val_loss: 0.9635 - val_accuracy: 0.7099\n",
      "Epoch 15/100\n",
      "40496/40496 [==============================] - 13s 323us/sample - loss: 0.9832 - accuracy: 0.6659 - val_loss: 0.9357 - val_accuracy: 0.7129\n",
      "Epoch 16/100\n",
      "40496/40496 [==============================] - 13s 313us/sample - loss: 0.9814 - accuracy: 0.6681 - val_loss: 0.9749 - val_accuracy: 0.6920\n",
      "Epoch 17/100\n",
      "40496/40496 [==============================] - 12s 303us/sample - loss: 0.9696 - accuracy: 0.6713 - val_loss: 0.9136 - val_accuracy: 0.7204\n",
      "Epoch 18/100\n",
      "40496/40496 [==============================] - 12s 303us/sample - loss: 0.9627 - accuracy: 0.6724 - val_loss: 0.9040 - val_accuracy: 0.7196\n",
      "Epoch 19/100\n",
      "40496/40496 [==============================] - 12s 308us/sample - loss: 0.9511 - accuracy: 0.6752 - val_loss: 0.8947 - val_accuracy: 0.7260\n",
      "Epoch 20/100\n",
      "40496/40496 [==============================] - 13s 319us/sample - loss: 0.9428 - accuracy: 0.6785 - val_loss: 0.9073 - val_accuracy: 0.7215\n",
      "Epoch 21/100\n",
      "40496/40496 [==============================] - 12s 309us/sample - loss: 0.9287 - accuracy: 0.6848 - val_loss: 0.9016 - val_accuracy: 0.7230\n",
      "Epoch 22/100\n",
      "40496/40496 [==============================] - 12s 304us/sample - loss: 0.9389 - accuracy: 0.6777 - val_loss: 0.9193 - val_accuracy: 0.7150\n",
      "Epoch 23/100\n",
      "40496/40496 [==============================] - 13s 315us/sample - loss: 0.9317 - accuracy: 0.6834 - val_loss: 0.8645 - val_accuracy: 0.7375\n",
      "Epoch 24/100\n",
      "40496/40496 [==============================] - 12s 303us/sample - loss: 0.9230 - accuracy: 0.6865 - val_loss: 0.8604 - val_accuracy: 0.7285\n",
      "Epoch 25/100\n",
      "40496/40496 [==============================] - 12s 303us/sample - loss: 0.9204 - accuracy: 0.6883 - val_loss: 0.8554 - val_accuracy: 0.7365\n",
      "Epoch 26/100\n",
      "40496/40496 [==============================] - 13s 311us/sample - loss: 0.9130 - accuracy: 0.6904 - val_loss: 0.9596 - val_accuracy: 0.7093\n",
      "Epoch 27/100\n",
      "40496/40496 [==============================] - 13s 312us/sample - loss: 0.9092 - accuracy: 0.6909 - val_loss: 0.8477 - val_accuracy: 0.7361\n",
      "Epoch 28/100\n",
      "40496/40496 [==============================] - 12s 307us/sample - loss: 0.9007 - accuracy: 0.6921 - val_loss: 0.8735 - val_accuracy: 0.7310\n",
      "Epoch 29/100\n",
      "40496/40496 [==============================] - 13s 325us/sample - loss: 0.8972 - accuracy: 0.6948 - val_loss: 0.8797 - val_accuracy: 0.7255\n",
      "Epoch 30/100\n",
      "40496/40496 [==============================] - 13s 312us/sample - loss: 0.8788 - accuracy: 0.7011 - val_loss: 0.8479 - val_accuracy: 0.7322\n",
      "Epoch 31/100\n",
      "40496/40496 [==============================] - 13s 311us/sample - loss: 0.8853 - accuracy: 0.7003 - val_loss: 0.8474 - val_accuracy: 0.7252\n",
      "Epoch 32/100\n",
      "40496/40496 [==============================] - 13s 310us/sample - loss: 0.8787 - accuracy: 0.7025 - val_loss: 0.9022 - val_accuracy: 0.7174\n",
      "Epoch 33/100\n",
      "40496/40496 [==============================] - 12s 307us/sample - loss: 0.8797 - accuracy: 0.7037 - val_loss: 0.8931 - val_accuracy: 0.7139\n",
      "Epoch 34/100\n",
      "40496/40496 [==============================] - 12s 305us/sample - loss: 0.8752 - accuracy: 0.7036 - val_loss: 0.8604 - val_accuracy: 0.7283\n",
      "Epoch 35/100\n",
      "40496/40496 [==============================] - 12s 308us/sample - loss: 0.8726 - accuracy: 0.7041 - val_loss: 0.8460 - val_accuracy: 0.7408\n",
      "Epoch 36/100\n",
      "40496/40496 [==============================] - 12s 306us/sample - loss: 0.8625 - accuracy: 0.7076 - val_loss: 0.8431 - val_accuracy: 0.7381\n",
      "Epoch 37/100\n",
      "40496/40496 [==============================] - 13s 310us/sample - loss: 0.8573 - accuracy: 0.7068 - val_loss: 0.8137 - val_accuracy: 0.7460\n",
      "Epoch 38/100\n",
      "40496/40496 [==============================] - 12s 307us/sample - loss: 0.8563 - accuracy: 0.7097 - val_loss: 0.8611 - val_accuracy: 0.7262\n",
      "Epoch 39/100\n",
      "40496/40496 [==============================] - 12s 307us/sample - loss: 0.8534 - accuracy: 0.7102 - val_loss: 0.8371 - val_accuracy: 0.7451\n",
      "Epoch 40/100\n",
      "40496/40496 [==============================] - 12s 307us/sample - loss: 0.8499 - accuracy: 0.7116 - val_loss: 0.8334 - val_accuracy: 0.7391\n",
      "Epoch 41/100\n",
      "40496/40496 [==============================] - 13s 310us/sample - loss: 0.8525 - accuracy: 0.7111 - val_loss: 0.8650 - val_accuracy: 0.7304\n",
      "Epoch 42/100\n",
      "40496/40496 [==============================] - 13s 311us/sample - loss: 0.8521 - accuracy: 0.7134 - val_loss: 0.8954 - val_accuracy: 0.7260\n",
      "Epoch 43/100\n",
      "40496/40496 [==============================] - 12s 306us/sample - loss: 0.8432 - accuracy: 0.7142 - val_loss: 0.8430 - val_accuracy: 0.7386\n",
      "Epoch 44/100\n",
      "40496/40496 [==============================] - 13s 310us/sample - loss: 0.8309 - accuracy: 0.7188 - val_loss: 0.8067 - val_accuracy: 0.7454\n",
      "Epoch 45/100\n",
      "40496/40496 [==============================] - 13s 311us/sample - loss: 0.8361 - accuracy: 0.7168 - val_loss: 0.7907 - val_accuracy: 0.7542\n",
      "Epoch 46/100\n",
      "40496/40496 [==============================] - 13s 317us/sample - loss: 0.8195 - accuracy: 0.7236 - val_loss: 0.8251 - val_accuracy: 0.7411\n",
      "Epoch 47/100\n",
      "40496/40496 [==============================] - 13s 312us/sample - loss: 0.8288 - accuracy: 0.7204 - val_loss: 0.7609 - val_accuracy: 0.7577\n",
      "Epoch 48/100\n",
      "40496/40496 [==============================] - 14s 334us/sample - loss: 0.8217 - accuracy: 0.7206 - val_loss: 0.7933 - val_accuracy: 0.7517\n",
      "Epoch 49/100\n",
      "40496/40496 [==============================] - 13s 318us/sample - loss: 0.8247 - accuracy: 0.7192 - val_loss: 0.7925 - val_accuracy: 0.7517\n",
      "Epoch 50/100\n",
      "40496/40496 [==============================] - 13s 312us/sample - loss: 0.8180 - accuracy: 0.7221 - val_loss: 0.8265 - val_accuracy: 0.7320\n",
      "Epoch 51/100\n",
      "40496/40496 [==============================] - 13s 312us/sample - loss: 0.8170 - accuracy: 0.7242 - val_loss: 0.7802 - val_accuracy: 0.7540\n",
      "Epoch 52/100\n",
      "40496/40496 [==============================] - 13s 310us/sample - loss: 0.8083 - accuracy: 0.7277 - val_loss: 0.8095 - val_accuracy: 0.7428\n",
      "Epoch 53/100\n",
      "40496/40496 [==============================] - 13s 310us/sample - loss: 0.8057 - accuracy: 0.7271 - val_loss: 0.8251 - val_accuracy: 0.7402\n",
      "Epoch 54/100\n",
      "40496/40496 [==============================] - 13s 310us/sample - loss: 0.8015 - accuracy: 0.7266 - val_loss: 0.7968 - val_accuracy: 0.7535\n",
      "Epoch 55/100\n",
      "40496/40496 [==============================] - 13s 309us/sample - loss: 0.7981 - accuracy: 0.7290 - val_loss: 0.8174 - val_accuracy: 0.7409\n",
      "Epoch 56/100\n",
      "40496/40496 [==============================] - 13s 309us/sample - loss: 0.8075 - accuracy: 0.7265 - val_loss: 0.7782 - val_accuracy: 0.7527\n",
      "Epoch 57/100\n",
      "40496/40496 [==============================] - 13s 310us/sample - loss: 0.8042 - accuracy: 0.7282 - val_loss: 0.8224 - val_accuracy: 0.7362\n",
      "Epoch 58/100\n",
      "40496/40496 [==============================] - 13s 310us/sample - loss: 0.7991 - accuracy: 0.7295 - val_loss: 0.8095 - val_accuracy: 0.7402\n",
      "Epoch 59/100\n",
      "40496/40496 [==============================] - 13s 310us/sample - loss: 0.7933 - accuracy: 0.7330 - val_loss: 0.7868 - val_accuracy: 0.7518\n",
      "Epoch 60/100\n",
      "40496/40496 [==============================] - 13s 310us/sample - loss: 0.7882 - accuracy: 0.7353 - val_loss: 0.7733 - val_accuracy: 0.7533\n",
      "Epoch 61/100\n",
      "40496/40496 [==============================] - 13s 310us/sample - loss: 0.7943 - accuracy: 0.7299 - val_loss: 0.7736 - val_accuracy: 0.7543\n",
      "Epoch 62/100\n",
      "40496/40496 [==============================] - 13s 310us/sample - loss: 0.7857 - accuracy: 0.7332 - val_loss: 0.7792 - val_accuracy: 0.7578\n",
      "Epoch 63/100\n",
      "40496/40496 [==============================] - 13s 310us/sample - loss: 0.7716 - accuracy: 0.7373 - val_loss: 0.7690 - val_accuracy: 0.7537\n",
      "Epoch 64/100\n",
      "40496/40496 [==============================] - 13s 310us/sample - loss: 0.7815 - accuracy: 0.7346 - val_loss: 0.7287 - val_accuracy: 0.7706\n",
      "Epoch 65/100\n",
      "40496/40496 [==============================] - 13s 311us/sample - loss: 0.7798 - accuracy: 0.7359 - val_loss: 0.7550 - val_accuracy: 0.7609\n",
      "Epoch 66/100\n",
      "40496/40496 [==============================] - 13s 311us/sample - loss: 0.7726 - accuracy: 0.7369 - val_loss: 0.7604 - val_accuracy: 0.7638\n",
      "Epoch 67/100\n",
      "40496/40496 [==============================] - 13s 310us/sample - loss: 0.7735 - accuracy: 0.7412 - val_loss: 0.7845 - val_accuracy: 0.7489\n",
      "Epoch 68/100\n",
      "40496/40496 [==============================] - 13s 310us/sample - loss: 0.7780 - accuracy: 0.7393 - val_loss: 0.8335 - val_accuracy: 0.7468\n",
      "Epoch 69/100\n",
      "40496/40496 [==============================] - 13s 318us/sample - loss: 0.7785 - accuracy: 0.7387 - val_loss: 0.7997 - val_accuracy: 0.7465\n",
      "Epoch 70/100\n",
      "40496/40496 [==============================] - 13s 321us/sample - loss: 0.7580 - accuracy: 0.7439 - val_loss: 0.7552 - val_accuracy: 0.7669\n",
      "Epoch 71/100\n",
      "40496/40496 [==============================] - 13s 322us/sample - loss: 0.7561 - accuracy: 0.7427 - val_loss: 0.7401 - val_accuracy: 0.7657\n",
      "Epoch 72/100\n",
      "40496/40496 [==============================] - 13s 313us/sample - loss: 0.7660 - accuracy: 0.7389 - val_loss: 0.7470 - val_accuracy: 0.7655\n",
      "Epoch 73/100\n",
      "40496/40496 [==============================] - 13s 311us/sample - loss: 0.7539 - accuracy: 0.7454 - val_loss: 0.7730 - val_accuracy: 0.7601\n",
      "Epoch 74/100\n",
      "40496/40496 [==============================] - 13s 310us/sample - loss: 0.7625 - accuracy: 0.7417 - val_loss: 0.7429 - val_accuracy: 0.7642\n",
      "Epoch 75/100\n",
      "40496/40496 [==============================] - 13s 310us/sample - loss: 0.7563 - accuracy: 0.7452 - val_loss: 0.7845 - val_accuracy: 0.7580\n",
      "Epoch 76/100\n",
      "40496/40496 [==============================] - 13s 310us/sample - loss: 0.7603 - accuracy: 0.7450 - val_loss: 0.7387 - val_accuracy: 0.7644\n",
      "Epoch 77/100\n",
      "40496/40496 [==============================] - 13s 310us/sample - loss: 0.7557 - accuracy: 0.7459 - val_loss: 0.7225 - val_accuracy: 0.7713\n",
      "Epoch 78/100\n",
      "40496/40496 [==============================] - 12s 307us/sample - loss: 0.7535 - accuracy: 0.7468 - val_loss: 0.7487 - val_accuracy: 0.7655\n",
      "Epoch 79/100\n",
      "40496/40496 [==============================] - 13s 311us/sample - loss: 0.7395 - accuracy: 0.7509 - val_loss: 0.7044 - val_accuracy: 0.7829\n",
      "Epoch 80/100\n",
      "40496/40496 [==============================] - 13s 311us/sample - loss: 0.7524 - accuracy: 0.7446 - val_loss: 0.7759 - val_accuracy: 0.7568\n",
      "Epoch 81/100\n",
      "40496/40496 [==============================] - 13s 309us/sample - loss: 0.7406 - accuracy: 0.7485 - val_loss: 0.7258 - val_accuracy: 0.7735\n",
      "Epoch 82/100\n",
      "40496/40496 [==============================] - 12s 308us/sample - loss: 0.7604 - accuracy: 0.7432 - val_loss: 0.7498 - val_accuracy: 0.7658\n",
      "Epoch 83/100\n",
      "40496/40496 [==============================] - 13s 310us/sample - loss: 0.7413 - accuracy: 0.7487 - val_loss: 0.7675 - val_accuracy: 0.7634\n",
      "Epoch 84/100\n",
      "40496/40496 [==============================] - 13s 310us/sample - loss: 0.7404 - accuracy: 0.7486 - val_loss: 0.7353 - val_accuracy: 0.7672\n",
      "Epoch 85/100\n",
      "40496/40496 [==============================] - 13s 310us/sample - loss: 0.7414 - accuracy: 0.7485 - val_loss: 0.7377 - val_accuracy: 0.7711\n",
      "Epoch 86/100\n",
      "40496/40496 [==============================] - 13s 309us/sample - loss: 0.7338 - accuracy: 0.7536 - val_loss: 0.7145 - val_accuracy: 0.7756\n",
      "Epoch 87/100\n",
      "40496/40496 [==============================] - 12s 308us/sample - loss: 0.7321 - accuracy: 0.7538 - val_loss: 0.7291 - val_accuracy: 0.7664\n",
      "Epoch 88/100\n",
      "40496/40496 [==============================] - 13s 309us/sample - loss: 0.7348 - accuracy: 0.7523 - val_loss: 0.8063 - val_accuracy: 0.7564\n",
      "Epoch 89/100\n",
      "40496/40496 [==============================] - 13s 309us/sample - loss: 0.7383 - accuracy: 0.7491 - val_loss: 0.7337 - val_accuracy: 0.7711\n",
      "Epoch 90/100\n",
      "40496/40496 [==============================] - 13s 310us/sample - loss: 0.7291 - accuracy: 0.7495 - val_loss: 0.7558 - val_accuracy: 0.7653\n",
      "Epoch 91/100\n",
      "40496/40496 [==============================] - 13s 309us/sample - loss: 0.7303 - accuracy: 0.7504 - val_loss: 0.7018 - val_accuracy: 0.7822\n",
      "Epoch 92/100\n",
      "40496/40496 [==============================] - 13s 309us/sample - loss: 0.7297 - accuracy: 0.7538 - val_loss: 0.7795 - val_accuracy: 0.7599\n",
      "Epoch 93/100\n",
      "40496/40496 [==============================] - 13s 310us/sample - loss: 0.7461 - accuracy: 0.7462 - val_loss: 0.7335 - val_accuracy: 0.7729\n",
      "Epoch 94/100\n",
      "40496/40496 [==============================] - 13s 309us/sample - loss: 0.7217 - accuracy: 0.7551 - val_loss: 0.7401 - val_accuracy: 0.7699\n",
      "Epoch 95/100\n",
      "40496/40496 [==============================] - 13s 309us/sample - loss: 0.7229 - accuracy: 0.7541 - val_loss: 0.7266 - val_accuracy: 0.7714\n",
      "Epoch 96/100\n",
      "40496/40496 [==============================] - 13s 309us/sample - loss: 0.7159 - accuracy: 0.7594 - val_loss: 0.7272 - val_accuracy: 0.7775\n",
      "Epoch 97/100\n",
      "40496/40496 [==============================] - 13s 309us/sample - loss: 0.7247 - accuracy: 0.7546 - val_loss: 0.7689 - val_accuracy: 0.7620\n",
      "Epoch 98/100\n",
      "40496/40496 [==============================] - 13s 309us/sample - loss: 0.7352 - accuracy: 0.7494 - val_loss: 0.7441 - val_accuracy: 0.7633\n",
      "Epoch 99/100\n",
      "40496/40496 [==============================] - 13s 319us/sample - loss: 0.7221 - accuracy: 0.7564 - val_loss: 0.7083 - val_accuracy: 0.7796\n",
      "Epoch 100/100\n",
      "40496/40496 [==============================] - 13s 311us/sample - loss: 0.7118 - accuracy: 0.7605 - val_loss: 0.6786 - val_accuracy: 0.7924\n"
     ]
    }
   ],
   "source": [
    "history = model.fit(train_wav, train_label, validation_data=[test_wav, test_label],\n",
    "          batch_size=batch_size, \n",
    "          epochs=100,\n",
    "          verbose=1)"
   ]
  },
  {
   "cell_type": "code",
   "execution_count": 46,
   "metadata": {
    "Collapsed": "false"
   },
   "outputs": [],
   "source": [
    "model.save(\"../models/conv/baseline.h5\")"
   ]
  },
  {
   "cell_type": "code",
   "execution_count": 43,
   "metadata": {
    "Collapsed": "false",
    "_uuid": "5cbb0f06ea603cb0e5ef7b9893080ecfdd082864"
   },
   "outputs": [
    {
     "data": {
      "image/png": "[encoded data removed]",
      "text/plain": [
       "<Figure size 432x288 with 1 Axes>"
      ]
     },
     "metadata": {
      "needs_background": "light"
     },
     "output_type": "display_data"
    },
    {
     "data": {
      "image/png": "[encoded data removed]",
      "text/plain": [
       "<Figure size 432x288 with 1 Axes>"
      ]
     },
     "metadata": {
      "needs_background": "light"
     },
     "output_type": "display_data"
    }
   ],
   "source": [
    "plt.plot(history.history['accuracy'])\n",
    "plt.plot(history.history['val_accuracy'])\n",
    "plt.title('model accuracy')\n",
    "plt.ylabel('accuracy')\n",
    "plt.xlabel('epoch')\n",
    "plt.legend(['train', 'test'], loc='upper left')\n",
    "plt.show()\n",
    "# summarize history for loss\n",
    "plt.plot(history.history['loss'])\n",
    "plt.plot(history.history['val_loss'])\n",
    "plt.title('model loss')\n",
    "plt.ylabel('loss')\n",
    "plt.xlabel('epoch')\n",
    "plt.legend(['train', 'test'], loc='upper left')\n",
    "plt.show()"
   ]
  },
  {
   "cell_type": "code",
   "execution_count": 45,
   "metadata": {
    "Collapsed": "false"
   },
   "outputs": [
    {
     "data": {
      "image/png": "[encoded data removed]",
      "text/plain": [
       "<Figure size 432x288 with 1 Axes>"
      ]
     },
     "metadata": {
      "needs_background": "light"
     },
     "output_type": "display_data"
    },
    {
     "data": {
      "image/png": "[encoded data removed]",
      "text/plain": [
       "<Figure size 432x288 with 1 Axes>"
      ]
     },
     "metadata": {
      "needs_background": "light"
     },
     "output_type": "display_data"
    }
   ],
   "source": [
    "plt.plot(history.history['accuracy'])\n",
    "plt.plot(history.history['val_accuracy'])\n",
    "plt.title('model accuracy')\n",
    "plt.ylabel('accuracy')\n",
    "plt.xlabel('epoch')\n",
    "plt.legend(['train', 'test'], loc='upper left')\n",
    "plt.show()\n",
    "# summarize history for loss\n",
    "plt.plot(history.history['loss'])\n",
    "plt.plot(history.history['val_loss'])\n",
    "plt.title('model loss')\n",
    "plt.ylabel('loss')\n",
    "plt.xlabel('epoch')\n",
    "plt.legend(['train', 'test'], loc='upper left')\n",
    "plt.show()"
   ]
  },
  {
   "cell_type": "markdown",
   "metadata": {
    "Collapsed": "false"
   },
   "source": [
    "# Model with LSTM cells"
   ]
  },
  {
   "cell_type": "code",
   "execution_count": 34,
   "metadata": {
    "Collapsed": "false",
    "_uuid": "c3ac90355cbf04993a8b090483164d0e86401855"
   },
   "outputs": [],
   "source": [
    "#Conv1D Model\n",
    "input_tensor = Input(shape=(input_shape))\n",
    "\n",
    "x = layers.Conv1D(8, 11, padding='valid', activation='relu', strides=1)(input_tensor)\n",
    "x = layers.MaxPooling1D(2)(x)\n",
    "x = layers.Dropout(drop_out_rate)(x)\n",
    "x = layers.Conv1D(16, 7, padding='valid', activation='relu', strides=1)(x)\n",
    "x = layers.MaxPooling1D(2)(x)\n",
    "x = layers.Dropout(drop_out_rate)(x)\n",
    "x = layers.Conv1D(32, 5, padding='valid', activation='relu', strides=1)(x)\n",
    "x = layers.MaxPooling1D(10)(x)\n",
    "x = layers.LSTM(64, return_sequences=True)(x)\n",
    "x = layers.LSTM(32, return_sequences=True)(x)\n",
    "x = layers.Flatten()(x)\n",
    "# x = layers.Dense(256, activation='relu')(x)\n",
    "# x = layers.Dropout(drop_out_rate)(x)\n",
    "# x = layers.Dense(128, activation='relu')(x)\n",
    "x = layers.Dense(128, activation='relu')(x)\n",
    "x = layers.Dropout(drop_out_rate)(x)\n",
    "x = layers.Dense(64, activation='relu')(x)\n",
    "x = layers.Dropout(drop_out_rate)(x)\n",
    "output_tensor = layers.Dense(len(label_value), activation='softmax')(x)\n",
    "\n",
    "model = tf.keras.Model(input_tensor, output_tensor)\n",
    "\n",
    "model.compile(loss=keras.losses.categorical_crossentropy,\n",
    "             optimizer=keras.optimizers.Adam(lr = lr),\n",
    "             metrics=['accuracy'])\n"
   ]
  },
  {
   "cell_type": "code",
   "execution_count": 35,
   "metadata": {
    "Collapsed": "false",
    "_uuid": "0c1c50793d9d2c12af1cbf1029daca221afdaff9"
   },
   "outputs": [
    {
     "name": "stdout",
     "output_type": "stream",
     "text": [
      "Model: \"model\"\n",
      "_________________________________________________________________\n",
      "Layer (type)                 Output Shape              Param #   \n",
      "=================================================================\n",
      "input_1 (InputLayer)         [(None, 8000, 1)]         0         \n",
      "_________________________________________________________________\n",
      "conv1d (Conv1D)              (None, 7990, 8)           96        \n",
      "_________________________________________________________________\n",
      "max_pooling1d (MaxPooling1D) (None, 3995, 8)           0         \n",
      "_________________________________________________________________\n",
      "dropout (Dropout)            (None, 3995, 8)           0         \n",
      "_________________________________________________________________\n",
      "conv1d_1 (Conv1D)            (None, 3989, 16)          912       \n",
      "_________________________________________________________________\n",
      "max_pooling1d_1 (MaxPooling1 (None, 1994, 16)          0         \n",
      "_________________________________________________________________\n",
      "dropout_1 (Dropout)          (None, 1994, 16)          0         \n",
      "_________________________________________________________________\n",
      "conv1d_2 (Conv1D)            (None, 1990, 32)          2592      \n",
      "_________________________________________________________________\n",
      "max_pooling1d_2 (MaxPooling1 (None, 199, 32)           0         \n",
      "_________________________________________________________________\n",
      "lstm (LSTM)                  (None, 199, 64)           24832     \n",
      "_________________________________________________________________\n",
      "lstm_1 (LSTM)                (None, 199, 32)           12416     \n",
      "_________________________________________________________________\n",
      "flatten (Flatten)            (None, 6368)              0         \n",
      "_________________________________________________________________\n",
      "dense (Dense)                (None, 128)               815232    \n",
      "_________________________________________________________________\n",
      "dropout_2 (Dropout)          (None, 128)               0         \n",
      "_________________________________________________________________\n",
      "dense_1 (Dense)              (None, 64)                8256      \n",
      "_________________________________________________________________\n",
      "dropout_3 (Dropout)          (None, 64)                0         \n",
      "_________________________________________________________________\n",
      "dense_2 (Dense)              (None, 12)                780       \n",
      "=================================================================\n",
      "Total params: 865,116\n",
      "Trainable params: 865,116\n",
      "Non-trainable params: 0\n",
      "_________________________________________________________________\n"
     ]
    }
   ],
   "source": [
    "model.summary()"
   ]
  },
  {
   "cell_type": "markdown",
   "metadata": {
    "Collapsed": "false",
    "_uuid": "45ce60c3949727441c5c75dabb3575cb95aa59be"
   },
   "source": [
    "### Train!"
   ]
  },
  {
   "cell_type": "markdown",
   "metadata": {
    "Collapsed": "false"
   },
   "source": [
    "#### Callbacks"
   ]
  },
  {
   "cell_type": "code",
   "execution_count": 39,
   "metadata": {
    "Collapsed": "false"
   },
   "outputs": [],
   "source": [
    "run_path = \"../models/rec\"\n",
    "earlyStopping = tf.keras.callbacks.EarlyStopping(monitor='accuracy', patience=10, verbose=0)\n",
    "mcp_save = tf.keras.callbacks.ModelCheckpoint(os.path.join(run_path, 'model-{epoch:03d}-{val_accuracy:03f}.h5'),\n",
    "                           save_best_only=True, monitor='accuracy', patience=7)\n",
    "reduce_lr_loss = tf.keras.callbacks.ReduceLROnPlateau(monitor='accuracy', factor=0.1, patience=7, verbose=1, min_delta=1e-4)\n",
    "\n",
    "callbacks = [earlyStopping, mcp_save, reduce_lr_loss]"
   ]
  },
  {
   "cell_type": "code",
   "execution_count": 40,
   "metadata": {
    "Collapsed": "false",
    "_uuid": "9b61710f92afdf22a09a07b9dd9d3ddc3e75c05b"
   },
   "outputs": [
    {
     "name": "stdout",
     "output_type": "stream",
     "text": [
      "Train on 40496 samples, validate on 10124 samples\n",
      "Epoch 1/100\n",
      "40496/40496 [==============================] - 23s 561us/sample - loss: 2.3591 - accuracy: 0.1563 - val_loss: 2.1991 - val_accuracy: 0.2250\n",
      "Epoch 2/100\n",
      "40496/40496 [==============================] - 16s 389us/sample - loss: 2.1149 - accuracy: 0.2346 - val_loss: 1.9488 - val_accuracy: 0.3107ss: 2.1151 - accuracy: 0.23\n",
      "Epoch 3/100\n",
      "40496/40496 [==============================] - 16s 392us/sample - loss: 1.9243 - accuracy: 0.2974 - val_loss: 1.7401 - val_accuracy: 0.3830\n",
      "Epoch 4/100\n",
      "40496/40496 [==============================] - 16s 393us/sample - loss: 1.7081 - accuracy: 0.3758 - val_loss: 1.4283 - val_accuracy: 0.495410s - loss: 1.815 - ETA: 8s - loss: 1.7920 - accuracy: 0.34 - ETA: 8s - loss: 1.7900 - accuracy - ETA: 3s - loss: 1.7415 - accuracy: 0. - ETA: \n",
      "Epoch 5/100\n",
      "40496/40496 [==============================] - 16s 394us/sample - loss: 1.5010 - accuracy: 0.4563 - val_loss: 1.2972 - val_accuracy: 0.5501\n",
      "Epoch 6/100\n",
      "40496/40496 [==============================] - 16s 395us/sample - loss: 1.3603 - accuracy: 0.5156 - val_loss: 1.2081 - val_accuracy: 0.5836\n",
      "Epoch 7/100\n",
      "40496/40496 [==============================] - 16s 396us/sample - loss: 1.2365 - accuracy: 0.5696 - val_loss: 1.1693 - val_accuracy: 0.61651.2403 - ac\n",
      "Epoch 8/100\n",
      "40496/40496 [==============================] - 16s 396us/sample - loss: 1.1334 - accuracy: 0.6066 - val_loss: 1.0090 - val_accuracy: 0.6652 12s - ETA: 8s - loss: 1.1669 - accura - ETA: 3s - loss: 1.1413 - accuracy: 0.60 - ETA: 2s - - ETA: 0s - loss: 1.1334 - accuracy: 0.60\n",
      "Epoch 9/100\n",
      "40496/40496 [==============================] - 16s 396us/sample - loss: 1.0646 - accuracy: 0.6336 - val_loss: 0.9221 - val_accuracy: 0.6975\n",
      "Epoch 10/100\n",
      "40496/40496 [==============================] - 16s 397us/sample - loss: 1.0087 - accuracy: 0.6602 - val_loss: 0.9033 - val_accuracy: 0.70901s - loss: 1 - ETA: 4s - los - ETA: 1s - loss: 1.0\n",
      "Epoch 11/100\n",
      "40496/40496 [==============================] - 16s 398us/sample - loss: 0.9738 - accuracy: 0.6728 - val_loss: 0.8731 - val_accuracy: 0.7205\n",
      "Epoch 12/100\n",
      "40496/40496 [==============================] - 16s 398us/sample - loss: 0.9206 - accuracy: 0.6927 - val_loss: 0.7771 - val_accuracy: 0.7444\n",
      "Epoch 13/100\n",
      "40496/40496 [==============================] - 16s 398us/sample - loss: 0.8830 - accuracy: 0.7058 - val_loss: 0.8490 - val_accuracy: 0.7257- ETA\n",
      "Epoch 14/100\n",
      "40496/40496 [==============================] - 16s 398us/sample - loss: 0.8530 - accuracy: 0.7156 - val_loss: 0.7400 - val_accuracy: 0.7542\n",
      "Epoch 15/100\n",
      "40496/40496 [==============================] - 16s 399us/sample - loss: 0.8155 - accuracy: 0.7310 - val_loss: 0.8230 - val_accuracy: 0.7294loss: 0 - ETA: 0s - loss: 0.8163 - accuracy: \n",
      "Epoch 16/100\n",
      "40496/40496 [==============================] - 16s 399us/sample - loss: 0.7984 - accuracy: 0.7367 - val_loss: 0.7518 - val_accuracy: 0.7581\n",
      "Epoch 17/100\n",
      "40496/40496 [==============================] - 16s 399us/sample - loss: 0.7762 - accuracy: 0.7443 - val_loss: 0.6847 - val_accuracy: 0.7741\n",
      "Epoch 18/100\n",
      "40496/40496 [==============================] - 16s 399us/sample - loss: 0.7427 - accuracy: 0.7561 - val_loss: 0.6231 - val_accuracy: 0.7953\n",
      "Epoch 19/100\n",
      "40496/40496 [==============================] - 16s 402us/sample - loss: 0.7298 - accuracy: 0.7627 - val_loss: 0.6801 - val_accuracy: 0.7803\n",
      "Epoch 20/100\n",
      "40496/40496 [==============================] - 16s 399us/sample - loss: 0.7143 - accuracy: 0.7695 - val_loss: 0.6990 - val_accuracy: 0.7749\n",
      "Epoch 21/100\n",
      "40496/40496 [==============================] - 16s 399us/sample - loss: 0.6978 - accuracy: 0.7731 - val_loss: 0.6817 - val_accuracy: 0.7808\n",
      "Epoch 22/100\n",
      "40496/40496 [==============================] - 16s 400us/sample - loss: 0.6593 - accuracy: 0.7891 - val_loss: 0.6448 - val_accuracy: 0.7976\n",
      "Epoch 23/100\n",
      "40496/40496 [==============================] - 16s 399us/sample - loss: 0.6615 - accuracy: 0.7887 - val_loss: 0.6455 - val_accuracy: 0.7958\n",
      "Epoch 24/100\n",
      "40496/40496 [==============================] - 16s 400us/sample - loss: 0.6502 - accuracy: 0.7909 - val_loss: 0.6807 - val_accuracy: 0.7795\n",
      "Epoch 25/100\n",
      "40496/40496 [==============================] - 16s 399us/sample - loss: 0.6400 - accuracy: 0.7926 - val_loss: 0.5842 - val_accuracy: 0.8127uracy\n",
      "Epoch 26/100\n",
      "40496/40496 [==============================] - 16s 400us/sample - loss: 0.6087 - accuracy: 0.8042 - val_loss: 0.5718 - val_accuracy: 0.8198\n",
      "Epoch 27/100\n",
      "40496/40496 [==============================] - 16s 400us/sample - loss: 0.6027 - accuracy: 0.8042 - val_loss: 0.6222 - val_accuracy: 0.8020\n",
      "Epoch 28/100\n",
      "40496/40496 [==============================] - 16s 399us/sample - loss: 0.5864 - accuracy: 0.8110 - val_loss: 0.6429 - val_accuracy: 0.7887\n",
      "Epoch 29/100\n",
      "40496/40496 [==============================] - 16s 401us/sample - loss: 0.5817 - accuracy: 0.8128 - val_loss: 0.5644 - val_accuracy: 0.8178\n",
      "Epoch 30/100\n",
      "40496/40496 [==============================] - 16s 402us/sample - loss: 0.5578 - accuracy: 0.8232 - val_loss: 0.5910 - val_accuracy: 0.8164\n",
      "Epoch 31/100\n",
      "40496/40496 [==============================] - 16s 401us/sample - loss: 0.5445 - accuracy: 0.8267 - val_loss: 0.6439 - val_accuracy: 0.8011\n",
      "Epoch 32/100\n",
      "40496/40496 [==============================] - 16s 399us/sample - loss: 0.5476 - accuracy: 0.8254 - val_loss: 0.5662 - val_accuracy: 0.8228\n",
      "Epoch 33/100\n",
      "40496/40496 [==============================] - 16s 400us/sample - loss: 0.5307 - accuracy: 0.8327 - val_loss: 0.5304 - val_accuracy: 0.8340\n",
      "Epoch 34/100\n",
      "40496/40496 [==============================] - 16s 399us/sample - loss: 0.5403 - accuracy: 0.8266 - val_loss: 0.5959 - val_accuracy: 0.8131\n",
      "Epoch 35/100\n",
      "40496/40496 [==============================] - 16s 399us/sample - loss: 0.5250 - accuracy: 0.8315 - val_loss: 0.5702 - val_accuracy: 0.8238\n",
      "Epoch 36/100\n",
      "40496/40496 [==============================] - 16s 400us/sample - loss: 0.4963 - accuracy: 0.8406 - val_loss: 0.6476 - val_accuracy: 0.8011ss: 0.4958 - accuracy: 0.\n",
      "Epoch 37/100\n",
      "40496/40496 [==============================] - 16s 401us/sample - loss: 0.4975 - accuracy: 0.8423 - val_loss: 0.5506 - val_accuracy: 0.8356\n",
      "Epoch 38/100\n",
      "40496/40496 [==============================] - 16s 400us/sample - loss: 0.4754 - accuracy: 0.8480 - val_loss: 0.5363 - val_accuracy: 0.8306\n",
      "Epoch 39/100\n",
      "40496/40496 [==============================] - 16s 400us/sample - loss: 0.4954 - accuracy: 0.8420 - val_loss: 0.6317 - val_accuracy: 0.8239\n",
      "Epoch 40/100\n",
      "40496/40496 [==============================] - 16s 402us/sample - loss: 0.4757 - accuracy: 0.8490 - val_loss: 0.6189 - val_accuracy: 0.8155\n",
      "Epoch 41/100\n",
      "40496/40496 [==============================] - 16s 402us/sample - loss: 0.4708 - accuracy: 0.8500 - val_loss: 0.5756 - val_accuracy: 0.8341\n",
      "Epoch 42/100\n",
      "40496/40496 [==============================] - 16s 402us/sample - loss: 0.4543 - accuracy: 0.8552 - val_loss: 0.5769 - val_accuracy: 0.8327\n",
      "Epoch 43/100\n",
      "40496/40496 [==============================] - 16s 400us/sample - loss: 0.4492 - accuracy: 0.8568 - val_loss: 0.6239 - val_accuracy: 0.8231\n",
      "Epoch 44/100\n",
      "40496/40496 [==============================] - 16s 401us/sample - loss: 0.4483 - accuracy: 0.8592 - val_loss: 0.6122 - val_accuracy: 0.8218\n",
      "Epoch 45/100\n",
      "40496/40496 [==============================] - 16s 404us/sample - loss: 0.4324 - accuracy: 0.8637 - val_loss: 0.5028 - val_accuracy: 0.8454\n",
      "Epoch 46/100\n",
      "40496/40496 [==============================] - 16s 400us/sample - loss: 0.4421 - accuracy: 0.8596 - val_loss: 0.5199 - val_accuracy: 0.8414\n",
      "Epoch 47/100\n",
      "40496/40496 [==============================] - 16s 402us/sample - loss: 0.4229 - accuracy: 0.8652 - val_loss: 0.6176 - val_accuracy: 0.8243\n",
      "Epoch 48/100\n",
      "40496/40496 [==============================] - 16s 406us/sample - loss: 0.4259 - accuracy: 0.8624 - val_loss: 0.5033 - val_accuracy: 0.8482\n",
      "Epoch 49/100\n",
      "40496/40496 [==============================] - 16s 403us/sample - loss: 0.4175 - accuracy: 0.8677 - val_loss: 0.5858 - val_accuracy: 0.8300\n",
      "Epoch 50/100\n",
      "40496/40496 [==============================] - 16s 401us/sample - loss: 0.4125 - accuracy: 0.8676 - val_loss: 0.5373 - val_accuracy: 0.8474\n",
      "Epoch 51/100\n",
      "40496/40496 [==============================] - 16s 402us/sample - loss: 0.4025 - accuracy: 0.8712 - val_loss: 0.6283 - val_accuracy: 0.8311\n",
      "Epoch 52/100\n",
      "40496/40496 [==============================] - 16s 403us/sample - loss: 0.3927 - accuracy: 0.8748 - val_loss: 0.7162 - val_accuracy: 0.8236\n",
      "Epoch 53/100\n",
      "40496/40496 [==============================] - 16s 401us/sample - loss: 0.3952 - accuracy: 0.8739 - val_loss: 0.5106 - val_accuracy: 0.8452\n",
      "Epoch 54/100\n",
      "40496/40496 [==============================] - 16s 401us/sample - loss: 0.3963 - accuracy: 0.8732 - val_loss: 0.5049 - val_accuracy: 0.8481\n",
      "Epoch 55/100\n",
      "40496/40496 [==============================] - 16s 402us/sample - loss: 0.3791 - accuracy: 0.8777 - val_loss: 0.5380 - val_accuracy: 0.8394\n",
      "Epoch 56/100\n",
      "40496/40496 [==============================] - 16s 403us/sample - loss: 0.3768 - accuracy: 0.8815 - val_loss: 0.5607 - val_accuracy: 0.8407\n",
      "Epoch 57/100\n",
      "40496/40496 [==============================] - 16s 400us/sample - loss: 0.3769 - accuracy: 0.8791 - val_loss: 0.6249 - val_accuracy: 0.8398\n",
      "Epoch 58/100\n",
      "40496/40496 [==============================] - 16s 402us/sample - loss: 0.3657 - accuracy: 0.8833 - val_loss: 0.5388 - val_accuracy: 0.8474\n",
      "Epoch 59/100\n",
      "40496/40496 [==============================] - 16s 400us/sample - loss: 0.3662 - accuracy: 0.8817 - val_loss: 0.4493 - val_accuracy: 0.8606\n",
      "Epoch 60/100\n",
      "40496/40496 [==============================] - 16s 402us/sample - loss: 0.3608 - accuracy: 0.8823 - val_loss: 0.5474 - val_accuracy: 0.8454\n",
      "Epoch 61/100\n",
      "40496/40496 [==============================] - 16s 403us/sample - loss: 0.3645 - accuracy: 0.8839 - val_loss: 0.4567 - val_accuracy: 0.8630\n",
      "Epoch 62/100\n",
      "40496/40496 [==============================] - 16s 405us/sample - loss: 0.3497 - accuracy: 0.8872 - val_loss: 1.4914 - val_accuracy: 0.8076\n",
      "Epoch 63/100\n",
      "40496/40496 [==============================] - 16s 404us/sample - loss: 0.3385 - accuracy: 0.8900 - val_loss: 0.6784 - val_accuracy: 0.8525loss: 0.3397 - ac\n",
      "Epoch 64/100\n",
      "40496/40496 [==============================] - 16s 403us/sample - loss: 0.3567 - accuracy: 0.8859 - val_loss: 0.7457 - val_accuracy: 0.8334\n",
      "Epoch 65/100\n",
      "40496/40496 [==============================] - 16s 399us/sample - loss: 0.3478 - accuracy: 0.8889 - val_loss: 0.4866 - val_accuracy: 0.8586\n",
      "Epoch 66/100\n",
      "40496/40496 [==============================] - 16s 403us/sample - loss: 0.3342 - accuracy: 0.8924 - val_loss: 0.4414 - val_accuracy: 0.8687\n",
      "Epoch 67/100\n",
      "40496/40496 [==============================] - 17s 409us/sample - loss: 0.3359 - accuracy: 0.8919 - val_loss: 0.4808 - val_accuracy: 0.86383356 - ac\n",
      "Epoch 68/100\n",
      "40496/40496 [==============================] - 16s 406us/sample - loss: 0.3282 - accuracy: 0.8936 - val_loss: 0.5649 - val_accuracy: 0.8425\n",
      "Epoch 69/100\n",
      "40496/40496 [==============================] - 16s 400us/sample - loss: 0.3542 - accuracy: 0.8869 - val_loss: 0.4579 - val_accuracy: 0.8646\n",
      "Epoch 70/100\n",
      "40496/40496 [==============================] - 16s 404us/sample - loss: 0.3369 - accuracy: 0.8926 - val_loss: 0.6593 - val_accuracy: 0.8354\n",
      "Epoch 71/100\n",
      "40496/40496 [==============================] - 16s 406us/sample - loss: 0.3205 - accuracy: 0.8990 - val_loss: 0.4391 - val_accuracy: 0.8654\n",
      "Epoch 72/100\n",
      "40496/40496 [==============================] - 16s 404us/sample - loss: 0.3110 - accuracy: 0.8983 - val_loss: 0.5678 - val_accuracy: 0.8594\n",
      "Epoch 73/100\n",
      "40496/40496 [==============================] - 16s 402us/sample - loss: 0.3300 - accuracy: 0.8943 - val_loss: 0.5472 - val_accuracy: 0.8540\n",
      "Epoch 74/100\n",
      "40496/40496 [==============================] - 16s 405us/sample - loss: 0.3045 - accuracy: 0.9026 - val_loss: 0.4765 - val_accuracy: 0.8632\n",
      "Epoch 75/100\n",
      "40496/40496 [==============================] - 16s 403us/sample - loss: 0.3152 - accuracy: 0.8991 - val_loss: 0.5106 - val_accuracy: 0.8559- -\n",
      "Epoch 76/100\n",
      "40496/40496 [==============================] - 16s 402us/sample - loss: 0.3064 - accuracy: 0.9005 - val_loss: 0.5437 - val_accuracy: 0.8487\n",
      "Epoch 77/100\n",
      "40496/40496 [==============================] - 17s 409us/sample - loss: 0.3083 - accuracy: 0.9009 - val_loss: 0.4228 - val_accuracy: 0.8769\n",
      "Epoch 78/100\n",
      "40496/40496 [==============================] - 17s 425us/sample - loss: 0.3036 - accuracy: 0.9038 - val_loss: 0.6287 - val_accuracy: 0.8529\n",
      "Epoch 79/100\n",
      "40496/40496 [==============================] - 17s 418us/sample - loss: 0.2928 - accuracy: 0.9054 - val_loss: 0.5294 - val_accuracy: 0.8545: 0.296\n",
      "Epoch 80/100\n",
      "40496/40496 [==============================] - 17s 424us/sample - loss: 0.3030 - accuracy: 0.9023 - val_loss: 0.4676 - val_accuracy: 0.8664\n",
      "Epoch 81/100\n",
      "40496/40496 [==============================] - 17s 413us/sample - loss: 0.2879 - accuracy: 0.9079 - val_loss: 0.4435 - val_accuracy: 0.8695\n",
      "Epoch 82/100\n",
      "40496/40496 [==============================] - 16s 407us/sample - loss: 0.2895 - accuracy: 0.9065 - val_loss: 0.4946 - val_accuracy: 0.8646\n",
      "Epoch 83/100\n",
      "40496/40496 [==============================] - 17s 408us/sample - loss: 0.2987 - accuracy: 0.9056 - val_loss: 0.4212 - val_accuracy: 0.8775\n",
      "Epoch 84/100\n",
      "40496/40496 [==============================] - 16s 403us/sample - loss: 0.2828 - accuracy: 0.9081 - val_loss: 0.4580 - val_accuracy: 0.8690\n",
      "Epoch 85/100\n",
      "40496/40496 [==============================] - 17s 414us/sample - loss: 0.2819 - accuracy: 0.9071 - val_loss: 0.4738 - val_accuracy: 0.8684\n",
      "Epoch 86/100\n",
      "40496/40496 [==============================] - 16s 407us/sample - loss: 0.2947 - accuracy: 0.9059 - val_loss: 0.4847 - val_accuracy: 0.8686\n",
      "Epoch 87/100\n",
      "40496/40496 [==============================] - 16s 406us/sample - loss: 0.2983 - accuracy: 0.9047 - val_loss: 0.4795 - val_accuracy: 0.8684\n",
      "Epoch 88/100\n",
      "40496/40496 [==============================] - 17s 412us/sample - loss: 0.2760 - accuracy: 0.9109 - val_loss: 0.8235 - val_accuracy: 0.8431\n",
      "Epoch 89/100\n",
      "40496/40496 [==============================] - 17s 409us/sample - loss: 0.2734 - accuracy: 0.9109 - val_loss: 0.4610 - val_accuracy: 0.8750s - los\n",
      "Epoch 90/100\n",
      "40496/40496 [==============================] - 17s 413us/sample - loss: 0.2676 - accuracy: 0.9156 - val_loss: 0.4922 - val_accuracy: 0.8716A: 2s - loss: 0\n",
      "Epoch 91/100\n",
      "40496/40496 [==============================] - 16s 406us/sample - loss: 0.2725 - accuracy: 0.9135 - val_loss: 0.5044 - val_accuracy: 0.8666\n",
      "Epoch 92/100\n",
      "40496/40496 [==============================] - 16s 405us/sample - loss: 0.2689 - accuracy: 0.9150 - val_loss: 0.4537 - val_accuracy: 0.8770\n",
      "Epoch 93/100\n",
      "40496/40496 [==============================] - 16s 403us/sample - loss: 0.2701 - accuracy: 0.9113 - val_loss: 0.4616 - val_accuracy: 0.8757\n",
      "Epoch 94/100\n",
      "40496/40496 [==============================] - 16s 407us/sample - loss: 0.2572 - accuracy: 0.9176 - val_loss: 0.5206 - val_accuracy: 0.8673\n",
      "Epoch 95/100\n",
      "40496/40496 [==============================] - 16s 405us/sample - loss: 0.2555 - accuracy: 0.9169 - val_loss: 0.4941 - val_accuracy: 0.8716\n",
      "Epoch 96/100\n",
      "40496/40496 [==============================] - 17s 409us/sample - loss: 0.2603 - accuracy: 0.9160 - val_loss: 0.5004 - val_accuracy: 0.8701\n",
      "Epoch 97/100\n",
      "40496/40496 [==============================] - 17s 410us/sample - loss: 0.2637 - accuracy: 0.9151 - val_loss: 0.6421 - val_accuracy: 0.8452\n",
      "Epoch 98/100\n",
      "40496/40496 [==============================] - 17s 409us/sample - loss: 0.2547 - accuracy: 0.9189 - val_loss: 1.0274 - val_accuracy: 0.8424\n",
      "Epoch 99/100\n",
      "40496/40496 [==============================] - 17s 408us/sample - loss: 0.2836 - accuracy: 0.9113 - val_loss: 0.4277 - val_accuracy: 0.8805\n",
      "Epoch 100/100\n",
      "40496/40496 [==============================] - 16s 404us/sample - loss: 0.2609 - accuracy: 0.9172 - val_loss: 0.5130 - val_accuracy: 0.8667\n"
     ]
    }
   ],
   "source": [
    "history = model.fit(train_wav, train_label, validation_data=[test_wav, test_label],\n",
    "          batch_size=batch_size, \n",
    "          epochs=100,\n",
    "          callbacks=callbacks,\n",
    "          verbose=1)\n",
    "model.save(\"../models/rec/baseline.h5\")"
   ]
  },
  {
   "cell_type": "code",
   "execution_count": 41,
   "metadata": {
    "Collapsed": "false",
    "_uuid": "5cbb0f06ea603cb0e5ef7b9893080ecfdd082864"
   },
   "outputs": [
    {
     "data": {
      "text/plain": [
       "[<matplotlib.lines.Line2D at 0x290161f5e08>]"
      ]
     },
     "execution_count": 41,
     "metadata": {},
     "output_type": "execute_result"
    },
    {
     "data": {
      "text/plain": [
       "[<matplotlib.lines.Line2D at 0x290161f5788>]"
      ]
     },
     "execution_count": 41,
     "metadata": {},
     "output_type": "execute_result"
    },
    {
     "data": {
      "text/plain": [
       "Text(0.5, 1.0, 'model accuracy')"
      ]
     },
     "execution_count": 41,
     "metadata": {},
     "output_type": "execute_result"
    },
    {
     "data": {
      "text/plain": [
       "Text(0, 0.5, 'accuracy')"
      ]
     },
     "execution_count": 41,
     "metadata": {},
     "output_type": "execute_result"
    },
    {
     "data": {
      "text/plain": [
       "Text(0.5, 0, 'epoch')"
      ]
     },
     "execution_count": 41,
     "metadata": {},
     "output_type": "execute_result"
    },
    {
     "data": {
      "text/plain": [
       "<matplotlib.legend.Legend at 0x29016210448>"
      ]
     },
     "execution_count": 41,
     "metadata": {},
     "output_type": "execute_result"
    },
    {
     "data": {
      "image/png": "[encoded data removed]",
      "text/plain": [
       "<Figure size 432x288 with 1 Axes>"
      ]
     },
     "metadata": {
      "needs_background": "light"
     },
     "output_type": "display_data"
    },
    {
     "data": {
      "text/plain": [
       "[<matplotlib.lines.Line2D at 0x290162ba488>]"
      ]
     },
     "execution_count": 41,
     "metadata": {},
     "output_type": "execute_result"
    },
    {
     "data": {
      "text/plain": [
       "[<matplotlib.lines.Line2D at 0x290162b1dc8>]"
      ]
     },
     "execution_count": 41,
     "metadata": {},
     "output_type": "execute_result"
    },
    {
     "data": {
      "text/plain": [
       "Text(0.5, 1.0, 'model loss')"
      ]
     },
     "execution_count": 41,
     "metadata": {},
     "output_type": "execute_result"
    },
    {
     "data": {
      "text/plain": [
       "Text(0, 0.5, 'loss')"
      ]
     },
     "execution_count": 41,
     "metadata": {},
     "output_type": "execute_result"
    },
    {
     "data": {
      "text/plain": [
       "Text(0.5, 0, 'epoch')"
      ]
     },
     "execution_count": 41,
     "metadata": {},
     "output_type": "execute_result"
    },
    {
     "data": {
      "text/plain": [
       "<matplotlib.legend.Legend at 0x290162c3e88>"
      ]
     },
     "execution_count": 41,
     "metadata": {},
     "output_type": "execute_result"
    },
    {
     "data": {
      "image/png": "[encoded data removed]",
      "text/plain": [
       "<Figure size 432x288 with 1 Axes>"
      ]
     },
     "metadata": {
      "needs_background": "light"
     },
     "output_type": "display_data"
    }
   ],
   "source": [
    "plt.plot(history.history['accuracy'])\n",
    "plt.plot(history.history['val_accuracy'])\n",
    "plt.title('model accuracy')\n",
    "plt.ylabel('accuracy')\n",
    "plt.xlabel('epoch')\n",
    "plt.legend(['train', 'test'], loc='upper left')\n",
    "plt.show()\n",
    "# summarize history for loss\n",
    "plt.plot(history.history['loss'])\n",
    "plt.plot(history.history['val_loss'])\n",
    "plt.title('model loss')\n",
    "plt.ylabel('loss')\n",
    "plt.xlabel('epoch')\n",
    "plt.legend(['train', 'test'], loc='upper left')\n",
    "plt.show()"
   ]
  },
  {
   "cell_type": "code",
   "execution_count": null,
   "metadata": {
    "Collapsed": "false"
   },
   "outputs": [],
   "source": []
  }
 ],
 "metadata": {
  "kernelspec": {
   "display_name": "Python 3",
   "language": "python",
   "name": "python3"
  },
  "language_info": {
   "codemirror_mode": {
    "name": "ipython",
    "version": 3
   },
   "file_extension": ".py",
   "mimetype": "text/x-python",
   "name": "python",
   "nbconvert_exporter": "python",
   "pygments_lexer": "ipython3",
   "version": "3.7.6"
  }
 },
 "nbformat": 4,
 "nbformat_minor": 4
}
